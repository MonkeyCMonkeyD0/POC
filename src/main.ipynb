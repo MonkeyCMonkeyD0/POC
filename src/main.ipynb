{
 "cells": [
  {
   "attachments": {},
   "cell_type": "markdown",
   "id": "3f18f1c8",
   "metadata": {},
   "source": [
    "# Setting up Hyperparameters"
   ]
  },
  {
   "cell_type": "code",
   "execution_count": null,
   "id": "70d95cbf",
   "metadata": {
    "ExecuteTime": {
     "end_time": "2023-05-08T02:56:14.321545Z",
     "start_time": "2023-05-08T02:56:14.317163Z"
    }
   },
   "outputs": [],
   "source": [
    "epochs = 20\n",
    "negative_mining = False\n",
    "soft_labels = False\n",
    "nb_augment = 1\n",
    "load_data_on_GPU = False"
   ]
  },
  {
   "cell_type": "code",
   "execution_count": null,
   "id": "e025a36c",
   "metadata": {
    "ExecuteTime": {
     "end_time": "2023-05-08T02:56:14.334496Z",
     "start_time": "2023-05-08T02:56:14.323724Z"
    }
   },
   "outputs": [],
   "source": [
    "batch_size = 4\n",
    "learning_rate = 1e-4"
   ]
  },
  {
   "attachments": {},
   "cell_type": "markdown",
   "id": "2c6c5dbd",
   "metadata": {},
   "source": [
    "### Selecting the correct device for training (CPU or GPU)"
   ]
  },
  {
   "cell_type": "code",
   "execution_count": null,
   "id": "ab658774",
   "metadata": {
    "ExecuteTime": {
     "end_time": "2023-05-08T02:56:15.360426Z",
     "start_time": "2023-05-08T02:56:14.350128Z"
    },
    "deletable": false,
    "editable": false
   },
   "outputs": [],
   "source": [
    "import torch\n",
    "\n",
    "device = \"cuda\" if torch.cuda.is_available() else \"cpu\"\n",
    "print(f\"Using {device} device\")"
   ]
  },
  {
   "attachments": {},
   "cell_type": "markdown",
   "id": "3b9ab775",
   "metadata": {},
   "source": [
    "# Importing the Data"
   ]
  },
  {
   "cell_type": "code",
   "execution_count": null,
   "id": "7184cc2b",
   "metadata": {
    "ExecuteTime": {
     "end_time": "2023-05-08T02:57:01.075008Z",
     "start_time": "2023-05-08T02:56:15.363030Z"
    },
    "code_folding": [],
    "scrolled": true
   },
   "outputs": [],
   "source": [
    "from dataset import POCDataReader, data_augment_\n",
    "\n",
    "data_reader = POCDataReader(root_dir=\"../data/POC\", load_on_gpu=False, limit=200, verbose=True)\n",
    "\n",
    "train_data, val_data, test_data = data_reader.split([0.7, 0.1, 0.2])\n",
    "\n",
    "data_augment_(train_data, n=3, load_on_gpu=False, verbose=True)"
   ]
  },
  {
   "cell_type": "code",
   "execution_count": null,
   "id": "4b4ee494",
   "metadata": {
    "ExecuteTime": {
     "end_time": "2023-05-08T02:57:01.396459Z",
     "start_time": "2023-05-08T02:57:01.076791Z"
    }
   },
   "outputs": [],
   "source": [
    "from torch.nn import Sequential\n",
    "from torchvision.transforms.functional import invert\n",
    "from torch.nn.functional import normalize\n",
    "\n",
    "from pipelines import InputPipeline, SumFilters\n",
    "from pipelines.filters import *\n",
    "\n",
    "\n",
    "sumFilter = SumFilters(FrangiFilter(), SatoFilter())\n",
    "crackBinFilter = Sequential(FrangiFilter(), CrackBinaryFilter(0.75))\n",
    "bgBinFilter = Sequential(FrangiFilter(), BGBinaryFilter(60.))\n",
    "skeletonFilter = SkeletonFilter(crackBinFilter)\n",
    "watershedFilter = WatershedFilter(background_filter=bgBinFilter, foreground_filter=skeletonFilter)\n",
    "\n",
    "inpip = InputPipeline(\n",
    "    transformer=None,\n",
    "    layer_transformer=[\n",
    "        LaplacianFilter(),\n",
    "#         FrangiFilter(),\n",
    "#         SatoFilter(),\n",
    "#         sumFilter,\n",
    "#         crackBinFilter,\n",
    "#         bgBinFilter,\n",
    "#         skeletonFilter,\n",
    "#         watershedFilter,\n",
    "   ]\n",
    ")\n",
    "\n",
    "# inpip = inpip.to(device)"
   ]
  },
  {
   "attachments": {},
   "cell_type": "markdown",
   "id": "b402242d",
   "metadata": {},
   "source": [
    "### Creating Training Dataset"
   ]
  },
  {
   "cell_type": "code",
   "execution_count": null,
   "id": "177e26e6",
   "metadata": {
    "ExecuteTime": {
     "end_time": "2023-05-08T02:59:33.507276Z",
     "start_time": "2023-05-08T02:57:01.399371Z"
    }
   },
   "outputs": [],
   "source": [
    "from torch.nn.functional import normalize\n",
    "from torchvision.transforms import CenterCrop, Resize, GaussianBlur, RandomCrop\n",
    "\n",
    "from dataset import POCDataset\n",
    "\n",
    "train_dataset = POCDataset(\n",
    "    train_data,\n",
    "    transform=inpip,\n",
    "    target_transform=None,\n",
    "    negative_mining=negative_mining,\n",
    "    load_on_gpu=load_data_on_GPU,\n",
    "    verbose=True\n",
    ")\n",
    "\n",
    "train_dataset.precompute_transform(verbose=True)"
   ]
  },
  {
   "cell_type": "code",
   "execution_count": null,
   "id": "332cf718",
   "metadata": {
    "ExecuteTime": {
     "end_time": "2023-05-08T02:59:33.512583Z",
     "start_time": "2023-05-08T02:59:33.508786Z"
    }
   },
   "outputs": [],
   "source": [
    "from torch.utils.data import DataLoader\n",
    "\n",
    "if load_data_on_GPU:\n",
    "    training_dataloader = DataLoader(\n",
    "        train_dataset,\n",
    "        batch_size=batch_size,\n",
    "        sampler=train_dataset.sampler,\n",
    "        shuffle= True if train_dataset.sampler is None else None,\n",
    "    )\n",
    "else:\n",
    "    training_dataloader = DataLoader(\n",
    "        train_dataset,\n",
    "        batch_size=batch_size,\n",
    "        sampler=train_dataset.sampler,\n",
    "        shuffle= True if train_dataset.sampler is None else None,\n",
    "        num_workers=8,\n",
    "        pin_memory=True,\n",
    "        pin_memory_device=device,\n",
    "    )"
   ]
  },
  {
   "attachments": {},
   "cell_type": "markdown",
   "id": "a19a94f7",
   "metadata": {},
   "source": [
    "### Creating Validation Dataset"
   ]
  },
  {
   "cell_type": "code",
   "execution_count": null,
   "id": "55249f0a",
   "metadata": {
    "ExecuteTime": {
     "end_time": "2023-05-08T02:59:33.566753Z",
     "start_time": "2023-05-08T02:59:33.514922Z"
    }
   },
   "outputs": [],
   "source": [
    "from dataset import POCDataset\n",
    "\n",
    "val_dataset = POCDataset(val_data, transform=Sequential(inpip, CenterCrop(size=(480, 480)), Resize(size=(384, 384))), target_transform=Sequential(CenterCrop(size=(480, 480)), Resize(size=(384, 384))), negative_mining=False)"
   ]
  },
  {
   "cell_type": "code",
   "execution_count": null,
   "id": "f992abc4",
   "metadata": {
    "ExecuteTime": {
     "end_time": "2023-05-08T02:59:33.571509Z",
     "start_time": "2023-05-08T02:59:33.568659Z"
    }
   },
   "outputs": [],
   "source": [
    "from torch.utils.data import DataLoader\n",
    "\n",
    "if load_data_on_GPU:\n",
    "    validation_dataloader = DataLoader(\n",
    "        val_dataset,\n",
    "        batch_size= 2 * batch_size,\n",
    "        shuffle=True,\n",
    "    )\n",
    "else:\n",
    "    validation_dataloader = DataLoader(\n",
    "        val_dataset,\n",
    "        batch_size= 2 * batch_size,\n",
    "        shuffle=True,\n",
    "        num_workers=8,\n",
    "        pin_memory=True,\n",
    "        pin_memory_device=device,\n",
    "    )"
   ]
  },
  {
   "attachments": {},
   "cell_type": "markdown",
   "id": "f7536e0f",
   "metadata": {},
   "source": [
    "### Creating Evaluation Dataset"
   ]
  },
  {
   "cell_type": "code",
   "execution_count": null,
   "id": "9a4e2170",
   "metadata": {
    "ExecuteTime": {
     "end_time": "2023-05-08T02:59:33.656883Z",
     "start_time": "2023-05-08T02:59:33.572775Z"
    }
   },
   "outputs": [],
   "source": [
    "from dataset import POCDataset\n",
    "\n",
    "test_dataset = POCDataset(test_data, transform=Sequential(inpip, CenterCrop(size=(480, 480)), Resize(size=(384, 384))), target_transform=Sequential(CenterCrop(size=(480, 480)), Resize(size=(384, 384))), negative_mining=False)"
   ]
  },
  {
   "cell_type": "code",
   "execution_count": null,
   "id": "f7f44a8e",
   "metadata": {
    "ExecuteTime": {
     "end_time": "2023-05-08T02:59:33.661115Z",
     "start_time": "2023-05-08T02:59:33.658225Z"
    }
   },
   "outputs": [],
   "source": [
    "from torch.utils.data import DataLoader\n",
    "\n",
    "if load_data_on_GPU:\n",
    "    evaluation_dataloader = DataLoader(\n",
    "        test_dataset,\n",
    "        batch_size=1,\n",
    "        shuffle=True,\n",
    "    )\n",
    "else:\n",
    "    evaluation_dataloader = DataLoader(\n",
    "        test_dataset,\n",
    "        batch_size=1,\n",
    "        shuffle=True,\n",
    "        num_workers=8,\n",
    "        pin_memory=True,\n",
    "        pin_memory_device=device,\n",
    "    )"
   ]
  },
  {
   "attachments": {},
   "cell_type": "markdown",
   "id": "2ed05c5a",
   "metadata": {},
   "source": [
    "### Testing the dataloader"
   ]
  },
  {
   "cell_type": "code",
   "execution_count": null,
   "id": "b476340b",
   "metadata": {
    "ExecuteTime": {
     "end_time": "2023-05-08T02:59:38.036290Z",
     "start_time": "2023-05-08T02:59:33.663491Z"
    },
    "scrolled": false
   },
   "outputs": [],
   "source": [
    "from my_utils import show_img\n",
    "\n",
    "features, masks, files, indexes = next(iter(training_dataloader))\n",
    "print(features.size(), masks.size())\n",
    "\n",
    "show_img(features)\n",
    "show_img(masks)\n",
    "print(files, indexes)"
   ]
  },
  {
   "attachments": {},
   "cell_type": "markdown",
   "id": "cbf6798c",
   "metadata": {},
   "source": [
    "### Testing Dataset for proportion between classes"
   ]
  },
  {
   "cell_type": "code",
   "execution_count": null,
   "id": "c611ea45",
   "metadata": {
    "ExecuteTime": {
     "end_time": "2023-05-08T02:59:40.073533Z",
     "start_time": "2023-05-08T02:59:38.037940Z"
    }
   },
   "outputs": [],
   "source": [
    "_,train_labels,_,_ = next(iter(training_dataloader))\n",
    "\n",
    "nb_pixel = torch.unique(train_labels, return_counts=True)[1]\n",
    "print(\"Proportion of class 1 in this batch: {}%\".format(nb_pixel[1] * 100 / (nb_pixel[0] + nb_pixel[1])))"
   ]
  },
  {
   "attachments": {},
   "cell_type": "markdown",
   "id": "fa9df2f7",
   "metadata": {},
   "source": [
    "Result is usually around 1.1% which may be too low for cross_entropy_loss."
   ]
  },
  {
   "attachments": {},
   "cell_type": "markdown",
   "id": "f44c00dd",
   "metadata": {},
   "source": [
    "# Building the differents modules"
   ]
  },
  {
   "attachments": {},
   "cell_type": "markdown",
   "id": "10fce906",
   "metadata": {},
   "source": [
    "## Creating the models"
   ]
  },
  {
   "attachments": {},
   "cell_type": "markdown",
   "id": "eb606b98",
   "metadata": {},
   "source": [
    "#### Using Unet with bilinear upsampling and cropping to generate 2 classes (background and crack)."
   ]
  },
  {
   "cell_type": "code",
   "execution_count": null,
   "id": "5a00f39a",
   "metadata": {
    "ExecuteTime": {
     "end_time": "2023-05-16T04:36:20.312016Z",
     "start_time": "2023-05-16T04:36:20.056768Z"
    }
   },
   "outputs": [],
   "source": [
    "from models import UNet, DeepCrack, SubUNet, DenSubUNet\n",
    "\n",
    "# model = UNet(n_channels=1, n_classes=2, bilinear=True, crop=False).to(device)\n",
    "# model = DeepCrack(n_channels=inpip.nb_channel, n_classes=2).to(device)\n",
    "# model = SubUNet(n_channels=inpip.nb_channel, n_classes=2).to(device)\n",
    "model = SubUNet(n_channels=inpip.nb_channel, n_classes=2).to(device)"
   ]
  },
  {
   "cell_type": "code",
   "execution_count": null,
   "id": "5f89ee3a",
   "metadata": {
    "ExecuteTime": {
     "end_time": "2023-05-16T04:36:20.419335Z",
     "start_time": "2023-05-16T04:36:20.411255Z"
    },
    "scrolled": true
   },
   "outputs": [],
   "source": [
    "print(\"Total number of parameters: {0:,}\".format(sum(p.numel() for p in model.parameters() if p.requires_grad)))\n",
    "print(f\"Model structure: {model}\")"
   ]
  },
  {
   "attachments": {},
   "cell_type": "markdown",
   "id": "ff3363b1",
   "metadata": {},
   "source": [
    "## Creating the loss functions (Choose which one you need)"
   ]
  },
  {
   "attachments": {},
   "cell_type": "markdown",
   "id": "85ba3dec",
   "metadata": {},
   "source": [
    "#### Cross Entropy Loss"
   ]
  },
  {
   "cell_type": "code",
   "execution_count": null,
   "id": "a8cee49e",
   "metadata": {
    "deletable": false,
    "editable": false,
    "run_control": {
     "frozen": true
    }
   },
   "outputs": [],
   "source": [
    "import torch\n",
    "from torch.nn import CrossEntropyLoss\n",
    "\n",
    "weight = torch.tensor([.9, .1])  # class weight : 98% for background and 2% for the cracks\n",
    "loss_fn = CrossEntropyLoss(weight=weight).to(device)"
   ]
  },
  {
   "attachments": {},
   "cell_type": "markdown",
   "id": "91245ab0",
   "metadata": {},
   "source": [
    "#### Dice Loss"
   ]
  },
  {
   "cell_type": "code",
   "execution_count": null,
   "id": "5fc040e5",
   "metadata": {
    "deletable": false,
    "editable": false,
    "run_control": {
     "frozen": true
    }
   },
   "outputs": [],
   "source": [
    "from loss import DiceLoss\n",
    "\n",
    "loss_fn = DiceLoss().to(device)"
   ]
  },
  {
   "attachments": {},
   "cell_type": "markdown",
   "id": "d918b4ce",
   "metadata": {
    "deletable": false,
    "editable": false,
    "run_control": {
     "frozen": true
    }
   },
   "source": [
    "#### Focal Loss"
   ]
  },
  {
   "cell_type": "code",
   "execution_count": null,
   "id": "790cf410",
   "metadata": {
    "deletable": false,
    "editable": false,
    "run_control": {
     "frozen": true
    }
   },
   "outputs": [],
   "source": [
    "import torch\n",
    "from loss import FocalLoss\n",
    "\n",
    "weight = torch.tensor([.9, .1])  # class weight : 90% for background and 10% for the cracks\n",
    "loss_fn = FocalLoss(weight=weight, gamma=2).to(device)"
   ]
  },
  {
   "attachments": {},
   "cell_type": "markdown",
   "id": "38f7f426",
   "metadata": {
    "deletable": false,
    "editable": false,
    "run_control": {
     "frozen": true
    }
   },
   "source": [
    "#### Jaccard Loss"
   ]
  },
  {
   "cell_type": "code",
   "execution_count": null,
   "id": "d146ea6a",
   "metadata": {
    "deletable": false,
    "editable": false,
    "run_control": {
     "frozen": true
    }
   },
   "outputs": [],
   "source": [
    "from loss import JaccardLoss\n",
    "\n",
    "loss_fn = JaccardLoss().to(device)"
   ]
  },
  {
   "attachments": {},
   "cell_type": "markdown",
   "id": "8131df51",
   "metadata": {
    "deletable": false,
    "editable": false,
    "run_control": {
     "frozen": true
    }
   },
   "source": [
    "#### Tversky Loss"
   ]
  },
  {
   "cell_type": "code",
   "execution_count": null,
   "id": "661aa4c9",
   "metadata": {
    "deletable": false,
    "editable": false,
    "run_control": {
     "frozen": true
    }
   },
   "outputs": [],
   "source": [
    "import torch\n",
    "from loss import TverskyLoss\n",
    "\n",
    "loss_fn = TverskyLoss(alpha=0.3, beta=0.7).to(device)"
   ]
  },
  {
   "attachments": {},
   "cell_type": "markdown",
   "id": "a2b05d77",
   "metadata": {
    "deletable": false,
    "editable": false,
    "run_control": {
     "frozen": true
    }
   },
   "source": [
    "#### Focal Tversky Loss"
   ]
  },
  {
   "cell_type": "code",
   "execution_count": null,
   "id": "f717c2ba",
   "metadata": {
    "deletable": false,
    "editable": false,
    "run_control": {
     "frozen": true
    }
   },
   "outputs": [],
   "source": [
    "import torch\n",
    "from loss import FocalTverskyLoss\n",
    "\n",
    "loss_fn = FocalTverskyLoss(alpha=0.3, beta=0.7, gamma=2).to(device)"
   ]
  },
  {
   "attachments": {},
   "cell_type": "markdown",
   "id": "0fae902c",
   "metadata": {},
   "source": [
    "#### Combined (Focal + Tversky) Loss"
   ]
  },
  {
   "cell_type": "code",
   "execution_count": null,
   "id": "2c6dc114",
   "metadata": {
    "deletable": false,
    "editable": false,
    "run_control": {
     "frozen": true
    }
   },
   "outputs": [],
   "source": [
    "import torch\n",
    "from loss import MeanLoss, TverskyLoss, FocalLoss\n",
    "\n",
    "weight = torch.tensor([.3, .7])\n",
    "\n",
    "loss_fn = MeanLoss(\n",
    "    FocalLoss(weight=weight, gamma=2),\n",
    "    TverskyLoss(alpha=0.3, beta=0.7),\n",
    "    ratio=0.75).to(device)"
   ]
  },
  {
   "attachments": {},
   "cell_type": "markdown",
   "id": "5a7a0ca9",
   "metadata": {},
   "source": [
    "#### Bordered (Focal + Tversky) Loss"
   ]
  },
  {
   "cell_type": "code",
   "execution_count": null,
   "id": "303d9ce6",
   "metadata": {
    "ExecuteTime": {
     "end_time": "2023-05-08T02:59:40.657700Z",
     "start_time": "2023-05-08T02:59:40.279202Z"
    }
   },
   "outputs": [],
   "source": [
    "import torch\n",
    "from loss import BorderedLoss, JaccardLoss, FocalLoss\n",
    "\n",
    "weight = torch.tensor([.5, .5])\n",
    "\n",
    "loss_fn = BorderedLoss(\n",
    "    border_loss=FocalLoss(weight=weight, gamma=2),\n",
    "    volume_loss=JaccardLoss(),\n",
    "    ratio=0.7).to(device)"
   ]
  },
  {
   "cell_type": "markdown",
   "id": "17c37db8",
   "metadata": {},
   "source": [
    "###### MultiscaleLoss will allow the loss function to work on tuple of outputs instead of a single segmentation map (Used only for DeepCrack Network)"
   ]
  },
  {
   "cell_type": "code",
   "execution_count": null,
   "id": "20e1d2d4",
   "metadata": {
    "deletable": false,
    "editable": false,
    "run_control": {
     "frozen": true
    }
   },
   "outputs": [],
   "source": [
    "from loss import MultiscaleLoss\n",
    "\n",
    "loss_fn = MultiscaleLoss(loss_fn)"
   ]
  },
  {
   "attachments": {},
   "cell_type": "markdown",
   "id": "318ef5aa",
   "metadata": {},
   "source": [
    "## Creating the Optimizer"
   ]
  },
  {
   "cell_type": "code",
   "execution_count": null,
   "id": "4b7c330c",
   "metadata": {
    "ExecuteTime": {
     "end_time": "2023-05-08T02:59:40.664729Z",
     "start_time": "2023-05-08T02:59:40.659697Z"
    }
   },
   "outputs": [],
   "source": [
    "from torch.optim import Adam\n",
    "\n",
    "optimizer = Adam(model.parameters(), lr=learning_rate, betas=(0.9, 0.99))"
   ]
  },
  {
   "attachments": {},
   "cell_type": "markdown",
   "id": "77bcfca8",
   "metadata": {},
   "source": [
    "## Setting up the Learning Rate Scheduler"
   ]
  },
  {
   "cell_type": "code",
   "execution_count": null,
   "id": "14dcf657",
   "metadata": {
    "ExecuteTime": {
     "end_time": "2023-05-08T02:59:40.678188Z",
     "start_time": "2023-05-08T02:59:40.666092Z"
    }
   },
   "outputs": [],
   "source": [
    "from torch.optim.lr_scheduler import CosineAnnealingLR\n",
    "\n",
    "lr_scheduler = CosineAnnealingLR(optimizer, T_max=epochs)"
   ]
  },
  {
   "attachments": {},
   "cell_type": "markdown",
   "id": "a3e4dd19",
   "metadata": {},
   "source": [
    "## Creating the Metrics\n",
    "Can be automated but I set it to manualy select because I needed a quick and simple use once"
   ]
  },
  {
   "cell_type": "code",
   "execution_count": null,
   "id": "89695f2a",
   "metadata": {
    "ExecuteTime": {
     "end_time": "2023-05-08T02:59:40.693532Z",
     "start_time": "2023-05-08T02:59:40.679607Z"
    }
   },
   "outputs": [],
   "source": [
    "from metrics import Metrics, EvaluationMetrics\n",
    "\n",
    "\n",
    "train_metrics = Metrics(\n",
    "    buffer_size=len(training_dataloader),\n",
    "    mode=\"Training\",\n",
    "    hyperparam={\n",
    "        \"Network\": model.__class__,\n",
    "        \"Optimizer\": optimizer.__class__,\n",
    "\n",
    "        \"Learning Rate\": learning_rate,\n",
    "        \"Batch Size\": batch_size,\n",
    "\n",
    "        \"Loss Combiner\": BorderedLoss,\n",
    "        \"Loss Combiner_ratio\": 0.7,\n",
    "        \"Loss Volume\": JaccardLoss,\n",
    "        \"Loss Pixel\": FocalLoss,\n",
    "        \"Loss Pixel_gamma\": 2,\n",
    "        \"Loss Pixel_weight\": .5,\n",
    "\n",
    "        \"Negative Mining\": negative_mining,\n",
    "        \"Smooth Labeling\": soft_labels,\n",
    "\n",
    "        \"Pipe Filter\": normalize,\n",
    "        \"Pipe Layer\": LaplacianFilter,\n",
    "        \"Pipe Layer_threshold\": 0.75,\n",
    "    },\n",
    "    device=device)\n",
    "\n",
    "val_metrics = Metrics(\n",
    "    buffer_size=len(validation_dataloader),\n",
    "    mode=\"Validation\",\n",
    "    hyperparam={\n",
    "        \"Network\": model.__class__,\n",
    "        \"Optimizer\": optimizer.__class__,\n",
    "\n",
    "        \"Learning Rate\": learning_rate,\n",
    "        \"Batch Size\": batch_size,\n",
    "\n",
    "        \"Loss Combiner\": BorderedLoss,\n",
    "        \"Loss Combiner_ratio\": 0.7,\n",
    "        \"Loss Volume\": JaccardLoss,\n",
    "        \"Loss Pixel\": FocalLoss,\n",
    "        \"Loss Pixel_gamma\": 2,\n",
    "        \"Loss Pixel_weight\": .5,\n",
    "\n",
    "        \"Negative Mining\": negative_mining,\n",
    "        \"Smooth Labeling\": soft_labels,\n",
    "\n",
    "        \"Pipe Filter\": normalize,\n",
    "        \"Pipe Layer\": LaplacianFilter,\n",
    "        \"Pipe Layer_threshold\": 0.75,\n",
    "    },\n",
    "    device=device)\n",
    "\n",
    "test_metrics = EvaluationMetrics(\n",
    "    buffer_size=len(evaluation_dataloader),\n",
    "    hyperparam={\n",
    "        \"Network\": model.__class__,\n",
    "        \"Optimizer\": optimizer.__class__,\n",
    "\n",
    "        \"Learning Rate\": learning_rate,\n",
    "        \"Batch Size\": batch_size,\n",
    "\n",
    "        \"Loss Combiner\": BorderedLoss,\n",
    "        \"Loss Combiner_ratio\": 0.7,\n",
    "        \"Loss Volume\": JaccardLoss,\n",
    "        \"Loss Pixel\": FocalLoss,\n",
    "        \"Loss Pixel_gamma\": 2,\n",
    "        \"Loss Pixel_weight\": .5,\n",
    "\n",
    "        \"Negative Mining\": negative_mining,\n",
    "        \"Smooth Labeling\": soft_labels,\n",
    "\n",
    "        \"Pipe Filter\": normalize,\n",
    "        \"Pipe Layer\": LaplacianFilter,\n",
    "        \"Pipe Layer_threshold\": 0.75,\n",
    "    },\n",
    "    epochs=epochs,\n",
    "    device=device)"
   ]
  },
  {
   "attachments": {},
   "cell_type": "markdown",
   "id": "f4500456",
   "metadata": {},
   "source": [
    "# Training, testing and validating the Model"
   ]
  },
  {
   "cell_type": "code",
   "execution_count": null,
   "id": "aa5fee5e",
   "metadata": {
    "ExecuteTime": {
     "end_time": "2023-05-08T11:31:43.656791Z",
     "start_time": "2023-05-08T02:59:40.695159Z"
    },
    "scrolled": false
   },
   "outputs": [],
   "source": [
    "from torch import autograd\n",
    "\n",
    "from train_tqdm import training_loop, validation_loop, evaluation_loop\n",
    "\n",
    "autograd.set_detect_anomaly(True)\n",
    "\n",
    "for epoch in range(1, epochs+1):\n",
    "    training_loop(epoch, training_dataloader, model, loss_fn, optimizer, lr_scheduler, train_metrics, device)\n",
    "    validation_loop(epoch, validation_dataloader, model, loss_fn, val_metrics, device)\n",
    "\n",
    "evaluation_loop(evaluation_dataloader, model, test_metrics, device)\n",
    "\n",
    "train_metrics.close_tensorboard()\n",
    "val_metrics.close_tensorboard()\n",
    "test_metrics.close_tensorboard()"
   ]
  },
  {
   "cell_type": "code",
   "execution_count": null,
   "id": "443f6984",
   "metadata": {},
   "outputs": [],
   "source": []
  },
  {
   "cell_type": "code",
   "execution_count": null,
   "id": "5baef1a3",
   "metadata": {},
   "outputs": [],
   "source": []
  },
  {
   "cell_type": "markdown",
   "id": "c80782e3",
   "metadata": {},
   "source": [
    "## Some test about filters\n",
    "Flood fill didn't work well enought"
   ]
  },
  {
   "cell_type": "code",
   "execution_count": null,
   "id": "44175160",
   "metadata": {
    "ExecuteTime": {
     "end_time": "2023-04-27T07:26:13.304924Z",
     "start_time": "2023-04-27T07:26:10.608209Z"
    }
   },
   "outputs": [],
   "source": [
    "from my_utils import show_img\n",
    "\n",
    "features, masks, files, _ = next(iter(training_dataloader))\n",
    "print(features.size(), masks.size())\n",
    "\n",
    "show_img(features)\n",
    "show_img(masks)\n",
    "print(files)"
   ]
  },
  {
   "cell_type": "code",
   "execution_count": null,
   "id": "e6c5edc7",
   "metadata": {
    "ExecuteTime": {
     "end_time": "2023-04-27T07:27:45.197581Z",
     "start_time": "2023-04-27T07:27:45.186085Z"
    }
   },
   "outputs": [],
   "source": [
    "from torchvision.transforms.functional import rgb_to_grayscale\n",
    "\n",
    "image1 = features[1,0:3]   # (3, 480, 640)\n",
    "image1 = rgb_to_grayscale(image1)   #(1, 480, 640)\n",
    "skel1 = features[1,3]   #(480, 640)"
   ]
  },
  {
   "cell_type": "code",
   "execution_count": null,
   "id": "c5d5339a",
   "metadata": {
    "ExecuteTime": {
     "end_time": "2023-04-27T07:27:45.364652Z",
     "start_time": "2023-04-27T07:27:45.358244Z"
    }
   },
   "outputs": [],
   "source": [
    "numpy_img = image1.squeeze(0).cpu().numpy()\n",
    "numpy_skel = skel1.cpu().numpy()"
   ]
  },
  {
   "cell_type": "code",
   "execution_count": null,
   "id": "d9d8e352",
   "metadata": {
    "ExecuteTime": {
     "end_time": "2023-04-27T07:27:45.534625Z",
     "start_time": "2023-04-27T07:27:45.524282Z"
    }
   },
   "outputs": [],
   "source": [
    "import numpy as np\n",
    "\n",
    "pts_list = np.nonzero(numpy_skel)"
   ]
  },
  {
   "cell_type": "code",
   "execution_count": null,
   "id": "0abe3517",
   "metadata": {
    "ExecuteTime": {
     "end_time": "2023-04-27T07:27:45.836428Z",
     "start_time": "2023-04-27T07:27:45.676126Z"
    }
   },
   "outputs": [],
   "source": [
    "from skimage.segmentation import flood\n",
    "\n",
    "flood_mask = np.zeros_like(numpy_img, dtype=bool)\n",
    "for x,y in zip(pts_list[0], pts_list[1]):\n",
    "    flood_mask = flood_mask | flood(image=numpy_img, seed_point=(x,y), connectivity=200, tolerance=0.1)"
   ]
  },
  {
   "cell_type": "code",
   "execution_count": null,
   "id": "8a03a412",
   "metadata": {
    "ExecuteTime": {
     "end_time": "2023-04-27T07:27:45.844291Z",
     "start_time": "2023-04-27T07:27:45.840927Z"
    }
   },
   "outputs": [],
   "source": [
    "import torch\n",
    "\n",
    "flood_tensor = torch.from_numpy(flood_mask).float().unsqueeze(0).unsqueeze(0)"
   ]
  },
  {
   "cell_type": "code",
   "execution_count": null,
   "id": "9b2f5a83",
   "metadata": {
    "ExecuteTime": {
     "end_time": "2023-04-27T07:27:46.032508Z",
     "start_time": "2023-04-27T07:27:46.010880Z"
    }
   },
   "outputs": [],
   "source": [
    "flood_tensor.unique(return_counts=True)"
   ]
  },
  {
   "cell_type": "code",
   "execution_count": null,
   "id": "447ee7eb",
   "metadata": {
    "ExecuteTime": {
     "end_time": "2023-04-27T07:27:46.386266Z",
     "start_time": "2023-04-27T07:27:46.201200Z"
    },
    "scrolled": false
   },
   "outputs": [],
   "source": [
    "show_img(flood_tensor)"
   ]
  }
 ],
 "metadata": {
  "kernelspec": {
   "display_name": "POC-env",
   "language": "python",
   "name": "poc-env"
  },
  "language_info": {
   "codemirror_mode": {
    "name": "ipython",
    "version": 3
   },
   "file_extension": ".py",
   "mimetype": "text/x-python",
   "name": "python",
   "nbconvert_exporter": "python",
   "pygments_lexer": "ipython3",
   "version": "3.10.9"
  },
  "latex_envs": {
   "LaTeX_envs_menu_present": true,
   "autoclose": false,
   "autocomplete": true,
   "bibliofile": "biblio.bib",
   "cite_by": "apalike",
   "current_citInitial": 1,
   "eqLabelWithNumbers": true,
   "eqNumInitial": 1,
   "hotkeys": {
    "equation": "Ctrl-E",
    "itemize": "Ctrl-I"
   },
   "labels_anchors": false,
   "latex_user_defs": false,
   "report_style_numbering": false,
   "user_envs_cfg": false
  },
  "notify_time": "5",
  "toc": {
   "base_numbering": 1,
   "nav_menu": {},
   "number_sections": true,
   "sideBar": true,
   "skip_h1_title": false,
   "title_cell": "Table of Contents",
   "title_sidebar": "Contents",
   "toc_cell": false,
   "toc_position": {},
   "toc_section_display": true,
   "toc_window_display": false
  },
  "varInspector": {
   "cols": {
    "lenName": 16,
    "lenType": 16,
    "lenVar": 40
   },
   "kernels_config": {
    "python": {
     "delete_cmd_postfix": "",
     "delete_cmd_prefix": "del ",
     "library": "var_list.py",
     "varRefreshCmd": "print(var_dic_list())"
    },
    "r": {
     "delete_cmd_postfix": ") ",
     "delete_cmd_prefix": "rm(",
     "library": "var_list.r",
     "varRefreshCmd": "cat(var_dic_list()) "
    }
   },
   "types_to_exclude": [
    "module",
    "function",
    "builtin_function_or_method",
    "instance",
    "_Feature"
   ],
   "window_display": false
  }
 },
 "nbformat": 4,
 "nbformat_minor": 5
}
