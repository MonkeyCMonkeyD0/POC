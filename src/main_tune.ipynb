{
 "cells": [
  {
   "cell_type": "markdown",
   "id": "25a1ac32",
   "metadata": {
    "toc": true
   },
   "source": [
    "<h1>Table of Contents<span class=\"tocSkip\"></span></h1>\n",
    "<div class=\"toc\"><ul class=\"toc-item\"><li><span><a href=\"#Setting-up-imports\" data-toc-modified-id=\"Setting-up-imports-1\"><span class=\"toc-item-num\">1&nbsp;&nbsp;</span>Setting up imports</a></span></li><li><span><a href=\"#Setting-up-Constant-Hyperparameters\" data-toc-modified-id=\"Setting-up-Constant-Hyperparameters-2\"><span class=\"toc-item-num\">2&nbsp;&nbsp;</span>Setting up Constant Hyperparameters</a></span></li><li><span><a href=\"#Setting-up-Parameters-and-Functions-for-Training\" data-toc-modified-id=\"Setting-up-Parameters-and-Functions-for-Training-3\"><span class=\"toc-item-num\">3&nbsp;&nbsp;</span>Setting up Parameters and Functions for Training</a></span><ul class=\"toc-item\"><li><span><a href=\"#Hyperparameters-Search-Space\" data-toc-modified-id=\"Hyperparameters-Search-Space-3.1\"><span class=\"toc-item-num\">3.1&nbsp;&nbsp;</span>Hyperparameters Search Space</a></span></li><li><span><a href=\"#Creating-the-training-function\" data-toc-modified-id=\"Creating-the-training-function-3.2\"><span class=\"toc-item-num\">3.2&nbsp;&nbsp;</span>Creating the training function</a></span></li><li><span><a href=\"#Creating-the-evaluation-function\" data-toc-modified-id=\"Creating-the-evaluation-function-3.3\"><span class=\"toc-item-num\">3.3&nbsp;&nbsp;</span>Creating the evaluation function</a></span></li></ul></li><li><span><a href=\"#Running-the-training\" data-toc-modified-id=\"Running-the-training-4\"><span class=\"toc-item-num\">4&nbsp;&nbsp;</span>Running the training</a></span><ul class=\"toc-item\"><li><span><a href=\"#Loading-data-for-training\" data-toc-modified-id=\"Loading-data-for-training-4.1\"><span class=\"toc-item-num\">4.1&nbsp;&nbsp;</span>Loading data for training</a></span></li><li><span><a href=\"#Configuring-the-Tuner-with-a-Scheduler-and-a-Search-Algorithm\" data-toc-modified-id=\"Configuring-the-Tuner-with-a-Scheduler-and-a-Search-Algorithm-4.2\"><span class=\"toc-item-num\">4.2&nbsp;&nbsp;</span>Configuring the Tuner with a Scheduler and a Search Algorithm</a></span></li><li><span><a href=\"#Running-the-Tuner\" data-toc-modified-id=\"Running-the-Tuner-4.3\"><span class=\"toc-item-num\">4.3&nbsp;&nbsp;</span>Running the Tuner</a></span></li></ul></li><li><span><a href=\"#Evaluating-the-best-Results\" data-toc-modified-id=\"Evaluating-the-best-Results-5\"><span class=\"toc-item-num\">5&nbsp;&nbsp;</span>Evaluating the best Results</a></span></li></ul></div>"
   ]
  },
  {
   "cell_type": "markdown",
   "id": "035da606",
   "metadata": {},
   "source": [
    "# Setting up imports"
   ]
  },
  {
   "cell_type": "code",
   "execution_count": 1,
   "id": "af16e0d4",
   "metadata": {
    "ExecuteTime": {
     "end_time": "2023-03-21T07:38:52.795064Z",
     "start_time": "2023-03-21T07:38:50.227388Z"
    },
    "cell_style": "center",
    "init_cell": true,
    "slideshow": {
     "slide_type": "-"
    }
   },
   "outputs": [],
   "source": [
    "import os\n",
    "\n",
    "import torch\n",
    "from torch.nn import CrossEntropyLoss\n",
    "from torch.nn.functional import normalize\n",
    "from torch.optim import Adam\n",
    "from torch.optim.lr_scheduler import CosineAnnealingLR\n",
    "from torch.utils.data import DataLoader\n",
    "from torchvision.transforms import GaussianBlur\n",
    "from torchvision.transforms.functional import invert\n",
    "\n",
    "import ray\n",
    "from ray import tune\n",
    "from ray.air import session, RunConfig\n",
    "from ray.air.checkpoint import Checkpoint\n",
    "from ray.tune.schedulers import ASHAScheduler\n",
    "from ray.tune.search.hyperopt import HyperOptSearch\n",
    "\n",
    "\n",
    "from Dataset import POCDataReader, data_augment_, POCDataset\n",
    "from metrics import Metrics, EvaluationMetrics\n",
    "from models import UNet\n",
    "from loss import *\n",
    "from pipelines import *\n",
    "from train import training_loop, validation_loop\n",
    "from train_tqdm import evaluation_loop\n"
   ]
  },
  {
   "cell_type": "markdown",
   "id": "3d9951dd",
   "metadata": {},
   "source": [
    "# Setting up Constant Hyperparameters"
   ]
  },
  {
   "cell_type": "code",
   "execution_count": 2,
   "id": "beb97ae7",
   "metadata": {
    "ExecuteTime": {
     "end_time": "2023-03-21T07:38:52.803038Z",
     "start_time": "2023-03-21T07:38:52.799595Z"
    },
    "init_cell": true
   },
   "outputs": [],
   "source": [
    "EPOCHS = 15\n",
    "NUM_SAMPLES = 30\n",
    "NUM_MODEL_TEST = 10\n",
    "\n",
    "NUM_AUGMENT = 1\n",
    "\n",
    "LOAD_DATA_ON_GPU = True\n",
    "GPUS_PER_TRIAL = 1\n",
    "CPUS_PER_TRIAL = 20"
   ]
  },
  {
   "cell_type": "markdown",
   "id": "8d48f809",
   "metadata": {},
   "source": [
    "##### Selecting Cuda device"
   ]
  },
  {
   "cell_type": "code",
   "execution_count": 3,
   "id": "dd6be70b",
   "metadata": {
    "ExecuteTime": {
     "end_time": "2023-03-21T07:38:52.872639Z",
     "start_time": "2023-03-21T07:38:52.805349Z"
    },
    "init_cell": true
   },
   "outputs": [
    {
     "name": "stdout",
     "output_type": "stream",
     "text": [
      "Using cuda device\n"
     ]
    }
   ],
   "source": [
    "device = \"cuda\" if torch.cuda.is_available() else \"cpu\"\n",
    "print(f\"Using {device} device\")"
   ]
  },
  {
   "cell_type": "markdown",
   "id": "9687c3e3",
   "metadata": {},
   "source": [
    "# Setting up Parameters and Functions for Training"
   ]
  },
  {
   "cell_type": "markdown",
   "id": "215c221d",
   "metadata": {},
   "source": [
    "## Hyperparameters Search Space"
   ]
  },
  {
   "cell_type": "code",
   "execution_count": 4,
   "id": "e1e136d1",
   "metadata": {
    "ExecuteTime": {
     "end_time": "2023-03-21T07:38:52.890266Z",
     "start_time": "2023-03-21T07:38:52.877563Z"
    },
    "code_folding": [],
    "init_cell": true
   },
   "outputs": [],
   "source": [
    "search_space = {\n",
    "    \"Network\": UNet,\n",
    "    \"Optimizer\": Adam,\n",
    "    \n",
    "    \"Learning Rate\": 1e-4,   #tune.qloguniform(1e-5, 1e-2, 5e-6),\n",
    "    \"Batch Size\": 4,         #tune.qrandint(2, 8, 2),\n",
    "\n",
    "    \"Pixel Loss\": tune.choice([CrossEntropyLoss(weight=torch.tensor([.3, .7])), FocalLoss(weight=torch.tensor([.3, .7]), gamma=2)]),\n",
    "    \"Volume Loss\": tune.choice([JaccardLoss(), TverskyLoss(alpha=0.3, beta=0.7), FocalTverskyLoss(alpha=0.3, beta=0.7, gamma=2)]),\n",
    "    \"Combine Loss\": tune.choice([CombinedLoss, BorderedLoss, PixelLoss, VolumeLoss]),\n",
    "    \n",
    "    \"Negative Mining\": tune.choice([True, False]),\n",
    "    \"Smooth Labeling\": tune.choice([True, False]),\n",
    "\n",
    "    \"Input Filter\": tune.choice([None, invert]),\n",
    "    \"Input Layer\": tune.choice([None, LaplacianFilter(), SobelFilter()])   #, DINOFilter()]),\n",
    "}"
   ]
  },
  {
   "cell_type": "markdown",
   "id": "ecc521e6",
   "metadata": {},
   "source": [
    "## Creating the training function"
   ]
  },
  {
   "cell_type": "code",
   "execution_count": 5,
   "id": "626acb32",
   "metadata": {
    "ExecuteTime": {
     "end_time": "2023-03-21T07:38:52.903695Z",
     "start_time": "2023-03-21T07:38:52.892801Z"
    },
    "code_folding": [
     0
    ],
    "init_cell": true
   },
   "outputs": [],
   "source": [
    "def train(config, train_data, val_data):\n",
    "\n",
    "    device = \"cuda\" if torch.cuda.is_available() else \"cpu\"\n",
    "    \n",
    "    inpip = InputPipeline(\n",
    "        transformer=[normalize, config[\"Input Filter\"]] if config[\"Input Filter\"] is not None else normalize, \n",
    "        layer_transformer=config[\"Input Layer\"])\n",
    "    if LOAD_DATA_ON_GPU:\n",
    "        inpip = inpip.to(device)\n",
    "\n",
    "    train_dataset = POCDataset(\n",
    "        train_data,\n",
    "        transform=inpip,\n",
    "        target_transform= GaussianBlur(kernel_size=3, sigma=0.7) if config[\"Smooth Labeling\"] else None,\n",
    "        negative_mining=config[\"Negative Mining\"],\n",
    "        load_on_gpu=LOAD_DATA_ON_GPU)\n",
    "    train_dataset.precompute_transform()\n",
    "\n",
    "    if LOAD_DATA_ON_GPU:\n",
    "        training_dataloader = DataLoader(\n",
    "            train_dataset,\n",
    "            batch_size=int(config[\"Batch Size\"]),\n",
    "            sampler=train_dataset.sampler)\n",
    "    else:\n",
    "        training_dataloader = DataLoader(\n",
    "            train_dataset,\n",
    "            batch_size=int(config[\"Batch Size\"]),\n",
    "            sampler=train_dataset.sampler,\n",
    "            num_workers=CPUS_PER_TRIAL//2,\n",
    "            pin_memory=True,\n",
    "            pin_memory_device=device)\n",
    "\n",
    "    val_dataset = POCDataset(\n",
    "        val_data, \n",
    "        transform=inpip, \n",
    "        target_transform=None, \n",
    "        negative_mining=False, \n",
    "        load_on_gpu=LOAD_DATA_ON_GPU)\n",
    "    val_dataset.precompute_transform()\n",
    "    \n",
    "    if LOAD_DATA_ON_GPU:\n",
    "        validation_dataloader = DataLoader(\n",
    "            val_dataset,\n",
    "            batch_size=int(config[\"Batch Size\"]),\n",
    "            shuffle=True)\n",
    "    else:\n",
    "        validation_dataloader = DataLoader(\n",
    "            val_dataset,\n",
    "            batch_size=int(config[\"Batch Size\"]),\n",
    "            shuffle=True,\n",
    "            num_workers=CPUS_PER_TRIAL//2,\n",
    "            pin_memory=True,\n",
    "            pin_memory_device=device)\n",
    "\n",
    "    model = config[\"Network\"](n_channels=inpip.nb_channel, n_classes=2, bilinear=True, crop=False)\n",
    "    if torch.cuda.is_available() and torch.cuda.device_count() > 1:\n",
    "        model = nn.DataParallel(model)\n",
    "    model.to(device)\n",
    "\n",
    "    loss_fn = config[\"Combine Loss\"](config[\"Pixel Loss\"], config[\"Volume Loss\"]).to(device)\n",
    "    optimizer = config[\"Optimizer\"](model.parameters(), lr=config[\"Learning Rate\"], betas=(0.9, 0.99))\n",
    "    lr_scheduler = CosineAnnealingLR(optimizer, T_max=EPOCHS//2)\n",
    "\n",
    "    # To restore a checkpoint, use `session.get_checkpoint()`.\n",
    "    loaded_checkpoint = session.get_checkpoint()\n",
    "    if loaded_checkpoint:\n",
    "        with loaded_checkpoint.as_directory() as loaded_checkpoint_dir:\n",
    "            model_state, optimizer_state, scheduler_state = torch.load(os.path.join(loaded_checkpoint_dir, \"checkpoint.pt\"))\n",
    "        model.load_state_dict(model_state)\n",
    "        optimizer.load_state_dict(optimizer_state)\n",
    "        lr_scheduler.load_state_dict(scheduler_state)\n",
    "\n",
    "    train_metrics = Metrics(\n",
    "        buffer_size=len(training_dataloader),\n",
    "        mode=\"Training\",\n",
    "        hyperparam=config,\n",
    "        device=device)\n",
    "\n",
    "    val_metrics = Metrics(\n",
    "        buffer_size=len(validation_dataloader),\n",
    "        mode=\"Validation\",\n",
    "        hyperparam=config,\n",
    "        device=device)\n",
    "\n",
    "\n",
    "    for epoch in range(1, EPOCHS+1):  # loop over the dataset multiple times\n",
    "        training_loop(epoch, training_dataloader, model, loss_fn, optimizer, lr_scheduler, train_metrics, device)\n",
    "        validation_loop(epoch, validation_dataloader, model, loss_fn, val_metrics, device)\n",
    "\n",
    "        # Here we save a checkpoint. It is automatically registered with\n",
    "        # Ray Tune and can be accessed through `session.get_checkpoint()`\n",
    "        # API in future iterations.\n",
    "        os.makedirs(\"model\", exist_ok=True)\n",
    "        torch.save((model.state_dict(), optimizer.state_dict(), lr_scheduler.state_dict()), \"model/checkpoint.pt\")\n",
    "        checkpoint = Checkpoint.from_directory(\"model\")\n",
    "        session.report(metrics=val_metrics.get_metrics(epoch), checkpoint=checkpoint)\n",
    "\n",
    "    train_metrics.close_tensorboard()\n",
    "    val_metrics.close_tensorboard()\n"
   ]
  },
  {
   "cell_type": "markdown",
   "id": "ad8a58ec",
   "metadata": {},
   "source": [
    "## Creating the evaluation function"
   ]
  },
  {
   "cell_type": "code",
   "execution_count": 51,
   "id": "ecd05973",
   "metadata": {
    "ExecuteTime": {
     "end_time": "2023-03-22T02:12:29.536780Z",
     "start_time": "2023-03-22T02:12:29.525174Z"
    }
   },
   "outputs": [],
   "source": [
    "# import metrics\n",
    "# from metrics import EvaluationMetrics\n",
    "\n",
    "# import sys\n",
    "from importlib import reload\n",
    "# del sys.modules['metrics.metrics'] \n",
    "reload(metrics.metrics)\n",
    "from metrics.metrics import EvaluationMetrics"
   ]
  },
  {
   "cell_type": "code",
   "execution_count": 52,
   "id": "da4d17c2",
   "metadata": {
    "ExecuteTime": {
     "end_time": "2023-03-22T02:12:32.418167Z",
     "start_time": "2023-03-22T02:12:32.401136Z"
    },
    "code_folding": [
     30
    ],
    "init_cell": true
   },
   "outputs": [],
   "source": [
    "def evaluate(test_data, result):\n",
    "\n",
    "    device = \"cuda:0\" if torch.cuda.is_available() else \"cpu\"\n",
    "\n",
    "    inpip = InputPipeline(\n",
    "        transformer=[normalize, result.config[\"Input Filter\"]] if result.config[\"Input Filter\"] is not None else normalize, \n",
    "        layer_transformer=result.config[\"Input Layer\"])\n",
    "    if LOAD_DATA_ON_GPU:\n",
    "        inpip = inpip.to(device)\n",
    "\n",
    "    test_dataset = POCDataset(test_data, transform=inpip, target_transform=None, negative_mining=False, load_on_gpu=LOAD_DATA_ON_GPU)\n",
    "    \n",
    "    if LOAD_DATA_ON_GPU:\n",
    "        evaluation_dataloader = DataLoader(test_dataset, batch_size=1, shuffle=True)\n",
    "    else:\n",
    "        evaluation_dataloader = DataLoader(test_dataset, batch_size=1, shuffle=True, num_workers=20, pin_memory=True, pin_memory_device=device)\n",
    "\n",
    "    best_trained_model = result.config[\"Network\"](n_channels=inpip.nb_channel, n_classes=2, bilinear=True, crop=False).to(device)\n",
    "\n",
    "    checkpoint_path = os.path.join(result.checkpoint.to_directory(), \"checkpoint.pt\")\n",
    "    model_state, _, _ = torch.load(checkpoint_path)\n",
    "    best_trained_model.load_state_dict(model_state)\n",
    "\n",
    "    test_metrics = EvaluationMetrics(\n",
    "        buffer_size=len(evaluation_dataloader),\n",
    "        hyperparam=result.config,\n",
    "        epochs=result.metrics[\"Epoch\"],\n",
    "        device=device)\n",
    "\n",
    "    evaluation_loop(dataloader=evaluation_dataloader, model=best_trained_model, metric=test_metrics, device=device)\n",
    "\n",
    "def evaluate_df(test_data, results_df):\n",
    "\n",
    "    device = \"cuda:0\" if torch.cuda.is_available() else \"cpu\"\n",
    "\n",
    "    results_df.sort_values(\"CrackIoU\", ascending=False, inplace=True)\n",
    "    for index, res in results_df.head(NUM_MODEL_TEST).iterrows():\n",
    "        \n",
    "        inpip = InputPipeline(\n",
    "            transformer=eval(res[\"config/Input Filter\"]),\n",
    "            layer_transformer=eval(res[\"config/Input Layer\"]))\n",
    "        if LOAD_DATA_ON_GPU:\n",
    "            inpip = inpip.to(device)\n",
    "        \n",
    "        test_dataset = POCDataset(test_data, transform=inpip, target_transform=None, negative_mining=False)\n",
    "\n",
    "        if LOAD_DATA_ON_GPU:\n",
    "            evaluation_dataloader = DataLoader(test_dataset, batch_size=1, shuffle=True)\n",
    "        else:\n",
    "            evaluation_dataloader = DataLoader(test_dataset, batch_size=1, shuffle=True, num_workers=20, pin_memory=True, pin_memory_device=device)\n",
    "\n",
    "        trained_model = eval(res[\"config/Network\"])(n_channels=inpip.nb_channel, n_classes=2, bilinear=True, crop=False).to(device)\n",
    "\n",
    "        checkpoint_path = os.path.join(res[\"logdir\"], \"model/checkpoint.pt\")\n",
    "        model_state, _, _ = torch.load(checkpoint_path)\n",
    "        trained_model.load_state_dict(model_state)\n",
    "\n",
    "        hyperparam = {\n",
    "            \"Network\": str(res[\"config/Network\"]),\n",
    "            \"Optimizer\": str(res[\"config/Optimizer\"]),\n",
    "            \"Learning Rate\": str(res[\"config/Learning Rate\"]),\n",
    "            \"Batch Size\": str(res[\"config/Batch Size\"]),\n",
    "            \"Pixel Loss\": str(res[\"config/Pixel Loss\"]),\n",
    "            \"Volume Loss\": str(res[\"config/Volume Loss\"]),\n",
    "            \"Combine Loss\": str(res[\"config/Combine Loss\"]),\n",
    "            \"Negative Mining\": str(res[\"config/Negative Mining\"]),\n",
    "            \"Smooth Labeling\": str(res[\"config/Smooth Labeling\"]),\n",
    "            \"Input Filter\": str(res[\"config/Input Filter\"]),\n",
    "            \"Input Layer\": str(res[\"config/Input Layer\"]),\n",
    "        }\n",
    "        \n",
    "        test_metrics = EvaluationMetrics(\n",
    "            buffer_size=len(evaluation_dataloader),\n",
    "            hyperparam=hyperparam,\n",
    "            device=device)\n",
    "\n",
    "        evaluation_loop(dataloader=evaluation_dataloader, model=trained_model, metric=test_metrics, device=device)\n"
   ]
  },
  {
   "cell_type": "markdown",
   "id": "918e1c03",
   "metadata": {},
   "source": [
    "# Running the training"
   ]
  },
  {
   "cell_type": "markdown",
   "id": "9f955b19",
   "metadata": {},
   "source": [
    "## Loading data for training"
   ]
  },
  {
   "cell_type": "code",
   "execution_count": 7,
   "id": "e15a7a2f",
   "metadata": {
    "ExecuteTime": {
     "end_time": "2023-03-21T07:39:49.038722Z",
     "start_time": "2023-03-21T07:38:52.919779Z"
    }
   },
   "outputs": [
    {
     "data": {
      "application/vnd.jupyter.widget-view+json": {
       "model_id": "ac3be4aad3c04aefbd4d4950387b9fe8",
       "version_major": 2,
       "version_minor": 0
      },
      "text/plain": [
       "Loading dataset into RAM:   0%|          | 0/2744 [00:00<?, ?it/s]"
      ]
     },
     "metadata": {},
     "output_type": "display_data"
    },
    {
     "name": "stdout",
     "output_type": "stream",
     "text": [
      "\t- Loading done, RAM used: 4.55GiB / free: 38.00GiB / total: 125.40GiB\n",
      "\t- Got a total of 2744 images.\n"
     ]
    },
    {
     "data": {
      "application/vnd.jupyter.widget-view+json": {
       "model_id": "7fbb2d11daf4498b830406e8e3583d82",
       "version_major": 2,
       "version_minor": 0
      },
      "text/plain": [
       "Expending the dataset 1 more times:   0%|          | 0/1920 [00:00<?, ?it/s]"
      ]
     },
     "metadata": {},
     "output_type": "display_data"
    },
    {
     "name": "stdout",
     "output_type": "stream",
     "text": [
      "\t- Augmentation done, RAM used: 7.31GiB / free: 35.25GiB / total: 125.40GiB\n",
      "\t- Got 1920 new images and a total of 3840 images.\n"
     ]
    }
   ],
   "source": [
    "data_reader = POCDataReader(root_dir=\"../data\", load_on_gpu=False, verbose=True)\n",
    "train_data, val_data, test_data = data_reader.split([0.7, 0.1, 0.2])\n",
    "data_augment_(train_data, n=NUM_AUGMENT, load_on_gpu=False, verbose=True)"
   ]
  },
  {
   "cell_type": "markdown",
   "id": "025b0faa",
   "metadata": {},
   "source": [
    "## Configuring the Tuner with a Scheduler and a Search Algorithm"
   ]
  },
  {
   "cell_type": "code",
   "execution_count": 8,
   "id": "a69701ba",
   "metadata": {
    "ExecuteTime": {
     "end_time": "2023-03-21T07:39:56.988597Z",
     "start_time": "2023-03-21T07:39:49.041431Z"
    }
   },
   "outputs": [],
   "source": [
    "scheduler = ASHAScheduler(max_t=EPOCHS, grace_period=2, reduction_factor=2)\n",
    "search_algo = HyperOptSearch()\n",
    "\n",
    "tune_config = tune.TuneConfig(\n",
    "    metric=\"CrackIoU\",\n",
    "    mode=\"max\",\n",
    "    num_samples=NUM_SAMPLES,\n",
    "    scheduler=scheduler,\n",
    "    search_alg=search_algo)\n",
    "\n",
    "tuner = tune.Tuner(\n",
    "    tune.with_resources(\n",
    "        tune.with_parameters(train, train_data=train_data, val_data=val_data),\n",
    "        resources={\"cpu\": CPUS_PER_TRIAL, \"gpu\": GPUS_PER_TRIAL}),\n",
    "    tune_config=tune_config,\n",
    "    param_space=search_space,\n",
    "    run_config=RunConfig(local_dir=\"~/POC-Project/ray_results\"))"
   ]
  },
  {
   "cell_type": "markdown",
   "id": "4b0913de",
   "metadata": {},
   "source": [
    "## Running the Tuner"
   ]
  },
  {
   "cell_type": "code",
   "execution_count": 9,
   "id": "cdfb3720",
   "metadata": {
    "ExecuteTime": {
     "end_time": "2023-03-21T21:41:27.227443Z",
     "start_time": "2023-03-21T07:40:14.897071Z"
    },
    "scrolled": false
   },
   "outputs": [
    {
     "name": "stderr",
     "output_type": "stream",
     "text": [
      "2023-03-21 16:40:18,489\tINFO worker.py:1544 -- Started a local Ray instance. View the dashboard at \u001b[1m\u001b[32m127.0.0.1:8265 \u001b[39m\u001b[22m\n"
     ]
    },
    {
     "data": {
      "text/html": [
       "<div class=\"tuneStatus\">\n",
       "  <div style=\"display: flex;flex-direction: row\">\n",
       "    <div style=\"display: flex;flex-direction: column;\">\n",
       "      <h3>Tune Status</h3>\n",
       "      <table>\n",
       "<tbody>\n",
       "<tr><td>Current time:</td><td>2023-03-22 06:41:27</td></tr>\n",
       "<tr><td>Running for: </td><td>14:00:54.92        </td></tr>\n",
       "<tr><td>Memory:      </td><td>32.4/125.4 GiB     </td></tr>\n",
       "</tbody>\n",
       "</table>\n",
       "    </div>\n",
       "    <div class=\"vDivider\"></div>\n",
       "    <div class=\"systemInfo\">\n",
       "      <h3>System Info</h3>\n",
       "      Using AsyncHyperBand: num_stopped=30<br>Bracket: Iter 8.000: 0.8277283906936646 | Iter 4.000: 0.7986812591552734 | Iter 2.000: 0.7422974407672882<br>Resources requested: 0/40 CPUs, 0/2 GPUs, 0.0/63.79 GiB heap, 0.0/31.33 GiB objects (0.0/1.0 accelerator_type:RTX)\n",
       "    </div>\n",
       "    \n",
       "  </div>\n",
       "  <div class=\"hDivider\"></div>\n",
       "  <div class=\"trialStatus\">\n",
       "    <h3>Trial Status</h3>\n",
       "    <table>\n",
       "<thead>\n",
       "<tr><th>Trial name    </th><th>status    </th><th>loc                  </th><th style=\"text-align: right;\">  Batch Size</th><th>Combine Loss        </th><th>Input Filter        </th><th>Input Layer    </th><th style=\"text-align: right;\">  Learning Rate</th><th>Negative Mining  </th><th>Network             </th><th>Optimizer           </th><th>Pixel Loss        </th><th>Smooth Labeling  </th><th>Volume Loss     </th><th style=\"text-align: right;\">  iter</th><th style=\"text-align: right;\">  total time (s)</th><th style=\"text-align: right;\">  Epoch</th><th style=\"text-align: right;\">      Loss</th><th style=\"text-align: right;\">  CrackIoU</th></tr>\n",
       "</thead>\n",
       "<tbody>\n",
       "<tr><td>train_062106c6</td><td>TERMINATED</td><td>141.223.108.122:37252</td><td style=\"text-align: right;\">           4</td><td>&lt;class &#x27;loss.lo_4e10</td><td>&lt;function inver_7250</td><td>LaplacianFilter</td><td style=\"text-align: right;\">         0.0001</td><td>False            </td><td>&lt;class &#x27;models._0380</td><td>&lt;class &#x27;torch.o_1b20</td><td>CrossEntropyLoss()</td><td>False            </td><td>FocalTverskyLoss</td><td style=\"text-align: right;\">     4</td><td style=\"text-align: right;\">        1528.19 </td><td style=\"text-align: right;\">      4</td><td style=\"text-align: right;\">0.0101645 </td><td style=\"text-align: right;\">  0.726125</td></tr>\n",
       "<tr><td>train_fb648fde</td><td>TERMINATED</td><td>141.223.108.122:37338</td><td style=\"text-align: right;\">           4</td><td>&lt;class &#x27;loss.lo_5590</td><td>                    </td><td>LaplacianFilter</td><td style=\"text-align: right;\">         0.0001</td><td>False            </td><td>&lt;class &#x27;models._0380</td><td>&lt;class &#x27;torch.o_1b20</td><td>CrossEntropyLoss()</td><td>False            </td><td>FocalTverskyLoss</td><td style=\"text-align: right;\">    15</td><td style=\"text-align: right;\">        5665.79 </td><td style=\"text-align: right;\">     15</td><td style=\"text-align: right;\">0.0102724 </td><td style=\"text-align: right;\">  0.780001</td></tr>\n",
       "<tr><td>train_9fc5d37d</td><td>TERMINATED</td><td>141.223.108.122:37252</td><td style=\"text-align: right;\">           4</td><td>&lt;class &#x27;loss.lo_51d0</td><td>&lt;function inver_7250</td><td>LaplacianFilter</td><td style=\"text-align: right;\">         0.0001</td><td>False            </td><td>&lt;class &#x27;models._0380</td><td>&lt;class &#x27;torch.o_1b20</td><td>FocalLoss         </td><td>False            </td><td>JaccardLoss     </td><td style=\"text-align: right;\">     2</td><td style=\"text-align: right;\">         764.152</td><td style=\"text-align: right;\">      2</td><td style=\"text-align: right;\">0.0016556 </td><td style=\"text-align: right;\">  0.138095</td></tr>\n",
       "<tr><td>train_ec537ad3</td><td>TERMINATED</td><td>141.223.108.122:37252</td><td style=\"text-align: right;\">           4</td><td>&lt;class &#x27;loss.lo_4a50</td><td>                    </td><td>SobelFilter    </td><td style=\"text-align: right;\">         0.0001</td><td>True             </td><td>&lt;class &#x27;models._0380</td><td>&lt;class &#x27;torch.o_1b20</td><td>FocalLoss         </td><td>True             </td><td>FocalTverskyLoss</td><td style=\"text-align: right;\">     8</td><td style=\"text-align: right;\">        3021.86 </td><td style=\"text-align: right;\">      8</td><td style=\"text-align: right;\">0.00805477</td><td style=\"text-align: right;\">  0.782492</td></tr>\n",
       "<tr><td>train_cae22dbf</td><td>TERMINATED</td><td>141.223.108.122:37252</td><td style=\"text-align: right;\">           4</td><td>&lt;class &#x27;loss.lo_5590</td><td>&lt;function inver_7250</td><td>               </td><td style=\"text-align: right;\">         0.0001</td><td>True             </td><td>&lt;class &#x27;models._0380</td><td>&lt;class &#x27;torch.o_1b20</td><td>FocalLoss         </td><td>False            </td><td>FocalTverskyLoss</td><td style=\"text-align: right;\">    15</td><td style=\"text-align: right;\">        5628.35 </td><td style=\"text-align: right;\">     15</td><td style=\"text-align: right;\">0.0190647 </td><td style=\"text-align: right;\">  0.792872</td></tr>\n",
       "<tr><td>train_853d0262</td><td>TERMINATED</td><td>141.223.108.122:37338</td><td style=\"text-align: right;\">           4</td><td>&lt;class &#x27;loss.lo_51d0</td><td>                    </td><td>LaplacianFilter</td><td style=\"text-align: right;\">         0.0001</td><td>True             </td><td>&lt;class &#x27;models._0380</td><td>&lt;class &#x27;torch.o_1b20</td><td>FocalLoss         </td><td>False            </td><td>TverskyLoss     </td><td style=\"text-align: right;\">     2</td><td style=\"text-align: right;\">         766.324</td><td style=\"text-align: right;\">      2</td><td style=\"text-align: right;\">0.00122544</td><td style=\"text-align: right;\">  0.163182</td></tr>\n",
       "<tr><td>train_d41c8b41</td><td>TERMINATED</td><td>141.223.108.122:37338</td><td style=\"text-align: right;\">           4</td><td>&lt;class &#x27;loss.lo_4a50</td><td>&lt;function inver_7250</td><td>               </td><td style=\"text-align: right;\">         0.0001</td><td>False            </td><td>&lt;class &#x27;models._0380</td><td>&lt;class &#x27;torch.o_1b20</td><td>FocalLoss         </td><td>True             </td><td>TverskyLoss     </td><td style=\"text-align: right;\">     2</td><td style=\"text-align: right;\">         765.478</td><td style=\"text-align: right;\">      2</td><td style=\"text-align: right;\">0.104972  </td><td style=\"text-align: right;\">  0.596321</td></tr>\n",
       "<tr><td>train_d4177694</td><td>TERMINATED</td><td>141.223.108.122:37338</td><td style=\"text-align: right;\">           4</td><td>&lt;class &#x27;loss.lo_4a50</td><td>                    </td><td>               </td><td style=\"text-align: right;\">         0.0001</td><td>True             </td><td>&lt;class &#x27;models._0380</td><td>&lt;class &#x27;torch.o_1b20</td><td>CrossEntropyLoss()</td><td>True             </td><td>TverskyLoss     </td><td style=\"text-align: right;\">     4</td><td style=\"text-align: right;\">        1514.52 </td><td style=\"text-align: right;\">      4</td><td style=\"text-align: right;\">0.0680096 </td><td style=\"text-align: right;\">  0.742846</td></tr>\n",
       "<tr><td>train_516dd362</td><td>TERMINATED</td><td>141.223.108.122:37338</td><td style=\"text-align: right;\">           4</td><td>&lt;class &#x27;loss.lo_4a50</td><td>                    </td><td>LaplacianFilter</td><td style=\"text-align: right;\">         0.0001</td><td>False            </td><td>&lt;class &#x27;models._0380</td><td>&lt;class &#x27;torch.o_1b20</td><td>FocalLoss         </td><td>False            </td><td>JaccardLoss     </td><td style=\"text-align: right;\">    15</td><td style=\"text-align: right;\">        5669.97 </td><td style=\"text-align: right;\">     15</td><td style=\"text-align: right;\">0.0458218 </td><td style=\"text-align: right;\">  0.830887</td></tr>\n",
       "<tr><td>train_e8fc8198</td><td>TERMINATED</td><td>141.223.108.122:37252</td><td style=\"text-align: right;\">           4</td><td>&lt;class &#x27;loss.lo_51d0</td><td>                    </td><td>LaplacianFilter</td><td style=\"text-align: right;\">         0.0001</td><td>True             </td><td>&lt;class &#x27;models._0380</td><td>&lt;class &#x27;torch.o_1b20</td><td>FocalLoss         </td><td>True             </td><td>JaccardLoss     </td><td style=\"text-align: right;\">     2</td><td style=\"text-align: right;\">         763.549</td><td style=\"text-align: right;\">      2</td><td style=\"text-align: right;\">0.00123841</td><td style=\"text-align: right;\">  0.175681</td></tr>\n",
       "<tr><td>train_9feab5a1</td><td>TERMINATED</td><td>141.223.108.122:37252</td><td style=\"text-align: right;\">           4</td><td>&lt;class &#x27;loss.lo_4a50</td><td>&lt;function inver_7250</td><td>               </td><td style=\"text-align: right;\">         0.0001</td><td>False            </td><td>&lt;class &#x27;models._0380</td><td>&lt;class &#x27;torch.o_1b20</td><td>CrossEntropyLoss()</td><td>True             </td><td>TverskyLoss     </td><td style=\"text-align: right;\">     2</td><td style=\"text-align: right;\">         759.971</td><td style=\"text-align: right;\">      2</td><td style=\"text-align: right;\">0.0949079 </td><td style=\"text-align: right;\">  0.621381</td></tr>\n",
       "<tr><td>train_0e8257a8</td><td>TERMINATED</td><td>141.223.108.122:37252</td><td style=\"text-align: right;\">           4</td><td>&lt;class &#x27;loss.lo_4a50</td><td>&lt;function inver_7250</td><td>LaplacianFilter</td><td style=\"text-align: right;\">         0.0001</td><td>True             </td><td>&lt;class &#x27;models._0380</td><td>&lt;class &#x27;torch.o_1b20</td><td>FocalLoss         </td><td>True             </td><td>JaccardLoss     </td><td style=\"text-align: right;\">     2</td><td style=\"text-align: right;\">         765.901</td><td style=\"text-align: right;\">      2</td><td style=\"text-align: right;\">0.211027  </td><td style=\"text-align: right;\">  0.268461</td></tr>\n",
       "<tr><td>train_b9c3ad3f</td><td>TERMINATED</td><td>141.223.108.122:37252</td><td style=\"text-align: right;\">           4</td><td>&lt;class &#x27;loss.lo_4a50</td><td>&lt;function inver_7250</td><td>               </td><td style=\"text-align: right;\">         0.0001</td><td>True             </td><td>&lt;class &#x27;models._0380</td><td>&lt;class &#x27;torch.o_1b20</td><td>FocalLoss         </td><td>True             </td><td>FocalTverskyLoss</td><td style=\"text-align: right;\">     4</td><td style=\"text-align: right;\">        1512.25 </td><td style=\"text-align: right;\">      4</td><td style=\"text-align: right;\">0.0292723 </td><td style=\"text-align: right;\">  0.710562</td></tr>\n",
       "<tr><td>train_617be1c4</td><td>TERMINATED</td><td>141.223.108.122:37338</td><td style=\"text-align: right;\">           4</td><td>&lt;class &#x27;loss.lo_4e10</td><td>&lt;function inver_7250</td><td>SobelFilter    </td><td style=\"text-align: right;\">         0.0001</td><td>True             </td><td>&lt;class &#x27;models._0380</td><td>&lt;class &#x27;torch.o_1b20</td><td>CrossEntropyLoss()</td><td>True             </td><td>FocalTverskyLoss</td><td style=\"text-align: right;\">     4</td><td style=\"text-align: right;\">        1525.02 </td><td style=\"text-align: right;\">      4</td><td style=\"text-align: right;\">0.00859404</td><td style=\"text-align: right;\">  0.746007</td></tr>\n",
       "<tr><td>train_cba2a78b</td><td>TERMINATED</td><td>141.223.108.122:37252</td><td style=\"text-align: right;\">           4</td><td>&lt;class &#x27;loss.lo_4a50</td><td>&lt;function inver_7250</td><td>               </td><td style=\"text-align: right;\">         0.0001</td><td>True             </td><td>&lt;class &#x27;models._0380</td><td>&lt;class &#x27;torch.o_1b20</td><td>FocalLoss         </td><td>False            </td><td>FocalTverskyLoss</td><td style=\"text-align: right;\">     2</td><td style=\"text-align: right;\">         759.444</td><td style=\"text-align: right;\">      2</td><td style=\"text-align: right;\">0.0188789 </td><td style=\"text-align: right;\">  0.668475</td></tr>\n",
       "<tr><td>train_41b16b7d</td><td>TERMINATED</td><td>141.223.108.122:37252</td><td style=\"text-align: right;\">           4</td><td>&lt;class &#x27;loss.lo_4a50</td><td>                    </td><td>               </td><td style=\"text-align: right;\">         0.0001</td><td>False            </td><td>&lt;class &#x27;models._0380</td><td>&lt;class &#x27;torch.o_1b20</td><td>CrossEntropyLoss()</td><td>False            </td><td>FocalTverskyLoss</td><td style=\"text-align: right;\">     8</td><td style=\"text-align: right;\">        3005.39 </td><td style=\"text-align: right;\">      8</td><td style=\"text-align: right;\">0.00762806</td><td style=\"text-align: right;\">  0.812807</td></tr>\n",
       "<tr><td>train_ad2f66fa</td><td>TERMINATED</td><td>141.223.108.122:37338</td><td style=\"text-align: right;\">           4</td><td>&lt;class &#x27;loss.lo_4a50</td><td>                    </td><td>SobelFilter    </td><td style=\"text-align: right;\">         0.0001</td><td>True             </td><td>&lt;class &#x27;models._0380</td><td>&lt;class &#x27;torch.o_1b20</td><td>CrossEntropyLoss()</td><td>True             </td><td>TverskyLoss     </td><td style=\"text-align: right;\">     4</td><td style=\"text-align: right;\">        1518.49 </td><td style=\"text-align: right;\">      4</td><td style=\"text-align: right;\">0.0623509 </td><td style=\"text-align: right;\">  0.751132</td></tr>\n",
       "<tr><td>train_508c32ec</td><td>TERMINATED</td><td>141.223.108.122:37338</td><td style=\"text-align: right;\">           4</td><td>&lt;class &#x27;loss.lo_4e10</td><td>&lt;function inver_7250</td><td>SobelFilter    </td><td style=\"text-align: right;\">         0.0001</td><td>True             </td><td>&lt;class &#x27;models._0380</td><td>&lt;class &#x27;torch.o_1b20</td><td>FocalLoss         </td><td>False            </td><td>TverskyLoss     </td><td style=\"text-align: right;\">     8</td><td style=\"text-align: right;\">        3040.61 </td><td style=\"text-align: right;\">      8</td><td style=\"text-align: right;\">0.0451101 </td><td style=\"text-align: right;\">  0.810791</td></tr>\n",
       "<tr><td>train_29189cfb</td><td>TERMINATED</td><td>141.223.108.122:37252</td><td style=\"text-align: right;\">           4</td><td>&lt;class &#x27;loss.lo_4a50</td><td>                    </td><td>LaplacianFilter</td><td style=\"text-align: right;\">         0.0001</td><td>False            </td><td>&lt;class &#x27;models._0380</td><td>&lt;class &#x27;torch.o_1b20</td><td>CrossEntropyLoss()</td><td>False            </td><td>FocalTverskyLoss</td><td style=\"text-align: right;\">     8</td><td style=\"text-align: right;\">        3015.25 </td><td style=\"text-align: right;\">      8</td><td style=\"text-align: right;\">0.00736416</td><td style=\"text-align: right;\">  0.809024</td></tr>\n",
       "<tr><td>train_29ebcf34</td><td>TERMINATED</td><td>141.223.108.122:37338</td><td style=\"text-align: right;\">           4</td><td>&lt;class &#x27;loss.lo_4a50</td><td>&lt;function inver_7250</td><td>               </td><td style=\"text-align: right;\">         0.0001</td><td>True             </td><td>&lt;class &#x27;models._0380</td><td>&lt;class &#x27;torch.o_1b20</td><td>CrossEntropyLoss()</td><td>False            </td><td>TverskyLoss     </td><td style=\"text-align: right;\">     8</td><td style=\"text-align: right;\">        3020.85 </td><td style=\"text-align: right;\">      8</td><td style=\"text-align: right;\">0.0474492 </td><td style=\"text-align: right;\">  0.806877</td></tr>\n",
       "<tr><td>train_0717f785</td><td>TERMINATED</td><td>141.223.108.122:37252</td><td style=\"text-align: right;\">           4</td><td>&lt;class &#x27;loss.lo_5590</td><td>                    </td><td>LaplacianFilter</td><td style=\"text-align: right;\">         0.0001</td><td>False            </td><td>&lt;class &#x27;models._0380</td><td>&lt;class &#x27;torch.o_1b20</td><td>CrossEntropyLoss()</td><td>False            </td><td>JaccardLoss     </td><td style=\"text-align: right;\">    15</td><td style=\"text-align: right;\">        5632.06 </td><td style=\"text-align: right;\">     15</td><td style=\"text-align: right;\">0.0940367 </td><td style=\"text-align: right;\">  0.814646</td></tr>\n",
       "<tr><td>train_ac2a1b52</td><td>TERMINATED</td><td>141.223.108.122:37338</td><td style=\"text-align: right;\">           4</td><td>&lt;class &#x27;loss.lo_4a50</td><td>                    </td><td>               </td><td style=\"text-align: right;\">         0.0001</td><td>False            </td><td>&lt;class &#x27;models._0380</td><td>&lt;class &#x27;torch.o_1b20</td><td>CrossEntropyLoss()</td><td>False            </td><td>JaccardLoss     </td><td style=\"text-align: right;\">    15</td><td style=\"text-align: right;\">        5644.59 </td><td style=\"text-align: right;\">     15</td><td style=\"text-align: right;\">0.0484352 </td><td style=\"text-align: right;\">  0.822806</td></tr>\n",
       "<tr><td>train_cb3dc1a1</td><td>TERMINATED</td><td>141.223.108.122:37252</td><td style=\"text-align: right;\">           4</td><td>&lt;class &#x27;loss.lo_51d0</td><td>                    </td><td>               </td><td style=\"text-align: right;\">         0.0001</td><td>False            </td><td>&lt;class &#x27;models._0380</td><td>&lt;class &#x27;torch.o_1b20</td><td>CrossEntropyLoss()</td><td>False            </td><td>JaccardLoss     </td><td style=\"text-align: right;\">     2</td><td style=\"text-align: right;\">         755.721</td><td style=\"text-align: right;\">      2</td><td style=\"text-align: right;\">0.00449697</td><td style=\"text-align: right;\">  0.632406</td></tr>\n",
       "<tr><td>train_1b1add71</td><td>TERMINATED</td><td>141.223.108.122:37252</td><td style=\"text-align: right;\">           4</td><td>&lt;class &#x27;loss.lo_5590</td><td>                    </td><td>LaplacianFilter</td><td style=\"text-align: right;\">         0.0001</td><td>False            </td><td>&lt;class &#x27;models._0380</td><td>&lt;class &#x27;torch.o_1b20</td><td>FocalLoss         </td><td>False            </td><td>JaccardLoss     </td><td style=\"text-align: right;\">    15</td><td style=\"text-align: right;\">        5631.36 </td><td style=\"text-align: right;\">     15</td><td style=\"text-align: right;\">0.0876815 </td><td style=\"text-align: right;\">  0.827104</td></tr>\n",
       "<tr><td>train_09e60520</td><td>TERMINATED</td><td>141.223.108.122:37338</td><td style=\"text-align: right;\">           4</td><td>&lt;class &#x27;loss.lo_5590</td><td>                    </td><td>LaplacianFilter</td><td style=\"text-align: right;\">         0.0001</td><td>False            </td><td>&lt;class &#x27;models._0380</td><td>&lt;class &#x27;torch.o_1b20</td><td>FocalLoss         </td><td>False            </td><td>JaccardLoss     </td><td style=\"text-align: right;\">    15</td><td style=\"text-align: right;\">        5656.1  </td><td style=\"text-align: right;\">     15</td><td style=\"text-align: right;\">0.0881142 </td><td style=\"text-align: right;\">  0.826255</td></tr>\n",
       "<tr><td>train_d27bce04</td><td>TERMINATED</td><td>141.223.108.122:37252</td><td style=\"text-align: right;\">           4</td><td>&lt;class &#x27;loss.lo_4a50</td><td>                    </td><td>SobelFilter    </td><td style=\"text-align: right;\">         0.0001</td><td>False            </td><td>&lt;class &#x27;models._0380</td><td>&lt;class &#x27;torch.o_1b20</td><td>CrossEntropyLoss()</td><td>False            </td><td>JaccardLoss     </td><td style=\"text-align: right;\">    15</td><td style=\"text-align: right;\">        5634.9  </td><td style=\"text-align: right;\">     15</td><td style=\"text-align: right;\">0.0477254 </td><td style=\"text-align: right;\">  0.824505</td></tr>\n",
       "<tr><td>train_28702a06</td><td>TERMINATED</td><td>141.223.108.122:37338</td><td style=\"text-align: right;\">           4</td><td>&lt;class &#x27;loss.lo_5590</td><td>                    </td><td>LaplacianFilter</td><td style=\"text-align: right;\">         0.0001</td><td>False            </td><td>&lt;class &#x27;models._0380</td><td>&lt;class &#x27;torch.o_1b20</td><td>FocalLoss         </td><td>False            </td><td>JaccardLoss     </td><td style=\"text-align: right;\">    15</td><td style=\"text-align: right;\">        5659.68 </td><td style=\"text-align: right;\">     15</td><td style=\"text-align: right;\">0.0903845 </td><td style=\"text-align: right;\">  0.821742</td></tr>\n",
       "<tr><td>train_96537b1f</td><td>TERMINATED</td><td>141.223.108.122:37252</td><td style=\"text-align: right;\">           4</td><td>&lt;class &#x27;loss.lo_5590</td><td>                    </td><td>LaplacianFilter</td><td style=\"text-align: right;\">         0.0001</td><td>False            </td><td>&lt;class &#x27;models._0380</td><td>&lt;class &#x27;torch.o_1b20</td><td>FocalLoss         </td><td>False            </td><td>JaccardLoss     </td><td style=\"text-align: right;\">    15</td><td style=\"text-align: right;\">        5629.48 </td><td style=\"text-align: right;\">     15</td><td style=\"text-align: right;\">0.0878387 </td><td style=\"text-align: right;\">  0.826872</td></tr>\n",
       "<tr><td>train_0445f4ab</td><td>TERMINATED</td><td>141.223.108.122:37338</td><td style=\"text-align: right;\">           4</td><td>&lt;class &#x27;loss.lo_4e10</td><td>                    </td><td>LaplacianFilter</td><td style=\"text-align: right;\">         0.0001</td><td>False            </td><td>&lt;class &#x27;models._0380</td><td>&lt;class &#x27;torch.o_1b20</td><td>FocalLoss         </td><td>False            </td><td>JaccardLoss     </td><td style=\"text-align: right;\">    15</td><td style=\"text-align: right;\">        5691.39 </td><td style=\"text-align: right;\">     15</td><td style=\"text-align: right;\">0.046882  </td><td style=\"text-align: right;\">  0.819906</td></tr>\n",
       "<tr><td>train_3a677d53</td><td>TERMINATED</td><td>141.223.108.122:37252</td><td style=\"text-align: right;\">           4</td><td>&lt;class &#x27;loss.lo_5590</td><td>                    </td><td>LaplacianFilter</td><td style=\"text-align: right;\">         0.0001</td><td>False            </td><td>&lt;class &#x27;models._0380</td><td>&lt;class &#x27;torch.o_1b20</td><td>FocalLoss         </td><td>False            </td><td>JaccardLoss     </td><td style=\"text-align: right;\">    15</td><td style=\"text-align: right;\">        5642.19 </td><td style=\"text-align: right;\">     15</td><td style=\"text-align: right;\">0.0842459 </td><td style=\"text-align: right;\">  0.833933</td></tr>\n",
       "</tbody>\n",
       "</table>\n",
       "  </div>\n",
       "</div>\n",
       "<style>\n",
       ".tuneStatus {\n",
       "  color: var(--jp-ui-font-color1);\n",
       "}\n",
       ".tuneStatus .systemInfo {\n",
       "  display: flex;\n",
       "  flex-direction: column;\n",
       "}\n",
       ".tuneStatus td {\n",
       "  white-space: nowrap;\n",
       "}\n",
       ".tuneStatus .trialStatus {\n",
       "  display: flex;\n",
       "  flex-direction: column;\n",
       "}\n",
       ".tuneStatus h3 {\n",
       "  font-weight: bold;\n",
       "}\n",
       ".tuneStatus .hDivider {\n",
       "  border-bottom-width: var(--jp-border-width);\n",
       "  border-bottom-color: var(--jp-border-color0);\n",
       "  border-bottom-style: solid;\n",
       "}\n",
       ".tuneStatus .vDivider {\n",
       "  border-left-width: var(--jp-border-width);\n",
       "  border-left-color: var(--jp-border-color0);\n",
       "  border-left-style: solid;\n",
       "  margin: 0.5em 1em 0.5em 1em;\n",
       "}\n",
       "</style>\n"
      ],
      "text/plain": [
       "<IPython.core.display.HTML object>"
      ]
     },
     "metadata": {},
     "output_type": "display_data"
    },
    {
     "data": {
      "text/html": [
       "<div class=\"trialProgress\">\n",
       "  <h3>Trial Progress</h3>\n",
       "  <table>\n",
       "<thead>\n",
       "<tr><th>Trial name    </th><th style=\"text-align: right;\">  CrackIoU</th><th style=\"text-align: right;\">  Epoch</th><th style=\"text-align: right;\">      Loss</th><th style=\"text-align: right;\">  MeanIoU</th><th style=\"text-align: right;\">  Tversky</th><th>date               </th><th>done  </th><th>episodes_total  </th><th>experiment_id                   </th><th>hostname           </th><th style=\"text-align: right;\">  iterations_since_restore</th><th>node_ip        </th><th style=\"text-align: right;\">  pid</th><th>should_checkpoint  </th><th style=\"text-align: right;\">  time_since_restore</th><th style=\"text-align: right;\">  time_this_iter_s</th><th style=\"text-align: right;\">  time_total_s</th><th style=\"text-align: right;\">  timestamp</th><th style=\"text-align: right;\">  timesteps_since_restore</th><th>timesteps_total  </th><th style=\"text-align: right;\">  training_iteration</th><th>trial_id  </th><th style=\"text-align: right;\">  warmup_time</th></tr>\n",
       "</thead>\n",
       "<tbody>\n",
       "<tr><td>train_0445f4ab</td><td style=\"text-align: right;\">  0.819906</td><td style=\"text-align: right;\">     15</td><td style=\"text-align: right;\">0.046882  </td><td style=\"text-align: right;\"> 0.908589</td><td style=\"text-align: right;\"> 0.912501</td><td>2023-03-22_05-29-38</td><td>True  </td><td>                </td><td>dad235558d3f40dc91b788937bbb28f8</td><td>pirl-PowerEdge-T640</td><td style=\"text-align: right;\">                        15</td><td>141.223.108.122</td><td style=\"text-align: right;\">37338</td><td>True               </td><td style=\"text-align: right;\">            5691.39 </td><td style=\"text-align: right;\">           378.468</td><td style=\"text-align: right;\">      5691.39 </td><td style=\"text-align: right;\"> 1679430578</td><td style=\"text-align: right;\">                        0</td><td>                 </td><td style=\"text-align: right;\">                  15</td><td>0445f4ab  </td><td style=\"text-align: right;\">    0.0266371</td></tr>\n",
       "<tr><td>train_062106c6</td><td style=\"text-align: right;\">  0.726125</td><td style=\"text-align: right;\">      4</td><td style=\"text-align: right;\">0.0101645 </td><td style=\"text-align: right;\"> 0.860695</td><td style=\"text-align: right;\"> 0.876887</td><td>2023-03-21_17-06-03</td><td>True  </td><td>                </td><td>3c7874d0b49642229cf064d8db90072d</td><td>pirl-PowerEdge-T640</td><td style=\"text-align: right;\">                         4</td><td>141.223.108.122</td><td style=\"text-align: right;\">37252</td><td>True               </td><td style=\"text-align: right;\">            1528.19 </td><td style=\"text-align: right;\">           376.995</td><td style=\"text-align: right;\">      1528.19 </td><td style=\"text-align: right;\"> 1679385963</td><td style=\"text-align: right;\">                        0</td><td>                 </td><td style=\"text-align: right;\">                   4</td><td>062106c6  </td><td style=\"text-align: right;\">    0.0286627</td></tr>\n",
       "<tr><td>train_0717f785</td><td style=\"text-align: right;\">  0.814646</td><td style=\"text-align: right;\">     15</td><td style=\"text-align: right;\">0.0940367 </td><td style=\"text-align: right;\"> 0.905963</td><td style=\"text-align: right;\"> 0.893023</td><td>2023-03-22_00-13-12</td><td>True  </td><td>                </td><td>3c7874d0b49642229cf064d8db90072d</td><td>pirl-PowerEdge-T640</td><td style=\"text-align: right;\">                        15</td><td>141.223.108.122</td><td style=\"text-align: right;\">37252</td><td>True               </td><td style=\"text-align: right;\">            5632.06 </td><td style=\"text-align: right;\">           374.476</td><td style=\"text-align: right;\">      5632.06 </td><td style=\"text-align: right;\"> 1679411592</td><td style=\"text-align: right;\">                        0</td><td>                 </td><td style=\"text-align: right;\">                  15</td><td>0717f785  </td><td style=\"text-align: right;\">    0.0286627</td></tr>\n",
       "<tr><td>train_09e60520</td><td style=\"text-align: right;\">  0.826255</td><td style=\"text-align: right;\">     15</td><td style=\"text-align: right;\">0.0881142 </td><td style=\"text-align: right;\"> 0.911886</td><td style=\"text-align: right;\"> 0.90059 </td><td>2023-03-22_02-20-27</td><td>True  </td><td>                </td><td>dad235558d3f40dc91b788937bbb28f8</td><td>pirl-PowerEdge-T640</td><td style=\"text-align: right;\">                        15</td><td>141.223.108.122</td><td style=\"text-align: right;\">37338</td><td>True               </td><td style=\"text-align: right;\">            5656.1  </td><td style=\"text-align: right;\">           376.436</td><td style=\"text-align: right;\">      5656.1  </td><td style=\"text-align: right;\"> 1679419227</td><td style=\"text-align: right;\">                        0</td><td>                 </td><td style=\"text-align: right;\">                  15</td><td>09e60520  </td><td style=\"text-align: right;\">    0.0266371</td></tr>\n",
       "<tr><td>train_0e8257a8</td><td style=\"text-align: right;\">  0.268461</td><td style=\"text-align: right;\">      2</td><td style=\"text-align: right;\">0.211027  </td><td style=\"text-align: right;\"> 0.629011</td><td style=\"text-align: right;\"> 0.336848</td><td>2023-03-21_20-21-07</td><td>True  </td><td>                </td><td>3c7874d0b49642229cf064d8db90072d</td><td>pirl-PowerEdge-T640</td><td style=\"text-align: right;\">                         2</td><td>141.223.108.122</td><td style=\"text-align: right;\">37252</td><td>True               </td><td style=\"text-align: right;\">             765.901</td><td style=\"text-align: right;\">           376.09 </td><td style=\"text-align: right;\">       765.901</td><td style=\"text-align: right;\"> 1679397667</td><td style=\"text-align: right;\">                        0</td><td>                 </td><td style=\"text-align: right;\">                   2</td><td>0e8257a8  </td><td style=\"text-align: right;\">    0.0286627</td></tr>\n",
       "<tr><td>train_1b1add71</td><td style=\"text-align: right;\">  0.827104</td><td style=\"text-align: right;\">     15</td><td style=\"text-align: right;\">0.0876815 </td><td style=\"text-align: right;\"> 0.912318</td><td style=\"text-align: right;\"> 0.903761</td><td>2023-03-22_01-59-40</td><td>True  </td><td>                </td><td>3c7874d0b49642229cf064d8db90072d</td><td>pirl-PowerEdge-T640</td><td style=\"text-align: right;\">                        15</td><td>141.223.108.122</td><td style=\"text-align: right;\">37252</td><td>True               </td><td style=\"text-align: right;\">            5631.36 </td><td style=\"text-align: right;\">           374.681</td><td style=\"text-align: right;\">      5631.36 </td><td style=\"text-align: right;\"> 1679417980</td><td style=\"text-align: right;\">                        0</td><td>                 </td><td style=\"text-align: right;\">                  15</td><td>1b1add71  </td><td style=\"text-align: right;\">    0.0286627</td></tr>\n",
       "<tr><td>train_28702a06</td><td style=\"text-align: right;\">  0.821742</td><td style=\"text-align: right;\">     15</td><td style=\"text-align: right;\">0.0903845 </td><td style=\"text-align: right;\"> 0.909616</td><td style=\"text-align: right;\"> 0.895978</td><td>2023-03-22_03-54-47</td><td>True  </td><td>                </td><td>dad235558d3f40dc91b788937bbb28f8</td><td>pirl-PowerEdge-T640</td><td style=\"text-align: right;\">                        15</td><td>141.223.108.122</td><td style=\"text-align: right;\">37338</td><td>True               </td><td style=\"text-align: right;\">            5659.68 </td><td style=\"text-align: right;\">           376.193</td><td style=\"text-align: right;\">      5659.68 </td><td style=\"text-align: right;\"> 1679424887</td><td style=\"text-align: right;\">                        0</td><td>                 </td><td style=\"text-align: right;\">                  15</td><td>28702a06  </td><td style=\"text-align: right;\">    0.0266371</td></tr>\n",
       "<tr><td>train_29189cfb</td><td style=\"text-align: right;\">  0.809024</td><td style=\"text-align: right;\">      8</td><td style=\"text-align: right;\">0.00736416</td><td style=\"text-align: right;\"> 0.903141</td><td style=\"text-align: right;\"> 0.907148</td><td>2023-03-21_22-39-20</td><td>True  </td><td>                </td><td>3c7874d0b49642229cf064d8db90072d</td><td>pirl-PowerEdge-T640</td><td style=\"text-align: right;\">                         8</td><td>141.223.108.122</td><td style=\"text-align: right;\">37252</td><td>True               </td><td style=\"text-align: right;\">            3015.25 </td><td style=\"text-align: right;\">           375.445</td><td style=\"text-align: right;\">      3015.25 </td><td style=\"text-align: right;\"> 1679405960</td><td style=\"text-align: right;\">                        0</td><td>                 </td><td style=\"text-align: right;\">                   8</td><td>29189cfb  </td><td style=\"text-align: right;\">    0.0286627</td></tr>\n",
       "<tr><td>train_29ebcf34</td><td style=\"text-align: right;\">  0.806877</td><td style=\"text-align: right;\">      8</td><td style=\"text-align: right;\">0.0474492 </td><td style=\"text-align: right;\"> 0.901959</td><td style=\"text-align: right;\"> 0.910966</td><td>2023-03-21_23-12-06</td><td>True  </td><td>                </td><td>dad235558d3f40dc91b788937bbb28f8</td><td>pirl-PowerEdge-T640</td><td style=\"text-align: right;\">                         8</td><td>141.223.108.122</td><td style=\"text-align: right;\">37338</td><td>True               </td><td style=\"text-align: right;\">            3020.85 </td><td style=\"text-align: right;\">           376.485</td><td style=\"text-align: right;\">      3020.85 </td><td style=\"text-align: right;\"> 1679407926</td><td style=\"text-align: right;\">                        0</td><td>                 </td><td style=\"text-align: right;\">                   8</td><td>29ebcf34  </td><td style=\"text-align: right;\">    0.0266371</td></tr>\n",
       "<tr><td>train_3a677d53</td><td style=\"text-align: right;\">  0.833933</td><td style=\"text-align: right;\">     15</td><td style=\"text-align: right;\">0.0842459 </td><td style=\"text-align: right;\"> 0.915754</td><td style=\"text-align: right;\"> 0.910119</td><td>2023-03-22_06-41-27</td><td>True  </td><td>                </td><td>3c7874d0b49642229cf064d8db90072d</td><td>pirl-PowerEdge-T640</td><td style=\"text-align: right;\">                        15</td><td>141.223.108.122</td><td style=\"text-align: right;\">37252</td><td>True               </td><td style=\"text-align: right;\">            5642.19 </td><td style=\"text-align: right;\">           375.624</td><td style=\"text-align: right;\">      5642.19 </td><td style=\"text-align: right;\"> 1679434887</td><td style=\"text-align: right;\">                        0</td><td>                 </td><td style=\"text-align: right;\">                  15</td><td>3a677d53  </td><td style=\"text-align: right;\">    0.0286627</td></tr>\n",
       "<tr><td>train_41b16b7d</td><td style=\"text-align: right;\">  0.812807</td><td style=\"text-align: right;\">      8</td><td style=\"text-align: right;\">0.00762806</td><td style=\"text-align: right;\"> 0.905025</td><td style=\"text-align: right;\"> 0.905641</td><td>2023-03-21_21-49-05</td><td>True  </td><td>                </td><td>3c7874d0b49642229cf064d8db90072d</td><td>pirl-PowerEdge-T640</td><td style=\"text-align: right;\">                         8</td><td>141.223.108.122</td><td style=\"text-align: right;\">37252</td><td>True               </td><td style=\"text-align: right;\">            3005.39 </td><td style=\"text-align: right;\">           374.663</td><td style=\"text-align: right;\">      3005.39 </td><td style=\"text-align: right;\"> 1679402945</td><td style=\"text-align: right;\">                        0</td><td>                 </td><td style=\"text-align: right;\">                   8</td><td>41b16b7d  </td><td style=\"text-align: right;\">    0.0286627</td></tr>\n",
       "<tr><td>train_508c32ec</td><td style=\"text-align: right;\">  0.810791</td><td style=\"text-align: right;\">      8</td><td style=\"text-align: right;\">0.0451101 </td><td style=\"text-align: right;\"> 0.903962</td><td style=\"text-align: right;\"> 0.911614</td><td>2023-03-21_22-21-45</td><td>True  </td><td>                </td><td>dad235558d3f40dc91b788937bbb28f8</td><td>pirl-PowerEdge-T640</td><td style=\"text-align: right;\">                         8</td><td>141.223.108.122</td><td style=\"text-align: right;\">37338</td><td>True               </td><td style=\"text-align: right;\">            3040.61 </td><td style=\"text-align: right;\">           378.693</td><td style=\"text-align: right;\">      3040.61 </td><td style=\"text-align: right;\"> 1679404905</td><td style=\"text-align: right;\">                        0</td><td>                 </td><td style=\"text-align: right;\">                   8</td><td>508c32ec  </td><td style=\"text-align: right;\">    0.0266371</td></tr>\n",
       "<tr><td>train_516dd362</td><td style=\"text-align: right;\">  0.830887</td><td style=\"text-align: right;\">     15</td><td style=\"text-align: right;\">0.0458218 </td><td style=\"text-align: right;\"> 0.914258</td><td style=\"text-align: right;\"> 0.911856</td><td>2023-03-21_20-40-20</td><td>True  </td><td>                </td><td>dad235558d3f40dc91b788937bbb28f8</td><td>pirl-PowerEdge-T640</td><td style=\"text-align: right;\">                        15</td><td>141.223.108.122</td><td style=\"text-align: right;\">37338</td><td>True               </td><td style=\"text-align: right;\">            5669.97 </td><td style=\"text-align: right;\">           377.171</td><td style=\"text-align: right;\">      5669.97 </td><td style=\"text-align: right;\"> 1679398820</td><td style=\"text-align: right;\">                        0</td><td>                 </td><td style=\"text-align: right;\">                  15</td><td>516dd362  </td><td style=\"text-align: right;\">    0.0266371</td></tr>\n",
       "<tr><td>train_617be1c4</td><td style=\"text-align: right;\">  0.746007</td><td style=\"text-align: right;\">      4</td><td style=\"text-align: right;\">0.00859404</td><td style=\"text-align: right;\"> 0.870957</td><td style=\"text-align: right;\"> 0.885044</td><td>2023-03-21_21-05-46</td><td>True  </td><td>                </td><td>dad235558d3f40dc91b788937bbb28f8</td><td>pirl-PowerEdge-T640</td><td style=\"text-align: right;\">                         4</td><td>141.223.108.122</td><td style=\"text-align: right;\">37338</td><td>True               </td><td style=\"text-align: right;\">            1525.02 </td><td style=\"text-align: right;\">           378.447</td><td style=\"text-align: right;\">      1525.02 </td><td style=\"text-align: right;\"> 1679400346</td><td style=\"text-align: right;\">                        0</td><td>                 </td><td style=\"text-align: right;\">                   4</td><td>617be1c4  </td><td style=\"text-align: right;\">    0.0266371</td></tr>\n",
       "<tr><td>train_853d0262</td><td style=\"text-align: right;\">  0.163182</td><td style=\"text-align: right;\">      2</td><td style=\"text-align: right;\">0.00122544</td><td style=\"text-align: right;\"> 0.55833 </td><td style=\"text-align: right;\"> 0.361721</td><td>2023-03-21_18-27-50</td><td>True  </td><td>                </td><td>dad235558d3f40dc91b788937bbb28f8</td><td>pirl-PowerEdge-T640</td><td style=\"text-align: right;\">                         2</td><td>141.223.108.122</td><td style=\"text-align: right;\">37338</td><td>True               </td><td style=\"text-align: right;\">             766.324</td><td style=\"text-align: right;\">           376.508</td><td style=\"text-align: right;\">       766.324</td><td style=\"text-align: right;\"> 1679390870</td><td style=\"text-align: right;\">                        0</td><td>                 </td><td style=\"text-align: right;\">                   2</td><td>853d0262  </td><td style=\"text-align: right;\">    0.0266371</td></tr>\n",
       "<tr><td>train_96537b1f</td><td style=\"text-align: right;\">  0.826872</td><td style=\"text-align: right;\">     15</td><td style=\"text-align: right;\">0.0878387 </td><td style=\"text-align: right;\"> 0.912161</td><td style=\"text-align: right;\"> 0.903168</td><td>2023-03-22_05-07-24</td><td>True  </td><td>                </td><td>3c7874d0b49642229cf064d8db90072d</td><td>pirl-PowerEdge-T640</td><td style=\"text-align: right;\">                        15</td><td>141.223.108.122</td><td style=\"text-align: right;\">37252</td><td>True               </td><td style=\"text-align: right;\">            5629.48 </td><td style=\"text-align: right;\">           374.56 </td><td style=\"text-align: right;\">      5629.48 </td><td style=\"text-align: right;\"> 1679429244</td><td style=\"text-align: right;\">                        0</td><td>                 </td><td style=\"text-align: right;\">                  15</td><td>96537b1f  </td><td style=\"text-align: right;\">    0.0286627</td></tr>\n",
       "<tr><td>train_9fc5d37d</td><td style=\"text-align: right;\">  0.138095</td><td style=\"text-align: right;\">      2</td><td style=\"text-align: right;\">0.0016556 </td><td style=\"text-align: right;\"> 0.535349</td><td style=\"text-align: right;\"> 0.328972</td><td>2023-03-21_17-18-47</td><td>True  </td><td>                </td><td>3c7874d0b49642229cf064d8db90072d</td><td>pirl-PowerEdge-T640</td><td style=\"text-align: right;\">                         2</td><td>141.223.108.122</td><td style=\"text-align: right;\">37252</td><td>True               </td><td style=\"text-align: right;\">             764.152</td><td style=\"text-align: right;\">           375.31 </td><td style=\"text-align: right;\">       764.152</td><td style=\"text-align: right;\"> 1679386727</td><td style=\"text-align: right;\">                        0</td><td>                 </td><td style=\"text-align: right;\">                   2</td><td>9fc5d37d  </td><td style=\"text-align: right;\">    0.0286627</td></tr>\n",
       "<tr><td>train_9feab5a1</td><td style=\"text-align: right;\">  0.621381</td><td style=\"text-align: right;\">      2</td><td style=\"text-align: right;\">0.0949079 </td><td style=\"text-align: right;\"> 0.80678 </td><td style=\"text-align: right;\"> 0.824109</td><td>2023-03-21_20-08-21</td><td>True  </td><td>                </td><td>3c7874d0b49642229cf064d8db90072d</td><td>pirl-PowerEdge-T640</td><td style=\"text-align: right;\">                         2</td><td>141.223.108.122</td><td style=\"text-align: right;\">37252</td><td>True               </td><td style=\"text-align: right;\">             759.971</td><td style=\"text-align: right;\">           374.655</td><td style=\"text-align: right;\">       759.971</td><td style=\"text-align: right;\"> 1679396901</td><td style=\"text-align: right;\">                        0</td><td>                 </td><td style=\"text-align: right;\">                   2</td><td>9feab5a1  </td><td style=\"text-align: right;\">    0.0286627</td></tr>\n",
       "<tr><td>train_ac2a1b52</td><td style=\"text-align: right;\">  0.822806</td><td style=\"text-align: right;\">     15</td><td style=\"text-align: right;\">0.0484352 </td><td style=\"text-align: right;\"> 0.910119</td><td style=\"text-align: right;\"> 0.907563</td><td>2023-03-22_00-46-11</td><td>True  </td><td>                </td><td>dad235558d3f40dc91b788937bbb28f8</td><td>pirl-PowerEdge-T640</td><td style=\"text-align: right;\">                        15</td><td>141.223.108.122</td><td style=\"text-align: right;\">37338</td><td>True               </td><td style=\"text-align: right;\">            5644.59 </td><td style=\"text-align: right;\">           375.886</td><td style=\"text-align: right;\">      5644.59 </td><td style=\"text-align: right;\"> 1679413571</td><td style=\"text-align: right;\">                        0</td><td>                 </td><td style=\"text-align: right;\">                  15</td><td>ac2a1b52  </td><td style=\"text-align: right;\">    0.0266371</td></tr>\n",
       "<tr><td>train_ad2f66fa</td><td style=\"text-align: right;\">  0.751132</td><td style=\"text-align: right;\">      4</td><td style=\"text-align: right;\">0.0623509 </td><td style=\"text-align: right;\"> 0.873665</td><td style=\"text-align: right;\"> 0.883061</td><td>2023-03-21_21-31-04</td><td>True  </td><td>                </td><td>dad235558d3f40dc91b788937bbb28f8</td><td>pirl-PowerEdge-T640</td><td style=\"text-align: right;\">                         4</td><td>141.223.108.122</td><td style=\"text-align: right;\">37338</td><td>True               </td><td style=\"text-align: right;\">            1518.49 </td><td style=\"text-align: right;\">           376.692</td><td style=\"text-align: right;\">      1518.49 </td><td style=\"text-align: right;\"> 1679401864</td><td style=\"text-align: right;\">                        0</td><td>                 </td><td style=\"text-align: right;\">                   4</td><td>ad2f66fa  </td><td style=\"text-align: right;\">    0.0266371</td></tr>\n",
       "<tr><td>train_b9c3ad3f</td><td style=\"text-align: right;\">  0.710562</td><td style=\"text-align: right;\">      4</td><td style=\"text-align: right;\">0.0292723 </td><td style=\"text-align: right;\"> 0.85313 </td><td style=\"text-align: right;\"> 0.807365</td><td>2023-03-21_20-46-20</td><td>True  </td><td>                </td><td>3c7874d0b49642229cf064d8db90072d</td><td>pirl-PowerEdge-T640</td><td style=\"text-align: right;\">                         4</td><td>141.223.108.122</td><td style=\"text-align: right;\">37252</td><td>True               </td><td style=\"text-align: right;\">            1512.25 </td><td style=\"text-align: right;\">           375.544</td><td style=\"text-align: right;\">      1512.25 </td><td style=\"text-align: right;\"> 1679399180</td><td style=\"text-align: right;\">                        0</td><td>                 </td><td style=\"text-align: right;\">                   4</td><td>b9c3ad3f  </td><td style=\"text-align: right;\">    0.0286627</td></tr>\n",
       "<tr><td>train_cae22dbf</td><td style=\"text-align: right;\">  0.792872</td><td style=\"text-align: right;\">     15</td><td style=\"text-align: right;\">0.0190647 </td><td style=\"text-align: right;\"> 0.894839</td><td style=\"text-align: right;\"> 0.881201</td><td>2023-03-21_19-42-58</td><td>True  </td><td>                </td><td>3c7874d0b49642229cf064d8db90072d</td><td>pirl-PowerEdge-T640</td><td style=\"text-align: right;\">                        15</td><td>141.223.108.122</td><td style=\"text-align: right;\">37252</td><td>True               </td><td style=\"text-align: right;\">            5628.35 </td><td style=\"text-align: right;\">           374.467</td><td style=\"text-align: right;\">      5628.35 </td><td style=\"text-align: right;\"> 1679395378</td><td style=\"text-align: right;\">                        0</td><td>                 </td><td style=\"text-align: right;\">                  15</td><td>cae22dbf  </td><td style=\"text-align: right;\">    0.0286627</td></tr>\n",
       "<tr><td>train_cb3dc1a1</td><td style=\"text-align: right;\">  0.632406</td><td style=\"text-align: right;\">      2</td><td style=\"text-align: right;\">0.00449697</td><td style=\"text-align: right;\"> 0.813038</td><td style=\"text-align: right;\"> 0.804315</td><td>2023-03-22_00-25-48</td><td>True  </td><td>                </td><td>3c7874d0b49642229cf064d8db90072d</td><td>pirl-PowerEdge-T640</td><td style=\"text-align: right;\">                         2</td><td>141.223.108.122</td><td style=\"text-align: right;\">37252</td><td>True               </td><td style=\"text-align: right;\">             755.721</td><td style=\"text-align: right;\">           373.537</td><td style=\"text-align: right;\">       755.721</td><td style=\"text-align: right;\"> 1679412348</td><td style=\"text-align: right;\">                        0</td><td>                 </td><td style=\"text-align: right;\">                   2</td><td>cb3dc1a1  </td><td style=\"text-align: right;\">    0.0286627</td></tr>\n",
       "<tr><td>train_cba2a78b</td><td style=\"text-align: right;\">  0.668475</td><td style=\"text-align: right;\">      2</td><td style=\"text-align: right;\">0.0188789 </td><td style=\"text-align: right;\"> 0.831124</td><td style=\"text-align: right;\"> 0.84234 </td><td>2023-03-21_20-58-59</td><td>True  </td><td>                </td><td>3c7874d0b49642229cf064d8db90072d</td><td>pirl-PowerEdge-T640</td><td style=\"text-align: right;\">                         2</td><td>141.223.108.122</td><td style=\"text-align: right;\">37252</td><td>True               </td><td style=\"text-align: right;\">             759.444</td><td style=\"text-align: right;\">           375.423</td><td style=\"text-align: right;\">       759.444</td><td style=\"text-align: right;\"> 1679399939</td><td style=\"text-align: right;\">                        0</td><td>                 </td><td style=\"text-align: right;\">                   2</td><td>cba2a78b  </td><td style=\"text-align: right;\">    0.0286627</td></tr>\n",
       "<tr><td>train_d27bce04</td><td style=\"text-align: right;\">  0.824505</td><td style=\"text-align: right;\">     15</td><td style=\"text-align: right;\">0.0477254 </td><td style=\"text-align: right;\"> 0.910987</td><td style=\"text-align: right;\"> 0.906947</td><td>2023-03-22_03-33-35</td><td>True  </td><td>                </td><td>3c7874d0b49642229cf064d8db90072d</td><td>pirl-PowerEdge-T640</td><td style=\"text-align: right;\">                        15</td><td>141.223.108.122</td><td style=\"text-align: right;\">37252</td><td>True               </td><td style=\"text-align: right;\">            5634.9  </td><td style=\"text-align: right;\">           375.074</td><td style=\"text-align: right;\">      5634.9  </td><td style=\"text-align: right;\"> 1679423615</td><td style=\"text-align: right;\">                        0</td><td>                 </td><td style=\"text-align: right;\">                  15</td><td>d27bce04  </td><td style=\"text-align: right;\">    0.0286627</td></tr>\n",
       "<tr><td>train_d4177694</td><td style=\"text-align: right;\">  0.742846</td><td style=\"text-align: right;\">      4</td><td style=\"text-align: right;\">0.0680096 </td><td style=\"text-align: right;\"> 0.86943 </td><td style=\"text-align: right;\"> 0.872828</td><td>2023-03-21_19-05-50</td><td>True  </td><td>                </td><td>dad235558d3f40dc91b788937bbb28f8</td><td>pirl-PowerEdge-T640</td><td style=\"text-align: right;\">                         4</td><td>141.223.108.122</td><td style=\"text-align: right;\">37338</td><td>True               </td><td style=\"text-align: right;\">            1514.52 </td><td style=\"text-align: right;\">           376.225</td><td style=\"text-align: right;\">      1514.52 </td><td style=\"text-align: right;\"> 1679393150</td><td style=\"text-align: right;\">                        0</td><td>                 </td><td style=\"text-align: right;\">                   4</td><td>d4177694  </td><td style=\"text-align: right;\">    0.0266371</td></tr>\n",
       "<tr><td>train_d41c8b41</td><td style=\"text-align: right;\">  0.596321</td><td style=\"text-align: right;\">      2</td><td style=\"text-align: right;\">0.104972  </td><td style=\"text-align: right;\"> 0.793817</td><td style=\"text-align: right;\"> 0.808172</td><td>2023-03-21_18-40-36</td><td>True  </td><td>                </td><td>dad235558d3f40dc91b788937bbb28f8</td><td>pirl-PowerEdge-T640</td><td style=\"text-align: right;\">                         2</td><td>141.223.108.122</td><td style=\"text-align: right;\">37338</td><td>True               </td><td style=\"text-align: right;\">             765.478</td><td style=\"text-align: right;\">           377.718</td><td style=\"text-align: right;\">       765.478</td><td style=\"text-align: right;\"> 1679391636</td><td style=\"text-align: right;\">                        0</td><td>                 </td><td style=\"text-align: right;\">                   2</td><td>d41c8b41  </td><td style=\"text-align: right;\">    0.0266371</td></tr>\n",
       "<tr><td>train_e8fc8198</td><td style=\"text-align: right;\">  0.175681</td><td style=\"text-align: right;\">      2</td><td style=\"text-align: right;\">0.00123841</td><td style=\"text-align: right;\"> 0.565813</td><td style=\"text-align: right;\"> 0.381672</td><td>2023-03-21_19-55-41</td><td>True  </td><td>                </td><td>3c7874d0b49642229cf064d8db90072d</td><td>pirl-PowerEdge-T640</td><td style=\"text-align: right;\">                         2</td><td>141.223.108.122</td><td style=\"text-align: right;\">37252</td><td>True               </td><td style=\"text-align: right;\">             763.549</td><td style=\"text-align: right;\">           375.276</td><td style=\"text-align: right;\">       763.549</td><td style=\"text-align: right;\"> 1679396141</td><td style=\"text-align: right;\">                        0</td><td>                 </td><td style=\"text-align: right;\">                   2</td><td>e8fc8198  </td><td style=\"text-align: right;\">    0.0286627</td></tr>\n",
       "<tr><td>train_ec537ad3</td><td style=\"text-align: right;\">  0.782492</td><td style=\"text-align: right;\">      8</td><td style=\"text-align: right;\">0.00805477</td><td style=\"text-align: right;\"> 0.889618</td><td style=\"text-align: right;\"> 0.899095</td><td>2023-03-21_18-09-09</td><td>True  </td><td>                </td><td>3c7874d0b49642229cf064d8db90072d</td><td>pirl-PowerEdge-T640</td><td style=\"text-align: right;\">                         8</td><td>141.223.108.122</td><td style=\"text-align: right;\">37252</td><td>True               </td><td style=\"text-align: right;\">            3021.86 </td><td style=\"text-align: right;\">           376.545</td><td style=\"text-align: right;\">      3021.86 </td><td style=\"text-align: right;\"> 1679389749</td><td style=\"text-align: right;\">                        0</td><td>                 </td><td style=\"text-align: right;\">                   8</td><td>ec537ad3  </td><td style=\"text-align: right;\">    0.0286627</td></tr>\n",
       "<tr><td>train_fb648fde</td><td style=\"text-align: right;\">  0.780001</td><td style=\"text-align: right;\">     15</td><td style=\"text-align: right;\">0.0102724 </td><td style=\"text-align: right;\"> 0.888215</td><td style=\"text-align: right;\"> 0.905482</td><td>2023-03-21_18-15-04</td><td>True  </td><td>                </td><td>dad235558d3f40dc91b788937bbb28f8</td><td>pirl-PowerEdge-T640</td><td style=\"text-align: right;\">                        15</td><td>141.223.108.122</td><td style=\"text-align: right;\">37338</td><td>True               </td><td style=\"text-align: right;\">            5665.79 </td><td style=\"text-align: right;\">           376.512</td><td style=\"text-align: right;\">      5665.79 </td><td style=\"text-align: right;\"> 1679390104</td><td style=\"text-align: right;\">                        0</td><td>                 </td><td style=\"text-align: right;\">                  15</td><td>fb648fde  </td><td style=\"text-align: right;\">    0.0266371</td></tr>\n",
       "</tbody>\n",
       "</table>\n",
       "</div>\n",
       "<style>\n",
       ".trialProgress {\n",
       "  display: flex;\n",
       "  flex-direction: column;\n",
       "  color: var(--jp-ui-font-color1);\n",
       "}\n",
       ".trialProgress h3 {\n",
       "  font-weight: bold;\n",
       "}\n",
       ".trialProgress td {\n",
       "  white-space: nowrap;\n",
       "}\n",
       "</style>\n"
      ],
      "text/plain": [
       "<IPython.core.display.HTML object>"
      ]
     },
     "metadata": {},
     "output_type": "display_data"
    },
    {
     "name": "stderr",
     "output_type": "stream",
     "text": [
      "2023-03-21 17:06:03,588\tINFO tensorboardx.py:267 -- Removed the following hyperparameter values when logging to tensorboard: {'Combine Loss': <class 'loss.loss.BorderedLoss'>, 'Input Filter': <function invert at 0x7f6000027250>, 'Input Layer': LaplacianFilter, 'Network': <class 'models.unet.UNet'>, 'Optimizer': <class 'torch.optim.adam.Adam'>, 'Pixel Loss': CrossEntropyLoss(), 'Volume Loss': FocalTverskyLoss}\n",
      "2023-03-21 17:18:47,840\tINFO tensorboardx.py:267 -- Removed the following hyperparameter values when logging to tensorboard: {'Combine Loss': <class 'loss.loss.PixelLoss'>, 'Input Filter': <function invert at 0x7f6000027250>, 'Input Layer': LaplacianFilter, 'Network': <class 'models.unet.UNet'>, 'Optimizer': <class 'torch.optim.adam.Adam'>, 'Pixel Loss': FocalLoss, 'Volume Loss': JaccardLoss}\n",
      "2023-03-21 18:09:09,804\tINFO tensorboardx.py:267 -- Removed the following hyperparameter values when logging to tensorboard: {'Combine Loss': <class 'loss.loss.CombinedLoss'>, 'Input Layer': SobelFilter, 'Network': <class 'models.unet.UNet'>, 'Optimizer': <class 'torch.optim.adam.Adam'>, 'Pixel Loss': FocalLoss, 'Volume Loss': FocalTverskyLoss}\n",
      "2023-03-21 18:15:04,186\tINFO tensorboardx.py:267 -- Removed the following hyperparameter values when logging to tensorboard: {'Combine Loss': <class 'loss.loss.VolumeLoss'>, 'Input Layer': LaplacianFilter, 'Network': <class 'models.unet.UNet'>, 'Optimizer': <class 'torch.optim.adam.Adam'>, 'Pixel Loss': CrossEntropyLoss(), 'Volume Loss': FocalTverskyLoss}\n",
      "2023-03-21 18:27:50,613\tINFO tensorboardx.py:267 -- Removed the following hyperparameter values when logging to tensorboard: {'Combine Loss': <class 'loss.loss.PixelLoss'>, 'Input Layer': LaplacianFilter, 'Network': <class 'models.unet.UNet'>, 'Optimizer': <class 'torch.optim.adam.Adam'>, 'Pixel Loss': FocalLoss, 'Volume Loss': TverskyLoss}\n",
      "2023-03-21 18:40:36,213\tINFO tensorboardx.py:267 -- Removed the following hyperparameter values when logging to tensorboard: {'Combine Loss': <class 'loss.loss.CombinedLoss'>, 'Input Filter': <function invert at 0x7f6000027250>, 'Network': <class 'models.unet.UNet'>, 'Optimizer': <class 'torch.optim.adam.Adam'>, 'Pixel Loss': FocalLoss, 'Volume Loss': TverskyLoss}\n",
      "2023-03-21 19:05:50,844\tINFO tensorboardx.py:267 -- Removed the following hyperparameter values when logging to tensorboard: {'Combine Loss': <class 'loss.loss.CombinedLoss'>, 'Network': <class 'models.unet.UNet'>, 'Optimizer': <class 'torch.optim.adam.Adam'>, 'Pixel Loss': CrossEntropyLoss(), 'Volume Loss': TverskyLoss}\n",
      "2023-03-21 19:42:58,250\tINFO tensorboardx.py:267 -- Removed the following hyperparameter values when logging to tensorboard: {'Combine Loss': <class 'loss.loss.VolumeLoss'>, 'Input Filter': <function invert at 0x7f6000027250>, 'Network': <class 'models.unet.UNet'>, 'Optimizer': <class 'torch.optim.adam.Adam'>, 'Pixel Loss': FocalLoss, 'Volume Loss': FocalTverskyLoss}\n",
      "2023-03-21 19:55:41,896\tINFO tensorboardx.py:267 -- Removed the following hyperparameter values when logging to tensorboard: {'Combine Loss': <class 'loss.loss.PixelLoss'>, 'Input Layer': LaplacianFilter, 'Network': <class 'models.unet.UNet'>, 'Optimizer': <class 'torch.optim.adam.Adam'>, 'Pixel Loss': FocalLoss, 'Volume Loss': JaccardLoss}\n",
      "2023-03-21 20:08:21,969\tINFO tensorboardx.py:267 -- Removed the following hyperparameter values when logging to tensorboard: {'Combine Loss': <class 'loss.loss.CombinedLoss'>, 'Input Filter': <function invert at 0x7f6000027250>, 'Network': <class 'models.unet.UNet'>, 'Optimizer': <class 'torch.optim.adam.Adam'>, 'Pixel Loss': CrossEntropyLoss(), 'Volume Loss': TverskyLoss}\n",
      "2023-03-21 20:21:07,971\tINFO tensorboardx.py:267 -- Removed the following hyperparameter values when logging to tensorboard: {'Combine Loss': <class 'loss.loss.CombinedLoss'>, 'Input Filter': <function invert at 0x7f6000027250>, 'Input Layer': LaplacianFilter, 'Network': <class 'models.unet.UNet'>, 'Optimizer': <class 'torch.optim.adam.Adam'>, 'Pixel Loss': FocalLoss, 'Volume Loss': JaccardLoss}\n",
      "2023-03-21 20:40:20,915\tINFO tensorboardx.py:267 -- Removed the following hyperparameter values when logging to tensorboard: {'Combine Loss': <class 'loss.loss.CombinedLoss'>, 'Input Layer': LaplacianFilter, 'Network': <class 'models.unet.UNet'>, 'Optimizer': <class 'torch.optim.adam.Adam'>, 'Pixel Loss': FocalLoss, 'Volume Loss': JaccardLoss}\n",
      "2023-03-21 20:46:20,319\tINFO tensorboardx.py:267 -- Removed the following hyperparameter values when logging to tensorboard: {'Combine Loss': <class 'loss.loss.CombinedLoss'>, 'Input Filter': <function invert at 0x7f6000027250>, 'Network': <class 'models.unet.UNet'>, 'Optimizer': <class 'torch.optim.adam.Adam'>, 'Pixel Loss': FocalLoss, 'Volume Loss': FocalTverskyLoss}\n",
      "2023-03-21 20:58:59,867\tINFO tensorboardx.py:267 -- Removed the following hyperparameter values when logging to tensorboard: {'Combine Loss': <class 'loss.loss.CombinedLoss'>, 'Input Filter': <function invert at 0x7f6000027250>, 'Network': <class 'models.unet.UNet'>, 'Optimizer': <class 'torch.optim.adam.Adam'>, 'Pixel Loss': FocalLoss, 'Volume Loss': FocalTverskyLoss}\n",
      "2023-03-21 21:05:46,043\tINFO tensorboardx.py:267 -- Removed the following hyperparameter values when logging to tensorboard: {'Combine Loss': <class 'loss.loss.BorderedLoss'>, 'Input Filter': <function invert at 0x7f6000027250>, 'Input Layer': SobelFilter, 'Network': <class 'models.unet.UNet'>, 'Optimizer': <class 'torch.optim.adam.Adam'>, 'Pixel Loss': CrossEntropyLoss(), 'Volume Loss': FocalTverskyLoss}\n",
      "2023-03-21 21:31:04,661\tINFO tensorboardx.py:267 -- Removed the following hyperparameter values when logging to tensorboard: {'Combine Loss': <class 'loss.loss.CombinedLoss'>, 'Input Layer': SobelFilter, 'Network': <class 'models.unet.UNet'>, 'Optimizer': <class 'torch.optim.adam.Adam'>, 'Pixel Loss': CrossEntropyLoss(), 'Volume Loss': TverskyLoss}\n",
      "2023-03-21 21:49:05,363\tINFO tensorboardx.py:267 -- Removed the following hyperparameter values when logging to tensorboard: {'Combine Loss': <class 'loss.loss.CombinedLoss'>, 'Network': <class 'models.unet.UNet'>, 'Optimizer': <class 'torch.optim.adam.Adam'>, 'Pixel Loss': CrossEntropyLoss(), 'Volume Loss': FocalTverskyLoss}\n",
      "2023-03-21 22:21:45,382\tINFO tensorboardx.py:267 -- Removed the following hyperparameter values when logging to tensorboard: {'Combine Loss': <class 'loss.loss.BorderedLoss'>, 'Input Filter': <function invert at 0x7f6000027250>, 'Input Layer': SobelFilter, 'Network': <class 'models.unet.UNet'>, 'Optimizer': <class 'torch.optim.adam.Adam'>, 'Pixel Loss': FocalLoss, 'Volume Loss': TverskyLoss}\n",
      "2023-03-21 22:39:20,719\tINFO tensorboardx.py:267 -- Removed the following hyperparameter values when logging to tensorboard: {'Combine Loss': <class 'loss.loss.CombinedLoss'>, 'Input Layer': LaplacianFilter, 'Network': <class 'models.unet.UNet'>, 'Optimizer': <class 'torch.optim.adam.Adam'>, 'Pixel Loss': CrossEntropyLoss(), 'Volume Loss': FocalTverskyLoss}\n",
      "2023-03-21 23:12:06,372\tINFO tensorboardx.py:267 -- Removed the following hyperparameter values when logging to tensorboard: {'Combine Loss': <class 'loss.loss.CombinedLoss'>, 'Input Filter': <function invert at 0x7f6000027250>, 'Network': <class 'models.unet.UNet'>, 'Optimizer': <class 'torch.optim.adam.Adam'>, 'Pixel Loss': CrossEntropyLoss(), 'Volume Loss': TverskyLoss}\n",
      "2023-03-22 00:13:12,881\tINFO tensorboardx.py:267 -- Removed the following hyperparameter values when logging to tensorboard: {'Combine Loss': <class 'loss.loss.VolumeLoss'>, 'Input Layer': LaplacianFilter, 'Network': <class 'models.unet.UNet'>, 'Optimizer': <class 'torch.optim.adam.Adam'>, 'Pixel Loss': CrossEntropyLoss(), 'Volume Loss': JaccardLoss}\n",
      "2023-03-22 00:25:48,707\tINFO tensorboardx.py:267 -- Removed the following hyperparameter values when logging to tensorboard: {'Combine Loss': <class 'loss.loss.PixelLoss'>, 'Network': <class 'models.unet.UNet'>, 'Optimizer': <class 'torch.optim.adam.Adam'>, 'Pixel Loss': CrossEntropyLoss(), 'Volume Loss': JaccardLoss}\n",
      "2023-03-22 00:46:11,068\tINFO tensorboardx.py:267 -- Removed the following hyperparameter values when logging to tensorboard: {'Combine Loss': <class 'loss.loss.CombinedLoss'>, 'Network': <class 'models.unet.UNet'>, 'Optimizer': <class 'torch.optim.adam.Adam'>, 'Pixel Loss': CrossEntropyLoss(), 'Volume Loss': JaccardLoss}\n"
     ]
    },
    {
     "name": "stderr",
     "output_type": "stream",
     "text": [
      "2023-03-22 01:59:40,186\tINFO tensorboardx.py:267 -- Removed the following hyperparameter values when logging to tensorboard: {'Combine Loss': <class 'loss.loss.VolumeLoss'>, 'Input Layer': LaplacianFilter, 'Network': <class 'models.unet.UNet'>, 'Optimizer': <class 'torch.optim.adam.Adam'>, 'Pixel Loss': FocalLoss, 'Volume Loss': JaccardLoss}\n",
      "2023-03-22 02:20:27,269\tINFO tensorboardx.py:267 -- Removed the following hyperparameter values when logging to tensorboard: {'Combine Loss': <class 'loss.loss.VolumeLoss'>, 'Input Layer': LaplacianFilter, 'Network': <class 'models.unet.UNet'>, 'Optimizer': <class 'torch.optim.adam.Adam'>, 'Pixel Loss': FocalLoss, 'Volume Loss': JaccardLoss}\n",
      "2023-03-22 03:33:35,195\tINFO tensorboardx.py:267 -- Removed the following hyperparameter values when logging to tensorboard: {'Combine Loss': <class 'loss.loss.CombinedLoss'>, 'Input Layer': SobelFilter, 'Network': <class 'models.unet.UNet'>, 'Optimizer': <class 'torch.optim.adam.Adam'>, 'Pixel Loss': CrossEntropyLoss(), 'Volume Loss': JaccardLoss}\n",
      "2023-03-22 03:54:47,050\tINFO tensorboardx.py:267 -- Removed the following hyperparameter values when logging to tensorboard: {'Combine Loss': <class 'loss.loss.VolumeLoss'>, 'Input Layer': LaplacianFilter, 'Network': <class 'models.unet.UNet'>, 'Optimizer': <class 'torch.optim.adam.Adam'>, 'Pixel Loss': FocalLoss, 'Volume Loss': JaccardLoss}\n",
      "2023-03-22 05:07:24,789\tINFO tensorboardx.py:267 -- Removed the following hyperparameter values when logging to tensorboard: {'Combine Loss': <class 'loss.loss.VolumeLoss'>, 'Input Layer': LaplacianFilter, 'Network': <class 'models.unet.UNet'>, 'Optimizer': <class 'torch.optim.adam.Adam'>, 'Pixel Loss': FocalLoss, 'Volume Loss': JaccardLoss}\n",
      "2023-03-22 05:29:38,549\tINFO tensorboardx.py:267 -- Removed the following hyperparameter values when logging to tensorboard: {'Combine Loss': <class 'loss.loss.BorderedLoss'>, 'Input Layer': LaplacianFilter, 'Network': <class 'models.unet.UNet'>, 'Optimizer': <class 'torch.optim.adam.Adam'>, 'Pixel Loss': FocalLoss, 'Volume Loss': JaccardLoss}\n",
      "2023-03-22 06:41:27,097\tINFO tensorboardx.py:267 -- Removed the following hyperparameter values when logging to tensorboard: {'Combine Loss': <class 'loss.loss.VolumeLoss'>, 'Input Layer': LaplacianFilter, 'Network': <class 'models.unet.UNet'>, 'Optimizer': <class 'torch.optim.adam.Adam'>, 'Pixel Loss': FocalLoss, 'Volume Loss': JaccardLoss}\n",
      "2023-03-22 06:41:27,155\tINFO tune.py:798 -- Total run time: 50454.99 seconds (50454.88 seconds for the tuning loop).\n"
     ]
    }
   ],
   "source": [
    "results = tuner.fit()"
   ]
  },
  {
   "cell_type": "markdown",
   "id": "f08aabe4",
   "metadata": {},
   "source": [
    "# Evaluating the best Results"
   ]
  },
  {
   "cell_type": "code",
   "execution_count": 54,
   "id": "ab7dd0ce",
   "metadata": {
    "ExecuteTime": {
     "end_time": "2023-03-22T05:40:48.854022Z",
     "start_time": "2023-03-22T05:40:48.847974Z"
    }
   },
   "outputs": [
    {
     "name": "stdout",
     "output_type": "stream",
     "text": [
      "Result(metrics={'Epoch': 15, 'Loss': 0.04582178592681885, 'CrackIoU': 0.8308873176574707, 'MeanIoU': 0.9142576456069946, 'Tversky': 0.9118564128875732, 'should_checkpoint': True, 'done': True, 'trial_id': '516dd362', 'experiment_tag': '9_Batch_Size=4,Combine_Loss=class_loss_loss_CombinedLoss,Input_Filter=None,Input_Layer=LaplacianFilter,Learning_Rate=0.0001,Negative_Mining=False,Network=class_models_unet_UNet,Optimizer=class_torch_optim_adam_Adam,Pixel_Loss=FocalLoss,Smooth_Labeling=False,Volume_Loss=JaccardLoss'}, error=None, log_dir=PosixPath('/home/pirl/POC-Project/ray_results/train_2023-03-21_16-39-49/train_516dd362_9_Batch_Size=4,Combine_Loss=class_loss_loss_CombinedLoss,Input_Filter=None,Input_Layer=LaplacianFilter,Learning_Rat_2023-03-21_19-05-50'))\n"
     ]
    }
   ],
   "source": [
    "print(best_result)"
   ]
  },
  {
   "cell_type": "code",
   "execution_count": 53,
   "id": "3238818f",
   "metadata": {
    "ExecuteTime": {
     "end_time": "2023-03-22T02:22:28.407968Z",
     "start_time": "2023-03-22T02:12:57.881050Z"
    }
   },
   "outputs": [
    {
     "name": "stdout",
     "output_type": "stream",
     "text": [
      "Best trial config: {'Network': <class 'models.unet.UNet'>, 'Optimizer': <class 'torch.optim.adam.Adam'>, 'Learning Rate': 0.0001, 'Batch Size': 4, 'Pixel Loss': FocalLoss, 'Volume Loss': JaccardLoss, 'Combine Loss': <class 'loss.loss.CombinedLoss'>, 'Negative Mining': False, 'Smooth Labeling': False, 'Input Filter': None, 'Input Layer': LaplacianFilter}\n",
      "Best trial final validation loss: 0.04582178592681885\n",
      "Best trial final validation CrackIoU: 0.8308873176574707\n"
     ]
    },
    {
     "data": {
      "application/vnd.jupyter.widget-view+json": {
       "model_id": "2b343aae22ee4b06b8915064934d7b48",
       "version_major": 2,
       "version_minor": 0
      },
      "text/plain": [
       "[Evaluating]:   0%|          | 0/550 [00:00<?, ?it/s]"
      ]
     },
     "metadata": {},
     "output_type": "display_data"
    },
    {
     "data": {
      "application/vnd.jupyter.widget-view+json": {
       "model_id": "dc108c75f69e42d499741c913d840967",
       "version_major": 2,
       "version_minor": 0
      },
      "text/plain": [
       "[Evaluating]:   0%|          | 0/550 [00:00<?, ?it/s]"
      ]
     },
     "metadata": {},
     "output_type": "display_data"
    },
    {
     "data": {
      "application/vnd.jupyter.widget-view+json": {
       "model_id": "10f1a7ed35284475a10866014e29a0a4",
       "version_major": 2,
       "version_minor": 0
      },
      "text/plain": [
       "[Evaluating]:   0%|          | 0/550 [00:00<?, ?it/s]"
      ]
     },
     "metadata": {},
     "output_type": "display_data"
    },
    {
     "data": {
      "application/vnd.jupyter.widget-view+json": {
       "model_id": "18a148b050d04898ae8d5d0e419356f5",
       "version_major": 2,
       "version_minor": 0
      },
      "text/plain": [
       "[Evaluating]:   0%|          | 0/550 [00:00<?, ?it/s]"
      ]
     },
     "metadata": {},
     "output_type": "display_data"
    },
    {
     "data": {
      "application/vnd.jupyter.widget-view+json": {
       "model_id": "c4b1b79485274e14aa389bb8a60e7ebb",
       "version_major": 2,
       "version_minor": 0
      },
      "text/plain": [
       "[Evaluating]:   0%|          | 0/550 [00:00<?, ?it/s]"
      ]
     },
     "metadata": {},
     "output_type": "display_data"
    },
    {
     "data": {
      "application/vnd.jupyter.widget-view+json": {
       "model_id": "79448f951a2c481dbd269d83f41a960c",
       "version_major": 2,
       "version_minor": 0
      },
      "text/plain": [
       "[Evaluating]:   0%|          | 0/550 [00:00<?, ?it/s]"
      ]
     },
     "metadata": {},
     "output_type": "display_data"
    },
    {
     "data": {
      "application/vnd.jupyter.widget-view+json": {
       "model_id": "7ca2c781add641ce969cbc3bc88af3d1",
       "version_major": 2,
       "version_minor": 0
      },
      "text/plain": [
       "[Evaluating]:   0%|          | 0/550 [00:00<?, ?it/s]"
      ]
     },
     "metadata": {},
     "output_type": "display_data"
    },
    {
     "data": {
      "application/vnd.jupyter.widget-view+json": {
       "model_id": "12283afa2e7b4eb89812584890c01b01",
       "version_major": 2,
       "version_minor": 0
      },
      "text/plain": [
       "[Evaluating]:   0%|          | 0/550 [00:00<?, ?it/s]"
      ]
     },
     "metadata": {},
     "output_type": "display_data"
    },
    {
     "data": {
      "application/vnd.jupyter.widget-view+json": {
       "model_id": "51ba574cf7c1433d88be1d688f3f4df3",
       "version_major": 2,
       "version_minor": 0
      },
      "text/plain": [
       "[Evaluating]:   0%|          | 0/550 [00:00<?, ?it/s]"
      ]
     },
     "metadata": {},
     "output_type": "display_data"
    },
    {
     "data": {
      "application/vnd.jupyter.widget-view+json": {
       "model_id": "7f88c7e2b8dc4b6f92e49b4245caaae1",
       "version_major": 2,
       "version_minor": 0
      },
      "text/plain": [
       "[Evaluating]:   0%|          | 0/550 [00:00<?, ?it/s]"
      ]
     },
     "metadata": {},
     "output_type": "display_data"
    },
    {
     "data": {
      "application/vnd.jupyter.widget-view+json": {
       "model_id": "57bec5dac620465897fc3783bb711e82",
       "version_major": 2,
       "version_minor": 0
      },
      "text/plain": [
       "[Evaluating]:   0%|          | 0/550 [00:00<?, ?it/s]"
      ]
     },
     "metadata": {},
     "output_type": "display_data"
    },
    {
     "data": {
      "application/vnd.jupyter.widget-view+json": {
       "model_id": "dfe0e61eb2a741d68b79176cbb0e72db",
       "version_major": 2,
       "version_minor": 0
      },
      "text/plain": [
       "[Evaluating]:   0%|          | 0/550 [00:00<?, ?it/s]"
      ]
     },
     "metadata": {},
     "output_type": "display_data"
    },
    {
     "data": {
      "application/vnd.jupyter.widget-view+json": {
       "model_id": "02d29d12f7de496da8c88f84510aa564",
       "version_major": 2,
       "version_minor": 0
      },
      "text/plain": [
       "[Evaluating]:   0%|          | 0/550 [00:00<?, ?it/s]"
      ]
     },
     "metadata": {},
     "output_type": "display_data"
    },
    {
     "data": {
      "application/vnd.jupyter.widget-view+json": {
       "model_id": "b9fb83ead2e242769ad03bbb3cf9774a",
       "version_major": 2,
       "version_minor": 0
      },
      "text/plain": [
       "[Evaluating]:   0%|          | 0/550 [00:00<?, ?it/s]"
      ]
     },
     "metadata": {},
     "output_type": "display_data"
    },
    {
     "data": {
      "application/vnd.jupyter.widget-view+json": {
       "model_id": "814742cc985842cba1244ef195d24890",
       "version_major": 2,
       "version_minor": 0
      },
      "text/plain": [
       "[Evaluating]:   0%|          | 0/550 [00:00<?, ?it/s]"
      ]
     },
     "metadata": {},
     "output_type": "display_data"
    },
    {
     "data": {
      "application/vnd.jupyter.widget-view+json": {
       "model_id": "e1249b0c208442ccaf337828da07a750",
       "version_major": 2,
       "version_minor": 0
      },
      "text/plain": [
       "[Evaluating]:   0%|          | 0/550 [00:00<?, ?it/s]"
      ]
     },
     "metadata": {},
     "output_type": "display_data"
    },
    {
     "data": {
      "application/vnd.jupyter.widget-view+json": {
       "model_id": "aa2feb692dcc43d7b5c8bd85f3065777",
       "version_major": 2,
       "version_minor": 0
      },
      "text/plain": [
       "[Evaluating]:   0%|          | 0/550 [00:00<?, ?it/s]"
      ]
     },
     "metadata": {},
     "output_type": "display_data"
    },
    {
     "data": {
      "application/vnd.jupyter.widget-view+json": {
       "model_id": "17a4c1d81fa6492d96e6f663c83adb14",
       "version_major": 2,
       "version_minor": 0
      },
      "text/plain": [
       "[Evaluating]:   0%|          | 0/550 [00:00<?, ?it/s]"
      ]
     },
     "metadata": {},
     "output_type": "display_data"
    },
    {
     "data": {
      "application/vnd.jupyter.widget-view+json": {
       "model_id": "a15bbf5a77c94912ae95e60ccb05b918",
       "version_major": 2,
       "version_minor": 0
      },
      "text/plain": [
       "[Evaluating]:   0%|          | 0/550 [00:00<?, ?it/s]"
      ]
     },
     "metadata": {},
     "output_type": "display_data"
    },
    {
     "data": {
      "application/vnd.jupyter.widget-view+json": {
       "model_id": "b01c0a32998344f393bf3bc87a4be58a",
       "version_major": 2,
       "version_minor": 0
      },
      "text/plain": [
       "[Evaluating]:   0%|          | 0/550 [00:00<?, ?it/s]"
      ]
     },
     "metadata": {},
     "output_type": "display_data"
    },
    {
     "data": {
      "application/vnd.jupyter.widget-view+json": {
       "model_id": "be09b6f9107f4ea5a848718abd8b9293",
       "version_major": 2,
       "version_minor": 0
      },
      "text/plain": [
       "[Evaluating]:   0%|          | 0/550 [00:00<?, ?it/s]"
      ]
     },
     "metadata": {},
     "output_type": "display_data"
    },
    {
     "data": {
      "application/vnd.jupyter.widget-view+json": {
       "model_id": "23933a8bfed94b609dcf941439426859",
       "version_major": 2,
       "version_minor": 0
      },
      "text/plain": [
       "[Evaluating]:   0%|          | 0/550 [00:00<?, ?it/s]"
      ]
     },
     "metadata": {},
     "output_type": "display_data"
    },
    {
     "data": {
      "application/vnd.jupyter.widget-view+json": {
       "model_id": "24c65e8102f643ad938402a041b4748d",
       "version_major": 2,
       "version_minor": 0
      },
      "text/plain": [
       "[Evaluating]:   0%|          | 0/550 [00:00<?, ?it/s]"
      ]
     },
     "metadata": {},
     "output_type": "display_data"
    },
    {
     "data": {
      "application/vnd.jupyter.widget-view+json": {
       "model_id": "e0646c8c164545af903e6f459a942389",
       "version_major": 2,
       "version_minor": 0
      },
      "text/plain": [
       "[Evaluating]:   0%|          | 0/550 [00:00<?, ?it/s]"
      ]
     },
     "metadata": {},
     "output_type": "display_data"
    },
    {
     "data": {
      "application/vnd.jupyter.widget-view+json": {
       "model_id": "97e1f07040f44abfb3c60af8ae7c42d9",
       "version_major": 2,
       "version_minor": 0
      },
      "text/plain": [
       "[Evaluating]:   0%|          | 0/550 [00:00<?, ?it/s]"
      ]
     },
     "metadata": {},
     "output_type": "display_data"
    },
    {
     "data": {
      "application/vnd.jupyter.widget-view+json": {
       "model_id": "1895fddb7c1548fbab937e186ba38c17",
       "version_major": 2,
       "version_minor": 0
      },
      "text/plain": [
       "[Evaluating]:   0%|          | 0/550 [00:00<?, ?it/s]"
      ]
     },
     "metadata": {},
     "output_type": "display_data"
    },
    {
     "data": {
      "application/vnd.jupyter.widget-view+json": {
       "model_id": "6274b62b7ddf4b028ed4e0dabe2c0a7d",
       "version_major": 2,
       "version_minor": 0
      },
      "text/plain": [
       "[Evaluating]:   0%|          | 0/550 [00:00<?, ?it/s]"
      ]
     },
     "metadata": {},
     "output_type": "display_data"
    },
    {
     "data": {
      "application/vnd.jupyter.widget-view+json": {
       "model_id": "7cf3eea7a6194027b8b08c0a77041881",
       "version_major": 2,
       "version_minor": 0
      },
      "text/plain": [
       "[Evaluating]:   0%|          | 0/550 [00:00<?, ?it/s]"
      ]
     },
     "metadata": {},
     "output_type": "display_data"
    },
    {
     "data": {
      "application/vnd.jupyter.widget-view+json": {
       "model_id": "7eb06d8f774b47b98548af9d330335b2",
       "version_major": 2,
       "version_minor": 0
      },
      "text/plain": [
       "[Evaluating]:   0%|          | 0/550 [00:00<?, ?it/s]"
      ]
     },
     "metadata": {},
     "output_type": "display_data"
    },
    {
     "data": {
      "application/vnd.jupyter.widget-view+json": {
       "model_id": "be48433fbf894204a29ef696c4f9d56f",
       "version_major": 2,
       "version_minor": 0
      },
      "text/plain": [
       "[Evaluating]:   0%|          | 0/550 [00:00<?, ?it/s]"
      ]
     },
     "metadata": {},
     "output_type": "display_data"
    }
   ],
   "source": [
    "best_result = results.get_best_result(metric=\"CrackIoU\", mode=\"max\", scope=\"all\")  # Get best result object\n",
    "print(\"Best trial config: {}\".format(best_result.config))\n",
    "print(\"Best trial final validation loss: {}\".format(best_result.metrics[\"Loss\"]))\n",
    "print(\"Best trial final validation CrackIoU: {}\".format(best_result.metrics[\"CrackIoU\"]))\n",
    "\n",
    "for result in results:\n",
    "    evaluate(test_data=test_data, result=result)"
   ]
  },
  {
   "cell_type": "code",
   "execution_count": null,
   "id": "68f9ba97",
   "metadata": {
    "ExecuteTime": {
     "end_time": "2023-03-10T05:40:18.913144Z",
     "start_time": "2023-03-10T05:40:18.890272Z"
    },
    "deletable": false,
    "editable": false,
    "run_control": {
     "frozen": true
    }
   },
   "outputs": [],
   "source": [
    "best_result = results.get_best_result(metric=\"CrackIoU\", mode=\"max\", scope=\"all\")  # Get best result object\n",
    "print(\"Best trial config: {}\".format(best_result.config))\n",
    "print(\"Best trial final validation loss: {}\".format(best_result.metrics[\"Loss\"]))\n",
    "print(\"Best trial final validation CrackIoU: {}\".format(best_result.metrics[\"CrackIoU\"]))\n",
    "\n",
    "# evaluate(test_data=test_data, result=best_result)\n",
    "\n",
    "results_df = results.get_dataframe(filter_metric=\"CrackIoU\", filter_mode=\"max\")  # Get all trials by CrackIoU\n",
    "results_df.sort_values(\"CrackIoU\", ascending=False, inplace=True)\n",
    "\n",
    "evaluate_df(test_data=test_data, results_df=results_df)"
   ]
  },
  {
   "cell_type": "code",
   "execution_count": null,
   "id": "3166d7e9",
   "metadata": {},
   "outputs": [],
   "source": []
  },
  {
   "cell_type": "code",
   "execution_count": null,
   "id": "d599c84a",
   "metadata": {},
   "outputs": [],
   "source": []
  }
 ],
 "metadata": {
  "celltoolbar": "Initialization Cell",
  "kernelspec": {
   "display_name": "POC-env",
   "language": "python",
   "name": "poc-env"
  },
  "language_info": {
   "codemirror_mode": {
    "name": "ipython",
    "version": 3
   },
   "file_extension": ".py",
   "mimetype": "text/x-python",
   "name": "python",
   "nbconvert_exporter": "python",
   "pygments_lexer": "ipython3",
   "version": "3.10.9"
  },
  "latex_envs": {
   "LaTeX_envs_menu_present": true,
   "autoclose": false,
   "autocomplete": true,
   "bibliofile": "biblio.bib",
   "cite_by": "apalike",
   "current_citInitial": 1,
   "eqLabelWithNumbers": true,
   "eqNumInitial": 1,
   "hotkeys": {
    "equation": "Ctrl-E",
    "itemize": "Ctrl-I"
   },
   "labels_anchors": false,
   "latex_user_defs": false,
   "report_style_numbering": false,
   "user_envs_cfg": false
  },
  "toc": {
   "base_numbering": 1,
   "nav_menu": {},
   "number_sections": true,
   "sideBar": true,
   "skip_h1_title": false,
   "title_cell": "Table of Contents",
   "title_sidebar": "Contents",
   "toc_cell": true,
   "toc_position": {},
   "toc_section_display": true,
   "toc_window_display": false
  },
  "varInspector": {
   "cols": {
    "lenName": 16,
    "lenType": 16,
    "lenVar": 40
   },
   "kernels_config": {
    "python": {
     "delete_cmd_postfix": "",
     "delete_cmd_prefix": "del ",
     "library": "var_list.py",
     "varRefreshCmd": "print(var_dic_list())"
    },
    "r": {
     "delete_cmd_postfix": ") ",
     "delete_cmd_prefix": "rm(",
     "library": "var_list.r",
     "varRefreshCmd": "cat(var_dic_list()) "
    }
   },
   "oldHeight": 122.844,
   "position": {
    "height": "40px",
    "left": "1576px",
    "right": "20px",
    "top": "120px",
    "width": "250px"
   },
   "types_to_exclude": [
    "module",
    "function",
    "builtin_function_or_method",
    "instance",
    "_Feature"
   ],
   "varInspector_section_display": "none",
   "window_display": true
  }
 },
 "nbformat": 4,
 "nbformat_minor": 5
}
