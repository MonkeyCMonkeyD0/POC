{
 "cells": [
  {
   "cell_type": "markdown",
   "id": "25a1ac32",
   "metadata": {
    "toc": true
   },
   "source": [
    "<h1>Table of Contents<span class=\"tocSkip\"></span></h1>\n",
    "<div class=\"toc\"><ul class=\"toc-item\"><li><span><a href=\"#Setting-up-imports\" data-toc-modified-id=\"Setting-up-imports-1\"><span class=\"toc-item-num\">1&nbsp;&nbsp;</span>Setting up imports</a></span></li><li><span><a href=\"#Setting-up-Constant-Hyperparameters\" data-toc-modified-id=\"Setting-up-Constant-Hyperparameters-2\"><span class=\"toc-item-num\">2&nbsp;&nbsp;</span>Setting up Constant Hyperparameters</a></span></li><li><span><a href=\"#Setting-up-Parameters-and-Functions-for-Training\" data-toc-modified-id=\"Setting-up-Parameters-and-Functions-for-Training-3\"><span class=\"toc-item-num\">3&nbsp;&nbsp;</span>Setting up Parameters and Functions for Training</a></span><ul class=\"toc-item\"><li><span><a href=\"#Hyperparameters-Search-Space\" data-toc-modified-id=\"Hyperparameters-Search-Space-3.1\"><span class=\"toc-item-num\">3.1&nbsp;&nbsp;</span>Hyperparameters Search Space</a></span></li><li><span><a href=\"#Creating-the-training-function\" data-toc-modified-id=\"Creating-the-training-function-3.2\"><span class=\"toc-item-num\">3.2&nbsp;&nbsp;</span>Creating the training function</a></span></li><li><span><a href=\"#Creating-the-evaluation-function\" data-toc-modified-id=\"Creating-the-evaluation-function-3.3\"><span class=\"toc-item-num\">3.3&nbsp;&nbsp;</span>Creating the evaluation function</a></span></li></ul></li><li><span><a href=\"#Running-the-training\" data-toc-modified-id=\"Running-the-training-4\"><span class=\"toc-item-num\">4&nbsp;&nbsp;</span>Running the training</a></span><ul class=\"toc-item\"><li><span><a href=\"#Loading-data-for-training\" data-toc-modified-id=\"Loading-data-for-training-4.1\"><span class=\"toc-item-num\">4.1&nbsp;&nbsp;</span>Loading data for training</a></span></li><li><span><a href=\"#Configuring-the-Tuner-with-a-Scheduler-and-a-Search-Algorithm\" data-toc-modified-id=\"Configuring-the-Tuner-with-a-Scheduler-and-a-Search-Algorithm-4.2\"><span class=\"toc-item-num\">4.2&nbsp;&nbsp;</span>Configuring the Tuner with a Scheduler and a Search Algorithm</a></span></li><li><span><a href=\"#Running-the-Tuner\" data-toc-modified-id=\"Running-the-Tuner-4.3\"><span class=\"toc-item-num\">4.3&nbsp;&nbsp;</span>Running the Tuner</a></span></li></ul></li><li><span><a href=\"#Evaluating-the-best-Results\" data-toc-modified-id=\"Evaluating-the-best-Results-5\"><span class=\"toc-item-num\">5&nbsp;&nbsp;</span>Evaluating the best Results</a></span></li></ul></div>"
   ]
  },
  {
   "cell_type": "markdown",
   "id": "035da606",
   "metadata": {},
   "source": [
    "# Setting up imports"
   ]
  },
  {
   "cell_type": "code",
   "execution_count": 1,
   "id": "af16e0d4",
   "metadata": {
    "ExecuteTime": {
     "end_time": "2023-03-20T01:41:49.132096Z",
     "start_time": "2023-03-20T01:41:46.506187Z"
    },
    "cell_style": "center",
    "init_cell": true,
    "slideshow": {
     "slide_type": "-"
    }
   },
   "outputs": [],
   "source": [
    "import os\n",
    "\n",
    "import torch\n",
    "from torch.nn import CrossEntropyLoss\n",
    "from torch.nn.functional import normalize\n",
    "from torch.optim import Adam\n",
    "from torch.optim.lr_scheduler import CosineAnnealingLR\n",
    "from torch.utils.data import DataLoader\n",
    "from torchvision.transforms import GaussianBlur\n",
    "from torchvision.transforms.functional import invert\n",
    "\n",
    "import ray\n",
    "from ray import tune\n",
    "from ray.air import session\n",
    "from ray.air.checkpoint import Checkpoint\n",
    "from ray.tune.schedulers import ASHAScheduler\n",
    "from ray.tune.search.hyperopt import HyperOptSearch\n",
    "\n",
    "\n",
    "from Dataset import POCDataReader, data_augment_, POCDataset\n",
    "from metrics import Metrics, EvaluationMetrics\n",
    "from models import UNet\n",
    "from loss import *\n",
    "from pipelines import *\n",
    "from train import training_loop, validation_loop\n",
    "from train_tqdm import evaluation_loop\n"
   ]
  },
  {
   "cell_type": "markdown",
   "id": "3d9951dd",
   "metadata": {},
   "source": [
    "# Setting up Constant Hyperparameters"
   ]
  },
  {
   "cell_type": "code",
   "execution_count": 2,
   "id": "beb97ae7",
   "metadata": {
    "ExecuteTime": {
     "end_time": "2023-03-20T01:41:49.137029Z",
     "start_time": "2023-03-20T01:41:49.134205Z"
    },
    "init_cell": true
   },
   "outputs": [],
   "source": [
    "EPOCHS = 15\n",
    "NUM_SAMPLES = 30\n",
    "NUM_MODEL_TEST = 10\n",
    "\n",
    "NUM_AUGMENT = 1\n",
    "\n",
    "LOAD_DATA_ON_GPU = True\n",
    "GPUS_PER_TRIAL = 1\n",
    "CPUS_PER_TRIAL = 20"
   ]
  },
  {
   "cell_type": "markdown",
   "id": "8d48f809",
   "metadata": {},
   "source": [
    "##### Selecting Cuda device"
   ]
  },
  {
   "cell_type": "code",
   "execution_count": 3,
   "id": "dd6be70b",
   "metadata": {
    "ExecuteTime": {
     "end_time": "2023-03-20T01:41:49.232072Z",
     "start_time": "2023-03-20T01:41:49.138544Z"
    },
    "init_cell": true
   },
   "outputs": [
    {
     "name": "stdout",
     "output_type": "stream",
     "text": [
      "Using cuda device\n"
     ]
    }
   ],
   "source": [
    "device = \"cuda\" if torch.cuda.is_available() else \"cpu\"\n",
    "print(f\"Using {device} device\")"
   ]
  },
  {
   "cell_type": "markdown",
   "id": "9687c3e3",
   "metadata": {},
   "source": [
    "# Setting up Parameters and Functions for Training"
   ]
  },
  {
   "cell_type": "markdown",
   "id": "580710fe",
   "metadata": {
    "heading_collapsed": true
   },
   "source": [
    "##### Setting up the loss function sampler"
   ]
  },
  {
   "cell_type": "code",
   "execution_count": 4,
   "id": "05b7f919",
   "metadata": {
    "ExecuteTime": {
     "end_time": "2023-03-20T01:41:49.244166Z",
     "start_time": "2023-03-20T01:41:49.236565Z"
    },
    "code_folding": [],
    "deletable": false,
    "editable": false,
    "hidden": true,
    "init_cell": true,
    "run_control": {
     "frozen": true
    }
   },
   "outputs": [],
   "source": [
    "def loss_fn_sampler():\n",
    "    pixel_losses_list = [\n",
    "        CrossEntropyLoss(weight=torch.tensor([.3, .7])), \n",
    "        FocalLoss(weight=torch.tensor([.3, .7]), gamma=2)\n",
    "    ]\n",
    "    volume_losses_list = [\n",
    "        JaccardLoss(),\n",
    "        TverskyLoss(alpha=0.3, beta=0.7),\n",
    "        FocalTverskyLoss(alpha=0.3, beta=0.7, gamma=2)\n",
    "    ]\n",
    "    loss_combinators_list = [ CombinedLoss, BorderedLoss ]\n",
    "\n",
    "    complete_list = pixel_losses_list + volume_losses_list\n",
    "\n",
    "    for combinator in loss_combinators_list:\n",
    "        complete_list += [combinator(loss1, loss2) for loss1 in pixel_losses_list for loss2 in volume_losses_list]\n",
    "\n",
    "    return complete_list\n"
   ]
  },
  {
   "cell_type": "markdown",
   "id": "215c221d",
   "metadata": {},
   "source": [
    "## Hyperparameters Search Space"
   ]
  },
  {
   "cell_type": "code",
   "execution_count": 5,
   "id": "e1e136d1",
   "metadata": {
    "ExecuteTime": {
     "end_time": "2023-03-20T01:41:49.252541Z",
     "start_time": "2023-03-20T01:41:49.246040Z"
    },
    "code_folding": [],
    "init_cell": true
   },
   "outputs": [],
   "source": [
    "search_space = {\n",
    "    \"Network\": UNet,\n",
    "    \"Optimizer\": Adam,\n",
    "    \n",
    "    \"Learning Rate\": 1e-4,   #tune.qloguniform(1e-5, 1e-2, 5e-6),\n",
    "    \"Batch Size\": 4,         #tune.qrandint(2, 8, 2),\n",
    "\n",
    "\n",
    "    \"Pixel Loss\": tune.choice([CrossEntropyLoss(weight=torch.tensor([.3, .7])), FocalLoss(weight=torch.tensor([.3, .7]), gamma=2)])\n",
    "    \"Volume Loss\": tune.choice([JaccardLoss(), TverskyLoss(alpha=0.3, beta=0.7), FocalTverskyLoss(alpha=0.3, beta=0.7, gamma=2)])\n",
    "    \"Combine Loss\": tune.choice([CombinedLoss, BorderedLoss, PixelLoss, VolumeLoss])\n",
    "    \n",
    "    \"Negative Mining\": tune.choice([True, False]),\n",
    "    \"Smooth Labeling\": tune.choice([True, False]),\n",
    "\n",
    "    \"Input Filter\": tune.choice([None, invert]),\n",
    "    \"Input Layer\": tune.choice([None, LaplacianFilter(), SobelFilter(), DINOFilter()]),\n",
    "}"
   ]
  },
  {
   "cell_type": "markdown",
   "id": "ecc521e6",
   "metadata": {},
   "source": [
    "## Creating the training function"
   ]
  },
  {
   "cell_type": "code",
   "execution_count": 6,
   "id": "626acb32",
   "metadata": {
    "ExecuteTime": {
     "end_time": "2023-03-20T01:41:49.266013Z",
     "start_time": "2023-03-20T01:41:49.254024Z"
    },
    "code_folding": [
     0
    ],
    "init_cell": true
   },
   "outputs": [],
   "source": [
    "def train(config, train_data, val_data):\n",
    "\n",
    "    device = \"cuda\" if torch.cuda.is_available() else \"cpu\"\n",
    "    \n",
    "    inpip = InputPipeline(\n",
    "        transformer=[normalize, config[\"Input Filter\"]] if config[\"Input Filter\"] is not None else normalize, \n",
    "        layer_transformer=config[\"Input Layer\"])\n",
    "    if LOAD_DATA_ON_GPU:\n",
    "        inpip = inpip.to(device)\n",
    "\n",
    "    train_dataset = POCDataset(\n",
    "        train_data,\n",
    "        transform=inpip,\n",
    "        target_transform= GaussianBlur(kernel_size=3, sigma=0.7) if config[\"Smooth Labeling\"] else None,\n",
    "        negative_mining=config[\"Negative Mining\"])\n",
    "#     train_dataset.precompute_transform(LOAD_DATA_ON_GPU)\n",
    "\n",
    "    if LOAD_DATA_ON_GPU:\n",
    "        training_dataloader = DataLoader(\n",
    "            train_dataset,\n",
    "            batch_size=int(config[\"Batch Size\"]),\n",
    "            sampler=train_dataset.sampler)\n",
    "    else:\n",
    "        training_dataloader = DataLoader(\n",
    "            train_dataset,\n",
    "            batch_size=int(config[\"Batch Size\"]),\n",
    "            sampler=train_dataset.sampler,\n",
    "            num_workers=CPUS_PER_TRIAL//2,\n",
    "            pin_memory=True,\n",
    "            pin_memory_device=device)\n",
    "\n",
    "    val_dataset = POCDataset(val_data, transform=inpip, target_transform=None, negative_mining=False)\n",
    "#     val_dataset.precompute_transform(LOAD_DATA_ON_GPU)\n",
    "    \n",
    "    if LOAD_DATA_ON_GPU:\n",
    "        validation_dataloader = DataLoader(\n",
    "            val_dataset,\n",
    "            batch_size=int(config[\"Batch Size\"]),\n",
    "            shuffle=True)\n",
    "    else:\n",
    "        validation_dataloader = DataLoader(\n",
    "            val_dataset,\n",
    "            batch_size=int(config[\"Batch Size\"]),\n",
    "            shuffle=True,\n",
    "            num_workers=CPUS_PER_TRIAL//2,\n",
    "            pin_memory=True,\n",
    "            pin_memory_device=device)\n",
    "\n",
    "    model = config[\"Network\"](n_channels=inpip.nb_channel, n_classes=2, bilinear=True, crop=False)\n",
    "    if torch.cuda.is_available() and torch.cuda.device_count() > 1:\n",
    "        model = nn.DataParallel(model)\n",
    "    model.to(device)\n",
    "\n",
    "    loss_fn = config[\"Combine Loss\"](config[\"Pixel Loss\"], config[\"Volume Loss\"]).to(device)\n",
    "    optimizer = config[\"Optimizer\"](model.parameters(), lr=config[\"Learning Rate\"], betas=(0.9, 0.99))\n",
    "    lr_scheduler = CosineAnnealingLR(optimizer, T_max=EPOCHS//2)\n",
    "\n",
    "    # To restore a checkpoint, use `session.get_checkpoint()`.\n",
    "    loaded_checkpoint = session.get_checkpoint()\n",
    "    if loaded_checkpoint:\n",
    "        with loaded_checkpoint.as_directory() as loaded_checkpoint_dir:\n",
    "            model_state, optimizer_state, scheduler_state = torch.load(os.path.join(loaded_checkpoint_dir, \"checkpoint.pt\"))\n",
    "        model.load_state_dict(model_state)\n",
    "        optimizer.load_state_dict(optimizer_state)\n",
    "        lr_scheduler.load_state_dict(scheduler_state)\n",
    "\n",
    "    train_metrics = Metrics(\n",
    "        buffer_size=len(training_dataloader),\n",
    "        mode=\"Training\",\n",
    "        hyperparam=config,\n",
    "        device=device)\n",
    "\n",
    "    val_metrics = Metrics(\n",
    "        buffer_size=len(validation_dataloader),\n",
    "        mode=\"Validation\",\n",
    "        hyperparam=config,\n",
    "        device=device)\n",
    "\n",
    "\n",
    "    for epoch in range(1, EPOCHS+1):  # loop over the dataset multiple times\n",
    "        training_loop(epoch, training_dataloader, model, loss_fn, optimizer, lr_scheduler, train_metrics, device)\n",
    "        validation_loop(epoch, validation_dataloader, model, loss_fn, val_metrics, device)\n",
    "\n",
    "        # Here we save a checkpoint. It is automatically registered with\n",
    "        # Ray Tune and can be accessed through `session.get_checkpoint()`\n",
    "        # API in future iterations.\n",
    "        os.makedirs(\"model\", exist_ok=True)\n",
    "        torch.save((model.state_dict(), optimizer.state_dict(), lr_scheduler.state_dict()), \"model/checkpoint.pt\")\n",
    "        checkpoint = Checkpoint.from_directory(\"model\")\n",
    "        session.report(metrics=val_metrics.get_metrics(epoch), checkpoint=checkpoint)\n",
    "\n",
    "    train_metrics.close_tensorboard()\n",
    "    val_metrics.close_tensorboard()\n"
   ]
  },
  {
   "cell_type": "markdown",
   "id": "ad8a58ec",
   "metadata": {},
   "source": [
    "## Creating the evaluation function"
   ]
  },
  {
   "cell_type": "code",
   "execution_count": 7,
   "id": "da4d17c2",
   "metadata": {
    "ExecuteTime": {
     "end_time": "2023-03-20T01:41:49.277571Z",
     "start_time": "2023-03-20T01:41:49.268033Z"
    },
    "code_folding": [
     0,
     32
    ],
    "init_cell": true
   },
   "outputs": [],
   "source": [
    "def evaluate(test_data, best_result):\n",
    "\n",
    "    device = \"cuda:0\" if torch.cuda.is_available() else \"cpu\"\n",
    "\n",
    "    inpip = InputPipeline(\n",
    "        transformer=[normalize, best_result.config[\"Input Filter\"]] if best_result.config[\"Input Filter\"] is not None else normalize, \n",
    "        layer_transformer=best_result.config[\"Input Layer\"])\n",
    "    if LOAD_DATA_ON_GPU:\n",
    "        inpip = inpip.to(device)\n",
    "\n",
    "    test_dataset = POCDataset(test_data, transform=inpip, target_transform=None, negative_mining=False)\n",
    "    \n",
    "    if LOAD_DATA_ON_GPU:\n",
    "        evaluation_dataloader = DataLoader(test_dataset, batch_size=1, shuffle=True)\n",
    "    else:\n",
    "        evaluation_dataloader = DataLoader(test_dataset, batch_size=1, shuffle=True, num_workers=20, pin_memory=True, pin_memory_device=device)\n",
    "\n",
    "    best_trained_model = best_result.config[\"Network\"](n_channels=inpip.nb_channel, n_classes=2, bilinear=True, crop=False).to(device)\n",
    "\n",
    "    checkpoint_path = os.path.join(best_result.checkpoint.to_directory(), \"checkpoint.pt\")\n",
    "    model_state, _, _ = torch.load(checkpoint_path)\n",
    "    best_trained_model.load_state_dict(model_state)\n",
    "    \n",
    "    loss_fn = best_result.config[\"Combine Loss\"](best_result.config[\"Pixel Loss\"], best_result.config[\"Volume Loss\"]).to(device)\n",
    "\n",
    "    test_metrics = EvaluationMetrics(\n",
    "        buffer_size=len(evaluation_dataloader),\n",
    "        hyperparam=best_result.config,\n",
    "        device=device)\n",
    "\n",
    "    evaluation_loop(dataloader=evaluation_dataloader, model=best_trained_model, metric=test_metrics, device=device)\n",
    "\n",
    "def evaluate_df(test_data, results_df):\n",
    "\n",
    "    device = \"cuda:0\" if torch.cuda.is_available() else \"cpu\"\n",
    "\n",
    "    results_df.sort_values(\"CrackIoU\", ascending=False, inplace=True)\n",
    "    for index, res in results_df.head(NUM_MODEL_TEST).iterrows():\n",
    "        \n",
    "        inpip = InputPipeline(\n",
    "            transformer=eval(res[\"config/Input Filter\"]),\n",
    "            layer_transformer=eval(res[\"config/Input Layer\"]))\n",
    "        if LOAD_DATA_ON_GPU:\n",
    "            inpip = inpip.to(device)\n",
    "        \n",
    "        test_dataset = POCDataset(test_data, transform=inpip, target_transform=None, negative_mining=False)\n",
    "\n",
    "        if LOAD_DATA_ON_GPU:\n",
    "            evaluation_dataloader = DataLoader(test_dataset, batch_size=1, shuffle=True)\n",
    "        else:\n",
    "            evaluation_dataloader = DataLoader(test_dataset, batch_size=1, shuffle=True, num_workers=20, pin_memory=True, pin_memory_device=device)\n",
    "\n",
    "        trained_model = eval(res[\"config/Network\"])(n_channels=inpip.nb_channel, n_classes=2, bilinear=True, crop=False).to(device)\n",
    "\n",
    "        checkpoint_path = os.path.join(res[\"logdir\"], \"model/checkpoint.pt\")\n",
    "        model_state, _, _ = torch.load(checkpoint_path)\n",
    "        trained_model.load_state_dict(model_state)\n",
    "        \n",
    "        loss_fn_name = str(res[\"config/loss_fn\"])\n",
    "        \n",
    "        loss_fn = eval(res[\"config/Combine Loss\"])(eval(res[\"config/Pixel Loss\"]), eval(res[\"config/Volume Loss\"])).to(device)\n",
    "\n",
    "        test_metrics = EvaluationMetrics(\n",
    "            buffer_size=len(evaluation_dataloader),\n",
    "            hyperparam=\n",
    "            device=device)\n",
    "\n",
    "        evaluation_loop(dataloader=evaluation_dataloader, model=trained_model, metric=test_metrics, device=device)\n"
   ]
  },
  {
   "cell_type": "markdown",
   "id": "918e1c03",
   "metadata": {},
   "source": [
    "# Running the training"
   ]
  },
  {
   "cell_type": "markdown",
   "id": "9f955b19",
   "metadata": {},
   "source": [
    "## Loading data for training"
   ]
  },
  {
   "cell_type": "code",
   "execution_count": 8,
   "id": "e15a7a2f",
   "metadata": {
    "ExecuteTime": {
     "end_time": "2023-03-20T01:42:44.894230Z",
     "start_time": "2023-03-20T01:42:08.317435Z"
    }
   },
   "outputs": [
    {
     "data": {
      "application/vnd.jupyter.widget-view+json": {
       "model_id": "20accec801db40e595ffd282b07c5fd1",
       "version_major": 2,
       "version_minor": 0
      },
      "text/plain": [
       "Loading dataset into GPU:   0%|          | 0/2744 [00:00<?, ?it/s]"
      ]
     },
     "metadata": {},
     "output_type": "display_data"
    },
    {
     "name": "stdout",
     "output_type": "stream",
     "text": [
      "\t- Loading done, GPU memory used: 3.14GiB / free: 17.97GiB / total: 22.17GiB\n",
      "\t- Got a total of 2744 images.\n"
     ]
    },
    {
     "data": {
      "application/vnd.jupyter.widget-view+json": {
       "model_id": "69065d2c1ee44cbb9deb6eda3ac8510c",
       "version_major": 2,
       "version_minor": 0
      },
      "text/plain": [
       "Expending the dataset 1 more times:   0%|          | 0/1920 [00:00<?, ?it/s]"
      ]
     },
     "metadata": {},
     "output_type": "display_data"
    },
    {
     "name": "stdout",
     "output_type": "stream",
     "text": [
      "\t- Augmentation done, GPU memory used: 5.34GiB / free: 15.24GiB / total: 22.17GiB\n",
      "\t- Got 1920 new images and a total of 3840 images.\n"
     ]
    }
   ],
   "source": [
    "data_reader = POCDataReader(root_dir=\"../data\", load_on_gpu=LOAD_DATA_ON_GPU)\n",
    "train_data, val_data, test_data = data_reader.split([0.7, 0.1, 0.2])\n",
    "data_augment_(train_data, n=NUM_AUGMENT, load_on_gpu=LOAD_DATA_ON_GPU)"
   ]
  },
  {
   "cell_type": "markdown",
   "id": "025b0faa",
   "metadata": {},
   "source": [
    "## Configuring the Tuner with a Scheduler and a Search Algorithm"
   ]
  },
  {
   "cell_type": "code",
   "execution_count": 9,
   "id": "a69701ba",
   "metadata": {
    "ExecuteTime": {
     "end_time": "2023-03-20T01:43:05.496123Z",
     "start_time": "2023-03-20T01:42:57.111291Z"
    }
   },
   "outputs": [],
   "source": [
    "scheduler = ASHAScheduler(max_t=EPOCHS, grace_period=2, reduction_factor=2)\n",
    "search_algo = HyperOptSearch()\n",
    "\n",
    "tune_config = tune.TuneConfig(\n",
    "    metric=\"CrackIoU\",\n",
    "    mode=\"max\",\n",
    "    num_samples=NUM_SAMPLES,\n",
    "    scheduler=scheduler,\n",
    "    search_alg=search_algo)\n",
    "\n",
    "tuner = tune.Tuner(\n",
    "    tune.with_resources(\n",
    "        tune.with_parameters(train, train_data=train_data, val_data=val_data),\n",
    "        resources={\"cpu\": CPUS_PER_TRIAL, \"gpu\": GPUS_PER_TRIAL}),\n",
    "    tune_config=tune_config,\n",
    "    param_space=search_space)"
   ]
  },
  {
   "cell_type": "markdown",
   "id": "4b0913de",
   "metadata": {},
   "source": [
    "## Running the Tuner"
   ]
  },
  {
   "cell_type": "code",
   "execution_count": null,
   "id": "1d395266",
   "metadata": {
    "ExecuteTime": {
     "end_time": "2023-03-20T01:32:17.919507Z",
     "start_time": "2023-03-20T01:32:13.435494Z"
    },
    "deletable": false,
    "editable": false,
    "run_control": {
     "frozen": true
    }
   },
   "outputs": [],
   "source": [
    "tuner = tune.Tuner.restore(\n",
    "    path=\"~/ray_results/train_2023-03-17_13-15-27/\",\n",
    "    trainable=tune.with_resources(\n",
    "        tune.with_parameters(train, train_data=train_data, val_data=val_data),\n",
    "        resources={\"cpu\": CPUS_PER_TRIAL, \"gpu\": GPUS_PER_TRIAL}))"
   ]
  },
  {
   "cell_type": "code",
   "execution_count": null,
   "id": "cdfb3720",
   "metadata": {
    "ExecuteTime": {
     "start_time": "2023-03-20T01:43:19.954Z"
    },
    "scrolled": false
   },
   "outputs": [
    {
     "name": "stderr",
     "output_type": "stream",
     "text": [
      "2023-03-20 10:43:22,797\tINFO worker.py:1544 -- Started a local Ray instance. View the dashboard at \u001b[1m\u001b[32m127.0.0.1:8265 \u001b[39m\u001b[22m\n"
     ]
    },
    {
     "data": {
      "text/html": [
       "<div class=\"tuneStatus\">\n",
       "  <div style=\"display: flex;flex-direction: row\">\n",
       "    <div style=\"display: flex;flex-direction: column;\">\n",
       "      <h3>Tune Status</h3>\n",
       "      <table>\n",
       "<tbody>\n",
       "<tr><td>Current time:</td><td>2023-03-20 16:23:42</td></tr>\n",
       "<tr><td>Running for: </td><td>05:40:06.36        </td></tr>\n",
       "<tr><td>Memory:      </td><td>34.0/125.4 GiB     </td></tr>\n",
       "</tbody>\n",
       "</table>\n",
       "    </div>\n",
       "    <div class=\"vDivider\"></div>\n",
       "    <div class=\"systemInfo\">\n",
       "      <h3>System Info</h3>\n",
       "      Using AsyncHyperBand: num_stopped=16<br>Bracket: Iter 8.000: 0.7953618168830872 | Iter 4.000: 0.7630601525306702 | Iter 2.000: 0.7141912877559662<br>Resources requested: 40.0/40 CPUs, 2.0/2 GPUs, 0.0/65.28 GiB heap, 0.0/31.97 GiB objects (0.0/1.0 accelerator_type:RTX)\n",
       "    </div>\n",
       "    \n",
       "  </div>\n",
       "  <div class=\"hDivider\"></div>\n",
       "  <div class=\"trialStatus\">\n",
       "    <h3>Trial Status</h3>\n",
       "    <table>\n",
       "<thead>\n",
       "<tr><th>Trial name    </th><th>status    </th><th>loc                  </th><th>NM   </th><th>SL   </th><th style=\"text-align: right;\">  batch_size</th><th>input_filter        </th><th>input_layer    </th><th>loss_fn             </th><th style=\"text-align: right;\">    lr</th><th style=\"text-align: right;\">  iter</th><th style=\"text-align: right;\">  total time (s)</th><th style=\"text-align: right;\">  Epoch</th><th style=\"text-align: right;\">      Loss</th><th style=\"text-align: right;\">  CrackIoU</th></tr>\n",
       "</thead>\n",
       "<tbody>\n",
       "<tr><td>train_3f492d9b</td><td>RUNNING   </td><td>141.223.108.122:13234</td><td>False</td><td>True </td><td style=\"text-align: right;\">           4</td><td>                    </td><td>SobelFilter    </td><td>JaccardLoss         </td><td style=\"text-align: right;\">0.0001</td><td style=\"text-align: right;\">     1</td><td style=\"text-align: right;\">         404.065</td><td style=\"text-align: right;\">      1</td><td style=\"text-align: right;\">0.227214  </td><td style=\"text-align: right;\">  0.553854</td></tr>\n",
       "<tr><td>train_9e7d1aba</td><td>RUNNING   </td><td>141.223.108.122:13321</td><td>True </td><td>True </td><td style=\"text-align: right;\">           4</td><td>                    </td><td>SobelFilter    </td><td>(FocalLoss+Foca_7c70</td><td style=\"text-align: right;\">0.0001</td><td style=\"text-align: right;\">      </td><td style=\"text-align: right;\">                </td><td style=\"text-align: right;\">       </td><td style=\"text-align: right;\">          </td><td style=\"text-align: right;\">          </td></tr>\n",
       "<tr><td>train_17477bf9</td><td>PENDING   </td><td>                     </td><td>False</td><td>False</td><td style=\"text-align: right;\">           4</td><td>                    </td><td>               </td><td>JaccardLoss         </td><td style=\"text-align: right;\">0.0001</td><td style=\"text-align: right;\">      </td><td style=\"text-align: right;\">                </td><td style=\"text-align: right;\">       </td><td style=\"text-align: right;\">          </td><td style=\"text-align: right;\">          </td></tr>\n",
       "<tr><td>train_b49c5ec4</td><td>TERMINATED</td><td>141.223.108.122:13234</td><td>False</td><td>False</td><td style=\"text-align: right;\">           4</td><td>&lt;function inver_a5f0</td><td>               </td><td>CrossEntropyLoss()  </td><td style=\"text-align: right;\">0.0001</td><td style=\"text-align: right;\">     2</td><td style=\"text-align: right;\">         803.627</td><td style=\"text-align: right;\">      2</td><td style=\"text-align: right;\">0.00709964</td><td style=\"text-align: right;\">  0.524054</td></tr>\n",
       "<tr><td>train_f57c0247</td><td>TERMINATED</td><td>141.223.108.122:13321</td><td>False</td><td>False</td><td style=\"text-align: right;\">           4</td><td>                    </td><td>SobelFilter    </td><td>(FocalLoss+Foca_47c0</td><td style=\"text-align: right;\">0.0001</td><td style=\"text-align: right;\">    15</td><td style=\"text-align: right;\">        5688.85 </td><td style=\"text-align: right;\">     15</td><td style=\"text-align: right;\">0.0110812 </td><td style=\"text-align: right;\">  0.722994</td></tr>\n",
       "<tr><td>train_5f2f5b13</td><td>TERMINATED</td><td>141.223.108.122:13234</td><td>False</td><td>True </td><td style=\"text-align: right;\">           4</td><td>&lt;function inver_a5f0</td><td>LaplacianFilter</td><td>(FocalLoss+Foca_4fa0</td><td style=\"text-align: right;\">0.0001</td><td style=\"text-align: right;\">     4</td><td style=\"text-align: right;\">        1615.66 </td><td style=\"text-align: right;\">      4</td><td style=\"text-align: right;\">0.0693425 </td><td style=\"text-align: right;\">  0.740707</td></tr>\n",
       "<tr><td>train_e06393f4</td><td>TERMINATED</td><td>141.223.108.122:13234</td><td>False</td><td>False</td><td style=\"text-align: right;\">           4</td><td>                    </td><td>SobelFilter    </td><td>(B:FocalLoss+V:_2500</td><td style=\"text-align: right;\">0.0001</td><td style=\"text-align: right;\">    15</td><td style=\"text-align: right;\">        6013.11 </td><td style=\"text-align: right;\">     15</td><td style=\"text-align: right;\">0.0550434 </td><td style=\"text-align: right;\">  0.78741 </td></tr>\n",
       "<tr><td>train_96f08d9d</td><td>TERMINATED</td><td>141.223.108.122:13321</td><td>False</td><td>False</td><td style=\"text-align: right;\">           4</td><td>&lt;function inver_a5f0</td><td>SobelFilter    </td><td>(FocalLoss+Foca_5750</td><td style=\"text-align: right;\">0.0001</td><td style=\"text-align: right;\">    15</td><td style=\"text-align: right;\">        5685.02 </td><td style=\"text-align: right;\">     15</td><td style=\"text-align: right;\">0.0604369 </td><td style=\"text-align: right;\">  0.774816</td></tr>\n",
       "<tr><td>train_92064c4d</td><td>TERMINATED</td><td>141.223.108.122:13234</td><td>False</td><td>True </td><td style=\"text-align: right;\">           4</td><td>                    </td><td>               </td><td>TverskyLoss         </td><td style=\"text-align: right;\">0.0001</td><td style=\"text-align: right;\">     2</td><td style=\"text-align: right;\">         800.654</td><td style=\"text-align: right;\">      2</td><td style=\"text-align: right;\">0.155389  </td><td style=\"text-align: right;\">  0.657915</td></tr>\n",
       "<tr><td>train_dd36fdab</td><td>TERMINATED</td><td>141.223.108.122:13234</td><td>True </td><td>False</td><td style=\"text-align: right;\">           4</td><td>&lt;function inver_a5f0</td><td>               </td><td>(B:FocalLoss+V:_8eb0</td><td style=\"text-align: right;\">0.0001</td><td style=\"text-align: right;\">     2</td><td style=\"text-align: right;\">         801.878</td><td style=\"text-align: right;\">      2</td><td style=\"text-align: right;\">0.0962959 </td><td style=\"text-align: right;\">  0.666161</td></tr>\n",
       "<tr><td>train_7c3b8869</td><td>TERMINATED</td><td>141.223.108.122:13234</td><td>True </td><td>False</td><td style=\"text-align: right;\">           4</td><td>&lt;function inver_a5f0</td><td>LaplacianFilter</td><td>TverskyLoss         </td><td style=\"text-align: right;\">0.0001</td><td style=\"text-align: right;\">     8</td><td style=\"text-align: right;\">        3217.46 </td><td style=\"text-align: right;\">      8</td><td style=\"text-align: right;\">0.0961495 </td><td style=\"text-align: right;\">  0.791605</td></tr>\n",
       "<tr><td>train_80c589fe</td><td>TERMINATED</td><td>141.223.108.122:13321</td><td>False</td><td>False</td><td style=\"text-align: right;\">           4</td><td>                    </td><td>LaplacianFilter</td><td>JaccardLoss         </td><td style=\"text-align: right;\">0.0001</td><td style=\"text-align: right;\">    15</td><td style=\"text-align: right;\">        5686.66 </td><td style=\"text-align: right;\">     15</td><td style=\"text-align: right;\">0.101277  </td><td style=\"text-align: right;\">  0.800267</td></tr>\n",
       "<tr><td>train_afcd0fde</td><td>TERMINATED</td><td>141.223.108.122:13234</td><td>False</td><td>True </td><td style=\"text-align: right;\">           4</td><td>                    </td><td>               </td><td>(FocalLoss+Foca_1060</td><td style=\"text-align: right;\">0.0001</td><td style=\"text-align: right;\">     2</td><td style=\"text-align: right;\">         801.597</td><td style=\"text-align: right;\">      2</td><td style=\"text-align: right;\">0.0829205 </td><td style=\"text-align: right;\">  0.655343</td></tr>\n",
       "<tr><td>train_a4cf2457</td><td>TERMINATED</td><td>141.223.108.122:13234</td><td>True </td><td>False</td><td style=\"text-align: right;\">           4</td><td>                    </td><td>               </td><td>(B:FocalLoss+V:_d7e0</td><td style=\"text-align: right;\">0.0001</td><td style=\"text-align: right;\">     8</td><td style=\"text-align: right;\">        3196.51 </td><td style=\"text-align: right;\">      8</td><td style=\"text-align: right;\">0.0061726 </td><td style=\"text-align: right;\">  0.789891</td></tr>\n",
       "<tr><td>train_dbfd9718</td><td>TERMINATED</td><td>141.223.108.122:13321</td><td>False</td><td>False</td><td style=\"text-align: right;\">           4</td><td>                    </td><td>LaplacianFilter</td><td>(B:FocalLoss+V:_5690</td><td style=\"text-align: right;\">0.0001</td><td style=\"text-align: right;\">     2</td><td style=\"text-align: right;\">         768.413</td><td style=\"text-align: right;\">      2</td><td style=\"text-align: right;\">0.0682499 </td><td style=\"text-align: right;\">  0.703319</td></tr>\n",
       "<tr><td>train_e5ba9d22</td><td>TERMINATED</td><td>141.223.108.122:13234</td><td>False</td><td>True </td><td style=\"text-align: right;\">           4</td><td>&lt;function inver_a5f0</td><td>LaplacianFilter</td><td>FocalTverskyLoss    </td><td style=\"text-align: right;\">0.0001</td><td style=\"text-align: right;\">     2</td><td style=\"text-align: right;\">         809.644</td><td style=\"text-align: right;\">      2</td><td style=\"text-align: right;\">0.0310548 </td><td style=\"text-align: right;\">  0.653321</td></tr>\n",
       "<tr><td>train_39a6d2f6</td><td>TERMINATED</td><td>141.223.108.122:13321</td><td>False</td><td>True </td><td style=\"text-align: right;\">           4</td><td>&lt;function inver_a5f0</td><td>SobelFilter    </td><td>(FocalLoss+Foca_7760</td><td style=\"text-align: right;\">0.0001</td><td style=\"text-align: right;\">     2</td><td style=\"text-align: right;\">         765.512</td><td style=\"text-align: right;\">      2</td><td style=\"text-align: right;\">0.0845465 </td><td style=\"text-align: right;\">  0.684427</td></tr>\n",
       "<tr><td>train_d8d098f3</td><td>TERMINATED</td><td>141.223.108.122:13234</td><td>False</td><td>False</td><td style=\"text-align: right;\">           4</td><td>&lt;function inver_a5f0</td><td>               </td><td>FocalTverskyLoss    </td><td style=\"text-align: right;\">0.0001</td><td style=\"text-align: right;\">     4</td><td style=\"text-align: right;\">        1594.23 </td><td style=\"text-align: right;\">      4</td><td style=\"text-align: right;\">0.0161471 </td><td style=\"text-align: right;\">  0.727205</td></tr>\n",
       "<tr><td>train_5dd370c5</td><td>TERMINATED</td><td>141.223.108.122:13321</td><td>True </td><td>True </td><td style=\"text-align: right;\">           4</td><td>                    </td><td>LaplacianFilter</td><td>(B:FocalLoss+V:_8e80</td><td style=\"text-align: right;\">0.0001</td><td style=\"text-align: right;\">     4</td><td style=\"text-align: right;\">        1538.84 </td><td style=\"text-align: right;\">      4</td><td style=\"text-align: right;\">0.0096748 </td><td style=\"text-align: right;\">  0.722238</td></tr>\n",
       "</tbody>\n",
       "</table>\n",
       "  </div>\n",
       "</div>\n",
       "<style>\n",
       ".tuneStatus {\n",
       "  color: var(--jp-ui-font-color1);\n",
       "}\n",
       ".tuneStatus .systemInfo {\n",
       "  display: flex;\n",
       "  flex-direction: column;\n",
       "}\n",
       ".tuneStatus td {\n",
       "  white-space: nowrap;\n",
       "}\n",
       ".tuneStatus .trialStatus {\n",
       "  display: flex;\n",
       "  flex-direction: column;\n",
       "}\n",
       ".tuneStatus h3 {\n",
       "  font-weight: bold;\n",
       "}\n",
       ".tuneStatus .hDivider {\n",
       "  border-bottom-width: var(--jp-border-width);\n",
       "  border-bottom-color: var(--jp-border-color0);\n",
       "  border-bottom-style: solid;\n",
       "}\n",
       ".tuneStatus .vDivider {\n",
       "  border-left-width: var(--jp-border-width);\n",
       "  border-left-color: var(--jp-border-color0);\n",
       "  border-left-style: solid;\n",
       "  margin: 0.5em 1em 0.5em 1em;\n",
       "}\n",
       "</style>\n"
      ],
      "text/plain": [
       "<IPython.core.display.HTML object>"
      ]
     },
     "metadata": {},
     "output_type": "display_data"
    },
    {
     "data": {
      "text/html": [
       "<div class=\"trialProgress\">\n",
       "  <h3>Trial Progress</h3>\n",
       "  <table>\n",
       "<thead>\n",
       "<tr><th>Trial name    </th><th style=\"text-align: right;\">  CrackIoU</th><th style=\"text-align: right;\">  Epoch</th><th style=\"text-align: right;\">      Loss</th><th style=\"text-align: right;\">  MeanIoU</th><th style=\"text-align: right;\">  Tversky</th><th>date               </th><th>done  </th><th>episodes_total  </th><th>experiment_id                   </th><th>hostname           </th><th style=\"text-align: right;\">  iterations_since_restore</th><th>node_ip        </th><th style=\"text-align: right;\">  pid</th><th>should_checkpoint  </th><th style=\"text-align: right;\">  time_since_restore</th><th style=\"text-align: right;\">  time_this_iter_s</th><th style=\"text-align: right;\">  time_total_s</th><th style=\"text-align: right;\">  timestamp</th><th style=\"text-align: right;\">  timesteps_since_restore</th><th>timesteps_total  </th><th style=\"text-align: right;\">  training_iteration</th><th>trial_id  </th><th style=\"text-align: right;\">  warmup_time</th></tr>\n",
       "</thead>\n",
       "<tbody>\n",
       "<tr><td>train_39a6d2f6</td><td style=\"text-align: right;\">  0.684427</td><td style=\"text-align: right;\">      2</td><td style=\"text-align: right;\">0.0845465 </td><td style=\"text-align: right;\"> 0.839631</td><td style=\"text-align: right;\"> 0.852816</td><td>2023-03-20_15-53-37</td><td>True  </td><td>                </td><td>bdf8ba7b44af4224bccbb3b689931187</td><td>pirl-PowerEdge-T640</td><td style=\"text-align: right;\">                         2</td><td>141.223.108.122</td><td style=\"text-align: right;\">13321</td><td>True               </td><td style=\"text-align: right;\">             765.512</td><td style=\"text-align: right;\">           380.296</td><td style=\"text-align: right;\">       765.512</td><td style=\"text-align: right;\"> 1679295217</td><td style=\"text-align: right;\">                        0</td><td>                 </td><td style=\"text-align: right;\">                   2</td><td>39a6d2f6  </td><td style=\"text-align: right;\">    0.0294926</td></tr>\n",
       "<tr><td>train_3f492d9b</td><td style=\"text-align: right;\">  0.553854</td><td style=\"text-align: right;\">      1</td><td style=\"text-align: right;\">0.227214  </td><td style=\"text-align: right;\"> 0.772786</td><td style=\"text-align: right;\"> 0.764319</td><td>2023-03-20_16-17-58</td><td>False </td><td>                </td><td>65a9cb3f82ff4743aff93bcb6ddab20f</td><td>pirl-PowerEdge-T640</td><td style=\"text-align: right;\">                         1</td><td>141.223.108.122</td><td style=\"text-align: right;\">13234</td><td>True               </td><td style=\"text-align: right;\">             404.065</td><td style=\"text-align: right;\">           404.065</td><td style=\"text-align: right;\">       404.065</td><td style=\"text-align: right;\"> 1679296678</td><td style=\"text-align: right;\">                        0</td><td>                 </td><td style=\"text-align: right;\">                   1</td><td>3f492d9b  </td><td style=\"text-align: right;\">    0.0292459</td></tr>\n",
       "<tr><td>train_5dd370c5</td><td style=\"text-align: right;\">  0.722238</td><td style=\"text-align: right;\">      4</td><td style=\"text-align: right;\">0.0096748 </td><td style=\"text-align: right;\"> 0.858971</td><td style=\"text-align: right;\"> 0.874625</td><td>2023-03-20_16-19-16</td><td>True  </td><td>                </td><td>bdf8ba7b44af4224bccbb3b689931187</td><td>pirl-PowerEdge-T640</td><td style=\"text-align: right;\">                         4</td><td>141.223.108.122</td><td style=\"text-align: right;\">13321</td><td>True               </td><td style=\"text-align: right;\">            1538.84 </td><td style=\"text-align: right;\">           383.556</td><td style=\"text-align: right;\">      1538.84 </td><td style=\"text-align: right;\"> 1679296756</td><td style=\"text-align: right;\">                        0</td><td>                 </td><td style=\"text-align: right;\">                   4</td><td>5dd370c5  </td><td style=\"text-align: right;\">    0.0294926</td></tr>\n",
       "<tr><td>train_5f2f5b13</td><td style=\"text-align: right;\">  0.740707</td><td style=\"text-align: right;\">      4</td><td style=\"text-align: right;\">0.0693425 </td><td style=\"text-align: right;\"> 0.868359</td><td style=\"text-align: right;\"> 0.878377</td><td>2023-03-20_11-23-58</td><td>True  </td><td>                </td><td>65a9cb3f82ff4743aff93bcb6ddab20f</td><td>pirl-PowerEdge-T640</td><td style=\"text-align: right;\">                         4</td><td>141.223.108.122</td><td style=\"text-align: right;\">13234</td><td>True               </td><td style=\"text-align: right;\">            1615.66 </td><td style=\"text-align: right;\">           402.897</td><td style=\"text-align: right;\">      1615.66 </td><td style=\"text-align: right;\"> 1679279038</td><td style=\"text-align: right;\">                        0</td><td>                 </td><td style=\"text-align: right;\">                   4</td><td>5f2f5b13  </td><td style=\"text-align: right;\">    0.0292459</td></tr>\n",
       "<tr><td>train_7c3b8869</td><td style=\"text-align: right;\">  0.791605</td><td style=\"text-align: right;\">      8</td><td style=\"text-align: right;\">0.0961495 </td><td style=\"text-align: right;\"> 0.894269</td><td style=\"text-align: right;\"> 0.90385 </td><td>2023-03-20_14-24-32</td><td>True  </td><td>                </td><td>65a9cb3f82ff4743aff93bcb6ddab20f</td><td>pirl-PowerEdge-T640</td><td style=\"text-align: right;\">                         8</td><td>141.223.108.122</td><td style=\"text-align: right;\">13234</td><td>True               </td><td style=\"text-align: right;\">            3217.46 </td><td style=\"text-align: right;\">           401.577</td><td style=\"text-align: right;\">      3217.46 </td><td style=\"text-align: right;\"> 1679289872</td><td style=\"text-align: right;\">                        0</td><td>                 </td><td style=\"text-align: right;\">                   8</td><td>7c3b8869  </td><td style=\"text-align: right;\">    0.0292459</td></tr>\n",
       "<tr><td>train_80c589fe</td><td style=\"text-align: right;\">  0.800267</td><td style=\"text-align: right;\">     15</td><td style=\"text-align: right;\">0.101277  </td><td style=\"text-align: right;\"> 0.898723</td><td style=\"text-align: right;\"> 0.899894</td><td>2023-03-20_15-28-03</td><td>True  </td><td>                </td><td>bdf8ba7b44af4224bccbb3b689931187</td><td>pirl-PowerEdge-T640</td><td style=\"text-align: right;\">                        15</td><td>141.223.108.122</td><td style=\"text-align: right;\">13321</td><td>True               </td><td style=\"text-align: right;\">            5686.66 </td><td style=\"text-align: right;\">           378.814</td><td style=\"text-align: right;\">      5686.66 </td><td style=\"text-align: right;\"> 1679293683</td><td style=\"text-align: right;\">                        0</td><td>                 </td><td style=\"text-align: right;\">                  15</td><td>80c589fe  </td><td style=\"text-align: right;\">    0.0294926</td></tr>\n",
       "<tr><td>train_92064c4d</td><td style=\"text-align: right;\">  0.657915</td><td style=\"text-align: right;\">      2</td><td style=\"text-align: right;\">0.155389  </td><td style=\"text-align: right;\"> 0.826024</td><td style=\"text-align: right;\"> 0.844611</td><td>2023-03-20_13-17-32</td><td>True  </td><td>                </td><td>65a9cb3f82ff4743aff93bcb6ddab20f</td><td>pirl-PowerEdge-T640</td><td style=\"text-align: right;\">                         2</td><td>141.223.108.122</td><td style=\"text-align: right;\">13234</td><td>True               </td><td style=\"text-align: right;\">             800.654</td><td style=\"text-align: right;\">           398.167</td><td style=\"text-align: right;\">       800.654</td><td style=\"text-align: right;\"> 1679285852</td><td style=\"text-align: right;\">                        0</td><td>                 </td><td style=\"text-align: right;\">                   2</td><td>92064c4d  </td><td style=\"text-align: right;\">    0.0292459</td></tr>\n",
       "<tr><td>train_96f08d9d</td><td style=\"text-align: right;\">  0.774816</td><td style=\"text-align: right;\">     15</td><td style=\"text-align: right;\">0.0604369 </td><td style=\"text-align: right;\"> 0.885784</td><td style=\"text-align: right;\"> 0.890203</td><td>2023-03-20_13-53-16</td><td>True  </td><td>                </td><td>bdf8ba7b44af4224bccbb3b689931187</td><td>pirl-PowerEdge-T640</td><td style=\"text-align: right;\">                        15</td><td>141.223.108.122</td><td style=\"text-align: right;\">13321</td><td>True               </td><td style=\"text-align: right;\">            5685.02 </td><td style=\"text-align: right;\">           378.742</td><td style=\"text-align: right;\">      5685.02 </td><td style=\"text-align: right;\"> 1679287996</td><td style=\"text-align: right;\">                        0</td><td>                 </td><td style=\"text-align: right;\">                  15</td><td>96f08d9d  </td><td style=\"text-align: right;\">    0.0294926</td></tr>\n",
       "<tr><td>train_a4cf2457</td><td style=\"text-align: right;\">  0.789891</td><td style=\"text-align: right;\">      8</td><td style=\"text-align: right;\">0.0061726 </td><td style=\"text-align: right;\"> 0.893424</td><td style=\"text-align: right;\"> 0.90246 </td><td>2023-03-20_15-31-10</td><td>True  </td><td>                </td><td>65a9cb3f82ff4743aff93bcb6ddab20f</td><td>pirl-PowerEdge-T640</td><td style=\"text-align: right;\">                         8</td><td>141.223.108.122</td><td style=\"text-align: right;\">13234</td><td>True               </td><td style=\"text-align: right;\">            3196.51 </td><td style=\"text-align: right;\">           399.018</td><td style=\"text-align: right;\">      3196.51 </td><td style=\"text-align: right;\"> 1679293870</td><td style=\"text-align: right;\">                        0</td><td>                 </td><td style=\"text-align: right;\">                   8</td><td>a4cf2457  </td><td style=\"text-align: right;\">    0.0292459</td></tr>\n",
       "<tr><td>train_afcd0fde</td><td style=\"text-align: right;\">  0.655343</td><td style=\"text-align: right;\">      2</td><td style=\"text-align: right;\">0.0829205 </td><td style=\"text-align: right;\"> 0.824679</td><td style=\"text-align: right;\"> 0.843387</td><td>2023-03-20_14-37-54</td><td>True  </td><td>                </td><td>65a9cb3f82ff4743aff93bcb6ddab20f</td><td>pirl-PowerEdge-T640</td><td style=\"text-align: right;\">                         2</td><td>141.223.108.122</td><td style=\"text-align: right;\">13234</td><td>True               </td><td style=\"text-align: right;\">             801.597</td><td style=\"text-align: right;\">           398.858</td><td style=\"text-align: right;\">       801.597</td><td style=\"text-align: right;\"> 1679290674</td><td style=\"text-align: right;\">                        0</td><td>                 </td><td style=\"text-align: right;\">                   2</td><td>afcd0fde  </td><td style=\"text-align: right;\">    0.0292459</td></tr>\n",
       "<tr><td>train_b49c5ec4</td><td style=\"text-align: right;\">  0.524054</td><td style=\"text-align: right;\">      2</td><td style=\"text-align: right;\">0.00709964</td><td style=\"text-align: right;\"> 0.757513</td><td style=\"text-align: right;\"> 0.728542</td><td>2023-03-20_10-57-03</td><td>True  </td><td>                </td><td>65a9cb3f82ff4743aff93bcb6ddab20f</td><td>pirl-PowerEdge-T640</td><td style=\"text-align: right;\">                         2</td><td>141.223.108.122</td><td style=\"text-align: right;\">13234</td><td>True               </td><td style=\"text-align: right;\">             803.627</td><td style=\"text-align: right;\">           396.839</td><td style=\"text-align: right;\">       803.627</td><td style=\"text-align: right;\"> 1679277423</td><td style=\"text-align: right;\">                        0</td><td>                 </td><td style=\"text-align: right;\">                   2</td><td>b49c5ec4  </td><td style=\"text-align: right;\">    0.0292459</td></tr>\n",
       "<tr><td>train_d8d098f3</td><td style=\"text-align: right;\">  0.727205</td><td style=\"text-align: right;\">      4</td><td style=\"text-align: right;\">0.0161471 </td><td style=\"text-align: right;\"> 0.861474</td><td style=\"text-align: right;\"> 0.879373</td><td>2023-03-20_16-11-14</td><td>True  </td><td>                </td><td>65a9cb3f82ff4743aff93bcb6ddab20f</td><td>pirl-PowerEdge-T640</td><td style=\"text-align: right;\">                         4</td><td>141.223.108.122</td><td style=\"text-align: right;\">13234</td><td>True               </td><td style=\"text-align: right;\">            1594.23 </td><td style=\"text-align: right;\">           397.65 </td><td style=\"text-align: right;\">      1594.23 </td><td style=\"text-align: right;\"> 1679296274</td><td style=\"text-align: right;\">                        0</td><td>                 </td><td style=\"text-align: right;\">                   4</td><td>d8d098f3  </td><td style=\"text-align: right;\">    0.0292459</td></tr>\n",
       "<tr><td>train_dbfd9718</td><td style=\"text-align: right;\">  0.703319</td><td style=\"text-align: right;\">      2</td><td style=\"text-align: right;\">0.0682499 </td><td style=\"text-align: right;\"> 0.849279</td><td style=\"text-align: right;\"> 0.864996</td><td>2023-03-20_15-40-51</td><td>True  </td><td>                </td><td>bdf8ba7b44af4224bccbb3b689931187</td><td>pirl-PowerEdge-T640</td><td style=\"text-align: right;\">                         2</td><td>141.223.108.122</td><td style=\"text-align: right;\">13321</td><td>True               </td><td style=\"text-align: right;\">             768.413</td><td style=\"text-align: right;\">           381.595</td><td style=\"text-align: right;\">       768.413</td><td style=\"text-align: right;\"> 1679294451</td><td style=\"text-align: right;\">                        0</td><td>                 </td><td style=\"text-align: right;\">                   2</td><td>dbfd9718  </td><td style=\"text-align: right;\">    0.0294926</td></tr>\n",
       "<tr><td>train_dd36fdab</td><td style=\"text-align: right;\">  0.666161</td><td style=\"text-align: right;\">      2</td><td style=\"text-align: right;\">0.0962959 </td><td style=\"text-align: right;\"> 0.830184</td><td style=\"text-align: right;\"> 0.811197</td><td>2023-03-20_13-30-54</td><td>True  </td><td>                </td><td>65a9cb3f82ff4743aff93bcb6ddab20f</td><td>pirl-PowerEdge-T640</td><td style=\"text-align: right;\">                         2</td><td>141.223.108.122</td><td style=\"text-align: right;\">13234</td><td>True               </td><td style=\"text-align: right;\">             801.878</td><td style=\"text-align: right;\">           398.693</td><td style=\"text-align: right;\">       801.878</td><td style=\"text-align: right;\"> 1679286654</td><td style=\"text-align: right;\">                        0</td><td>                 </td><td style=\"text-align: right;\">                   2</td><td>dd36fdab  </td><td style=\"text-align: right;\">    0.0292459</td></tr>\n",
       "<tr><td>train_e06393f4</td><td style=\"text-align: right;\">  0.78741 </td><td style=\"text-align: right;\">     15</td><td style=\"text-align: right;\">0.0550434 </td><td style=\"text-align: right;\"> 0.892205</td><td style=\"text-align: right;\"> 0.894002</td><td>2023-03-20_13-04-12</td><td>True  </td><td>                </td><td>65a9cb3f82ff4743aff93bcb6ddab20f</td><td>pirl-PowerEdge-T640</td><td style=\"text-align: right;\">                        15</td><td>141.223.108.122</td><td style=\"text-align: right;\">13234</td><td>True               </td><td style=\"text-align: right;\">            6013.11 </td><td style=\"text-align: right;\">           400.526</td><td style=\"text-align: right;\">      6013.11 </td><td style=\"text-align: right;\"> 1679285052</td><td style=\"text-align: right;\">                        0</td><td>                 </td><td style=\"text-align: right;\">                  15</td><td>e06393f4  </td><td style=\"text-align: right;\">    0.0292459</td></tr>\n",
       "<tr><td>train_e5ba9d22</td><td style=\"text-align: right;\">  0.653321</td><td style=\"text-align: right;\">      2</td><td style=\"text-align: right;\">0.0310548 </td><td style=\"text-align: right;\"> 0.823743</td><td style=\"text-align: right;\"> 0.834307</td><td>2023-03-20_15-44-40</td><td>True  </td><td>                </td><td>65a9cb3f82ff4743aff93bcb6ddab20f</td><td>pirl-PowerEdge-T640</td><td style=\"text-align: right;\">                         2</td><td>141.223.108.122</td><td style=\"text-align: right;\">13234</td><td>True               </td><td style=\"text-align: right;\">             809.644</td><td style=\"text-align: right;\">           402.599</td><td style=\"text-align: right;\">       809.644</td><td style=\"text-align: right;\"> 1679294680</td><td style=\"text-align: right;\">                        0</td><td>                 </td><td style=\"text-align: right;\">                   2</td><td>e5ba9d22  </td><td style=\"text-align: right;\">    0.0292459</td></tr>\n",
       "<tr><td>train_f57c0247</td><td style=\"text-align: right;\">  0.722994</td><td style=\"text-align: right;\">     15</td><td style=\"text-align: right;\">0.0110812 </td><td style=\"text-align: right;\"> 0.859271</td><td style=\"text-align: right;\"> 0.877602</td><td>2023-03-20_12-18-31</td><td>True  </td><td>                </td><td>bdf8ba7b44af4224bccbb3b689931187</td><td>pirl-PowerEdge-T640</td><td style=\"text-align: right;\">                        15</td><td>141.223.108.122</td><td style=\"text-align: right;\">13321</td><td>True               </td><td style=\"text-align: right;\">            5688.85 </td><td style=\"text-align: right;\">           378.628</td><td style=\"text-align: right;\">      5688.85 </td><td style=\"text-align: right;\"> 1679282311</td><td style=\"text-align: right;\">                        0</td><td>                 </td><td style=\"text-align: right;\">                  15</td><td>f57c0247  </td><td style=\"text-align: right;\">    0.0294926</td></tr>\n",
       "</tbody>\n",
       "</table>\n",
       "</div>\n",
       "<style>\n",
       ".trialProgress {\n",
       "  display: flex;\n",
       "  flex-direction: column;\n",
       "  color: var(--jp-ui-font-color1);\n",
       "}\n",
       ".trialProgress h3 {\n",
       "  font-weight: bold;\n",
       "}\n",
       ".trialProgress td {\n",
       "  white-space: nowrap;\n",
       "}\n",
       "</style>\n"
      ],
      "text/plain": [
       "<IPython.core.display.HTML object>"
      ]
     },
     "metadata": {},
     "output_type": "display_data"
    },
    {
     "name": "stderr",
     "output_type": "stream",
     "text": [
      "2023-03-20 10:57:03,222\tINFO tensorboardx.py:267 -- Removed the following hyperparameter values when logging to tensorboard: {'input_filter': <function invert at 0x7ffa4cbfa5f0>, 'loss_fn': CrossEntropyLoss()}\n",
      "2023-03-20 11:23:58,957\tINFO tensorboardx.py:267 -- Removed the following hyperparameter values when logging to tensorboard: {'input_filter': <function invert at 0x7ffa4cbfa5f0>, 'input_layer': LaplacianFilter, 'loss_fn': (FocalLoss+FocalTverskyLoss)}\n",
      "2023-03-20 12:18:31,602\tINFO tensorboardx.py:267 -- Removed the following hyperparameter values when logging to tensorboard: {'input_layer': SobelFilter, 'loss_fn': (FocalLoss+FocalTverskyLoss)}\n",
      "2023-03-20 13:04:12,146\tINFO tensorboardx.py:267 -- Removed the following hyperparameter values when logging to tensorboard: {'input_layer': SobelFilter, 'loss_fn': (B:FocalLoss+V:FocalTverskyLoss)}\n",
      "2023-03-20 13:17:32,874\tINFO tensorboardx.py:267 -- Removed the following hyperparameter values when logging to tensorboard: {'loss_fn': TverskyLoss}\n",
      "2023-03-20 13:30:54,827\tINFO tensorboardx.py:267 -- Removed the following hyperparameter values when logging to tensorboard: {'input_filter': <function invert at 0x7ffa4cbfa5f0>, 'loss_fn': (B:FocalLoss+V:FocalTverskyLoss)}\n",
      "2023-03-20 13:53:16,704\tINFO tensorboardx.py:267 -- Removed the following hyperparameter values when logging to tensorboard: {'input_filter': <function invert at 0x7ffa4cbfa5f0>, 'input_layer': SobelFilter, 'loss_fn': (FocalLoss+FocalTverskyLoss)}\n",
      "2023-03-20 14:24:32,355\tINFO tensorboardx.py:267 -- Removed the following hyperparameter values when logging to tensorboard: {'input_filter': <function invert at 0x7ffa4cbfa5f0>, 'input_layer': LaplacianFilter, 'loss_fn': TverskyLoss}\n",
      "2023-03-20 14:37:54,024\tINFO tensorboardx.py:267 -- Removed the following hyperparameter values when logging to tensorboard: {'loss_fn': (FocalLoss+FocalTverskyLoss)}\n",
      "2023-03-20 15:28:03,451\tINFO tensorboardx.py:267 -- Removed the following hyperparameter values when logging to tensorboard: {'input_layer': LaplacianFilter, 'loss_fn': JaccardLoss}\n",
      "2023-03-20 15:31:10,605\tINFO tensorboardx.py:267 -- Removed the following hyperparameter values when logging to tensorboard: {'loss_fn': (B:FocalLoss+V:FocalTverskyLoss)}\n",
      "2023-03-20 15:40:51,951\tINFO tensorboardx.py:267 -- Removed the following hyperparameter values when logging to tensorboard: {'input_layer': LaplacianFilter, 'loss_fn': (B:FocalLoss+V:FocalTverskyLoss)}\n",
      "2023-03-20 15:44:40,325\tINFO tensorboardx.py:267 -- Removed the following hyperparameter values when logging to tensorboard: {'input_filter': <function invert at 0x7ffa4cbfa5f0>, 'input_layer': LaplacianFilter, 'loss_fn': FocalTverskyLoss}\n",
      "2023-03-20 15:53:37,545\tINFO tensorboardx.py:267 -- Removed the following hyperparameter values when logging to tensorboard: {'input_filter': <function invert at 0x7ffa4cbfa5f0>, 'input_layer': SobelFilter, 'loss_fn': (FocalLoss+FocalTverskyLoss)}\n",
      "2023-03-20 16:11:14,650\tINFO tensorboardx.py:267 -- Removed the following hyperparameter values when logging to tensorboard: {'input_filter': <function invert at 0x7ffa4cbfa5f0>, 'loss_fn': FocalTverskyLoss}\n",
      "2023-03-20 16:19:16,470\tINFO tensorboardx.py:267 -- Removed the following hyperparameter values when logging to tensorboard: {'input_layer': LaplacianFilter, 'loss_fn': (B:FocalLoss+V:FocalTverskyLoss)}\n"
     ]
    }
   ],
   "source": [
    "results = tuner.fit()"
   ]
  },
  {
   "cell_type": "markdown",
   "id": "f08aabe4",
   "metadata": {},
   "source": [
    "# Evaluating the best Results"
   ]
  },
  {
   "cell_type": "code",
   "execution_count": null,
   "id": "68f9ba97",
   "metadata": {
    "ExecuteTime": {
     "end_time": "2023-03-10T05:40:18.913144Z",
     "start_time": "2023-03-10T05:40:18.890272Z"
    }
   },
   "outputs": [],
   "source": [
    "best_result = results.get_best_result(metric=\"CrackIoU\", mode=\"max\", scope=\"all\")  # Get best result object\n",
    "print(\"Best trial config: {}\".format(best_result.config))\n",
    "print(\"Best trial final validation loss: {}\".format(best_result.metrics[\"Loss\"]))\n",
    "print(\"Best trial final validation CrackIoU: {}\".format(best_result.metrics[\"CrackIoU\"]))\n",
    "\n",
    "# evaluate(test_data=test_data, best_result=best_result)\n",
    "\n",
    "results_df = results.get_dataframe(filter_metric=\"CrackIoU\", filter_mode=\"max\")  # Get all trials by CrackIoU\n",
    "results_df.sort_values(\"CrackIoU\", ascending=False, inplace=True)\n",
    "\n",
    "evaluate_df(test_data=test_data, results_df=results_df)"
   ]
  },
  {
   "cell_type": "code",
   "execution_count": null,
   "id": "d599c84a",
   "metadata": {},
   "outputs": [],
   "source": []
  }
 ],
 "metadata": {
  "celltoolbar": "Initialization Cell",
  "kernelspec": {
   "display_name": "POC-env",
   "language": "python",
   "name": "poc-env"
  },
  "language_info": {
   "codemirror_mode": {
    "name": "ipython",
    "version": 3
   },
   "file_extension": ".py",
   "mimetype": "text/x-python",
   "name": "python",
   "nbconvert_exporter": "python",
   "pygments_lexer": "ipython3",
   "version": "3.10.9"
  },
  "latex_envs": {
   "LaTeX_envs_menu_present": true,
   "autoclose": false,
   "autocomplete": true,
   "bibliofile": "biblio.bib",
   "cite_by": "apalike",
   "current_citInitial": 1,
   "eqLabelWithNumbers": true,
   "eqNumInitial": 1,
   "hotkeys": {
    "equation": "Ctrl-E",
    "itemize": "Ctrl-I"
   },
   "labels_anchors": false,
   "latex_user_defs": false,
   "report_style_numbering": false,
   "user_envs_cfg": false
  },
  "toc": {
   "base_numbering": 1,
   "nav_menu": {},
   "number_sections": true,
   "sideBar": true,
   "skip_h1_title": false,
   "title_cell": "Table of Contents",
   "title_sidebar": "Contents",
   "toc_cell": true,
   "toc_position": {},
   "toc_section_display": true,
   "toc_window_display": false
  },
  "varInspector": {
   "cols": {
    "lenName": 16,
    "lenType": 16,
    "lenVar": 40
   },
   "kernels_config": {
    "python": {
     "delete_cmd_postfix": "",
     "delete_cmd_prefix": "del ",
     "library": "var_list.py",
     "varRefreshCmd": "print(var_dic_list())"
    },
    "r": {
     "delete_cmd_postfix": ") ",
     "delete_cmd_prefix": "rm(",
     "library": "var_list.r",
     "varRefreshCmd": "cat(var_dic_list()) "
    }
   },
   "oldHeight": 122.844,
   "position": {
    "height": "40px",
    "left": "1576px",
    "right": "20px",
    "top": "120px",
    "width": "250px"
   },
   "types_to_exclude": [
    "module",
    "function",
    "builtin_function_or_method",
    "instance",
    "_Feature"
   ],
   "varInspector_section_display": "none",
   "window_display": true
  }
 },
 "nbformat": 4,
 "nbformat_minor": 5
}
