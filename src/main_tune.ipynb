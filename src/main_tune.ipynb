{
 "cells": [
  {
   "cell_type": "markdown",
   "id": "25a1ac32",
   "metadata": {
    "toc": true
   },
   "source": [
    "<h1>Table of Contents<span class=\"tocSkip\"></span></h1>\n",
    "<div class=\"toc\"><ul class=\"toc-item\"><li><span><a href=\"#Setting-up-imports\" data-toc-modified-id=\"Setting-up-imports-1\"><span class=\"toc-item-num\">1&nbsp;&nbsp;</span>Setting up imports</a></span></li><li><span><a href=\"#Setting-up-Constant-Hyperparameters\" data-toc-modified-id=\"Setting-up-Constant-Hyperparameters-2\"><span class=\"toc-item-num\">2&nbsp;&nbsp;</span>Setting up Constant Hyperparameters</a></span></li><li><span><a href=\"#Setting-up-Parameters-and-Functions-for-Training\" data-toc-modified-id=\"Setting-up-Parameters-and-Functions-for-Training-3\"><span class=\"toc-item-num\">3&nbsp;&nbsp;</span>Setting up Parameters and Functions for Training</a></span><ul class=\"toc-item\"><li><span><a href=\"#Hyperparameters-Search-Space\" data-toc-modified-id=\"Hyperparameters-Search-Space-3.1\"><span class=\"toc-item-num\">3.1&nbsp;&nbsp;</span>Hyperparameters Search Space</a></span></li><li><span><a href=\"#Creating-the-training-function\" data-toc-modified-id=\"Creating-the-training-function-3.2\"><span class=\"toc-item-num\">3.2&nbsp;&nbsp;</span>Creating the training function</a></span></li><li><span><a href=\"#Creating-the-evaluation-function\" data-toc-modified-id=\"Creating-the-evaluation-function-3.3\"><span class=\"toc-item-num\">3.3&nbsp;&nbsp;</span>Creating the evaluation function</a></span></li></ul></li><li><span><a href=\"#Running-the-training\" data-toc-modified-id=\"Running-the-training-4\"><span class=\"toc-item-num\">4&nbsp;&nbsp;</span>Running the training</a></span><ul class=\"toc-item\"><li><span><a href=\"#Loading-data-for-training\" data-toc-modified-id=\"Loading-data-for-training-4.1\"><span class=\"toc-item-num\">4.1&nbsp;&nbsp;</span>Loading data for training</a></span></li><li><span><a href=\"#Configuring-the-Tuner-with-a-Scheduler-and-a-Search-Algorithm\" data-toc-modified-id=\"Configuring-the-Tuner-with-a-Scheduler-and-a-Search-Algorithm-4.2\"><span class=\"toc-item-num\">4.2&nbsp;&nbsp;</span>Configuring the Tuner with a Scheduler and a Search Algorithm</a></span></li><li><span><a href=\"#Running-the-Tuner\" data-toc-modified-id=\"Running-the-Tuner-4.3\"><span class=\"toc-item-num\">4.3&nbsp;&nbsp;</span>Running the Tuner</a></span></li></ul></li><li><span><a href=\"#Evaluating-the-best-Results\" data-toc-modified-id=\"Evaluating-the-best-Results-5\"><span class=\"toc-item-num\">5&nbsp;&nbsp;</span>Evaluating the best Results</a></span></li></ul></div>"
   ]
  },
  {
   "cell_type": "markdown",
   "id": "035da606",
   "metadata": {},
   "source": [
    "# Setting up imports"
   ]
  },
  {
   "cell_type": "code",
   "execution_count": 1,
   "id": "af16e0d4",
   "metadata": {
    "ExecuteTime": {
     "end_time": "2023-04-17T06:24:53.590657Z",
     "start_time": "2023-04-17T06:24:51.100937Z"
    },
    "cell_style": "center",
    "init_cell": true,
    "slideshow": {
     "slide_type": "-"
    }
   },
   "outputs": [],
   "source": [
    "import os\n",
    "from itertools import product\n",
    "\n",
    "import torch\n",
    "from torch.nn import CrossEntropyLoss, Sequential\n",
    "from torch.nn.functional import normalize\n",
    "from torch.optim import Adam\n",
    "from torch.optim.lr_scheduler import CosineAnnealingLR\n",
    "from torch.utils.data import DataLoader\n",
    "from torchvision.transforms import CenterCrop, Resize, GaussianBlur\n",
    "# from torchvision.transforms.functional import invert\n",
    "\n",
    "import ray\n",
    "from ray import tune\n",
    "from ray.air import session, RunConfig, CheckpointConfig\n",
    "from ray.air.checkpoint import Checkpoint\n",
    "from ray.tune.schedulers import ASHAScheduler\n",
    "# from ray.tune.search.hyperopt import HyperOptSearch\n",
    "# from ray.tune.search.optuna import OptunaSearch\n",
    "# from ray.tune.search import ConcurrencyLimiter\n",
    "\n",
    "\n",
    "from dataset import POCDataReader, data_augment_, POCDataset\n",
    "from metrics import Metrics, EvaluationMetrics\n",
    "from models import UNet, DeepCrack, SubUNet\n",
    "from loss import *\n",
    "from pipelines import InputPipeline, SequenceFilters, SumFilters\n",
    "from pipelines.filters import *\n",
    "from train import training_loop, validation_loop\n",
    "from train_tqdm import evaluation_loop\n"
   ]
  },
  {
   "cell_type": "markdown",
   "id": "3d9951dd",
   "metadata": {},
   "source": [
    "# Setting up Constant Hyperparameters"
   ]
  },
  {
   "cell_type": "code",
   "execution_count": 2,
   "id": "beb97ae7",
   "metadata": {
    "ExecuteTime": {
     "end_time": "2023-04-17T06:24:53.597549Z",
     "start_time": "2023-04-17T06:24:53.594001Z"
    },
    "init_cell": true
   },
   "outputs": [],
   "source": [
    "EPOCHS = 20\n",
    "NUM_SAMPLES = 1\n",
    "\n",
    "NUM_AUGMENT = 1\n",
    "\n",
    "LOAD_DATA_ON_GPU = False\n",
    "GPUS_PER_TRIAL = 1\n",
    "CPUS_PER_TRIAL = 20"
   ]
  },
  {
   "cell_type": "markdown",
   "id": "8d48f809",
   "metadata": {},
   "source": [
    "##### Selecting Cuda device"
   ]
  },
  {
   "cell_type": "code",
   "execution_count": 3,
   "id": "dd6be70b",
   "metadata": {
    "ExecuteTime": {
     "end_time": "2023-04-17T06:24:53.657191Z",
     "start_time": "2023-04-17T06:24:53.599795Z"
    },
    "init_cell": true
   },
   "outputs": [
    {
     "name": "stdout",
     "output_type": "stream",
     "text": [
      "Using cuda device\n"
     ]
    }
   ],
   "source": [
    "device = \"cuda\" if torch.cuda.is_available() else \"cpu\"\n",
    "print(f\"Using {device} device\")"
   ]
  },
  {
   "cell_type": "markdown",
   "id": "9687c3e3",
   "metadata": {},
   "source": [
    "# Setting up Parameters and Functions for Training"
   ]
  },
  {
   "cell_type": "markdown",
   "id": "215c221d",
   "metadata": {},
   "source": [
    "## Hyperparameters Search Space"
   ]
  },
  {
   "cell_type": "markdown",
   "id": "5d931716",
   "metadata": {
    "heading_collapsed": true
   },
   "source": [
    "##### Preload Losses Functions"
   ]
  },
  {
   "cell_type": "code",
   "execution_count": 4,
   "id": "28766a0c",
   "metadata": {
    "ExecuteTime": {
     "end_time": "2023-04-17T06:24:56.733872Z",
     "start_time": "2023-04-17T06:24:56.722857Z"
    },
    "hidden": true
   },
   "outputs": [],
   "source": [
    "pixel_loss_list = [\n",
    "    CrossEntropyLoss(weight=torch.tensor([.3, .7])),\n",
    "    FocalLoss(weight=torch.tensor([.3, .7]), gamma=2),\n",
    "]\n",
    "\n",
    "volume_loss_list = [\n",
    "    JaccardLoss(),\n",
    "    TverskyLoss(alpha=0.3, beta=0.7),\n",
    "    FocalTverskyLoss(alpha=0.3, beta=0.7, gamma=2),\n",
    "]\n",
    "\n",
    "loss_list = []\n",
    "for ploss in pixel_loss_list:\n",
    "    loss_list.append(PixelLoss(pixel_loss=ploss, volume_loss=None))\n",
    "for vloss in volume_loss_list:\n",
    "    loss_list.append(VolumeLoss(pixel_loss=None, volume_loss=vloss))\n",
    "for (ploss, vloss) in product(pixel_loss_list, volume_loss_list):\n",
    "    loss_list.append(CombinedLoss(loss1=ploss, loss2=vloss, ratio=0.3))\n",
    "    loss_list.append(BorderedLoss(border_loss=ploss, volume_loss=vloss, ratio=0.7))"
   ]
  },
  {
   "cell_type": "markdown",
   "id": "9939e19b",
   "metadata": {
    "heading_collapsed": true
   },
   "source": [
    "##### Preload Filter"
   ]
  },
  {
   "cell_type": "code",
   "execution_count": 5,
   "id": "2e663e37",
   "metadata": {
    "ExecuteTime": {
     "end_time": "2023-04-17T06:24:57.905012Z",
     "start_time": "2023-04-17T06:24:57.875365Z"
    },
    "hidden": true
   },
   "outputs": [],
   "source": [
    "filter_list = [normalize] #, invert]\n",
    "\n",
    "layer_list = [\n",
    "    SobelFilter(),\n",
    "    LaplacianFilter(),\n",
    "    FrangiFilter(),\n",
    "    SatoFilter(),\n",
    "    SumFilters(FrangiFilter(), SatoFilter()),\n",
    "    SkeletonFilter(SequenceFilters(SumFilters(FrangiFilter(), SatoFilter()), CrackBinaryFilter())),\n",
    "]\n",
    "\n",
    "pipeline_list = []\n",
    "for f, l in product(filter_list, layer_list):\n",
    "    pipeline_list.append(InputPipeline(transformer=f, layer_transformer=l))"
   ]
  },
  {
   "cell_type": "markdown",
   "id": "83d95e76",
   "metadata": {},
   "source": [
    "##### Search Space"
   ]
  },
  {
   "cell_type": "code",
   "execution_count": 6,
   "id": "e1e136d1",
   "metadata": {
    "ExecuteTime": {
     "end_time": "2023-04-17T06:24:59.029317Z",
     "start_time": "2023-04-17T06:24:59.023750Z"
    },
    "code_folding": [],
    "init_cell": true
   },
   "outputs": [],
   "source": [
    "search_space = {\n",
    "    \"Network\": UNet, #tune.grid_search([UNet, DeepCrack, SubUNet]),\n",
    "    \"Optimizer\": Adam,\n",
    "\n",
    "    \"Learning Rate\": 1e-4, #tune.loguniform(1e-6, 1e-4),\n",
    "    \"Batch Size\": 4,           #tune.qrandint(2, 8, 2),\n",
    "\n",
    "    \"Loss Function\": tune.grid_search(loss_list),\n",
    "\n",
    "    \"Negative Mining\": False, #tune.choice([True, False]),\n",
    "    \"Smooth Labeling\": False, #tune.choice([True, False]),\n",
    "\n",
    "    \"Input Pipeline\": tune.grid_search(pipeline_list),\n",
    "}"
   ]
  },
  {
   "cell_type": "markdown",
   "id": "ecc521e6",
   "metadata": {},
   "source": [
    "## Creating the training function"
   ]
  },
  {
   "cell_type": "code",
   "execution_count": 7,
   "id": "626acb32",
   "metadata": {
    "ExecuteTime": {
     "end_time": "2023-04-17T06:25:00.222485Z",
     "start_time": "2023-04-17T06:25:00.205759Z"
    },
    "code_folding": [
     0
    ],
    "init_cell": true
   },
   "outputs": [],
   "source": [
    "def train(config, train_data, val_data):\n",
    "\n",
    "    device = \"cuda\" if torch.cuda.is_available() else \"cpu\"\n",
    "    \n",
    "    inpip = config[\"Input Pipeline\"]\n",
    "    if LOAD_DATA_ON_GPU:\n",
    "        inpip = inpip.to(device)\n",
    "\n",
    "    train_dataset = POCDataset(\n",
    "        train_data,\n",
    "        transform=Sequential(inpip, CenterCrop(size=(480, 480)), Resize(size=(384, 384))),\n",
    "        target_transform= Sequential(\n",
    "            GaussianBlur(kernel_size=3, sigma=0.7),\n",
    "            CenterCrop(size=(480, 480)),\n",
    "            Resize(size=(384, 384)),\n",
    "        ) if config[\"Smooth Labeling\"] else Sequential(\n",
    "            CenterCrop(size=(480, 480)),\n",
    "            Resize(size=(384, 384)),\n",
    "        ),\n",
    "        negative_mining=config[\"Negative Mining\"],\n",
    "        load_on_gpu=LOAD_DATA_ON_GPU)\n",
    "    train_dataset.precompute_transform()\n",
    "\n",
    "    if LOAD_DATA_ON_GPU:\n",
    "        training_dataloader = DataLoader(\n",
    "            train_dataset,\n",
    "            batch_size=int(config[\"Batch Size\"]),\n",
    "            sampler=train_dataset.sampler,\n",
    "            shuffle= True if train_dataset.sampler is None else None,\n",
    "        )\n",
    "    else:\n",
    "        training_dataloader = DataLoader(\n",
    "            train_dataset,\n",
    "            batch_size=int(config[\"Batch Size\"]),\n",
    "            sampler=train_dataset.sampler,\n",
    "            shuffle= True if train_dataset.sampler is None else None,\n",
    "            num_workers=CPUS_PER_TRIAL//2,\n",
    "            pin_memory=True,\n",
    "            pin_memory_device=device)\n",
    "\n",
    "    val_dataset = POCDataset(\n",
    "        val_data, \n",
    "        transform=Sequential(inpip, CenterCrop(size=(480, 480)), Resize(size=(384, 384))),\n",
    "        target_transform=Sequential(CenterCrop(size=(480, 480)), Resize(size=(384, 384))),\n",
    "        negative_mining=False,\n",
    "        load_on_gpu=LOAD_DATA_ON_GPU)\n",
    "    val_dataset.precompute_transform()\n",
    "    \n",
    "    if LOAD_DATA_ON_GPU:\n",
    "        validation_dataloader = DataLoader(\n",
    "            val_dataset,\n",
    "            batch_size=int(config[\"Batch Size\"]),\n",
    "            shuffle=True)\n",
    "    else:\n",
    "        validation_dataloader = DataLoader(\n",
    "            val_dataset,\n",
    "            batch_size=int(config[\"Batch Size\"]),\n",
    "            shuffle=True,\n",
    "            num_workers=CPUS_PER_TRIAL//2,\n",
    "            pin_memory=True,\n",
    "            pin_memory_device=device)\n",
    "\n",
    "    model = config[\"Network\"](n_channels=inpip.nb_channel, n_classes=2)\n",
    "    if torch.cuda.is_available() and torch.cuda.device_count() > 1:\n",
    "        model = nn.DataParallel(model)\n",
    "    model.to(device)\n",
    "\n",
    "    loss_fn = config[\"Loss Function\"].to(device)\n",
    "    optimizer = config[\"Optimizer\"](model.parameters(), lr=config[\"Learning Rate\"], betas=(0.9, 0.99))\n",
    "    lr_scheduler = CosineAnnealingLR(optimizer, T_max=EPOCHS)\n",
    "\n",
    "    loaded_checkpoint = session.get_checkpoint()\n",
    "    if loaded_checkpoint:\n",
    "        with loaded_checkpoint.as_directory() as loaded_checkpoint_dir:\n",
    "            model_state, optimizer_state, scheduler_state = torch.load(os.path.join(loaded_checkpoint_dir, \"checkpoint.pt\"))\n",
    "        model.load_state_dict(model_state)\n",
    "        optimizer.load_state_dict(optimizer_state)\n",
    "        lr_scheduler.load_state_dict(scheduler_state)\n",
    "\n",
    "    train_metrics = Metrics(\n",
    "        buffer_size=len(training_dataloader),\n",
    "        mode=\"Training\",\n",
    "        hyperparam=config,\n",
    "        device=device)\n",
    "\n",
    "    val_metrics = Metrics(\n",
    "        buffer_size=len(validation_dataloader),\n",
    "        mode=\"Validation\",\n",
    "        hyperparam=config,\n",
    "        device=device)\n",
    "\n",
    "\n",
    "    for epoch in range(1, EPOCHS+1):  # loop over the dataset multiple times\n",
    "        training_loop(epoch, training_dataloader, model, loss_fn, optimizer, lr_scheduler, train_metrics, device)\n",
    "        validation_loop(epoch, validation_dataloader, model, loss_fn, val_metrics, device)\n",
    "\n",
    "        # Here we save a checkpoint. It is automatically registered with\n",
    "        # Ray Tune and can be accessed through `session.get_checkpoint()`\n",
    "        # API in future iterations.\n",
    "        os.makedirs(\"model\", exist_ok=True)\n",
    "        torch.save((model.state_dict(), optimizer.state_dict(), lr_scheduler.state_dict()), \"model/checkpoint.pt\")\n",
    "        checkpoint = Checkpoint.from_directory(\"model\")\n",
    "        session.report(metrics=val_metrics.get_metrics(epoch), checkpoint=checkpoint)\n",
    "\n",
    "    train_metrics.close_tensorboard()\n",
    "    val_metrics.close_tensorboard()\n"
   ]
  },
  {
   "cell_type": "markdown",
   "id": "ad8a58ec",
   "metadata": {},
   "source": [
    "## Creating the evaluation function"
   ]
  },
  {
   "cell_type": "code",
   "execution_count": 8,
   "id": "da4d17c2",
   "metadata": {
    "ExecuteTime": {
     "end_time": "2023-04-17T06:25:01.376117Z",
     "start_time": "2023-04-17T06:25:01.367356Z"
    },
    "code_folding": [
     0
    ],
    "init_cell": true
   },
   "outputs": [],
   "source": [
    "def evaluate(test_data, result):\n",
    "\n",
    "    device = \"cuda:0\" if torch.cuda.is_available() else \"cpu\"\n",
    "\n",
    "    inpip = result.config[\"Input Pipeline\"]\n",
    "    if LOAD_DATA_ON_GPU:\n",
    "        inpip = inpip.to(device)\n",
    "\n",
    "    test_dataset = POCDataset(\n",
    "        test_data,\n",
    "        transform=Sequential(inpip, CenterCrop(size=(480, 480)), Resize(size=(384, 384))),\n",
    "        target_transform=Sequential(CenterCrop(size=(480, 480)), Resize(size=(384, 384))),\n",
    "        negative_mining=False,\n",
    "        load_on_gpu=LOAD_DATA_ON_GPU)\n",
    "    \n",
    "    if LOAD_DATA_ON_GPU:\n",
    "        evaluation_dataloader = DataLoader(test_dataset, batch_size=1, shuffle=True)\n",
    "    else:\n",
    "        evaluation_dataloader = DataLoader(test_dataset, batch_size=1, shuffle=True, num_workers=2*CPUS_PER_TRIAL, pin_memory=True, pin_memory_device=device)\n",
    "\n",
    "    best_trained_model = result.config[\"Network\"](n_channels=inpip.nb_channel, n_classes=2).to(device)\n",
    "\n",
    "    checkpoint_path = os.path.join(result.checkpoint.to_directory(), \"checkpoint.pt\")\n",
    "    model_state, _, _ = torch.load(checkpoint_path)\n",
    "    best_trained_model.load_state_dict(model_state)\n",
    "\n",
    "    test_metrics = EvaluationMetrics(\n",
    "        buffer_size=len(evaluation_dataloader),\n",
    "        hyperparam=result.config,\n",
    "        epochs=result.metrics[\"Epoch\"],\n",
    "        device=device)\n",
    "\n",
    "    evaluation_loop(dataloader=evaluation_dataloader, model=best_trained_model, metric=test_metrics, device=device)\n"
   ]
  },
  {
   "cell_type": "markdown",
   "id": "918e1c03",
   "metadata": {},
   "source": [
    "# Running the training"
   ]
  },
  {
   "cell_type": "markdown",
   "id": "9f955b19",
   "metadata": {},
   "source": [
    "## Loading data for training"
   ]
  },
  {
   "cell_type": "code",
   "execution_count": 9,
   "id": "e15a7a2f",
   "metadata": {
    "ExecuteTime": {
     "end_time": "2023-04-17T06:26:01.761722Z",
     "start_time": "2023-04-17T06:25:03.674962Z"
    }
   },
   "outputs": [
    {
     "data": {
      "application/vnd.jupyter.widget-view+json": {
       "model_id": "9e3720b05734431197285c8865a7092d",
       "version_major": 2,
       "version_minor": 0
      },
      "text/plain": [
       "Loading dataset into RAM:   0%|          | 0/2744 [00:00<?, ?it/s]"
      ]
     },
     "metadata": {},
     "output_type": "display_data"
    },
    {
     "name": "stdout",
     "output_type": "stream",
     "text": [
      "\t- Loading done, RAM used: 4.79GiB / free: 50.15GiB / total: 125.40GiB\n",
      "\t- Got a total of 2744 images.\n"
     ]
    },
    {
     "data": {
      "application/vnd.jupyter.widget-view+json": {
       "model_id": "8abe7fcbdbc940c58cd6df4c1708f5c6",
       "version_major": 2,
       "version_minor": 0
      },
      "text/plain": [
       "Expending the dataset 1 more times:   0%|          | 0/1920 [00:00<?, ?it/s]"
      ]
     },
     "metadata": {},
     "output_type": "display_data"
    },
    {
     "name": "stdout",
     "output_type": "stream",
     "text": [
      "\t- Augmentation done, RAM used: 7.50GiB / free: 47.44GiB / total: 125.40GiB\n",
      "\t- Got 1920 new images and a total of 3840 images.\n"
     ]
    }
   ],
   "source": [
    "data_reader = POCDataReader(root_dir=\"../data/POC\", load_on_gpu=False, verbose=True)\n",
    "train_data, val_data, test_data = data_reader.split([0.7, 0.1, 0.2])\n",
    "data_augment_(train_data, n=NUM_AUGMENT, load_on_gpu=False, verbose=True)"
   ]
  },
  {
   "cell_type": "markdown",
   "id": "025b0faa",
   "metadata": {},
   "source": [
    "## Configuring the Tuner with a Scheduler and a Search Algorithm"
   ]
  },
  {
   "cell_type": "code",
   "execution_count": 10,
   "id": "a69701ba",
   "metadata": {
    "ExecuteTime": {
     "end_time": "2023-04-17T06:26:11.009929Z",
     "start_time": "2023-04-17T06:26:01.764123Z"
    }
   },
   "outputs": [],
   "source": [
    "# scheduler = ASHAScheduler(max_t=EPOCHS, grace_period=2, reduction_factor=2)\n",
    "# search_algo = HyperOptSearch()\n",
    "# search_algo = OptunaSearch()\n",
    "\n",
    "tune_config = tune.TuneConfig(\n",
    "    metric=\"CrackIoU\",\n",
    "    mode=\"max\",\n",
    "    num_samples=NUM_SAMPLES,\n",
    "#     scheduler=scheduler,\n",
    "#     search_alg=search_algo,\n",
    ")\n",
    "\n",
    "tuner = tune.Tuner(\n",
    "    tune.with_resources(\n",
    "        tune.with_parameters(train, train_data=train_data, val_data=val_data),\n",
    "        resources={\"cpu\": CPUS_PER_TRIAL, \"gpu\": GPUS_PER_TRIAL}),\n",
    "    tune_config=tune_config,\n",
    "    param_space=search_space,\n",
    "    run_config=RunConfig(\n",
    "        local_dir=\"~/POC-Project/ray_results\",\n",
    "        checkpoint_config=CheckpointConfig(\n",
    "            num_to_keep=1,\n",
    "            checkpoint_score_attribute=\"CrackIoU\",\n",
    "            checkpoint_score_order=\"max\",\n",
    "            checkpoint_at_end=False)))"
   ]
  },
  {
   "cell_type": "markdown",
   "id": "4b0913de",
   "metadata": {},
   "source": [
    "## Running the Tuner"
   ]
  },
  {
   "cell_type": "code",
   "execution_count": 11,
   "id": "cdfb3720",
   "metadata": {
    "ExecuteTime": {
     "end_time": "2023-04-20T13:20:45.890156Z",
     "start_time": "2023-04-17T06:26:11.013047Z"
    },
    "scrolled": false
   },
   "outputs": [
    {
     "name": "stderr",
     "output_type": "stream",
     "text": [
      "2023-04-17 15:26:15,075\tINFO worker.py:1544 -- Started a local Ray instance. View the dashboard at \u001b[1m\u001b[32m127.0.0.1:8265 \u001b[39m\u001b[22m\n"
     ]
    },
    {
     "data": {
      "text/html": [
       "<div class=\"tuneStatus\">\n",
       "  <div style=\"display: flex;flex-direction: row\">\n",
       "    <div style=\"display: flex;flex-direction: column;\">\n",
       "      <h3>Tune Status</h3>\n",
       "      <table>\n",
       "<tbody>\n",
       "<tr><td>Current time:</td><td>2023-04-20 22:20:45</td></tr>\n",
       "<tr><td>Running for: </td><td>3 days, 06:54:16.92</td></tr>\n",
       "<tr><td>Memory:      </td><td>35.6/125.4 GiB     </td></tr>\n",
       "</tbody>\n",
       "</table>\n",
       "    </div>\n",
       "    <div class=\"vDivider\"></div>\n",
       "    <div class=\"systemInfo\">\n",
       "      <h3>System Info</h3>\n",
       "      Using FIFO scheduling algorithm.<br>Resources requested: 0/40 CPUs, 0/2 GPUs, 0.0/64.73 GiB heap, 0.0/31.73 GiB objects (0.0/1.0 accelerator_type:RTX)\n",
       "    </div>\n",
       "    \n",
       "  </div>\n",
       "  <div class=\"hDivider\"></div>\n",
       "  <div class=\"trialStatus\">\n",
       "    <h3>Trial Status</h3>\n",
       "    <table>\n",
       "<thead>\n",
       "<tr><th>Trial name       </th><th>status    </th><th>loc                 </th><th>Input Pipeline      </th><th>Loss Function       </th><th style=\"text-align: right;\">  iter</th><th style=\"text-align: right;\">  total time (s)</th><th style=\"text-align: right;\">  Epoch</th><th style=\"text-align: right;\">      Loss</th><th style=\"text-align: right;\">  CrackIoU</th></tr>\n",
       "</thead>\n",
       "<tbody>\n",
       "<tr><td>train_c9562_00000</td><td>TERMINATED</td><td>141.223.108.122:6540</td><td>InputPipeline(n_b8b0</td><td>PixelLoss:Cross_9a50</td><td style=\"text-align: right;\">    20</td><td style=\"text-align: right;\">         4263.6 </td><td style=\"text-align: right;\">     20</td><td style=\"text-align: right;\">0.0976049 </td><td style=\"text-align: right;\">  0.751568</td></tr>\n",
       "<tr><td>train_c9562_00001</td><td>TERMINATED</td><td>141.223.108.122:6626</td><td>InputPipeline(n_b070</td><td>PixelLoss:Cross_8610</td><td style=\"text-align: right;\">    20</td><td style=\"text-align: right;\">         4367.78</td><td style=\"text-align: right;\">     20</td><td style=\"text-align: right;\">0.0977082 </td><td style=\"text-align: right;\">  0.74039 </td></tr>\n",
       "<tr><td>train_c9562_00002</td><td>TERMINATED</td><td>141.223.108.122:6540</td><td>InputPipeline(n_9ea0</td><td>PixelLoss:Cross_8490</td><td style=\"text-align: right;\">    20</td><td style=\"text-align: right;\">         5284.11</td><td style=\"text-align: right;\">     20</td><td style=\"text-align: right;\">0.0976747 </td><td style=\"text-align: right;\">  0.748502</td></tr>\n",
       "<tr><td>train_c9562_00003</td><td>TERMINATED</td><td>141.223.108.122:6626</td><td>InputPipeline(n_a830</td><td>PixelLoss:Cross_b7c0</td><td style=\"text-align: right;\">    20</td><td style=\"text-align: right;\">         5287.49</td><td style=\"text-align: right;\">     20</td><td style=\"text-align: right;\">0.0976705 </td><td style=\"text-align: right;\">  0.741304</td></tr>\n",
       "<tr><td>train_c9562_00004</td><td>TERMINATED</td><td>141.223.108.122:6540</td><td>InputPipeline(n_c880</td><td>PixelLoss:Cross_ecb0</td><td style=\"text-align: right;\">    20</td><td style=\"text-align: right;\">         6426.71</td><td style=\"text-align: right;\">     20</td><td style=\"text-align: right;\">0.0977357 </td><td style=\"text-align: right;\">  0.746081</td></tr>\n",
       "<tr><td>train_c9562_00005</td><td>TERMINATED</td><td>141.223.108.122:6626</td><td>InputPipeline(n_d540</td><td>PixelLoss:Cross_d8d0</td><td style=\"text-align: right;\">    20</td><td style=\"text-align: right;\">         6610.27</td><td style=\"text-align: right;\">     20</td><td style=\"text-align: right;\">0.097692  </td><td style=\"text-align: right;\">  0.737914</td></tr>\n",
       "<tr><td>train_c9562_00006</td><td>TERMINATED</td><td>141.223.108.122:6540</td><td>InputPipeline(n_c8e0</td><td>PixelLoss:FocalLoss </td><td style=\"text-align: right;\">    20</td><td style=\"text-align: right;\">         4351.35</td><td style=\"text-align: right;\">     20</td><td style=\"text-align: right;\">0.00767268</td><td style=\"text-align: right;\">  0.741831</td></tr>\n",
       "<tr><td>train_c9562_00007</td><td>TERMINATED</td><td>141.223.108.122:6626</td><td>InputPipeline(n_c0a0</td><td>PixelLoss:FocalLoss </td><td style=\"text-align: right;\">    20</td><td style=\"text-align: right;\">         4661.64</td><td style=\"text-align: right;\">     20</td><td style=\"text-align: right;\">0.00769114</td><td style=\"text-align: right;\">  0.736354</td></tr>\n",
       "<tr><td>train_c9562_00008</td><td>TERMINATED</td><td>141.223.108.122:6540</td><td>InputPipeline(n_c340</td><td>PixelLoss:FocalLoss </td><td style=\"text-align: right;\">    20</td><td style=\"text-align: right;\">         5241.75</td><td style=\"text-align: right;\">     20</td><td style=\"text-align: right;\">0.00769451</td><td style=\"text-align: right;\">  0.734131</td></tr>\n",
       "<tr><td>train_c9562_00009</td><td>TERMINATED</td><td>141.223.108.122:6626</td><td>InputPipeline(n_ddb0</td><td>PixelLoss:FocalLoss </td><td style=\"text-align: right;\">    20</td><td style=\"text-align: right;\">         5323.17</td><td style=\"text-align: right;\">     20</td><td style=\"text-align: right;\">0.00769539</td><td style=\"text-align: right;\">  0.728698</td></tr>\n",
       "<tr><td>train_c9562_00010</td><td>TERMINATED</td><td>141.223.108.122:6540</td><td>InputPipeline(n_f490</td><td>PixelLoss:FocalLoss </td><td style=\"text-align: right;\">    20</td><td style=\"text-align: right;\">         6388.79</td><td style=\"text-align: right;\">     20</td><td style=\"text-align: right;\">0.00768726</td><td style=\"text-align: right;\">  0.73094 </td></tr>\n",
       "<tr><td>train_c9562_00011</td><td>TERMINATED</td><td>141.223.108.122:6626</td><td>InputPipeline(n_ccd0</td><td>PixelLoss:FocalLoss </td><td style=\"text-align: right;\">    20</td><td style=\"text-align: right;\">         6638.85</td><td style=\"text-align: right;\">     20</td><td style=\"text-align: right;\">0.00771484</td><td style=\"text-align: right;\">  0.727578</td></tr>\n",
       "<tr><td>train_c9562_00012</td><td>TERMINATED</td><td>141.223.108.122:6540</td><td>InputPipeline(n_d1e0</td><td>VolumeLoss:Jacc_ebc0</td><td style=\"text-align: right;\">    20</td><td style=\"text-align: right;\">         4338.41</td><td style=\"text-align: right;\">     20</td><td style=\"text-align: right;\">0.117683  </td><td style=\"text-align: right;\">  0.76855 </td></tr>\n",
       "<tr><td>train_c9562_00013</td><td>TERMINATED</td><td>141.223.108.122:6626</td><td>InputPipeline(n_eda0</td><td>VolumeLoss:Jacc_ed10</td><td style=\"text-align: right;\">    20</td><td style=\"text-align: right;\">         4557.9 </td><td style=\"text-align: right;\">     20</td><td style=\"text-align: right;\">0.118029  </td><td style=\"text-align: right;\">  0.767908</td></tr>\n",
       "<tr><td>train_c9562_00014</td><td>TERMINATED</td><td>141.223.108.122:6540</td><td>InputPipeline(n_c8b0</td><td>VolumeLoss:Jacc_c700</td><td style=\"text-align: right;\">    20</td><td style=\"text-align: right;\">         5254.41</td><td style=\"text-align: right;\">     20</td><td style=\"text-align: right;\">0.119878  </td><td style=\"text-align: right;\">  0.764306</td></tr>\n",
       "<tr><td>train_c9562_00015</td><td>TERMINATED</td><td>141.223.108.122:6626</td><td>InputPipeline(n_dc60</td><td>VolumeLoss:Jacc_fbb0</td><td style=\"text-align: right;\">    20</td><td style=\"text-align: right;\">         5236.34</td><td style=\"text-align: right;\">     20</td><td style=\"text-align: right;\">0.117028  </td><td style=\"text-align: right;\">  0.769923</td></tr>\n",
       "<tr><td>train_c9562_00016</td><td>TERMINATED</td><td>141.223.108.122:6540</td><td>InputPipeline(n_e380</td><td>VolumeLoss:Jacc_f5e0</td><td style=\"text-align: right;\">    20</td><td style=\"text-align: right;\">         6456.98</td><td style=\"text-align: right;\">     20</td><td style=\"text-align: right;\">0.119339  </td><td style=\"text-align: right;\">  0.765429</td></tr>\n",
       "<tr><td>train_c9562_00017</td><td>TERMINATED</td><td>141.223.108.122:6626</td><td>InputPipeline(n_e6e0</td><td>VolumeLoss:Jacc_f4c0</td><td style=\"text-align: right;\">    20</td><td style=\"text-align: right;\">         6541.24</td><td style=\"text-align: right;\">     20</td><td style=\"text-align: right;\">0.117862  </td><td style=\"text-align: right;\">  0.768355</td></tr>\n",
       "<tr><td>train_c9562_00018</td><td>TERMINATED</td><td>141.223.108.122:6540</td><td>InputPipeline(n_f2e0</td><td>VolumeLoss:Tver_d510</td><td style=\"text-align: right;\">    20</td><td style=\"text-align: right;\">         4390.91</td><td style=\"text-align: right;\">     20</td><td style=\"text-align: right;\">0.118969  </td><td style=\"text-align: right;\">  0.746357</td></tr>\n",
       "<tr><td>train_c9562_00019</td><td>TERMINATED</td><td>141.223.108.122:6626</td><td>InputPipeline(n_f700</td><td>VolumeLoss:Tver_e620</td><td style=\"text-align: right;\">    20</td><td style=\"text-align: right;\">         4636.86</td><td style=\"text-align: right;\">     20</td><td style=\"text-align: right;\">0.123029  </td><td style=\"text-align: right;\">  0.741675</td></tr>\n",
       "<tr><td>train_c9562_00020</td><td>TERMINATED</td><td>141.223.108.122:6540</td><td>InputPipeline(n_e860</td><td>VolumeLoss:Tver_dd50</td><td style=\"text-align: right;\">    20</td><td style=\"text-align: right;\">         5300.07</td><td style=\"text-align: right;\">     20</td><td style=\"text-align: right;\">0.118398  </td><td style=\"text-align: right;\">  0.74436 </td></tr>\n",
       "<tr><td>train_c9562_00021</td><td>TERMINATED</td><td>141.223.108.122:6626</td><td>InputPipeline(n_d390</td><td>VolumeLoss:Tver_c6d0</td><td style=\"text-align: right;\">    20</td><td style=\"text-align: right;\">         5273.84</td><td style=\"text-align: right;\">     20</td><td style=\"text-align: right;\">0.116905  </td><td style=\"text-align: right;\">  0.75271 </td></tr>\n",
       "<tr><td>train_c9562_00022</td><td>TERMINATED</td><td>141.223.108.122:6540</td><td>InputPipeline(n_9b10</td><td>VolumeLoss:Tver_a680</td><td style=\"text-align: right;\">    20</td><td style=\"text-align: right;\">         6459.25</td><td style=\"text-align: right;\">     20</td><td style=\"text-align: right;\">0.117163  </td><td style=\"text-align: right;\">  0.749755</td></tr>\n",
       "<tr><td>train_c9562_00023</td><td>TERMINATED</td><td>141.223.108.122:6626</td><td>InputPipeline(n_d360</td><td>VolumeLoss:Tver_e650</td><td style=\"text-align: right;\">    20</td><td style=\"text-align: right;\">         6606.6 </td><td style=\"text-align: right;\">     20</td><td style=\"text-align: right;\">0.120065  </td><td style=\"text-align: right;\">  0.743604</td></tr>\n",
       "<tr><td>train_c9562_00024</td><td>TERMINATED</td><td>141.223.108.122:6540</td><td>InputPipeline(n_ca30</td><td>VolumeLoss:Foca_e7d0</td><td style=\"text-align: right;\">    20</td><td style=\"text-align: right;\">         4411.81</td><td style=\"text-align: right;\">     20</td><td style=\"text-align: right;\">0.015771  </td><td style=\"text-align: right;\">  0.747028</td></tr>\n",
       "<tr><td>train_c9562_00025</td><td>TERMINATED</td><td>141.223.108.122:6626</td><td>InputPipeline(n_d840</td><td>VolumeLoss:Foca_e590</td><td style=\"text-align: right;\">    20</td><td style=\"text-align: right;\">         4631.74</td><td style=\"text-align: right;\">     20</td><td style=\"text-align: right;\">0.016286  </td><td style=\"text-align: right;\">  0.744085</td></tr>\n",
       "<tr><td>train_c9562_00026</td><td>TERMINATED</td><td>141.223.108.122:6540</td><td>InputPipeline(n_cd90</td><td>VolumeLoss:Foca_cbb0</td><td style=\"text-align: right;\">    20</td><td style=\"text-align: right;\">         5358.98</td><td style=\"text-align: right;\">     20</td><td style=\"text-align: right;\">0.0167818 </td><td style=\"text-align: right;\">  0.741777</td></tr>\n",
       "<tr><td>train_c9562_00027</td><td>TERMINATED</td><td>141.223.108.122:6626</td><td>InputPipeline(n_fb80</td><td>VolumeLoss:Foca_f6d0</td><td style=\"text-align: right;\">    20</td><td style=\"text-align: right;\">         5361.98</td><td style=\"text-align: right;\">     20</td><td style=\"text-align: right;\">0.015319  </td><td style=\"text-align: right;\">  0.748444</td></tr>\n",
       "<tr><td>train_c9562_00028</td><td>TERMINATED</td><td>141.223.108.122:6540</td><td>InputPipeline(n_cb20</td><td>VolumeLoss:Foca_f0d0</td><td style=\"text-align: right;\">    20</td><td style=\"text-align: right;\">         6543.06</td><td style=\"text-align: right;\">     20</td><td style=\"text-align: right;\">0.0165832 </td><td style=\"text-align: right;\">  0.741811</td></tr>\n",
       "<tr><td>train_c9562_00029</td><td>TERMINATED</td><td>141.223.108.122:6626</td><td>InputPipeline(n_bc70</td><td>VolumeLoss:Foca_a830</td><td style=\"text-align: right;\">    20</td><td style=\"text-align: right;\">         6593.39</td><td style=\"text-align: right;\">     20</td><td style=\"text-align: right;\">0.0173017 </td><td style=\"text-align: right;\">  0.740097</td></tr>\n",
       "<tr><td>train_c9562_00030</td><td>TERMINATED</td><td>141.223.108.122:6540</td><td>InputPipeline(n_1a80</td><td>CombinedLoss(Cr_09d0</td><td style=\"text-align: right;\">    20</td><td style=\"text-align: right;\">         4458.97</td><td style=\"text-align: right;\">     20</td><td style=\"text-align: right;\">0.111209  </td><td style=\"text-align: right;\">  0.770012</td></tr>\n",
       "<tr><td>train_c9562_00031</td><td>TERMINATED</td><td>141.223.108.122:6626</td><td>InputPipeline(n_1e70</td><td>CombinedLoss(Cr_1720</td><td style=\"text-align: right;\">    20</td><td style=\"text-align: right;\">         4610.29</td><td style=\"text-align: right;\">     20</td><td style=\"text-align: right;\">0.112435  </td><td style=\"text-align: right;\">  0.766634</td></tr>\n",
       "<tr><td>train_c9562_00032</td><td>TERMINATED</td><td>141.223.108.122:6540</td><td>InputPipeline(n_24d0</td><td>CombinedLoss(Cr_3fd0</td><td style=\"text-align: right;\">    20</td><td style=\"text-align: right;\">         5389.66</td><td style=\"text-align: right;\">     20</td><td style=\"text-align: right;\">0.114018  </td><td style=\"text-align: right;\">  0.762132</td></tr>\n",
       "<tr><td>train_c9562_00033</td><td>TERMINATED</td><td>141.223.108.122:6626</td><td>InputPipeline(n_2950</td><td>CombinedLoss(Cr_1930</td><td style=\"text-align: right;\">    20</td><td style=\"text-align: right;\">         5342.06</td><td style=\"text-align: right;\">     20</td><td style=\"text-align: right;\">0.112476  </td><td style=\"text-align: right;\">  0.766488</td></tr>\n",
       "<tr><td>train_c9562_00034</td><td>TERMINATED</td><td>141.223.108.122:6540</td><td>InputPipeline(n_2cb0</td><td>CombinedLoss(Cr_19f0</td><td style=\"text-align: right;\">    20</td><td style=\"text-align: right;\">         6517.68</td><td style=\"text-align: right;\">     20</td><td style=\"text-align: right;\">0.11299   </td><td style=\"text-align: right;\">  0.765022</td></tr>\n",
       "<tr><td>train_c9562_00035</td><td>TERMINATED</td><td>141.223.108.122:6626</td><td>InputPipeline(n_2fb0</td><td>CombinedLoss(Cr_1c90</td><td style=\"text-align: right;\">    20</td><td style=\"text-align: right;\">         6611.3 </td><td style=\"text-align: right;\">     20</td><td style=\"text-align: right;\">0.1154    </td><td style=\"text-align: right;\">  0.758363</td></tr>\n",
       "<tr><td>train_c9562_00036</td><td>TERMINATED</td><td>141.223.108.122:6540</td><td>InputPipeline(n_35b0</td><td>BorderedLoss(Cr_19c0</td><td style=\"text-align: right;\">    20</td><td style=\"text-align: right;\">         4490.08</td><td style=\"text-align: right;\">     20</td><td style=\"text-align: right;\">0.0830628 </td><td style=\"text-align: right;\">  0.768635</td></tr>\n",
       "<tr><td>train_c9562_00037</td><td>TERMINATED</td><td>141.223.108.122:6626</td><td>InputPipeline(n_3a30</td><td>BorderedLoss(Cr_2710</td><td style=\"text-align: right;\">    20</td><td style=\"text-align: right;\">         4644.11</td><td style=\"text-align: right;\">     20</td><td style=\"text-align: right;\">0.0821514 </td><td style=\"text-align: right;\">  0.771276</td></tr>\n",
       "<tr><td>train_c9562_00038</td><td>TERMINATED</td><td>141.223.108.122:6540</td><td>InputPipeline(n_3eb0</td><td>BorderedLoss(Cr_2e30</td><td style=\"text-align: right;\">    20</td><td style=\"text-align: right;\">         5407.22</td><td style=\"text-align: right;\">     20</td><td style=\"text-align: right;\">0.082017  </td><td style=\"text-align: right;\">  0.771568</td></tr>\n",
       "<tr><td>train_c9562_00039</td><td>TERMINATED</td><td>141.223.108.122:6626</td><td>InputPipeline(n_2080</td><td>BorderedLoss(Cr_3490</td><td style=\"text-align: right;\">    20</td><td style=\"text-align: right;\">         5367.45</td><td style=\"text-align: right;\">     20</td><td style=\"text-align: right;\">0.0820482 </td><td style=\"text-align: right;\">  0.771528</td></tr>\n",
       "<tr><td>train_c9562_00040</td><td>TERMINATED</td><td>141.223.108.122:6540</td><td>InputPipeline(n_2380</td><td>BorderedLoss(Cr_3550</td><td style=\"text-align: right;\">    20</td><td style=\"text-align: right;\">         6596.57</td><td style=\"text-align: right;\">     20</td><td style=\"text-align: right;\">0.0852091 </td><td style=\"text-align: right;\">  0.762495</td></tr>\n",
       "<tr><td>train_c9562_00041</td><td>TERMINATED</td><td>141.223.108.122:6626</td><td>InputPipeline(n_29b0</td><td>BorderedLoss(Cr_37f0</td><td style=\"text-align: right;\">    20</td><td style=\"text-align: right;\">         6665.97</td><td style=\"text-align: right;\">     20</td><td style=\"text-align: right;\">0.0820585 </td><td style=\"text-align: right;\">  0.771595</td></tr>\n",
       "<tr><td>train_c9562_00042</td><td>TERMINATED</td><td>141.223.108.122:6540</td><td>InputPipeline(n_32b0</td><td>CombinedLoss(Cr_3670</td><td style=\"text-align: right;\">    20</td><td style=\"text-align: right;\">         4490.35</td><td style=\"text-align: right;\">     20</td><td style=\"text-align: right;\">0.110518  </td><td style=\"text-align: right;\">  0.751108</td></tr>\n",
       "<tr><td>train_c9562_00043</td><td>TERMINATED</td><td>141.223.108.122:6626</td><td>InputPipeline(n_03a0</td><td>CombinedLoss(Cr_1e40</td><td style=\"text-align: right;\">    20</td><td style=\"text-align: right;\">         4660.01</td><td style=\"text-align: right;\">     20</td><td style=\"text-align: right;\">0.112543  </td><td style=\"text-align: right;\">  0.746688</td></tr>\n",
       "<tr><td>train_c9562_00044</td><td>TERMINATED</td><td>141.223.108.122:6540</td><td>InputPipeline(n_3730</td><td>CombinedLoss(Cr_25c0</td><td style=\"text-align: right;\">    20</td><td style=\"text-align: right;\">         5411.05</td><td style=\"text-align: right;\">     20</td><td style=\"text-align: right;\">0.111556  </td><td style=\"text-align: right;\">  0.749858</td></tr>\n",
       "<tr><td>train_c9562_00045</td><td>TERMINATED</td><td>141.223.108.122:6626</td><td>InputPipeline(n_0c70</td><td>CombinedLoss(Cr_3130</td><td style=\"text-align: right;\">    20</td><td style=\"text-align: right;\">         5389.33</td><td style=\"text-align: right;\">     20</td><td style=\"text-align: right;\">0.110615  </td><td style=\"text-align: right;\">  0.749857</td></tr>\n",
       "<tr><td>train_c9562_00046</td><td>TERMINATED</td><td>141.223.108.122:6540</td><td>InputPipeline(n_0790</td><td>CombinedLoss(Cr_3070</td><td style=\"text-align: right;\">    20</td><td style=\"text-align: right;\">         6571.56</td><td style=\"text-align: right;\">     20</td><td style=\"text-align: right;\">0.114509  </td><td style=\"text-align: right;\">  0.741225</td></tr>\n",
       "<tr><td>train_c9562_00047</td><td>TERMINATED</td><td>141.223.108.122:6626</td><td>InputPipeline(n_3dc0</td><td>CombinedLoss(Cr_3970</td><td style=\"text-align: right;\">    20</td><td style=\"text-align: right;\">         6620.63</td><td style=\"text-align: right;\">     20</td><td style=\"text-align: right;\">0.113517  </td><td style=\"text-align: right;\">  0.745687</td></tr>\n",
       "<tr><td>train_c9562_00048</td><td>TERMINATED</td><td>141.223.108.122:6540</td><td>InputPipeline(n_2f20</td><td>BorderedLoss(Cr_3310</td><td style=\"text-align: right;\">    20</td><td style=\"text-align: right;\">         4509.97</td><td style=\"text-align: right;\">     20</td><td style=\"text-align: right;\">0.0815676 </td><td style=\"text-align: right;\">  0.75524 </td></tr>\n",
       "<tr><td>train_c9562_00049</td><td>TERMINATED</td><td>141.223.108.122:6626</td><td>InputPipeline(n_33a0</td><td>BorderedLoss(Cr_0640</td><td style=\"text-align: right;\">    20</td><td style=\"text-align: right;\">         4778.69</td><td style=\"text-align: right;\">     20</td><td style=\"text-align: right;\">0.0830719 </td><td style=\"text-align: right;\">  0.747149</td></tr>\n",
       "<tr><td>train_c9562_00050</td><td>TERMINATED</td><td>141.223.108.122:6540</td><td>InputPipeline(n_16c0</td><td>BorderedLoss(Cr_2740</td><td style=\"text-align: right;\">    20</td><td style=\"text-align: right;\">         5432.75</td><td style=\"text-align: right;\">     20</td><td style=\"text-align: right;\">0.0840382 </td><td style=\"text-align: right;\">  0.748376</td></tr>\n",
       "<tr><td>train_c9562_00051</td><td>TERMINATED</td><td>141.223.108.122:6626</td><td>InputPipeline(n_32e0</td><td>BorderedLoss(Cr_3e80</td><td style=\"text-align: right;\">    20</td><td style=\"text-align: right;\">         5407.73</td><td style=\"text-align: right;\">     20</td><td style=\"text-align: right;\">0.083952  </td><td style=\"text-align: right;\">  0.748548</td></tr>\n",
       "<tr><td>train_c9562_00052</td><td>TERMINATED</td><td>141.223.108.122:6540</td><td>InputPipeline(n_3cd0</td><td>BorderedLoss(Cr_2620</td><td style=\"text-align: right;\">    20</td><td style=\"text-align: right;\">         6621.55</td><td style=\"text-align: right;\">     20</td><td style=\"text-align: right;\">0.0830048 </td><td style=\"text-align: right;\">  0.746668</td></tr>\n",
       "<tr><td>train_c9562_00053</td><td>TERMINATED</td><td>141.223.108.122:6626</td><td>InputPipeline(n_0340</td><td>BorderedLoss(Cr_20b0</td><td style=\"text-align: right;\">    20</td><td style=\"text-align: right;\">         6710.44</td><td style=\"text-align: right;\">     20</td><td style=\"text-align: right;\">0.0861706 </td><td style=\"text-align: right;\">  0.739418</td></tr>\n",
       "<tr><td>train_c9562_00054</td><td>TERMINATED</td><td>141.223.108.122:6540</td><td>InputPipeline(n_3d00</td><td>CombinedLoss(Cr_2ad0</td><td style=\"text-align: right;\">    20</td><td style=\"text-align: right;\">         4508.31</td><td style=\"text-align: right;\">     20</td><td style=\"text-align: right;\">0.0398443 </td><td style=\"text-align: right;\">  0.751871</td></tr>\n",
       "<tr><td>train_c9562_00055</td><td>TERMINATED</td><td>141.223.108.122:6626</td><td>InputPipeline(n_13f0</td><td>CombinedLoss(Cr_0520</td><td style=\"text-align: right;\">    20</td><td style=\"text-align: right;\">         4683.27</td><td style=\"text-align: right;\">     20</td><td style=\"text-align: right;\">0.0407737 </td><td style=\"text-align: right;\">  0.747554</td></tr>\n",
       "<tr><td>train_c9562_00056</td><td>TERMINATED</td><td>141.223.108.122:6540</td><td>InputPipeline(n_3a60</td><td>CombinedLoss(Cr_11e0</td><td style=\"text-align: right;\">    20</td><td style=\"text-align: right;\">         5435.07</td><td style=\"text-align: right;\">     20</td><td style=\"text-align: right;\">0.0404246 </td><td style=\"text-align: right;\">  0.744621</td></tr>\n",
       "<tr><td>train_c9562_00057</td><td>TERMINATED</td><td>141.223.108.122:6626</td><td>InputPipeline(n_9210</td><td>CombinedLoss(Cr_8700</td><td style=\"text-align: right;\">    20</td><td style=\"text-align: right;\">         5473.92</td><td style=\"text-align: right;\">     20</td><td style=\"text-align: right;\">0.0403925 </td><td style=\"text-align: right;\">  0.74544 </td></tr>\n",
       "<tr><td>train_c9562_00058</td><td>TERMINATED</td><td>141.223.108.122:6540</td><td>InputPipeline(n_f0a0</td><td>CombinedLoss(Cr_a5c0</td><td style=\"text-align: right;\">    20</td><td style=\"text-align: right;\">         6585.97</td><td style=\"text-align: right;\">     20</td><td style=\"text-align: right;\">0.0399106 </td><td style=\"text-align: right;\">  0.745962</td></tr>\n",
       "<tr><td>train_c9562_00059</td><td>TERMINATED</td><td>141.223.108.122:6626</td><td>InputPipeline(n_8130</td><td>CombinedLoss(Cr_9120</td><td style=\"text-align: right;\">    20</td><td style=\"text-align: right;\">         6740.88</td><td style=\"text-align: right;\">     20</td><td style=\"text-align: right;\">0.0411787 </td><td style=\"text-align: right;\">  0.742149</td></tr>\n",
       "<tr><td>train_c9562_00060</td><td>TERMINATED</td><td>141.223.108.122:6540</td><td>InputPipeline(n_a230</td><td>BorderedLoss(Cr_acb0</td><td style=\"text-align: right;\">    20</td><td style=\"text-align: right;\">         4539.08</td><td style=\"text-align: right;\">     20</td><td style=\"text-align: right;\">0.0118639 </td><td style=\"text-align: right;\">  0.743189</td></tr>\n",
       "<tr><td>train_c9562_00061</td><td>TERMINATED</td><td>141.223.108.122:6626</td><td>InputPipeline(n_fac0</td><td>BorderedLoss(Cr_f550</td><td style=\"text-align: right;\">    20</td><td style=\"text-align: right;\">         4703.84</td><td style=\"text-align: right;\">     20</td><td style=\"text-align: right;\">0.0109168 </td><td style=\"text-align: right;\">  0.747509</td></tr>\n",
       "<tr><td>train_c9562_00062</td><td>TERMINATED</td><td>141.223.108.122:6540</td><td>InputPipeline(n_e170</td><td>BorderedLoss(Cr_e4d0</td><td style=\"text-align: right;\">    20</td><td style=\"text-align: right;\">         5449.6 </td><td style=\"text-align: right;\">     20</td><td style=\"text-align: right;\">0.0121227 </td><td style=\"text-align: right;\">  0.739263</td></tr>\n",
       "<tr><td>train_c9562_00063</td><td>TERMINATED</td><td>141.223.108.122:6626</td><td>InputPipeline(n_1030</td><td>BorderedLoss(Cr_d0f0</td><td style=\"text-align: right;\">    20</td><td style=\"text-align: right;\">         5403.73</td><td style=\"text-align: right;\">     20</td><td style=\"text-align: right;\">0.0115188 </td><td style=\"text-align: right;\">  0.743392</td></tr>\n",
       "<tr><td>train_c9562_00064</td><td>TERMINATED</td><td>141.223.108.122:6540</td><td>InputPipeline(n_3d30</td><td>BorderedLoss(Cr_1120</td><td style=\"text-align: right;\">    20</td><td style=\"text-align: right;\">         6631.43</td><td style=\"text-align: right;\">     20</td><td style=\"text-align: right;\">0.0122378 </td><td style=\"text-align: right;\">  0.73978 </td></tr>\n",
       "<tr><td>train_c9562_00065</td><td>TERMINATED</td><td>141.223.108.122:6626</td><td>InputPipeline(n_2320</td><td>BorderedLoss(Cr_32b0</td><td style=\"text-align: right;\">    20</td><td style=\"text-align: right;\">         6625.41</td><td style=\"text-align: right;\">     20</td><td style=\"text-align: right;\">0.0122588 </td><td style=\"text-align: right;\">  0.741973</td></tr>\n",
       "<tr><td>train_c9562_00066</td><td>TERMINATED</td><td>141.223.108.122:6540</td><td>InputPipeline(n_7850</td><td>CombinedLoss(Fo_7af0</td><td style=\"text-align: right;\">    20</td><td style=\"text-align: right;\">         4529.05</td><td style=\"text-align: right;\">     20</td><td style=\"text-align: right;\">0.0826917 </td><td style=\"text-align: right;\">  0.774437</td></tr>\n",
       "<tr><td>train_c9562_00067</td><td>TERMINATED</td><td>141.223.108.122:6626</td><td>InputPipeline(n_72e0</td><td>CombinedLoss(Fo_7be0</td><td style=\"text-align: right;\">    20</td><td style=\"text-align: right;\">         4755.71</td><td style=\"text-align: right;\">     20</td><td style=\"text-align: right;\">0.0844384 </td><td style=\"text-align: right;\">  0.769509</td></tr>\n",
       "<tr><td>train_c9562_00068</td><td>TERMINATED</td><td>141.223.108.122:6540</td><td>InputPipeline(n_2470</td><td>CombinedLoss(Fo_1780</td><td style=\"text-align: right;\">    20</td><td style=\"text-align: right;\">         5446.72</td><td style=\"text-align: right;\">     20</td><td style=\"text-align: right;\">0.0867406 </td><td style=\"text-align: right;\">  0.763058</td></tr>\n",
       "<tr><td>train_c9562_00069</td><td>TERMINATED</td><td>141.223.108.122:6626</td><td>InputPipeline(n_2da0</td><td>CombinedLoss(Fo_1c30</td><td style=\"text-align: right;\">    20</td><td style=\"text-align: right;\">         5405.79</td><td style=\"text-align: right;\">     20</td><td style=\"text-align: right;\">0.0855626 </td><td style=\"text-align: right;\">  0.766271</td></tr>\n",
       "<tr><td>train_c9562_00070</td><td>TERMINATED</td><td>141.223.108.122:6540</td><td>InputPipeline(n_0c40</td><td>CombinedLoss(Fo_3ee0</td><td style=\"text-align: right;\">    20</td><td style=\"text-align: right;\">         6581.02</td><td style=\"text-align: right;\">     20</td><td style=\"text-align: right;\">0.0853731 </td><td style=\"text-align: right;\">  0.76693 </td></tr>\n",
       "<tr><td>train_c9562_00071</td><td>TERMINATED</td><td>141.223.108.122:6626</td><td>InputPipeline(n_08e0</td><td>CombinedLoss(Fo_2740</td><td style=\"text-align: right;\">    20</td><td style=\"text-align: right;\">         6628.53</td><td style=\"text-align: right;\">     20</td><td style=\"text-align: right;\">0.084899  </td><td style=\"text-align: right;\">  0.768181</td></tr>\n",
       "<tr><td>train_c9562_00072</td><td>TERMINATED</td><td>141.223.108.122:6540</td><td>InputPipeline(n_0ee0</td><td>BorderedLoss(Fo_0e50</td><td style=\"text-align: right;\">    20</td><td style=\"text-align: right;\">         4534.13</td><td style=\"text-align: right;\">     20</td><td style=\"text-align: right;\">0.0827365 </td><td style=\"text-align: right;\">  0.768133</td></tr>\n",
       "<tr><td>train_c9562_00073</td><td>TERMINATED</td><td>141.223.108.122:6626</td><td>InputPipeline(n_3190</td><td>BorderedLoss(Fo_2920</td><td style=\"text-align: right;\">    20</td><td style=\"text-align: right;\">         4850.04</td><td style=\"text-align: right;\">     20</td><td style=\"text-align: right;\">0.0848848 </td><td style=\"text-align: right;\">  0.762091</td></tr>\n",
       "<tr><td>train_c9562_00074</td><td>TERMINATED</td><td>141.223.108.122:6540</td><td>InputPipeline(n_2ad0</td><td>BorderedLoss(Fo_0a90</td><td style=\"text-align: right;\">    20</td><td style=\"text-align: right;\">         5447.6 </td><td style=\"text-align: right;\">     20</td><td style=\"text-align: right;\">0.0842576 </td><td style=\"text-align: right;\">  0.763812</td></tr>\n",
       "<tr><td>train_c9562_00075</td><td>TERMINATED</td><td>141.223.108.122:6626</td><td>InputPipeline(n_2530</td><td>BorderedLoss(Fo_1360</td><td style=\"text-align: right;\">    20</td><td style=\"text-align: right;\">         5431.85</td><td style=\"text-align: right;\">     20</td><td style=\"text-align: right;\">0.0829172 </td><td style=\"text-align: right;\">  0.767648</td></tr>\n",
       "<tr><td>train_c9562_00076</td><td>TERMINATED</td><td>141.223.108.122:6540</td><td>InputPipeline(n_de10</td><td>BorderedLoss(Fo_3f70</td><td style=\"text-align: right;\">    20</td><td style=\"text-align: right;\">         6648.19</td><td style=\"text-align: right;\">     20</td><td style=\"text-align: right;\">0.0811933 </td><td style=\"text-align: right;\">  0.77252 </td></tr>\n",
       "<tr><td>train_c9562_00077</td><td>TERMINATED</td><td>141.223.108.122:6626</td><td>InputPipeline(n_e2f0</td><td>BorderedLoss(Fo_d390</td><td style=\"text-align: right;\">    20</td><td style=\"text-align: right;\">         6650.88</td><td style=\"text-align: right;\">     20</td><td style=\"text-align: right;\">0.0828522 </td><td style=\"text-align: right;\">  0.767881</td></tr>\n",
       "<tr><td>train_c9562_00078</td><td>TERMINATED</td><td>141.223.108.122:6540</td><td>InputPipeline(n_eaa0</td><td>CombinedLoss(Fo_cc70</td><td style=\"text-align: right;\">    20</td><td style=\"text-align: right;\">         4537.6 </td><td style=\"text-align: right;\">     20</td><td style=\"text-align: right;\">0.0834696 </td><td style=\"text-align: right;\">  0.752363</td></tr>\n",
       "<tr><td>train_c9562_00079</td><td>TERMINATED</td><td>141.223.108.122:6626</td><td>InputPipeline(n_ef80</td><td>CombinedLoss(Fo_d870</td><td style=\"text-align: right;\">    20</td><td style=\"text-align: right;\">         4708.59</td><td style=\"text-align: right;\">     20</td><td style=\"text-align: right;\">0.0844763 </td><td style=\"text-align: right;\">  0.749425</td></tr>\n",
       "<tr><td>train_c9562_00080</td><td>TERMINATED</td><td>141.223.108.122:6540</td><td>InputPipeline(n_f490</td><td>CombinedLoss(Fo_dd50</td><td style=\"text-align: right;\">    20</td><td style=\"text-align: right;\">         5457.31</td><td style=\"text-align: right;\">     20</td><td style=\"text-align: right;\">0.0849716 </td><td style=\"text-align: right;\">  0.746795</td></tr>\n",
       "<tr><td>train_c9562_00081</td><td>TERMINATED</td><td>141.223.108.122:6626</td><td>InputPipeline(n_f970</td><td>CombinedLoss(Fo_dfc0</td><td style=\"text-align: right;\">    20</td><td style=\"text-align: right;\">         5437.75</td><td style=\"text-align: right;\">     20</td><td style=\"text-align: right;\">0.0864034 </td><td style=\"text-align: right;\">  0.747451</td></tr>\n",
       "<tr><td>train_c9562_00082</td><td>TERMINATED</td><td>141.223.108.122:6540</td><td>InputPipeline(n_fee0</td><td>CombinedLoss(Fo_ea10</td><td style=\"text-align: right;\">    20</td><td style=\"text-align: right;\">         6610.86</td><td style=\"text-align: right;\">     20</td><td style=\"text-align: right;\">0.0854393 </td><td style=\"text-align: right;\">  0.745674</td></tr>\n",
       "<tr><td>train_c9562_00083</td><td>TERMINATED</td><td>141.223.108.122:6626</td><td>InputPipeline(n_fd30</td><td>CombinedLoss(Fo_f580</td><td style=\"text-align: right;\">    20</td><td style=\"text-align: right;\">         6641.34</td><td style=\"text-align: right;\">     20</td><td style=\"text-align: right;\">0.0891402 </td><td style=\"text-align: right;\">  0.73465 </td></tr>\n",
       "<tr><td>train_c9562_00084</td><td>TERMINATED</td><td>141.223.108.122:6540</td><td>InputPipeline(n_c6d0</td><td>BorderedLoss(Fo_f010</td><td style=\"text-align: right;\">    20</td><td style=\"text-align: right;\">         4552.81</td><td style=\"text-align: right;\">     20</td><td style=\"text-align: right;\">0.0844257 </td><td style=\"text-align: right;\">  0.743878</td></tr>\n",
       "<tr><td>train_c9562_00085</td><td>TERMINATED</td><td>141.223.108.122:6626</td><td>InputPipeline(n_d060</td><td>BorderedLoss(Fo_fa00</td><td style=\"text-align: right;\">    20</td><td style=\"text-align: right;\">         4721.01</td><td style=\"text-align: right;\">     20</td><td style=\"text-align: right;\">0.0823389 </td><td style=\"text-align: right;\">  0.750419</td></tr>\n",
       "<tr><td>train_c9562_00086</td><td>TERMINATED</td><td>141.223.108.122:6540</td><td>InputPipeline(n_e5c0</td><td>BorderedLoss(Fo_fc10</td><td style=\"text-align: right;\">    20</td><td style=\"text-align: right;\">         5475.47</td><td style=\"text-align: right;\">     20</td><td style=\"text-align: right;\">0.0809088 </td><td style=\"text-align: right;\">  0.751783</td></tr>\n",
       "<tr><td>train_c9562_00087</td><td>TERMINATED</td><td>141.223.108.122:6626</td><td>InputPipeline(n_f190</td><td>BorderedLoss(Fo_c310</td><td style=\"text-align: right;\">    20</td><td style=\"text-align: right;\">         5450.16</td><td style=\"text-align: right;\">     20</td><td style=\"text-align: right;\">0.0814001 </td><td style=\"text-align: right;\">  0.754153</td></tr>\n",
       "<tr><td>train_c9562_00088</td><td>TERMINATED</td><td>141.223.108.122:6540</td><td>InputPipeline(n_dbd0</td><td>BorderedLoss(Fo_c6a0</td><td style=\"text-align: right;\">    20</td><td style=\"text-align: right;\">         6649.46</td><td style=\"text-align: right;\">     20</td><td style=\"text-align: right;\">0.0838337 </td><td style=\"text-align: right;\">  0.743676</td></tr>\n",
       "<tr><td>train_c9562_00089</td><td>TERMINATED</td><td>141.223.108.122:6626</td><td>InputPipeline(n_e170</td><td>BorderedLoss(Fo_d5d0</td><td style=\"text-align: right;\">    20</td><td style=\"text-align: right;\">         6639.28</td><td style=\"text-align: right;\">     20</td><td style=\"text-align: right;\">0.08425   </td><td style=\"text-align: right;\">  0.744272</td></tr>\n",
       "<tr><td>train_c9562_00090</td><td>TERMINATED</td><td>141.223.108.122:6540</td><td>InputPipeline(n_e950</td><td>CombinedLoss(Fo_cfd0</td><td style=\"text-align: right;\">    20</td><td style=\"text-align: right;\">         4555.87</td><td style=\"text-align: right;\">     20</td><td style=\"text-align: right;\">0.0148617 </td><td style=\"text-align: right;\">  0.74502 </td></tr>\n",
       "<tr><td>train_c9562_00091</td><td>TERMINATED</td><td>141.223.108.122:6626</td><td>InputPipeline(n_ed40</td><td>CombinedLoss(Fo_da20</td><td style=\"text-align: right;\">    20</td><td style=\"text-align: right;\">         4725.88</td><td style=\"text-align: right;\">     20</td><td style=\"text-align: right;\">0.0134792 </td><td style=\"text-align: right;\">  0.742728</td></tr>\n",
       "<tr><td>train_c9562_00092</td><td>TERMINATED</td><td>141.223.108.122:6540</td><td>InputPipeline(n_f3d0</td><td>CombinedLoss(Fo_dcc0</td><td style=\"text-align: right;\">    20</td><td style=\"text-align: right;\">         5454.31</td><td style=\"text-align: right;\">     20</td><td style=\"text-align: right;\">0.0135413 </td><td style=\"text-align: right;\">  0.746289</td></tr>\n",
       "<tr><td>train_c9562_00093</td><td>TERMINATED</td><td>141.223.108.122:6626</td><td>InputPipeline(n_f670</td><td>CombinedLoss(Fo_dcf0</td><td style=\"text-align: right;\">    20</td><td style=\"text-align: right;\">         5441.14</td><td style=\"text-align: right;\">     20</td><td style=\"text-align: right;\">0.0128659 </td><td style=\"text-align: right;\">  0.74804 </td></tr>\n",
       "<tr><td>train_c9562_00094</td><td>TERMINATED</td><td>141.223.108.122:6540</td><td>InputPipeline(n_f9d0</td><td>CombinedLoss(Fo_ea70</td><td style=\"text-align: right;\">    20</td><td style=\"text-align: right;\">         6641.52</td><td style=\"text-align: right;\">     20</td><td style=\"text-align: right;\">0.0129576 </td><td style=\"text-align: right;\">  0.745334</td></tr>\n",
       "<tr><td>train_c9562_00095</td><td>TERMINATED</td><td>141.223.108.122:6626</td><td>InputPipeline(n_ffd0</td><td>CombinedLoss(Fo_f430</td><td style=\"text-align: right;\">    20</td><td style=\"text-align: right;\">         6648.1 </td><td style=\"text-align: right;\">     20</td><td style=\"text-align: right;\">0.0145044 </td><td style=\"text-align: right;\">  0.739958</td></tr>\n",
       "<tr><td>train_c9562_00096</td><td>TERMINATED</td><td>141.223.108.122:6540</td><td>InputPipeline(n_f700</td><td>BorderedLoss(Fo_ee90</td><td style=\"text-align: right;\">    20</td><td style=\"text-align: right;\">         4556.93</td><td style=\"text-align: right;\">     20</td><td style=\"text-align: right;\">0.011115  </td><td style=\"text-align: right;\">  0.750434</td></tr>\n",
       "<tr><td>train_c9562_00097</td><td>TERMINATED</td><td>141.223.108.122:6626</td><td>InputPipeline(n_f0a0</td><td>BorderedLoss(Fo_dc30</td><td style=\"text-align: right;\">    20</td><td style=\"text-align: right;\">         4886.8 </td><td style=\"text-align: right;\">     20</td><td style=\"text-align: right;\">0.0121154 </td><td style=\"text-align: right;\">  0.739485</td></tr>\n",
       "<tr><td>train_c9562_00098</td><td>TERMINATED</td><td>141.223.108.122:6540</td><td>InputPipeline(n_fb20</td><td>BorderedLoss(Fo_cee0</td><td style=\"text-align: right;\">    20</td><td style=\"text-align: right;\">         5483.91</td><td style=\"text-align: right;\">     20</td><td style=\"text-align: right;\">0.011195  </td><td style=\"text-align: right;\">  0.741774</td></tr>\n",
       "<tr><td>train_c9562_00099</td><td>TERMINATED</td><td>141.223.108.122:6626</td><td>InputPipeline(n_f520</td><td>BorderedLoss(Fo_d9c0</td><td style=\"text-align: right;\">    20</td><td style=\"text-align: right;\">         5447.39</td><td style=\"text-align: right;\">     20</td><td style=\"text-align: right;\">0.0116693 </td><td style=\"text-align: right;\">  0.741898</td></tr>\n",
       "<tr><td>train_c9562_00100</td><td>TERMINATED</td><td>141.223.108.122:6540</td><td>InputPipeline(n_fa90</td><td>BorderedLoss(Fo_f160</td><td style=\"text-align: right;\">    20</td><td style=\"text-align: right;\">         6672.54</td><td style=\"text-align: right;\">     20</td><td style=\"text-align: right;\">0.0110512 </td><td style=\"text-align: right;\">  0.746334</td></tr>\n",
       "<tr><td>train_c9562_00101</td><td>TERMINATED</td><td>141.223.108.122:6626</td><td>InputPipeline(n_f760</td><td>BorderedLoss(Fo_d630</td><td style=\"text-align: right;\">    20</td><td style=\"text-align: right;\">         6793.51</td><td style=\"text-align: right;\">     20</td><td style=\"text-align: right;\">0.0111917 </td><td style=\"text-align: right;\">  0.744164</td></tr>\n",
       "</tbody>\n",
       "</table>\n",
       "  </div>\n",
       "</div>\n",
       "<style>\n",
       ".tuneStatus {\n",
       "  color: var(--jp-ui-font-color1);\n",
       "}\n",
       ".tuneStatus .systemInfo {\n",
       "  display: flex;\n",
       "  flex-direction: column;\n",
       "}\n",
       ".tuneStatus td {\n",
       "  white-space: nowrap;\n",
       "}\n",
       ".tuneStatus .trialStatus {\n",
       "  display: flex;\n",
       "  flex-direction: column;\n",
       "}\n",
       ".tuneStatus h3 {\n",
       "  font-weight: bold;\n",
       "}\n",
       ".tuneStatus .hDivider {\n",
       "  border-bottom-width: var(--jp-border-width);\n",
       "  border-bottom-color: var(--jp-border-color0);\n",
       "  border-bottom-style: solid;\n",
       "}\n",
       ".tuneStatus .vDivider {\n",
       "  border-left-width: var(--jp-border-width);\n",
       "  border-left-color: var(--jp-border-color0);\n",
       "  border-left-style: solid;\n",
       "  margin: 0.5em 1em 0.5em 1em;\n",
       "}\n",
       "</style>\n"
      ],
      "text/plain": [
       "<IPython.core.display.HTML object>"
      ]
     },
     "metadata": {},
     "output_type": "display_data"
    },
    {
     "name": "stderr",
     "output_type": "stream",
     "text": [
      "\u001b[2m\u001b[36m(train pid=6540)\u001b[0m /home/pirl/anaconda3/envs/POC-env/lib/python3.10/site-packages/torch/cuda/__init__.py:497: UserWarning: Can't initialize NVML\n",
      "\u001b[2m\u001b[36m(train pid=6540)\u001b[0m   warnings.warn(\"Can't initialize NVML\")\n",
      "\u001b[2m\u001b[36m(train pid=6626)\u001b[0m /home/pirl/anaconda3/envs/POC-env/lib/python3.10/site-packages/torch/cuda/__init__.py:497: UserWarning: Can't initialize NVML\n",
      "\u001b[2m\u001b[36m(train pid=6626)\u001b[0m   warnings.warn(\"Can't initialize NVML\")\n",
      "/home/pirl/anaconda3/envs/POC-env/lib/python3.10/site-packages/torch/cuda/__init__.py:497: UserWarning: Can't initialize NVML\n",
      "  warnings.warn(\"Can't initialize NVML\")\n"
     ]
    },
    {
     "data": {
      "text/html": [
       "<div class=\"trialProgress\">\n",
       "  <h3>Trial Progress</h3>\n",
       "  <table>\n",
       "<thead>\n",
       "<tr><th>Trial name       </th><th style=\"text-align: right;\">  CrackIoU</th><th style=\"text-align: right;\">  Epoch</th><th style=\"text-align: right;\">      Loss</th><th style=\"text-align: right;\">  MeanIoU</th><th style=\"text-align: right;\">  Tversky</th><th>date               </th><th>done  </th><th>episodes_total  </th><th>experiment_id                   </th><th>experiment_tag                                                                                                                           </th><th>hostname           </th><th style=\"text-align: right;\">  iterations_since_restore</th><th>node_ip        </th><th style=\"text-align: right;\">  pid</th><th>should_checkpoint  </th><th style=\"text-align: right;\">  time_since_restore</th><th style=\"text-align: right;\">  time_this_iter_s</th><th style=\"text-align: right;\">  time_total_s</th><th style=\"text-align: right;\">  timestamp</th><th style=\"text-align: right;\">  timesteps_since_restore</th><th>timesteps_total  </th><th style=\"text-align: right;\">  training_iteration</th><th>trial_id   </th><th style=\"text-align: right;\">  warmup_time</th></tr>\n",
       "</thead>\n",
       "<tbody>\n",
       "<tr><td>train_c9562_00000</td><td style=\"text-align: right;\">  0.751568</td><td style=\"text-align: right;\">     20</td><td style=\"text-align: right;\">0.0976049 </td><td style=\"text-align: right;\"> 0.873529</td><td style=\"text-align: right;\"> 0.878531</td><td>2023-04-17_16-37-36</td><td>True  </td><td>                </td><td>451ddfe587004187888e63846894fb73</td><td>0_Input_Pipeline=InputPipeline_normalize_SobelFilter,Loss_Function=PixelLoss_CrossEntropyLoss                                            </td><td>pirl-PowerEdge-T640</td><td style=\"text-align: right;\">                        20</td><td>141.223.108.122</td><td style=\"text-align: right;\"> 6540</td><td>True               </td><td style=\"text-align: right;\">             4263.6 </td><td style=\"text-align: right;\">           203.895</td><td style=\"text-align: right;\">       4263.6 </td><td style=\"text-align: right;\"> 1681717056</td><td style=\"text-align: right;\">                        0</td><td>                 </td><td style=\"text-align: right;\">                  20</td><td>c9562_00000</td><td style=\"text-align: right;\">    0.0310352</td></tr>\n",
       "<tr><td>train_c9562_00001</td><td style=\"text-align: right;\">  0.74039 </td><td style=\"text-align: right;\">     20</td><td style=\"text-align: right;\">0.0977082 </td><td style=\"text-align: right;\"> 0.867825</td><td style=\"text-align: right;\"> 0.872052</td><td>2023-04-17_16-39-24</td><td>True  </td><td>                </td><td>90751b829a464815accdc3c110f64c56</td><td>1_Input_Pipeline=InputPipeline_normalize_LaplacianFilter,Loss_Function=PixelLoss_CrossEntropyLoss                                        </td><td>pirl-PowerEdge-T640</td><td style=\"text-align: right;\">                        20</td><td>141.223.108.122</td><td style=\"text-align: right;\"> 6626</td><td>True               </td><td style=\"text-align: right;\">             4367.78</td><td style=\"text-align: right;\">           202.071</td><td style=\"text-align: right;\">       4367.78</td><td style=\"text-align: right;\"> 1681717164</td><td style=\"text-align: right;\">                        0</td><td>                 </td><td style=\"text-align: right;\">                  20</td><td>c9562_00001</td><td style=\"text-align: right;\">    0.0304656</td></tr>\n",
       "<tr><td>train_c9562_00002</td><td style=\"text-align: right;\">  0.748502</td><td style=\"text-align: right;\">     20</td><td style=\"text-align: right;\">0.0976747 </td><td style=\"text-align: right;\"> 0.871922</td><td style=\"text-align: right;\"> 0.877287</td><td>2023-04-17_18-05-40</td><td>True  </td><td>                </td><td>451ddfe587004187888e63846894fb73</td><td>2_Input_Pipeline=InputPipeline_normalize_FrangiFilter,Loss_Function=PixelLoss_CrossEntropyLoss                                           </td><td>pirl-PowerEdge-T640</td><td style=\"text-align: right;\">                        20</td><td>141.223.108.122</td><td style=\"text-align: right;\"> 6540</td><td>True               </td><td style=\"text-align: right;\">             5284.11</td><td style=\"text-align: right;\">           210.351</td><td style=\"text-align: right;\">       5284.11</td><td style=\"text-align: right;\"> 1681722340</td><td style=\"text-align: right;\">                        0</td><td>                 </td><td style=\"text-align: right;\">                  20</td><td>c9562_00002</td><td style=\"text-align: right;\">    0.0310352</td></tr>\n",
       "<tr><td>train_c9562_00003</td><td style=\"text-align: right;\">  0.741304</td><td style=\"text-align: right;\">     20</td><td style=\"text-align: right;\">0.0976705 </td><td style=\"text-align: right;\"> 0.868301</td><td style=\"text-align: right;\"> 0.874002</td><td>2023-04-17_18-07-32</td><td>True  </td><td>                </td><td>90751b829a464815accdc3c110f64c56</td><td>3_Input_Pipeline=InputPipeline_normalize_SatoFilter,Loss_Function=PixelLoss_CrossEntropyLoss                                             </td><td>pirl-PowerEdge-T640</td><td style=\"text-align: right;\">                        20</td><td>141.223.108.122</td><td style=\"text-align: right;\"> 6626</td><td>True               </td><td style=\"text-align: right;\">             5287.49</td><td style=\"text-align: right;\">           212.591</td><td style=\"text-align: right;\">       5287.49</td><td style=\"text-align: right;\"> 1681722452</td><td style=\"text-align: right;\">                        0</td><td>                 </td><td style=\"text-align: right;\">                  20</td><td>c9562_00003</td><td style=\"text-align: right;\">    0.0304656</td></tr>\n",
       "<tr><td>train_c9562_00004</td><td style=\"text-align: right;\">  0.746081</td><td style=\"text-align: right;\">     20</td><td style=\"text-align: right;\">0.0977357 </td><td style=\"text-align: right;\"> 0.870606</td><td style=\"text-align: right;\"> 0.877014</td><td>2023-04-17_19-52-48</td><td>True  </td><td>                </td><td>451ddfe587004187888e63846894fb73</td><td>4_Input_Pipeline=InputPipeline_normalize_SumFilters_FrangiFilter_SatoFilter,Loss_Function=PixelLoss_CrossEntropyLoss                     </td><td>pirl-PowerEdge-T640</td><td style=\"text-align: right;\">                        20</td><td>141.223.108.122</td><td style=\"text-align: right;\"> 6540</td><td>True               </td><td style=\"text-align: right;\">             6426.71</td><td style=\"text-align: right;\">           209.883</td><td style=\"text-align: right;\">       6426.71</td><td style=\"text-align: right;\"> 1681728768</td><td style=\"text-align: right;\">                        0</td><td>                 </td><td style=\"text-align: right;\">                  20</td><td>c9562_00004</td><td style=\"text-align: right;\">    0.0310352</td></tr>\n",
       "<tr><td>train_c9562_00005</td><td style=\"text-align: right;\">  0.737914</td><td style=\"text-align: right;\">     20</td><td style=\"text-align: right;\">0.097692  </td><td style=\"text-align: right;\"> 0.866585</td><td style=\"text-align: right;\"> 0.87197 </td><td>2023-04-17_19-57-43</td><td>True  </td><td>                </td><td>90751b829a464815accdc3c110f64c56</td><td>5_Input_Pipeline=InputPipeline_normalize_SkeletonFilter,Loss_Function=PixelLoss_CrossEntropyLoss                                         </td><td>pirl-PowerEdge-T640</td><td style=\"text-align: right;\">                        20</td><td>141.223.108.122</td><td style=\"text-align: right;\"> 6626</td><td>True               </td><td style=\"text-align: right;\">             6610.27</td><td style=\"text-align: right;\">           213.343</td><td style=\"text-align: right;\">       6610.27</td><td style=\"text-align: right;\"> 1681729063</td><td style=\"text-align: right;\">                        0</td><td>                 </td><td style=\"text-align: right;\">                  20</td><td>c9562_00005</td><td style=\"text-align: right;\">    0.0304656</td></tr>\n",
       "<tr><td>train_c9562_00006</td><td style=\"text-align: right;\">  0.741831</td><td style=\"text-align: right;\">     20</td><td style=\"text-align: right;\">0.00767268</td><td style=\"text-align: right;\"> 0.868565</td><td style=\"text-align: right;\"> 0.865923</td><td>2023-04-17_21-05-19</td><td>True  </td><td>                </td><td>451ddfe587004187888e63846894fb73</td><td>6_Input_Pipeline=InputPipeline_normalize_SobelFilter,Loss_Function=PixelLoss_FocalLoss                                                   </td><td>pirl-PowerEdge-T640</td><td style=\"text-align: right;\">                        20</td><td>141.223.108.122</td><td style=\"text-align: right;\"> 6540</td><td>True               </td><td style=\"text-align: right;\">             4351.35</td><td style=\"text-align: right;\">           209.453</td><td style=\"text-align: right;\">       4351.35</td><td style=\"text-align: right;\"> 1681733119</td><td style=\"text-align: right;\">                        0</td><td>                 </td><td style=\"text-align: right;\">                  20</td><td>c9562_00006</td><td style=\"text-align: right;\">    0.0310352</td></tr>\n",
       "<tr><td>train_c9562_00007</td><td style=\"text-align: right;\">  0.736354</td><td style=\"text-align: right;\">     20</td><td style=\"text-align: right;\">0.00769114</td><td style=\"text-align: right;\"> 0.865794</td><td style=\"text-align: right;\"> 0.862862</td><td>2023-04-17_21-15-25</td><td>True  </td><td>                </td><td>90751b829a464815accdc3c110f64c56</td><td>7_Input_Pipeline=InputPipeline_normalize_LaplacianFilter,Loss_Function=PixelLoss_FocalLoss                                               </td><td>pirl-PowerEdge-T640</td><td style=\"text-align: right;\">                        20</td><td>141.223.108.122</td><td style=\"text-align: right;\"> 6626</td><td>True               </td><td style=\"text-align: right;\">             4661.64</td><td style=\"text-align: right;\">           208.924</td><td style=\"text-align: right;\">       4661.64</td><td style=\"text-align: right;\"> 1681733725</td><td style=\"text-align: right;\">                        0</td><td>                 </td><td style=\"text-align: right;\">                  20</td><td>c9562_00007</td><td style=\"text-align: right;\">    0.0304656</td></tr>\n",
       "<tr><td>train_c9562_00008</td><td style=\"text-align: right;\">  0.734131</td><td style=\"text-align: right;\">     20</td><td style=\"text-align: right;\">0.00769451</td><td style=\"text-align: right;\"> 0.864601</td><td style=\"text-align: right;\"> 0.863835</td><td>2023-04-17_22-32-41</td><td>True  </td><td>                </td><td>451ddfe587004187888e63846894fb73</td><td>8_Input_Pipeline=InputPipeline_normalize_FrangiFilter,Loss_Function=PixelLoss_FocalLoss                                                  </td><td>pirl-PowerEdge-T640</td><td style=\"text-align: right;\">                        20</td><td>141.223.108.122</td><td style=\"text-align: right;\"> 6540</td><td>True               </td><td style=\"text-align: right;\">             5241.75</td><td style=\"text-align: right;\">           209.157</td><td style=\"text-align: right;\">       5241.75</td><td style=\"text-align: right;\"> 1681738361</td><td style=\"text-align: right;\">                        0</td><td>                 </td><td style=\"text-align: right;\">                  20</td><td>c9562_00008</td><td style=\"text-align: right;\">    0.0310352</td></tr>\n",
       "<tr><td>train_c9562_00009</td><td style=\"text-align: right;\">  0.728698</td><td style=\"text-align: right;\">     20</td><td style=\"text-align: right;\">0.00769539</td><td style=\"text-align: right;\"> 0.861852</td><td style=\"text-align: right;\"> 0.859927</td><td>2023-04-17_22-44-08</td><td>True  </td><td>                </td><td>90751b829a464815accdc3c110f64c56</td><td>9_Input_Pipeline=InputPipeline_normalize_SatoFilter,Loss_Function=PixelLoss_FocalLoss                                                    </td><td>pirl-PowerEdge-T640</td><td style=\"text-align: right;\">                        20</td><td>141.223.108.122</td><td style=\"text-align: right;\"> 6626</td><td>True               </td><td style=\"text-align: right;\">             5323.17</td><td style=\"text-align: right;\">           211.71 </td><td style=\"text-align: right;\">       5323.17</td><td style=\"text-align: right;\"> 1681739048</td><td style=\"text-align: right;\">                        0</td><td>                 </td><td style=\"text-align: right;\">                  20</td><td>c9562_00009</td><td style=\"text-align: right;\">    0.0304656</td></tr>\n",
       "<tr><td>train_c9562_00010</td><td style=\"text-align: right;\">  0.73094 </td><td style=\"text-align: right;\">     20</td><td style=\"text-align: right;\">0.00768726</td><td style=\"text-align: right;\"> 0.862982</td><td style=\"text-align: right;\"> 0.861431</td><td>2023-04-18_00-19-10</td><td>True  </td><td>                </td><td>451ddfe587004187888e63846894fb73</td><td>10_Input_Pipeline=InputPipeline_normalize_SumFilters_FrangiFilter_SatoFilter,Loss_Function=PixelLoss_FocalLoss                           </td><td>pirl-PowerEdge-T640</td><td style=\"text-align: right;\">                        20</td><td>141.223.108.122</td><td style=\"text-align: right;\"> 6540</td><td>True               </td><td style=\"text-align: right;\">             6388.79</td><td style=\"text-align: right;\">           208.694</td><td style=\"text-align: right;\">       6388.79</td><td style=\"text-align: right;\"> 1681744750</td><td style=\"text-align: right;\">                        0</td><td>                 </td><td style=\"text-align: right;\">                  20</td><td>c9562_00010</td><td style=\"text-align: right;\">    0.0310352</td></tr>\n",
       "<tr><td>train_c9562_00011</td><td style=\"text-align: right;\">  0.727578</td><td style=\"text-align: right;\">     20</td><td style=\"text-align: right;\">0.00771484</td><td style=\"text-align: right;\"> 0.861312</td><td style=\"text-align: right;\"> 0.860334</td><td>2023-04-18_00-34-47</td><td>True  </td><td>                </td><td>90751b829a464815accdc3c110f64c56</td><td>11_Input_Pipeline=InputPipeline_normalize_SkeletonFilter,Loss_Function=PixelLoss_FocalLoss                                               </td><td>pirl-PowerEdge-T640</td><td style=\"text-align: right;\">                        20</td><td>141.223.108.122</td><td style=\"text-align: right;\"> 6626</td><td>True               </td><td style=\"text-align: right;\">             6638.85</td><td style=\"text-align: right;\">           212.215</td><td style=\"text-align: right;\">       6638.85</td><td style=\"text-align: right;\"> 1681745687</td><td style=\"text-align: right;\">                        0</td><td>                 </td><td style=\"text-align: right;\">                  20</td><td>c9562_00011</td><td style=\"text-align: right;\">    0.0304656</td></tr>\n",
       "<tr><td>train_c9562_00012</td><td style=\"text-align: right;\">  0.76855 </td><td style=\"text-align: right;\">     20</td><td style=\"text-align: right;\">0.117683  </td><td style=\"text-align: right;\"> 0.882317</td><td style=\"text-align: right;\"> 0.87047 </td><td>2023-04-18_01-31-29</td><td>True  </td><td>                </td><td>451ddfe587004187888e63846894fb73</td><td>12_Input_Pipeline=InputPipeline_normalize_SobelFilter,Loss_Function=VolumeLoss_JaccardLoss                                               </td><td>pirl-PowerEdge-T640</td><td style=\"text-align: right;\">                        20</td><td>141.223.108.122</td><td style=\"text-align: right;\"> 6540</td><td>True               </td><td style=\"text-align: right;\">             4338.41</td><td style=\"text-align: right;\">           210.548</td><td style=\"text-align: right;\">       4338.41</td><td style=\"text-align: right;\"> 1681749089</td><td style=\"text-align: right;\">                        0</td><td>                 </td><td style=\"text-align: right;\">                  20</td><td>c9562_00012</td><td style=\"text-align: right;\">    0.0310352</td></tr>\n",
       "<tr><td>train_c9562_00013</td><td style=\"text-align: right;\">  0.767908</td><td style=\"text-align: right;\">     20</td><td style=\"text-align: right;\">0.118029  </td><td style=\"text-align: right;\"> 0.881971</td><td style=\"text-align: right;\"> 0.871243</td><td>2023-04-18_01-50-46</td><td>True  </td><td>                </td><td>90751b829a464815accdc3c110f64c56</td><td>13_Input_Pipeline=InputPipeline_normalize_LaplacianFilter,Loss_Function=VolumeLoss_JaccardLoss                                           </td><td>pirl-PowerEdge-T640</td><td style=\"text-align: right;\">                        20</td><td>141.223.108.122</td><td style=\"text-align: right;\"> 6626</td><td>True               </td><td style=\"text-align: right;\">             4557.9 </td><td style=\"text-align: right;\">           210.833</td><td style=\"text-align: right;\">       4557.9 </td><td style=\"text-align: right;\"> 1681750246</td><td style=\"text-align: right;\">                        0</td><td>                 </td><td style=\"text-align: right;\">                  20</td><td>c9562_00013</td><td style=\"text-align: right;\">    0.0304656</td></tr>\n",
       "<tr><td>train_c9562_00014</td><td style=\"text-align: right;\">  0.764306</td><td style=\"text-align: right;\">     20</td><td style=\"text-align: right;\">0.119878  </td><td style=\"text-align: right;\"> 0.880122</td><td style=\"text-align: right;\"> 0.869533</td><td>2023-04-18_02-59-04</td><td>True  </td><td>                </td><td>451ddfe587004187888e63846894fb73</td><td>14_Input_Pipeline=InputPipeline_normalize_FrangiFilter,Loss_Function=VolumeLoss_JaccardLoss                                              </td><td>pirl-PowerEdge-T640</td><td style=\"text-align: right;\">                        20</td><td>141.223.108.122</td><td style=\"text-align: right;\"> 6540</td><td>True               </td><td style=\"text-align: right;\">             5254.41</td><td style=\"text-align: right;\">           209.196</td><td style=\"text-align: right;\">       5254.41</td><td style=\"text-align: right;\"> 1681754344</td><td style=\"text-align: right;\">                        0</td><td>                 </td><td style=\"text-align: right;\">                  20</td><td>c9562_00014</td><td style=\"text-align: right;\">    0.0310352</td></tr>\n",
       "<tr><td>train_c9562_00015</td><td style=\"text-align: right;\">  0.769923</td><td style=\"text-align: right;\">     20</td><td style=\"text-align: right;\">0.117028  </td><td style=\"text-align: right;\"> 0.882972</td><td style=\"text-align: right;\"> 0.87453 </td><td>2023-04-18_03-18-02</td><td>True  </td><td>                </td><td>90751b829a464815accdc3c110f64c56</td><td>15_Input_Pipeline=InputPipeline_normalize_SatoFilter,Loss_Function=VolumeLoss_JaccardLoss                                                </td><td>pirl-PowerEdge-T640</td><td style=\"text-align: right;\">                        20</td><td>141.223.108.122</td><td style=\"text-align: right;\"> 6626</td><td>True               </td><td style=\"text-align: right;\">             5236.34</td><td style=\"text-align: right;\">           213.667</td><td style=\"text-align: right;\">       5236.34</td><td style=\"text-align: right;\"> 1681755482</td><td style=\"text-align: right;\">                        0</td><td>                 </td><td style=\"text-align: right;\">                  20</td><td>c9562_00015</td><td style=\"text-align: right;\">    0.0304656</td></tr>\n",
       "<tr><td>train_c9562_00016</td><td style=\"text-align: right;\">  0.765429</td><td style=\"text-align: right;\">     20</td><td style=\"text-align: right;\">0.119339  </td><td style=\"text-align: right;\"> 0.880661</td><td style=\"text-align: right;\"> 0.872963</td><td>2023-04-18_04-46-41</td><td>True  </td><td>                </td><td>451ddfe587004187888e63846894fb73</td><td>16_Input_Pipeline=InputPipeline_normalize_SumFilters_FrangiFilter_SatoFilter,Loss_Function=VolumeLoss_JaccardLoss                        </td><td>pirl-PowerEdge-T640</td><td style=\"text-align: right;\">                        20</td><td>141.223.108.122</td><td style=\"text-align: right;\"> 6540</td><td>True               </td><td style=\"text-align: right;\">             6456.98</td><td style=\"text-align: right;\">           209.434</td><td style=\"text-align: right;\">       6456.98</td><td style=\"text-align: right;\"> 1681760801</td><td style=\"text-align: right;\">                        0</td><td>                 </td><td style=\"text-align: right;\">                  20</td><td>c9562_00016</td><td style=\"text-align: right;\">    0.0310352</td></tr>\n",
       "<tr><td>train_c9562_00017</td><td style=\"text-align: right;\">  0.768355</td><td style=\"text-align: right;\">     20</td><td style=\"text-align: right;\">0.117862  </td><td style=\"text-align: right;\"> 0.882138</td><td style=\"text-align: right;\"> 0.872798</td><td>2023-04-18_05-07-04</td><td>True  </td><td>                </td><td>90751b829a464815accdc3c110f64c56</td><td>17_Input_Pipeline=InputPipeline_normalize_SkeletonFilter,Loss_Function=VolumeLoss_JaccardLoss                                            </td><td>pirl-PowerEdge-T640</td><td style=\"text-align: right;\">                        20</td><td>141.223.108.122</td><td style=\"text-align: right;\"> 6626</td><td>True               </td><td style=\"text-align: right;\">             6541.24</td><td style=\"text-align: right;\">           210.645</td><td style=\"text-align: right;\">       6541.24</td><td style=\"text-align: right;\"> 1681762024</td><td style=\"text-align: right;\">                        0</td><td>                 </td><td style=\"text-align: right;\">                  20</td><td>c9562_00017</td><td style=\"text-align: right;\">    0.0304656</td></tr>\n",
       "<tr><td>train_c9562_00018</td><td style=\"text-align: right;\">  0.746357</td><td style=\"text-align: right;\">     20</td><td style=\"text-align: right;\">0.118969  </td><td style=\"text-align: right;\"> 0.870831</td><td style=\"text-align: right;\"> 0.881031</td><td>2023-04-18_05-59-52</td><td>True  </td><td>                </td><td>451ddfe587004187888e63846894fb73</td><td>18_Input_Pipeline=InputPipeline_normalize_SobelFilter,Loss_Function=VolumeLoss_TverskyLoss                                               </td><td>pirl-PowerEdge-T640</td><td style=\"text-align: right;\">                        20</td><td>141.223.108.122</td><td style=\"text-align: right;\"> 6540</td><td>True               </td><td style=\"text-align: right;\">             4390.91</td><td style=\"text-align: right;\">           212.055</td><td style=\"text-align: right;\">       4390.91</td><td style=\"text-align: right;\"> 1681765192</td><td style=\"text-align: right;\">                        0</td><td>                 </td><td style=\"text-align: right;\">                  20</td><td>c9562_00018</td><td style=\"text-align: right;\">    0.0310352</td></tr>\n",
       "<tr><td>train_c9562_00019</td><td style=\"text-align: right;\">  0.741675</td><td style=\"text-align: right;\">     20</td><td style=\"text-align: right;\">0.123029  </td><td style=\"text-align: right;\"> 0.868461</td><td style=\"text-align: right;\"> 0.876971</td><td>2023-04-18_06-24-21</td><td>True  </td><td>                </td><td>90751b829a464815accdc3c110f64c56</td><td>19_Input_Pipeline=InputPipeline_normalize_LaplacianFilter,Loss_Function=VolumeLoss_TverskyLoss                                           </td><td>pirl-PowerEdge-T640</td><td style=\"text-align: right;\">                        20</td><td>141.223.108.122</td><td style=\"text-align: right;\"> 6626</td><td>True               </td><td style=\"text-align: right;\">             4636.86</td><td style=\"text-align: right;\">           210.932</td><td style=\"text-align: right;\">       4636.86</td><td style=\"text-align: right;\"> 1681766661</td><td style=\"text-align: right;\">                        0</td><td>                 </td><td style=\"text-align: right;\">                  20</td><td>c9562_00019</td><td style=\"text-align: right;\">    0.0304656</td></tr>\n",
       "<tr><td>train_c9562_00020</td><td style=\"text-align: right;\">  0.74436 </td><td style=\"text-align: right;\">     20</td><td style=\"text-align: right;\">0.118398  </td><td style=\"text-align: right;\"> 0.869767</td><td style=\"text-align: right;\"> 0.881602</td><td>2023-04-18_07-28-13</td><td>True  </td><td>                </td><td>451ddfe587004187888e63846894fb73</td><td>20_Input_Pipeline=InputPipeline_normalize_FrangiFilter,Loss_Function=VolumeLoss_TverskyLoss                                              </td><td>pirl-PowerEdge-T640</td><td style=\"text-align: right;\">                        20</td><td>141.223.108.122</td><td style=\"text-align: right;\"> 6540</td><td>True               </td><td style=\"text-align: right;\">             5300.07</td><td style=\"text-align: right;\">           211.394</td><td style=\"text-align: right;\">       5300.07</td><td style=\"text-align: right;\"> 1681770493</td><td style=\"text-align: right;\">                        0</td><td>                 </td><td style=\"text-align: right;\">                  20</td><td>c9562_00020</td><td style=\"text-align: right;\">    0.0310352</td></tr>\n",
       "<tr><td>train_c9562_00021</td><td style=\"text-align: right;\">  0.75271 </td><td style=\"text-align: right;\">     20</td><td style=\"text-align: right;\">0.116905  </td><td style=\"text-align: right;\"> 0.874067</td><td style=\"text-align: right;\"> 0.883095</td><td>2023-04-18_07-52-15</td><td>True  </td><td>                </td><td>90751b829a464815accdc3c110f64c56</td><td>21_Input_Pipeline=InputPipeline_normalize_SatoFilter,Loss_Function=VolumeLoss_TverskyLoss                                                </td><td>pirl-PowerEdge-T640</td><td style=\"text-align: right;\">                        20</td><td>141.223.108.122</td><td style=\"text-align: right;\"> 6626</td><td>True               </td><td style=\"text-align: right;\">             5273.84</td><td style=\"text-align: right;\">           215.115</td><td style=\"text-align: right;\">       5273.84</td><td style=\"text-align: right;\"> 1681771935</td><td style=\"text-align: right;\">                        0</td><td>                 </td><td style=\"text-align: right;\">                  20</td><td>c9562_00021</td><td style=\"text-align: right;\">    0.0304656</td></tr>\n",
       "<tr><td>train_c9562_00022</td><td style=\"text-align: right;\">  0.749755</td><td style=\"text-align: right;\">     20</td><td style=\"text-align: right;\">0.117163  </td><td style=\"text-align: right;\"> 0.872534</td><td style=\"text-align: right;\"> 0.882837</td><td>2023-04-18_09-15-52</td><td>True  </td><td>                </td><td>451ddfe587004187888e63846894fb73</td><td>22_Input_Pipeline=InputPipeline_normalize_SumFilters_FrangiFilter_SatoFilter,Loss_Function=VolumeLoss_TverskyLoss                        </td><td>pirl-PowerEdge-T640</td><td style=\"text-align: right;\">                        20</td><td>141.223.108.122</td><td style=\"text-align: right;\"> 6540</td><td>True               </td><td style=\"text-align: right;\">             6459.25</td><td style=\"text-align: right;\">           211.429</td><td style=\"text-align: right;\">       6459.25</td><td style=\"text-align: right;\"> 1681776952</td><td style=\"text-align: right;\">                        0</td><td>                 </td><td style=\"text-align: right;\">                  20</td><td>c9562_00022</td><td style=\"text-align: right;\">    0.0310352</td></tr>\n",
       "<tr><td>train_c9562_00023</td><td style=\"text-align: right;\">  0.743604</td><td style=\"text-align: right;\">     20</td><td style=\"text-align: right;\">0.120065  </td><td style=\"text-align: right;\"> 0.869338</td><td style=\"text-align: right;\"> 0.879935</td><td>2023-04-18_09-42-22</td><td>True  </td><td>                </td><td>90751b829a464815accdc3c110f64c56</td><td>23_Input_Pipeline=InputPipeline_normalize_SkeletonFilter,Loss_Function=VolumeLoss_TverskyLoss                                            </td><td>pirl-PowerEdge-T640</td><td style=\"text-align: right;\">                        20</td><td>141.223.108.122</td><td style=\"text-align: right;\"> 6626</td><td>True               </td><td style=\"text-align: right;\">             6606.6 </td><td style=\"text-align: right;\">           212.844</td><td style=\"text-align: right;\">       6606.6 </td><td style=\"text-align: right;\"> 1681778542</td><td style=\"text-align: right;\">                        0</td><td>                 </td><td style=\"text-align: right;\">                  20</td><td>c9562_00023</td><td style=\"text-align: right;\">    0.0304656</td></tr>\n",
       "<tr><td>train_c9562_00024</td><td style=\"text-align: right;\">  0.747028</td><td style=\"text-align: right;\">     20</td><td style=\"text-align: right;\">0.015771  </td><td style=\"text-align: right;\"> 0.871161</td><td style=\"text-align: right;\"> 0.882214</td><td>2023-04-18_10-29-24</td><td>True  </td><td>                </td><td>451ddfe587004187888e63846894fb73</td><td>24_Input_Pipeline=InputPipeline_normalize_SobelFilter,Loss_Function=VolumeLoss_FocalTverskyLoss                                          </td><td>pirl-PowerEdge-T640</td><td style=\"text-align: right;\">                        20</td><td>141.223.108.122</td><td style=\"text-align: right;\"> 6540</td><td>True               </td><td style=\"text-align: right;\">             4411.81</td><td style=\"text-align: right;\">           213.288</td><td style=\"text-align: right;\">       4411.81</td><td style=\"text-align: right;\"> 1681781364</td><td style=\"text-align: right;\">                        0</td><td>                 </td><td style=\"text-align: right;\">                  20</td><td>c9562_00024</td><td style=\"text-align: right;\">    0.0310352</td></tr>\n",
       "<tr><td>train_c9562_00025</td><td style=\"text-align: right;\">  0.744085</td><td style=\"text-align: right;\">     20</td><td style=\"text-align: right;\">0.016286  </td><td style=\"text-align: right;\"> 0.869606</td><td style=\"text-align: right;\"> 0.880151</td><td>2023-04-18_10-59-34</td><td>True  </td><td>                </td><td>90751b829a464815accdc3c110f64c56</td><td>25_Input_Pipeline=InputPipeline_normalize_LaplacianFilter,Loss_Function=VolumeLoss_FocalTverskyLoss                                      </td><td>pirl-PowerEdge-T640</td><td style=\"text-align: right;\">                        20</td><td>141.223.108.122</td><td style=\"text-align: right;\"> 6626</td><td>True               </td><td style=\"text-align: right;\">             4631.74</td><td style=\"text-align: right;\">           212.44 </td><td style=\"text-align: right;\">       4631.74</td><td style=\"text-align: right;\"> 1681783174</td><td style=\"text-align: right;\">                        0</td><td>                 </td><td style=\"text-align: right;\">                  20</td><td>c9562_00025</td><td style=\"text-align: right;\">    0.0304656</td></tr>\n",
       "<tr><td>train_c9562_00026</td><td style=\"text-align: right;\">  0.741777</td><td style=\"text-align: right;\">     20</td><td style=\"text-align: right;\">0.0167818 </td><td style=\"text-align: right;\"> 0.868527</td><td style=\"text-align: right;\"> 0.877871</td><td>2023-04-18_11-58-44</td><td>True  </td><td>                </td><td>451ddfe587004187888e63846894fb73</td><td>26_Input_Pipeline=InputPipeline_normalize_FrangiFilter,Loss_Function=VolumeLoss_FocalTverskyLoss                                         </td><td>pirl-PowerEdge-T640</td><td style=\"text-align: right;\">                        20</td><td>141.223.108.122</td><td style=\"text-align: right;\"> 6540</td><td>True               </td><td style=\"text-align: right;\">             5358.98</td><td style=\"text-align: right;\">           214.194</td><td style=\"text-align: right;\">       5358.98</td><td style=\"text-align: right;\"> 1681786724</td><td style=\"text-align: right;\">                        0</td><td>                 </td><td style=\"text-align: right;\">                  20</td><td>c9562_00026</td><td style=\"text-align: right;\">    0.0310352</td></tr>\n",
       "<tr><td>train_c9562_00027</td><td style=\"text-align: right;\">  0.748444</td><td style=\"text-align: right;\">     20</td><td style=\"text-align: right;\">0.015319  </td><td style=\"text-align: right;\"> 0.871793</td><td style=\"text-align: right;\"> 0.882611</td><td>2023-04-18_12-28-56</td><td>True  </td><td>                </td><td>90751b829a464815accdc3c110f64c56</td><td>27_Input_Pipeline=InputPipeline_normalize_SatoFilter,Loss_Function=VolumeLoss_FocalTverskyLoss                                           </td><td>pirl-PowerEdge-T640</td><td style=\"text-align: right;\">                        20</td><td>141.223.108.122</td><td style=\"text-align: right;\"> 6626</td><td>True               </td><td style=\"text-align: right;\">             5361.98</td><td style=\"text-align: right;\">           216.719</td><td style=\"text-align: right;\">       5361.98</td><td style=\"text-align: right;\"> 1681788536</td><td style=\"text-align: right;\">                        0</td><td>                 </td><td style=\"text-align: right;\">                  20</td><td>c9562_00027</td><td style=\"text-align: right;\">    0.0304656</td></tr>\n",
       "<tr><td>train_c9562_00028</td><td style=\"text-align: right;\">  0.741811</td><td style=\"text-align: right;\">     20</td><td style=\"text-align: right;\">0.0165832 </td><td style=\"text-align: right;\"> 0.86846 </td><td style=\"text-align: right;\"> 0.878764</td><td>2023-04-18_13-47-48</td><td>True  </td><td>                </td><td>451ddfe587004187888e63846894fb73</td><td>28_Input_Pipeline=InputPipeline_normalize_SumFilters_FrangiFilter_SatoFilter,Loss_Function=VolumeLoss_FocalTverskyLoss                   </td><td>pirl-PowerEdge-T640</td><td style=\"text-align: right;\">                        20</td><td>141.223.108.122</td><td style=\"text-align: right;\"> 6540</td><td>True               </td><td style=\"text-align: right;\">             6543.06</td><td style=\"text-align: right;\">           214.394</td><td style=\"text-align: right;\">       6543.06</td><td style=\"text-align: right;\"> 1681793268</td><td style=\"text-align: right;\">                        0</td><td>                 </td><td style=\"text-align: right;\">                  20</td><td>c9562_00028</td><td style=\"text-align: right;\">    0.0310352</td></tr>\n",
       "<tr><td>train_c9562_00029</td><td style=\"text-align: right;\">  0.740097</td><td style=\"text-align: right;\">     20</td><td style=\"text-align: right;\">0.0173017 </td><td style=\"text-align: right;\"> 0.867609</td><td style=\"text-align: right;\"> 0.877199</td><td>2023-04-18_14-18-50</td><td>True  </td><td>                </td><td>90751b829a464815accdc3c110f64c56</td><td>29_Input_Pipeline=InputPipeline_normalize_SkeletonFilter,Loss_Function=VolumeLoss_FocalTverskyLoss                                       </td><td>pirl-PowerEdge-T640</td><td style=\"text-align: right;\">                        20</td><td>141.223.108.122</td><td style=\"text-align: right;\"> 6626</td><td>True               </td><td style=\"text-align: right;\">             6593.39</td><td style=\"text-align: right;\">           213.956</td><td style=\"text-align: right;\">       6593.39</td><td style=\"text-align: right;\"> 1681795130</td><td style=\"text-align: right;\">                        0</td><td>                 </td><td style=\"text-align: right;\">                  20</td><td>c9562_00029</td><td style=\"text-align: right;\">    0.0304656</td></tr>\n",
       "<tr><td>train_c9562_00030</td><td style=\"text-align: right;\">  0.770012</td><td style=\"text-align: right;\">     20</td><td style=\"text-align: right;\">0.111209  </td><td style=\"text-align: right;\"> 0.883053</td><td style=\"text-align: right;\"> 0.871365</td><td>2023-04-18_15-02-07</td><td>True  </td><td>                </td><td>451ddfe587004187888e63846894fb73</td><td>30_Input_Pipeline=InputPipeline_normalize_SobelFilter,Loss_Function=CombinedLoss_CrossEntropyLoss_JaccardLoss                            </td><td>pirl-PowerEdge-T640</td><td style=\"text-align: right;\">                        20</td><td>141.223.108.122</td><td style=\"text-align: right;\"> 6540</td><td>True               </td><td style=\"text-align: right;\">             4458.97</td><td style=\"text-align: right;\">           215.083</td><td style=\"text-align: right;\">       4458.97</td><td style=\"text-align: right;\"> 1681797727</td><td style=\"text-align: right;\">                        0</td><td>                 </td><td style=\"text-align: right;\">                  20</td><td>c9562_00030</td><td style=\"text-align: right;\">    0.0310352</td></tr>\n",
       "<tr><td>train_c9562_00031</td><td style=\"text-align: right;\">  0.766634</td><td style=\"text-align: right;\">     20</td><td style=\"text-align: right;\">0.112435  </td><td style=\"text-align: right;\"> 0.881312</td><td style=\"text-align: right;\"> 0.87224 </td><td>2023-04-18_15-35-40</td><td>True  </td><td>                </td><td>90751b829a464815accdc3c110f64c56</td><td>31_Input_Pipeline=InputPipeline_normalize_LaplacianFilter,Loss_Function=CombinedLoss_CrossEntropyLoss_JaccardLoss                        </td><td>pirl-PowerEdge-T640</td><td style=\"text-align: right;\">                        20</td><td>141.223.108.122</td><td style=\"text-align: right;\"> 6626</td><td>True               </td><td style=\"text-align: right;\">             4610.29</td><td style=\"text-align: right;\">           215.686</td><td style=\"text-align: right;\">       4610.29</td><td style=\"text-align: right;\"> 1681799740</td><td style=\"text-align: right;\">                        0</td><td>                 </td><td style=\"text-align: right;\">                  20</td><td>c9562_00031</td><td style=\"text-align: right;\">    0.0304656</td></tr>\n",
       "<tr><td>train_c9562_00032</td><td style=\"text-align: right;\">  0.762132</td><td style=\"text-align: right;\">     20</td><td style=\"text-align: right;\">0.114018  </td><td style=\"text-align: right;\"> 0.879042</td><td style=\"text-align: right;\"> 0.867784</td><td>2023-04-18_16-31-57</td><td>True  </td><td>                </td><td>451ddfe587004187888e63846894fb73</td><td>32_Input_Pipeline=InputPipeline_normalize_FrangiFilter,Loss_Function=CombinedLoss_CrossEntropyLoss_JaccardLoss                           </td><td>pirl-PowerEdge-T640</td><td style=\"text-align: right;\">                        20</td><td>141.223.108.122</td><td style=\"text-align: right;\"> 6540</td><td>True               </td><td style=\"text-align: right;\">             5389.66</td><td style=\"text-align: right;\">           215.712</td><td style=\"text-align: right;\">       5389.66</td><td style=\"text-align: right;\"> 1681803117</td><td style=\"text-align: right;\">                        0</td><td>                 </td><td style=\"text-align: right;\">                  20</td><td>c9562_00032</td><td style=\"text-align: right;\">    0.0310352</td></tr>\n",
       "<tr><td>train_c9562_00033</td><td style=\"text-align: right;\">  0.766488</td><td style=\"text-align: right;\">     20</td><td style=\"text-align: right;\">0.112476  </td><td style=\"text-align: right;\"> 0.881244</td><td style=\"text-align: right;\"> 0.868925</td><td>2023-04-18_17-04-43</td><td>True  </td><td>                </td><td>90751b829a464815accdc3c110f64c56</td><td>33_Input_Pipeline=InputPipeline_normalize_SatoFilter,Loss_Function=CombinedLoss_CrossEntropyLoss_JaccardLoss                             </td><td>pirl-PowerEdge-T640</td><td style=\"text-align: right;\">                        20</td><td>141.223.108.122</td><td style=\"text-align: right;\"> 6626</td><td>True               </td><td style=\"text-align: right;\">             5342.06</td><td style=\"text-align: right;\">           216.949</td><td style=\"text-align: right;\">       5342.06</td><td style=\"text-align: right;\"> 1681805083</td><td style=\"text-align: right;\">                        0</td><td>                 </td><td style=\"text-align: right;\">                  20</td><td>c9562_00033</td><td style=\"text-align: right;\">    0.0304656</td></tr>\n",
       "<tr><td>train_c9562_00034</td><td style=\"text-align: right;\">  0.765022</td><td style=\"text-align: right;\">     20</td><td style=\"text-align: right;\">0.11299   </td><td style=\"text-align: right;\"> 0.880491</td><td style=\"text-align: right;\"> 0.872739</td><td>2023-04-18_18-20-35</td><td>True  </td><td>                </td><td>451ddfe587004187888e63846894fb73</td><td>34_Input_Pipeline=InputPipeline_normalize_SumFilters_FrangiFilter_SatoFilter,Loss_Function=CombinedLoss_CrossEntropyLoss_JaccardLoss     </td><td>pirl-PowerEdge-T640</td><td style=\"text-align: right;\">                        20</td><td>141.223.108.122</td><td style=\"text-align: right;\"> 6540</td><td>True               </td><td style=\"text-align: right;\">             6517.68</td><td style=\"text-align: right;\">           216.102</td><td style=\"text-align: right;\">       6517.68</td><td style=\"text-align: right;\"> 1681809635</td><td style=\"text-align: right;\">                        0</td><td>                 </td><td style=\"text-align: right;\">                  20</td><td>c9562_00034</td><td style=\"text-align: right;\">    0.0310352</td></tr>\n",
       "<tr><td>train_c9562_00035</td><td style=\"text-align: right;\">  0.758363</td><td style=\"text-align: right;\">     20</td><td style=\"text-align: right;\">0.1154    </td><td style=\"text-align: right;\"> 0.877084</td><td style=\"text-align: right;\"> 0.86949 </td><td>2023-04-18_18-54-54</td><td>True  </td><td>                </td><td>90751b829a464815accdc3c110f64c56</td><td>35_Input_Pipeline=InputPipeline_normalize_SkeletonFilter,Loss_Function=CombinedLoss_CrossEntropyLoss_JaccardLoss                         </td><td>pirl-PowerEdge-T640</td><td style=\"text-align: right;\">                        20</td><td>141.223.108.122</td><td style=\"text-align: right;\"> 6626</td><td>True               </td><td style=\"text-align: right;\">             6611.3 </td><td style=\"text-align: right;\">           214.759</td><td style=\"text-align: right;\">       6611.3 </td><td style=\"text-align: right;\"> 1681811694</td><td style=\"text-align: right;\">                        0</td><td>                 </td><td style=\"text-align: right;\">                  20</td><td>c9562_00035</td><td style=\"text-align: right;\">    0.0304656</td></tr>\n",
       "<tr><td>train_c9562_00036</td><td style=\"text-align: right;\">  0.768635</td><td style=\"text-align: right;\">     20</td><td style=\"text-align: right;\">0.0830628 </td><td style=\"text-align: right;\"> 0.882328</td><td style=\"text-align: right;\"> 0.869057</td><td>2023-04-18_19-35-25</td><td>True  </td><td>                </td><td>451ddfe587004187888e63846894fb73</td><td>36_Input_Pipeline=InputPipeline_normalize_SobelFilter,Loss_Function=BorderedLoss_CrossEntropyLoss_JaccardLoss                            </td><td>pirl-PowerEdge-T640</td><td style=\"text-align: right;\">                        20</td><td>141.223.108.122</td><td style=\"text-align: right;\"> 6540</td><td>True               </td><td style=\"text-align: right;\">             4490.08</td><td style=\"text-align: right;\">           215.626</td><td style=\"text-align: right;\">       4490.08</td><td style=\"text-align: right;\"> 1681814125</td><td style=\"text-align: right;\">                        0</td><td>                 </td><td style=\"text-align: right;\">                  20</td><td>c9562_00036</td><td style=\"text-align: right;\">    0.0310352</td></tr>\n",
       "<tr><td>train_c9562_00037</td><td style=\"text-align: right;\">  0.771276</td><td style=\"text-align: right;\">     20</td><td style=\"text-align: right;\">0.0821514 </td><td style=\"text-align: right;\"> 0.883606</td><td style=\"text-align: right;\"> 0.876484</td><td>2023-04-18_20-12-19</td><td>True  </td><td>                </td><td>90751b829a464815accdc3c110f64c56</td><td>37_Input_Pipeline=InputPipeline_normalize_LaplacianFilter,Loss_Function=BorderedLoss_CrossEntropyLoss_JaccardLoss                        </td><td>pirl-PowerEdge-T640</td><td style=\"text-align: right;\">                        20</td><td>141.223.108.122</td><td style=\"text-align: right;\"> 6626</td><td>True               </td><td style=\"text-align: right;\">             4644.11</td><td style=\"text-align: right;\">           216.011</td><td style=\"text-align: right;\">       4644.11</td><td style=\"text-align: right;\"> 1681816339</td><td style=\"text-align: right;\">                        0</td><td>                 </td><td style=\"text-align: right;\">                  20</td><td>c9562_00037</td><td style=\"text-align: right;\">    0.0304656</td></tr>\n",
       "<tr><td>train_c9562_00038</td><td style=\"text-align: right;\">  0.771568</td><td style=\"text-align: right;\">     20</td><td style=\"text-align: right;\">0.082017  </td><td style=\"text-align: right;\"> 0.883812</td><td style=\"text-align: right;\"> 0.872858</td><td>2023-04-18_21-05-33</td><td>True  </td><td>                </td><td>451ddfe587004187888e63846894fb73</td><td>38_Input_Pipeline=InputPipeline_normalize_FrangiFilter,Loss_Function=BorderedLoss_CrossEntropyLoss_JaccardLoss                           </td><td>pirl-PowerEdge-T640</td><td style=\"text-align: right;\">                        20</td><td>141.223.108.122</td><td style=\"text-align: right;\"> 6540</td><td>True               </td><td style=\"text-align: right;\">             5407.22</td><td style=\"text-align: right;\">           216.746</td><td style=\"text-align: right;\">       5407.22</td><td style=\"text-align: right;\"> 1681819533</td><td style=\"text-align: right;\">                        0</td><td>                 </td><td style=\"text-align: right;\">                  20</td><td>c9562_00038</td><td style=\"text-align: right;\">    0.0310352</td></tr>\n",
       "<tr><td>train_c9562_00039</td><td style=\"text-align: right;\">  0.771528</td><td style=\"text-align: right;\">     20</td><td style=\"text-align: right;\">0.0820482 </td><td style=\"text-align: right;\"> 0.883757</td><td style=\"text-align: right;\"> 0.874496</td><td>2023-04-18_21-41-46</td><td>True  </td><td>                </td><td>90751b829a464815accdc3c110f64c56</td><td>39_Input_Pipeline=InputPipeline_normalize_SatoFilter,Loss_Function=BorderedLoss_CrossEntropyLoss_JaccardLoss                             </td><td>pirl-PowerEdge-T640</td><td style=\"text-align: right;\">                        20</td><td>141.223.108.122</td><td style=\"text-align: right;\"> 6626</td><td>True               </td><td style=\"text-align: right;\">             5367.45</td><td style=\"text-align: right;\">           218.103</td><td style=\"text-align: right;\">       5367.45</td><td style=\"text-align: right;\"> 1681821706</td><td style=\"text-align: right;\">                        0</td><td>                 </td><td style=\"text-align: right;\">                  20</td><td>c9562_00039</td><td style=\"text-align: right;\">    0.0304656</td></tr>\n",
       "<tr><td>train_c9562_00040</td><td style=\"text-align: right;\">  0.762495</td><td style=\"text-align: right;\">     20</td><td style=\"text-align: right;\">0.0852091 </td><td style=\"text-align: right;\"> 0.879238</td><td style=\"text-align: right;\"> 0.869312</td><td>2023-04-18_22-55-30</td><td>True  </td><td>                </td><td>451ddfe587004187888e63846894fb73</td><td>40_Input_Pipeline=InputPipeline_normalize_SumFilters_FrangiFilter_SatoFilter,Loss_Function=BorderedLoss_CrossEntropyLoss_JaccardLoss     </td><td>pirl-PowerEdge-T640</td><td style=\"text-align: right;\">                        20</td><td>141.223.108.122</td><td style=\"text-align: right;\"> 6540</td><td>True               </td><td style=\"text-align: right;\">             6596.57</td><td style=\"text-align: right;\">           216.846</td><td style=\"text-align: right;\">       6596.57</td><td style=\"text-align: right;\"> 1681826130</td><td style=\"text-align: right;\">                        0</td><td>                 </td><td style=\"text-align: right;\">                  20</td><td>c9562_00040</td><td style=\"text-align: right;\">    0.0310352</td></tr>\n",
       "<tr><td>train_c9562_00041</td><td style=\"text-align: right;\">  0.771595</td><td style=\"text-align: right;\">     20</td><td style=\"text-align: right;\">0.0820585 </td><td style=\"text-align: right;\"> 0.88374 </td><td style=\"text-align: right;\"> 0.875243</td><td>2023-04-18_23-32-53</td><td>True  </td><td>                </td><td>90751b829a464815accdc3c110f64c56</td><td>41_Input_Pipeline=InputPipeline_normalize_SkeletonFilter,Loss_Function=BorderedLoss_CrossEntropyLoss_JaccardLoss                         </td><td>pirl-PowerEdge-T640</td><td style=\"text-align: right;\">                        20</td><td>141.223.108.122</td><td style=\"text-align: right;\"> 6626</td><td>True               </td><td style=\"text-align: right;\">             6665.97</td><td style=\"text-align: right;\">           215.16 </td><td style=\"text-align: right;\">       6665.97</td><td style=\"text-align: right;\"> 1681828373</td><td style=\"text-align: right;\">                        0</td><td>                 </td><td style=\"text-align: right;\">                  20</td><td>c9562_00041</td><td style=\"text-align: right;\">    0.0304656</td></tr>\n",
       "<tr><td>train_c9562_00042</td><td style=\"text-align: right;\">  0.751108</td><td style=\"text-align: right;\">     20</td><td style=\"text-align: right;\">0.110518  </td><td style=\"text-align: right;\"> 0.873255</td><td style=\"text-align: right;\"> 0.883991</td><td>2023-04-19_00-10-21</td><td>True  </td><td>                </td><td>451ddfe587004187888e63846894fb73</td><td>42_Input_Pipeline=InputPipeline_normalize_SobelFilter,Loss_Function=CombinedLoss_CrossEntropyLoss_TverskyLoss                            </td><td>pirl-PowerEdge-T640</td><td style=\"text-align: right;\">                        20</td><td>141.223.108.122</td><td style=\"text-align: right;\"> 6540</td><td>True               </td><td style=\"text-align: right;\">             4490.35</td><td style=\"text-align: right;\">           217.026</td><td style=\"text-align: right;\">       4490.35</td><td style=\"text-align: right;\"> 1681830621</td><td style=\"text-align: right;\">                        0</td><td>                 </td><td style=\"text-align: right;\">                  20</td><td>c9562_00042</td><td style=\"text-align: right;\">    0.0310352</td></tr>\n",
       "<tr><td>train_c9562_00043</td><td style=\"text-align: right;\">  0.746688</td><td style=\"text-align: right;\">     20</td><td style=\"text-align: right;\">0.112543  </td><td style=\"text-align: right;\"> 0.870918</td><td style=\"text-align: right;\"> 0.881134</td><td>2023-04-19_00-50-33</td><td>True  </td><td>                </td><td>90751b829a464815accdc3c110f64c56</td><td>43_Input_Pipeline=InputPipeline_normalize_LaplacianFilter,Loss_Function=CombinedLoss_CrossEntropyLoss_TverskyLoss                        </td><td>pirl-PowerEdge-T640</td><td style=\"text-align: right;\">                        20</td><td>141.223.108.122</td><td style=\"text-align: right;\"> 6626</td><td>True               </td><td style=\"text-align: right;\">             4660.01</td><td style=\"text-align: right;\">           217.305</td><td style=\"text-align: right;\">       4660.01</td><td style=\"text-align: right;\"> 1681833033</td><td style=\"text-align: right;\">                        0</td><td>                 </td><td style=\"text-align: right;\">                  20</td><td>c9562_00043</td><td style=\"text-align: right;\">    0.0304656</td></tr>\n",
       "<tr><td>train_c9562_00044</td><td style=\"text-align: right;\">  0.749858</td><td style=\"text-align: right;\">     20</td><td style=\"text-align: right;\">0.111556  </td><td style=\"text-align: right;\"> 0.87257 </td><td style=\"text-align: right;\"> 0.882524</td><td>2023-04-19_01-40-32</td><td>True  </td><td>                </td><td>451ddfe587004187888e63846894fb73</td><td>44_Input_Pipeline=InputPipeline_normalize_FrangiFilter,Loss_Function=CombinedLoss_CrossEntropyLoss_TverskyLoss                           </td><td>pirl-PowerEdge-T640</td><td style=\"text-align: right;\">                        20</td><td>141.223.108.122</td><td style=\"text-align: right;\"> 6540</td><td>True               </td><td style=\"text-align: right;\">             5411.05</td><td style=\"text-align: right;\">           217.373</td><td style=\"text-align: right;\">       5411.05</td><td style=\"text-align: right;\"> 1681836032</td><td style=\"text-align: right;\">                        0</td><td>                 </td><td style=\"text-align: right;\">                  20</td><td>c9562_00044</td><td style=\"text-align: right;\">    0.0310352</td></tr>\n",
       "<tr><td>train_c9562_00045</td><td style=\"text-align: right;\">  0.749857</td><td style=\"text-align: right;\">     20</td><td style=\"text-align: right;\">0.110615  </td><td style=\"text-align: right;\"> 0.872559</td><td style=\"text-align: right;\"> 0.883862</td><td>2023-04-19_02-20-23</td><td>True  </td><td>                </td><td>90751b829a464815accdc3c110f64c56</td><td>45_Input_Pipeline=InputPipeline_normalize_SatoFilter,Loss_Function=CombinedLoss_CrossEntropyLoss_TverskyLoss                             </td><td>pirl-PowerEdge-T640</td><td style=\"text-align: right;\">                        20</td><td>141.223.108.122</td><td style=\"text-align: right;\"> 6626</td><td>True               </td><td style=\"text-align: right;\">             5389.33</td><td style=\"text-align: right;\">           217.987</td><td style=\"text-align: right;\">       5389.33</td><td style=\"text-align: right;\"> 1681838423</td><td style=\"text-align: right;\">                        0</td><td>                 </td><td style=\"text-align: right;\">                  20</td><td>c9562_00045</td><td style=\"text-align: right;\">    0.0304656</td></tr>\n",
       "<tr><td>train_c9562_00046</td><td style=\"text-align: right;\">  0.741225</td><td style=\"text-align: right;\">     20</td><td style=\"text-align: right;\">0.114509  </td><td style=\"text-align: right;\"> 0.868195</td><td style=\"text-align: right;\"> 0.878316</td><td>2023-04-19_03-30-04</td><td>True  </td><td>                </td><td>451ddfe587004187888e63846894fb73</td><td>46_Input_Pipeline=InputPipeline_normalize_SumFilters_FrangiFilter_SatoFilter,Loss_Function=CombinedLoss_CrossEntropyLoss_TverskyLoss     </td><td>pirl-PowerEdge-T640</td><td style=\"text-align: right;\">                        20</td><td>141.223.108.122</td><td style=\"text-align: right;\"> 6540</td><td>True               </td><td style=\"text-align: right;\">             6571.56</td><td style=\"text-align: right;\">           216.997</td><td style=\"text-align: right;\">       6571.56</td><td style=\"text-align: right;\"> 1681842604</td><td style=\"text-align: right;\">                        0</td><td>                 </td><td style=\"text-align: right;\">                  20</td><td>c9562_00046</td><td style=\"text-align: right;\">    0.0310352</td></tr>\n",
       "<tr><td>train_c9562_00047</td><td style=\"text-align: right;\">  0.745687</td><td style=\"text-align: right;\">     20</td><td style=\"text-align: right;\">0.113517  </td><td style=\"text-align: right;\"> 0.870474</td><td style=\"text-align: right;\"> 0.879729</td><td>2023-04-19_04-10-43</td><td>True  </td><td>                </td><td>90751b829a464815accdc3c110f64c56</td><td>47_Input_Pipeline=InputPipeline_normalize_SkeletonFilter,Loss_Function=CombinedLoss_CrossEntropyLoss_TverskyLoss                         </td><td>pirl-PowerEdge-T640</td><td style=\"text-align: right;\">                        20</td><td>141.223.108.122</td><td style=\"text-align: right;\"> 6626</td><td>True               </td><td style=\"text-align: right;\">             6620.63</td><td style=\"text-align: right;\">           216.742</td><td style=\"text-align: right;\">       6620.63</td><td style=\"text-align: right;\"> 1681845043</td><td style=\"text-align: right;\">                        0</td><td>                 </td><td style=\"text-align: right;\">                  20</td><td>c9562_00047</td><td style=\"text-align: right;\">    0.0304656</td></tr>\n",
       "<tr><td>train_c9562_00048</td><td style=\"text-align: right;\">  0.75524 </td><td style=\"text-align: right;\">     20</td><td style=\"text-align: right;\">0.0815676 </td><td style=\"text-align: right;\"> 0.875381</td><td style=\"text-align: right;\"> 0.884373</td><td>2023-04-19_04-45-14</td><td>True  </td><td>                </td><td>451ddfe587004187888e63846894fb73</td><td>48_Input_Pipeline=InputPipeline_normalize_SobelFilter,Loss_Function=BorderedLoss_CrossEntropyLoss_TverskyLoss                            </td><td>pirl-PowerEdge-T640</td><td style=\"text-align: right;\">                        20</td><td>141.223.108.122</td><td style=\"text-align: right;\"> 6540</td><td>True               </td><td style=\"text-align: right;\">             4509.97</td><td style=\"text-align: right;\">           217.935</td><td style=\"text-align: right;\">       4509.97</td><td style=\"text-align: right;\"> 1681847114</td><td style=\"text-align: right;\">                        0</td><td>                 </td><td style=\"text-align: right;\">                  20</td><td>c9562_00048</td><td style=\"text-align: right;\">    0.0310352</td></tr>\n",
       "<tr><td>train_c9562_00049</td><td style=\"text-align: right;\">  0.747149</td><td style=\"text-align: right;\">     20</td><td style=\"text-align: right;\">0.0830719 </td><td style=\"text-align: right;\"> 0.87121 </td><td style=\"text-align: right;\"> 0.882214</td><td>2023-04-19_05-30-22</td><td>True  </td><td>                </td><td>90751b829a464815accdc3c110f64c56</td><td>49_Input_Pipeline=InputPipeline_normalize_LaplacianFilter,Loss_Function=BorderedLoss_CrossEntropyLoss_TverskyLoss                        </td><td>pirl-PowerEdge-T640</td><td style=\"text-align: right;\">                        20</td><td>141.223.108.122</td><td style=\"text-align: right;\"> 6626</td><td>True               </td><td style=\"text-align: right;\">             4778.69</td><td style=\"text-align: right;\">           217.497</td><td style=\"text-align: right;\">       4778.69</td><td style=\"text-align: right;\"> 1681849822</td><td style=\"text-align: right;\">                        0</td><td>                 </td><td style=\"text-align: right;\">                  20</td><td>c9562_00049</td><td style=\"text-align: right;\">    0.0304656</td></tr>\n",
       "<tr><td>train_c9562_00050</td><td style=\"text-align: right;\">  0.748376</td><td style=\"text-align: right;\">     20</td><td style=\"text-align: right;\">0.0840382 </td><td style=\"text-align: right;\"> 0.871865</td><td style=\"text-align: right;\"> 0.880828</td><td>2023-04-19_06-15-48</td><td>True  </td><td>                </td><td>451ddfe587004187888e63846894fb73</td><td>50_Input_Pipeline=InputPipeline_normalize_FrangiFilter,Loss_Function=BorderedLoss_CrossEntropyLoss_TverskyLoss                           </td><td>pirl-PowerEdge-T640</td><td style=\"text-align: right;\">                        20</td><td>141.223.108.122</td><td style=\"text-align: right;\"> 6540</td><td>True               </td><td style=\"text-align: right;\">             5432.75</td><td style=\"text-align: right;\">           218.883</td><td style=\"text-align: right;\">       5432.75</td><td style=\"text-align: right;\"> 1681852548</td><td style=\"text-align: right;\">                        0</td><td>                 </td><td style=\"text-align: right;\">                  20</td><td>c9562_00050</td><td style=\"text-align: right;\">    0.0310352</td></tr>\n",
       "<tr><td>train_c9562_00051</td><td style=\"text-align: right;\">  0.748548</td><td style=\"text-align: right;\">     20</td><td style=\"text-align: right;\">0.083952  </td><td style=\"text-align: right;\"> 0.871956</td><td style=\"text-align: right;\"> 0.880949</td><td>2023-04-19_07-00-30</td><td>True  </td><td>                </td><td>90751b829a464815accdc3c110f64c56</td><td>51_Input_Pipeline=InputPipeline_normalize_SatoFilter,Loss_Function=BorderedLoss_CrossEntropyLoss_TverskyLoss                             </td><td>pirl-PowerEdge-T640</td><td style=\"text-align: right;\">                        20</td><td>141.223.108.122</td><td style=\"text-align: right;\"> 6626</td><td>True               </td><td style=\"text-align: right;\">             5407.73</td><td style=\"text-align: right;\">           219.043</td><td style=\"text-align: right;\">       5407.73</td><td style=\"text-align: right;\"> 1681855230</td><td style=\"text-align: right;\">                        0</td><td>                 </td><td style=\"text-align: right;\">                  20</td><td>c9562_00051</td><td style=\"text-align: right;\">    0.0304656</td></tr>\n",
       "<tr><td>train_c9562_00052</td><td style=\"text-align: right;\">  0.746668</td><td style=\"text-align: right;\">     20</td><td style=\"text-align: right;\">0.0830048 </td><td style=\"text-align: right;\"> 0.870988</td><td style=\"text-align: right;\"> 0.882297</td><td>2023-04-19_08-06-10</td><td>True  </td><td>                </td><td>451ddfe587004187888e63846894fb73</td><td>52_Input_Pipeline=InputPipeline_normalize_SumFilters_FrangiFilter_SatoFilter,Loss_Function=BorderedLoss_CrossEntropyLoss_TverskyLoss     </td><td>pirl-PowerEdge-T640</td><td style=\"text-align: right;\">                        20</td><td>141.223.108.122</td><td style=\"text-align: right;\"> 6540</td><td>True               </td><td style=\"text-align: right;\">             6621.55</td><td style=\"text-align: right;\">           217.437</td><td style=\"text-align: right;\">       6621.55</td><td style=\"text-align: right;\"> 1681859170</td><td style=\"text-align: right;\">                        0</td><td>                 </td><td style=\"text-align: right;\">                  20</td><td>c9562_00052</td><td style=\"text-align: right;\">    0.0310352</td></tr>\n",
       "<tr><td>train_c9562_00053</td><td style=\"text-align: right;\">  0.739418</td><td style=\"text-align: right;\">     20</td><td style=\"text-align: right;\">0.0861706 </td><td style=\"text-align: right;\"> 0.86725 </td><td style=\"text-align: right;\"> 0.877774</td><td>2023-04-19_08-52-21</td><td>True  </td><td>                </td><td>90751b829a464815accdc3c110f64c56</td><td>53_Input_Pipeline=InputPipeline_normalize_SkeletonFilter,Loss_Function=BorderedLoss_CrossEntropyLoss_TverskyLoss                         </td><td>pirl-PowerEdge-T640</td><td style=\"text-align: right;\">                        20</td><td>141.223.108.122</td><td style=\"text-align: right;\"> 6626</td><td>True               </td><td style=\"text-align: right;\">             6710.44</td><td style=\"text-align: right;\">           217.881</td><td style=\"text-align: right;\">       6710.44</td><td style=\"text-align: right;\"> 1681861941</td><td style=\"text-align: right;\">                        0</td><td>                 </td><td style=\"text-align: right;\">                  20</td><td>c9562_00053</td><td style=\"text-align: right;\">    0.0304656</td></tr>\n",
       "<tr><td>train_c9562_00054</td><td style=\"text-align: right;\">  0.751871</td><td style=\"text-align: right;\">     20</td><td style=\"text-align: right;\">0.0398443 </td><td style=\"text-align: right;\"> 0.873612</td><td style=\"text-align: right;\"> 0.883234</td><td>2023-04-19_09-21-19</td><td>True  </td><td>                </td><td>451ddfe587004187888e63846894fb73</td><td>54_Input_Pipeline=InputPipeline_normalize_SobelFilter,Loss_Function=CombinedLoss_CrossEntropyLoss_FocalTverskyLoss                       </td><td>pirl-PowerEdge-T640</td><td style=\"text-align: right;\">                        20</td><td>141.223.108.122</td><td style=\"text-align: right;\"> 6540</td><td>True               </td><td style=\"text-align: right;\">             4508.31</td><td style=\"text-align: right;\">           217.809</td><td style=\"text-align: right;\">       4508.31</td><td style=\"text-align: right;\"> 1681863679</td><td style=\"text-align: right;\">                        0</td><td>                 </td><td style=\"text-align: right;\">                  20</td><td>c9562_00054</td><td style=\"text-align: right;\">    0.0310352</td></tr>\n",
       "<tr><td>train_c9562_00055</td><td style=\"text-align: right;\">  0.747554</td><td style=\"text-align: right;\">     20</td><td style=\"text-align: right;\">0.0407737 </td><td style=\"text-align: right;\"> 0.871374</td><td style=\"text-align: right;\"> 0.880258</td><td>2023-04-19_10-10-25</td><td>True  </td><td>                </td><td>90751b829a464815accdc3c110f64c56</td><td>55_Input_Pipeline=InputPipeline_normalize_LaplacianFilter,Loss_Function=CombinedLoss_CrossEntropyLoss_FocalTverskyLoss                   </td><td>pirl-PowerEdge-T640</td><td style=\"text-align: right;\">                        20</td><td>141.223.108.122</td><td style=\"text-align: right;\"> 6626</td><td>True               </td><td style=\"text-align: right;\">             4683.27</td><td style=\"text-align: right;\">           218.101</td><td style=\"text-align: right;\">       4683.27</td><td style=\"text-align: right;\"> 1681866625</td><td style=\"text-align: right;\">                        0</td><td>                 </td><td style=\"text-align: right;\">                  20</td><td>c9562_00055</td><td style=\"text-align: right;\">    0.0304656</td></tr>\n",
       "<tr><td>train_c9562_00056</td><td style=\"text-align: right;\">  0.744621</td><td style=\"text-align: right;\">     20</td><td style=\"text-align: right;\">0.0404246 </td><td style=\"text-align: right;\"> 0.869869</td><td style=\"text-align: right;\"> 0.880633</td><td>2023-04-19_10-51-54</td><td>True  </td><td>                </td><td>451ddfe587004187888e63846894fb73</td><td>56_Input_Pipeline=InputPipeline_normalize_FrangiFilter,Loss_Function=CombinedLoss_CrossEntropyLoss_FocalTverskyLoss                      </td><td>pirl-PowerEdge-T640</td><td style=\"text-align: right;\">                        20</td><td>141.223.108.122</td><td style=\"text-align: right;\"> 6540</td><td>True               </td><td style=\"text-align: right;\">             5435.07</td><td style=\"text-align: right;\">           219.113</td><td style=\"text-align: right;\">       5435.07</td><td style=\"text-align: right;\"> 1681869114</td><td style=\"text-align: right;\">                        0</td><td>                 </td><td style=\"text-align: right;\">                  20</td><td>c9562_00056</td><td style=\"text-align: right;\">    0.0310352</td></tr>\n",
       "<tr><td>train_c9562_00057</td><td style=\"text-align: right;\">  0.74544 </td><td style=\"text-align: right;\">     20</td><td style=\"text-align: right;\">0.0403925 </td><td style=\"text-align: right;\"> 0.870319</td><td style=\"text-align: right;\"> 0.879352</td><td>2023-04-19_11-41-39</td><td>True  </td><td>                </td><td>90751b829a464815accdc3c110f64c56</td><td>57_Input_Pipeline=InputPipeline_normalize_SatoFilter,Loss_Function=CombinedLoss_CrossEntropyLoss_FocalTverskyLoss                        </td><td>pirl-PowerEdge-T640</td><td style=\"text-align: right;\">                        20</td><td>141.223.108.122</td><td style=\"text-align: right;\"> 6626</td><td>True               </td><td style=\"text-align: right;\">             5473.92</td><td style=\"text-align: right;\">           218.243</td><td style=\"text-align: right;\">       5473.92</td><td style=\"text-align: right;\"> 1681872099</td><td style=\"text-align: right;\">                        0</td><td>                 </td><td style=\"text-align: right;\">                  20</td><td>c9562_00057</td><td style=\"text-align: right;\">    0.0304656</td></tr>\n",
       "<tr><td>train_c9562_00058</td><td style=\"text-align: right;\">  0.745962</td><td style=\"text-align: right;\">     20</td><td style=\"text-align: right;\">0.0399106 </td><td style=\"text-align: right;\"> 0.870562</td><td style=\"text-align: right;\"> 0.882724</td><td>2023-04-19_12-41-40</td><td>True  </td><td>                </td><td>451ddfe587004187888e63846894fb73</td><td>58_Input_Pipeline=InputPipeline_normalize_SumFilters_FrangiFilter_SatoFilter,Loss_Function=CombinedLoss_CrossEntropyLoss_FocalTverskyLoss</td><td>pirl-PowerEdge-T640</td><td style=\"text-align: right;\">                        20</td><td>141.223.108.122</td><td style=\"text-align: right;\"> 6540</td><td>True               </td><td style=\"text-align: right;\">             6585.97</td><td style=\"text-align: right;\">           219.397</td><td style=\"text-align: right;\">       6585.97</td><td style=\"text-align: right;\"> 1681875700</td><td style=\"text-align: right;\">                        0</td><td>                 </td><td style=\"text-align: right;\">                  20</td><td>c9562_00058</td><td style=\"text-align: right;\">    0.0310352</td></tr>\n",
       "<tr><td>train_c9562_00059</td><td style=\"text-align: right;\">  0.742149</td><td style=\"text-align: right;\">     20</td><td style=\"text-align: right;\">0.0411787 </td><td style=\"text-align: right;\"> 0.868627</td><td style=\"text-align: right;\"> 0.878523</td><td>2023-04-19_13-34-00</td><td>True  </td><td>                </td><td>90751b829a464815accdc3c110f64c56</td><td>59_Input_Pipeline=InputPipeline_normalize_SkeletonFilter,Loss_Function=CombinedLoss_CrossEntropyLoss_FocalTverskyLoss                    </td><td>pirl-PowerEdge-T640</td><td style=\"text-align: right;\">                        20</td><td>141.223.108.122</td><td style=\"text-align: right;\"> 6626</td><td>True               </td><td style=\"text-align: right;\">             6740.88</td><td style=\"text-align: right;\">           218.459</td><td style=\"text-align: right;\">       6740.88</td><td style=\"text-align: right;\"> 1681878840</td><td style=\"text-align: right;\">                        0</td><td>                 </td><td style=\"text-align: right;\">                  20</td><td>c9562_00059</td><td style=\"text-align: right;\">    0.0304656</td></tr>\n",
       "<tr><td>train_c9562_00060</td><td style=\"text-align: right;\">  0.743189</td><td style=\"text-align: right;\">     20</td><td style=\"text-align: right;\">0.0118639 </td><td style=\"text-align: right;\"> 0.86919 </td><td style=\"text-align: right;\"> 0.880413</td><td>2023-04-19_13-57-20</td><td>True  </td><td>                </td><td>451ddfe587004187888e63846894fb73</td><td>60_Input_Pipeline=InputPipeline_normalize_SobelFilter,Loss_Function=BorderedLoss_CrossEntropyLoss_FocalTverskyLoss                       </td><td>pirl-PowerEdge-T640</td><td style=\"text-align: right;\">                        20</td><td>141.223.108.122</td><td style=\"text-align: right;\"> 6540</td><td>True               </td><td style=\"text-align: right;\">             4539.08</td><td style=\"text-align: right;\">           219.346</td><td style=\"text-align: right;\">       4539.08</td><td style=\"text-align: right;\"> 1681880240</td><td style=\"text-align: right;\">                        0</td><td>                 </td><td style=\"text-align: right;\">                  20</td><td>c9562_00060</td><td style=\"text-align: right;\">    0.0310352</td></tr>\n",
       "<tr><td>train_c9562_00061</td><td style=\"text-align: right;\">  0.747509</td><td style=\"text-align: right;\">     20</td><td style=\"text-align: right;\">0.0109168 </td><td style=\"text-align: right;\"> 0.871336</td><td style=\"text-align: right;\"> 0.883428</td><td>2023-04-19_14-52-25</td><td>True  </td><td>                </td><td>90751b829a464815accdc3c110f64c56</td><td>61_Input_Pipeline=InputPipeline_normalize_LaplacianFilter,Loss_Function=BorderedLoss_CrossEntropyLoss_FocalTverskyLoss                   </td><td>pirl-PowerEdge-T640</td><td style=\"text-align: right;\">                        20</td><td>141.223.108.122</td><td style=\"text-align: right;\"> 6626</td><td>True               </td><td style=\"text-align: right;\">             4703.84</td><td style=\"text-align: right;\">           218.607</td><td style=\"text-align: right;\">       4703.84</td><td style=\"text-align: right;\"> 1681883545</td><td style=\"text-align: right;\">                        0</td><td>                 </td><td style=\"text-align: right;\">                  20</td><td>c9562_00061</td><td style=\"text-align: right;\">    0.0304656</td></tr>\n",
       "<tr><td>train_c9562_00062</td><td style=\"text-align: right;\">  0.739263</td><td style=\"text-align: right;\">     20</td><td style=\"text-align: right;\">0.0121227 </td><td style=\"text-align: right;\"> 0.867163</td><td style=\"text-align: right;\"> 0.878279</td><td>2023-04-19_15-28-10</td><td>True  </td><td>                </td><td>451ddfe587004187888e63846894fb73</td><td>62_Input_Pipeline=InputPipeline_normalize_FrangiFilter,Loss_Function=BorderedLoss_CrossEntropyLoss_FocalTverskyLoss                      </td><td>pirl-PowerEdge-T640</td><td style=\"text-align: right;\">                        20</td><td>141.223.108.122</td><td style=\"text-align: right;\"> 6540</td><td>True               </td><td style=\"text-align: right;\">             5449.6 </td><td style=\"text-align: right;\">           218.36 </td><td style=\"text-align: right;\">       5449.6 </td><td style=\"text-align: right;\"> 1681885690</td><td style=\"text-align: right;\">                        0</td><td>                 </td><td style=\"text-align: right;\">                  20</td><td>c9562_00062</td><td style=\"text-align: right;\">    0.0310352</td></tr>\n",
       "<tr><td>train_c9562_00063</td><td style=\"text-align: right;\">  0.743392</td><td style=\"text-align: right;\">     20</td><td style=\"text-align: right;\">0.0115188 </td><td style=\"text-align: right;\"> 0.869286</td><td style=\"text-align: right;\"> 0.880301</td><td>2023-04-19_16-22-29</td><td>True  </td><td>                </td><td>90751b829a464815accdc3c110f64c56</td><td>63_Input_Pipeline=InputPipeline_normalize_SatoFilter,Loss_Function=BorderedLoss_CrossEntropyLoss_FocalTverskyLoss                        </td><td>pirl-PowerEdge-T640</td><td style=\"text-align: right;\">                        20</td><td>141.223.108.122</td><td style=\"text-align: right;\"> 6626</td><td>True               </td><td style=\"text-align: right;\">             5403.73</td><td style=\"text-align: right;\">           218.397</td><td style=\"text-align: right;\">       5403.73</td><td style=\"text-align: right;\"> 1681888949</td><td style=\"text-align: right;\">                        0</td><td>                 </td><td style=\"text-align: right;\">                  20</td><td>c9562_00063</td><td style=\"text-align: right;\">    0.0304656</td></tr>\n",
       "<tr><td>train_c9562_00064</td><td style=\"text-align: right;\">  0.73978 </td><td style=\"text-align: right;\">     20</td><td style=\"text-align: right;\">0.0122378 </td><td style=\"text-align: right;\"> 0.8674  </td><td style=\"text-align: right;\"> 0.878211</td><td>2023-04-19_17-18-42</td><td>True  </td><td>                </td><td>451ddfe587004187888e63846894fb73</td><td>64_Input_Pipeline=InputPipeline_normalize_SumFilters_FrangiFilter_SatoFilter,Loss_Function=BorderedLoss_CrossEntropyLoss_FocalTverskyLoss</td><td>pirl-PowerEdge-T640</td><td style=\"text-align: right;\">                        20</td><td>141.223.108.122</td><td style=\"text-align: right;\"> 6540</td><td>True               </td><td style=\"text-align: right;\">             6631.43</td><td style=\"text-align: right;\">           219.342</td><td style=\"text-align: right;\">       6631.43</td><td style=\"text-align: right;\"> 1681892322</td><td style=\"text-align: right;\">                        0</td><td>                 </td><td style=\"text-align: right;\">                  20</td><td>c9562_00064</td><td style=\"text-align: right;\">    0.0310352</td></tr>\n",
       "<tr><td>train_c9562_00065</td><td style=\"text-align: right;\">  0.741973</td><td style=\"text-align: right;\">     20</td><td style=\"text-align: right;\">0.0122588 </td><td style=\"text-align: right;\"> 0.868557</td><td style=\"text-align: right;\"> 0.878676</td><td>2023-04-19_18-12-55</td><td>True  </td><td>                </td><td>90751b829a464815accdc3c110f64c56</td><td>65_Input_Pipeline=InputPipeline_normalize_SkeletonFilter,Loss_Function=BorderedLoss_CrossEntropyLoss_FocalTverskyLoss                    </td><td>pirl-PowerEdge-T640</td><td style=\"text-align: right;\">                        20</td><td>141.223.108.122</td><td style=\"text-align: right;\"> 6626</td><td>True               </td><td style=\"text-align: right;\">             6625.41</td><td style=\"text-align: right;\">           217.917</td><td style=\"text-align: right;\">       6625.41</td><td style=\"text-align: right;\"> 1681895575</td><td style=\"text-align: right;\">                        0</td><td>                 </td><td style=\"text-align: right;\">                  20</td><td>c9562_00065</td><td style=\"text-align: right;\">    0.0304656</td></tr>\n",
       "<tr><td>train_c9562_00066</td><td style=\"text-align: right;\">  0.774437</td><td style=\"text-align: right;\">     20</td><td style=\"text-align: right;\">0.0826917 </td><td style=\"text-align: right;\"> 0.885244</td><td style=\"text-align: right;\"> 0.87566 </td><td>2023-04-19_18-34-11</td><td>True  </td><td>                </td><td>451ddfe587004187888e63846894fb73</td><td>66_Input_Pipeline=InputPipeline_normalize_SobelFilter,Loss_Function=CombinedLoss_FocalLoss_JaccardLoss                                   </td><td>pirl-PowerEdge-T640</td><td style=\"text-align: right;\">                        20</td><td>141.223.108.122</td><td style=\"text-align: right;\"> 6540</td><td>True               </td><td style=\"text-align: right;\">             4529.05</td><td style=\"text-align: right;\">           219.006</td><td style=\"text-align: right;\">       4529.05</td><td style=\"text-align: right;\"> 1681896851</td><td style=\"text-align: right;\">                        0</td><td>                 </td><td style=\"text-align: right;\">                  20</td><td>c9562_00066</td><td style=\"text-align: right;\">    0.0310352</td></tr>\n",
       "<tr><td>train_c9562_00067</td><td style=\"text-align: right;\">  0.769509</td><td style=\"text-align: right;\">     20</td><td style=\"text-align: right;\">0.0844384 </td><td style=\"text-align: right;\"> 0.882751</td><td style=\"text-align: right;\"> 0.874489</td><td>2023-04-19_19-32-11</td><td>True  </td><td>                </td><td>90751b829a464815accdc3c110f64c56</td><td>67_Input_Pipeline=InputPipeline_normalize_LaplacianFilter,Loss_Function=CombinedLoss_FocalLoss_JaccardLoss                               </td><td>pirl-PowerEdge-T640</td><td style=\"text-align: right;\">                        20</td><td>141.223.108.122</td><td style=\"text-align: right;\"> 6626</td><td>True               </td><td style=\"text-align: right;\">             4755.71</td><td style=\"text-align: right;\">           218.764</td><td style=\"text-align: right;\">       4755.71</td><td style=\"text-align: right;\"> 1681900331</td><td style=\"text-align: right;\">                        0</td><td>                 </td><td style=\"text-align: right;\">                  20</td><td>c9562_00067</td><td style=\"text-align: right;\">    0.0304656</td></tr>\n",
       "<tr><td>train_c9562_00068</td><td style=\"text-align: right;\">  0.763058</td><td style=\"text-align: right;\">     20</td><td style=\"text-align: right;\">0.0867406 </td><td style=\"text-align: right;\"> 0.879464</td><td style=\"text-align: right;\"> 0.870644</td><td>2023-04-19_20-04-58</td><td>True  </td><td>                </td><td>451ddfe587004187888e63846894fb73</td><td>68_Input_Pipeline=InputPipeline_normalize_FrangiFilter,Loss_Function=CombinedLoss_FocalLoss_JaccardLoss                                  </td><td>pirl-PowerEdge-T640</td><td style=\"text-align: right;\">                        20</td><td>141.223.108.122</td><td style=\"text-align: right;\"> 6540</td><td>True               </td><td style=\"text-align: right;\">             5446.72</td><td style=\"text-align: right;\">           219.258</td><td style=\"text-align: right;\">       5446.72</td><td style=\"text-align: right;\"> 1681902298</td><td style=\"text-align: right;\">                        0</td><td>                 </td><td style=\"text-align: right;\">                  20</td><td>c9562_00068</td><td style=\"text-align: right;\">    0.0310352</td></tr>\n",
       "<tr><td>train_c9562_00069</td><td style=\"text-align: right;\">  0.766271</td><td style=\"text-align: right;\">     20</td><td style=\"text-align: right;\">0.0855626 </td><td style=\"text-align: right;\"> 0.881138</td><td style=\"text-align: right;\"> 0.871557</td><td>2023-04-19_21-02-17</td><td>True  </td><td>                </td><td>90751b829a464815accdc3c110f64c56</td><td>69_Input_Pipeline=InputPipeline_normalize_SatoFilter,Loss_Function=CombinedLoss_FocalLoss_JaccardLoss                                    </td><td>pirl-PowerEdge-T640</td><td style=\"text-align: right;\">                        20</td><td>141.223.108.122</td><td style=\"text-align: right;\"> 6626</td><td>True               </td><td style=\"text-align: right;\">             5405.79</td><td style=\"text-align: right;\">           217.992</td><td style=\"text-align: right;\">       5405.79</td><td style=\"text-align: right;\"> 1681905737</td><td style=\"text-align: right;\">                        0</td><td>                 </td><td style=\"text-align: right;\">                  20</td><td>c9562_00069</td><td style=\"text-align: right;\">    0.0304656</td></tr>\n",
       "<tr><td>train_c9562_00070</td><td style=\"text-align: right;\">  0.76693 </td><td style=\"text-align: right;\">     20</td><td style=\"text-align: right;\">0.0853731 </td><td style=\"text-align: right;\"> 0.881422</td><td style=\"text-align: right;\"> 0.871838</td><td>2023-04-19_21-54-40</td><td>True  </td><td>                </td><td>451ddfe587004187888e63846894fb73</td><td>70_Input_Pipeline=InputPipeline_normalize_SumFilters_FrangiFilter_SatoFilter,Loss_Function=CombinedLoss_FocalLoss_JaccardLoss            </td><td>pirl-PowerEdge-T640</td><td style=\"text-align: right;\">                        20</td><td>141.223.108.122</td><td style=\"text-align: right;\"> 6540</td><td>True               </td><td style=\"text-align: right;\">             6581.02</td><td style=\"text-align: right;\">           218.749</td><td style=\"text-align: right;\">       6581.02</td><td style=\"text-align: right;\"> 1681908880</td><td style=\"text-align: right;\">                        0</td><td>                 </td><td style=\"text-align: right;\">                  20</td><td>c9562_00070</td><td style=\"text-align: right;\">    0.0310352</td></tr>\n",
       "<tr><td>train_c9562_00071</td><td style=\"text-align: right;\">  0.768181</td><td style=\"text-align: right;\">     20</td><td style=\"text-align: right;\">0.084899  </td><td style=\"text-align: right;\"> 0.8821  </td><td style=\"text-align: right;\"> 0.870989</td><td>2023-04-19_22-52-46</td><td>True  </td><td>                </td><td>90751b829a464815accdc3c110f64c56</td><td>71_Input_Pipeline=InputPipeline_normalize_SkeletonFilter,Loss_Function=CombinedLoss_FocalLoss_JaccardLoss                                </td><td>pirl-PowerEdge-T640</td><td style=\"text-align: right;\">                        20</td><td>141.223.108.122</td><td style=\"text-align: right;\"> 6626</td><td>True               </td><td style=\"text-align: right;\">             6628.53</td><td style=\"text-align: right;\">           218.343</td><td style=\"text-align: right;\">       6628.53</td><td style=\"text-align: right;\"> 1681912366</td><td style=\"text-align: right;\">                        0</td><td>                 </td><td style=\"text-align: right;\">                  20</td><td>c9562_00071</td><td style=\"text-align: right;\">    0.0304656</td></tr>\n",
       "<tr><td>train_c9562_00072</td><td style=\"text-align: right;\">  0.768133</td><td style=\"text-align: right;\">     20</td><td style=\"text-align: right;\">0.0827365 </td><td style=\"text-align: right;\"> 0.882064</td><td style=\"text-align: right;\"> 0.872069</td><td>2023-04-19_23-10-15</td><td>True  </td><td>                </td><td>451ddfe587004187888e63846894fb73</td><td>72_Input_Pipeline=InputPipeline_normalize_SobelFilter,Loss_Function=BorderedLoss_FocalLoss_JaccardLoss                                   </td><td>pirl-PowerEdge-T640</td><td style=\"text-align: right;\">                        20</td><td>141.223.108.122</td><td style=\"text-align: right;\"> 6540</td><td>True               </td><td style=\"text-align: right;\">             4534.13</td><td style=\"text-align: right;\">           218.24 </td><td style=\"text-align: right;\">       4534.13</td><td style=\"text-align: right;\"> 1681913415</td><td style=\"text-align: right;\">                        0</td><td>                 </td><td style=\"text-align: right;\">                  20</td><td>c9562_00072</td><td style=\"text-align: right;\">    0.0310352</td></tr>\n",
       "<tr><td>train_c9562_00073</td><td style=\"text-align: right;\">  0.762091</td><td style=\"text-align: right;\">     20</td><td style=\"text-align: right;\">0.0848848 </td><td style=\"text-align: right;\"> 0.878991</td><td style=\"text-align: right;\"> 0.868452</td><td>2023-04-20_00-13-37</td><td>True  </td><td>                </td><td>90751b829a464815accdc3c110f64c56</td><td>73_Input_Pipeline=InputPipeline_normalize_LaplacianFilter,Loss_Function=BorderedLoss_FocalLoss_JaccardLoss                               </td><td>pirl-PowerEdge-T640</td><td style=\"text-align: right;\">                        20</td><td>141.223.108.122</td><td style=\"text-align: right;\"> 6626</td><td>True               </td><td style=\"text-align: right;\">             4850.04</td><td style=\"text-align: right;\">           218.042</td><td style=\"text-align: right;\">       4850.04</td><td style=\"text-align: right;\"> 1681917217</td><td style=\"text-align: right;\">                        0</td><td>                 </td><td style=\"text-align: right;\">                  20</td><td>c9562_00073</td><td style=\"text-align: right;\">    0.0304656</td></tr>\n",
       "<tr><td>train_c9562_00074</td><td style=\"text-align: right;\">  0.763812</td><td style=\"text-align: right;\">     20</td><td style=\"text-align: right;\">0.0842576 </td><td style=\"text-align: right;\"> 0.879885</td><td style=\"text-align: right;\"> 0.868869</td><td>2023-04-20_00-41-03</td><td>True  </td><td>                </td><td>451ddfe587004187888e63846894fb73</td><td>74_Input_Pipeline=InputPipeline_normalize_FrangiFilter,Loss_Function=BorderedLoss_FocalLoss_JaccardLoss                                  </td><td>pirl-PowerEdge-T640</td><td style=\"text-align: right;\">                        20</td><td>141.223.108.122</td><td style=\"text-align: right;\"> 6540</td><td>True               </td><td style=\"text-align: right;\">             5447.6 </td><td style=\"text-align: right;\">           219.383</td><td style=\"text-align: right;\">       5447.6 </td><td style=\"text-align: right;\"> 1681918863</td><td style=\"text-align: right;\">                        0</td><td>                 </td><td style=\"text-align: right;\">                  20</td><td>c9562_00074</td><td style=\"text-align: right;\">    0.0310352</td></tr>\n",
       "<tr><td>train_c9562_00075</td><td style=\"text-align: right;\">  0.767648</td><td style=\"text-align: right;\">     20</td><td style=\"text-align: right;\">0.0829172 </td><td style=\"text-align: right;\"> 0.881799</td><td style=\"text-align: right;\"> 0.872393</td><td>2023-04-20_01-44-09</td><td>True  </td><td>                </td><td>90751b829a464815accdc3c110f64c56</td><td>75_Input_Pipeline=InputPipeline_normalize_SatoFilter,Loss_Function=BorderedLoss_FocalLoss_JaccardLoss                                    </td><td>pirl-PowerEdge-T640</td><td style=\"text-align: right;\">                        20</td><td>141.223.108.122</td><td style=\"text-align: right;\"> 6626</td><td>True               </td><td style=\"text-align: right;\">             5431.85</td><td style=\"text-align: right;\">           219.512</td><td style=\"text-align: right;\">       5431.85</td><td style=\"text-align: right;\"> 1681922649</td><td style=\"text-align: right;\">                        0</td><td>                 </td><td style=\"text-align: right;\">                  20</td><td>c9562_00075</td><td style=\"text-align: right;\">    0.0304656</td></tr>\n",
       "<tr><td>train_c9562_00076</td><td style=\"text-align: right;\">  0.77252 </td><td style=\"text-align: right;\">     20</td><td style=\"text-align: right;\">0.0811933 </td><td style=\"text-align: right;\"> 0.884265</td><td style=\"text-align: right;\"> 0.874883</td><td>2023-04-20_02-31-52</td><td>True  </td><td>                </td><td>451ddfe587004187888e63846894fb73</td><td>76_Input_Pipeline=InputPipeline_normalize_SumFilters_FrangiFilter_SatoFilter,Loss_Function=BorderedLoss_FocalLoss_JaccardLoss            </td><td>pirl-PowerEdge-T640</td><td style=\"text-align: right;\">                        20</td><td>141.223.108.122</td><td style=\"text-align: right;\"> 6540</td><td>True               </td><td style=\"text-align: right;\">             6648.19</td><td style=\"text-align: right;\">           219.238</td><td style=\"text-align: right;\">       6648.19</td><td style=\"text-align: right;\"> 1681925512</td><td style=\"text-align: right;\">                        0</td><td>                 </td><td style=\"text-align: right;\">                  20</td><td>c9562_00076</td><td style=\"text-align: right;\">    0.0310352</td></tr>\n",
       "<tr><td>train_c9562_00077</td><td style=\"text-align: right;\">  0.767881</td><td style=\"text-align: right;\">     20</td><td style=\"text-align: right;\">0.0828522 </td><td style=\"text-align: right;\"> 0.88189 </td><td style=\"text-align: right;\"> 0.874051</td><td>2023-04-20_03-35-00</td><td>True  </td><td>                </td><td>90751b829a464815accdc3c110f64c56</td><td>77_Input_Pipeline=InputPipeline_normalize_SkeletonFilter,Loss_Function=BorderedLoss_FocalLoss_JaccardLoss                                </td><td>pirl-PowerEdge-T640</td><td style=\"text-align: right;\">                        20</td><td>141.223.108.122</td><td style=\"text-align: right;\"> 6626</td><td>True               </td><td style=\"text-align: right;\">             6650.88</td><td style=\"text-align: right;\">           220.191</td><td style=\"text-align: right;\">       6650.88</td><td style=\"text-align: right;\"> 1681929300</td><td style=\"text-align: right;\">                        0</td><td>                 </td><td style=\"text-align: right;\">                  20</td><td>c9562_00077</td><td style=\"text-align: right;\">    0.0304656</td></tr>\n",
       "<tr><td>train_c9562_00078</td><td style=\"text-align: right;\">  0.752363</td><td style=\"text-align: right;\">     20</td><td style=\"text-align: right;\">0.0834696 </td><td style=\"text-align: right;\"> 0.873894</td><td style=\"text-align: right;\"> 0.884122</td><td>2023-04-20_03-47-30</td><td>True  </td><td>                </td><td>451ddfe587004187888e63846894fb73</td><td>78_Input_Pipeline=InputPipeline_normalize_SobelFilter,Loss_Function=CombinedLoss_FocalLoss_TverskyLoss                                   </td><td>pirl-PowerEdge-T640</td><td style=\"text-align: right;\">                        20</td><td>141.223.108.122</td><td style=\"text-align: right;\"> 6540</td><td>True               </td><td style=\"text-align: right;\">             4537.6 </td><td style=\"text-align: right;\">           220.641</td><td style=\"text-align: right;\">       4537.6 </td><td style=\"text-align: right;\"> 1681930050</td><td style=\"text-align: right;\">                        0</td><td>                 </td><td style=\"text-align: right;\">                  20</td><td>c9562_00078</td><td style=\"text-align: right;\">    0.0310352</td></tr>\n",
       "<tr><td>train_c9562_00079</td><td style=\"text-align: right;\">  0.749425</td><td style=\"text-align: right;\">     20</td><td style=\"text-align: right;\">0.0844763 </td><td style=\"text-align: right;\"> 0.872363</td><td style=\"text-align: right;\"> 0.882702</td><td>2023-04-20_04-53-29</td><td>True  </td><td>                </td><td>90751b829a464815accdc3c110f64c56</td><td>79_Input_Pipeline=InputPipeline_normalize_LaplacianFilter,Loss_Function=CombinedLoss_FocalLoss_TverskyLoss                               </td><td>pirl-PowerEdge-T640</td><td style=\"text-align: right;\">                        20</td><td>141.223.108.122</td><td style=\"text-align: right;\"> 6626</td><td>True               </td><td style=\"text-align: right;\">             4708.59</td><td style=\"text-align: right;\">           219.473</td><td style=\"text-align: right;\">       4708.59</td><td style=\"text-align: right;\"> 1681934009</td><td style=\"text-align: right;\">                        0</td><td>                 </td><td style=\"text-align: right;\">                  20</td><td>c9562_00079</td><td style=\"text-align: right;\">    0.0304656</td></tr>\n",
       "<tr><td>train_c9562_00080</td><td style=\"text-align: right;\">  0.746795</td><td style=\"text-align: right;\">     20</td><td style=\"text-align: right;\">0.0849716 </td><td style=\"text-align: right;\"> 0.871002</td><td style=\"text-align: right;\"> 0.881993</td><td>2023-04-20_05-18-28</td><td>True  </td><td>                </td><td>451ddfe587004187888e63846894fb73</td><td>80_Input_Pipeline=InputPipeline_normalize_FrangiFilter,Loss_Function=CombinedLoss_FocalLoss_TverskyLoss                                  </td><td>pirl-PowerEdge-T640</td><td style=\"text-align: right;\">                        20</td><td>141.223.108.122</td><td style=\"text-align: right;\"> 6540</td><td>True               </td><td style=\"text-align: right;\">             5457.31</td><td style=\"text-align: right;\">           220.671</td><td style=\"text-align: right;\">       5457.31</td><td style=\"text-align: right;\"> 1681935508</td><td style=\"text-align: right;\">                        0</td><td>                 </td><td style=\"text-align: right;\">                  20</td><td>c9562_00080</td><td style=\"text-align: right;\">    0.0310352</td></tr>\n",
       "<tr><td>train_c9562_00081</td><td style=\"text-align: right;\">  0.747451</td><td style=\"text-align: right;\">     20</td><td style=\"text-align: right;\">0.0864034 </td><td style=\"text-align: right;\"> 0.871333</td><td style=\"text-align: right;\"> 0.879956</td><td>2023-04-20_06-24-07</td><td>True  </td><td>                </td><td>90751b829a464815accdc3c110f64c56</td><td>81_Input_Pipeline=InputPipeline_normalize_SatoFilter,Loss_Function=CombinedLoss_FocalLoss_TverskyLoss                                    </td><td>pirl-PowerEdge-T640</td><td style=\"text-align: right;\">                        20</td><td>141.223.108.122</td><td style=\"text-align: right;\"> 6626</td><td>True               </td><td style=\"text-align: right;\">             5437.75</td><td style=\"text-align: right;\">           218.764</td><td style=\"text-align: right;\">       5437.75</td><td style=\"text-align: right;\"> 1681939447</td><td style=\"text-align: right;\">                        0</td><td>                 </td><td style=\"text-align: right;\">                  20</td><td>c9562_00081</td><td style=\"text-align: right;\">    0.0304656</td></tr>\n",
       "<tr><td>train_c9562_00082</td><td style=\"text-align: right;\">  0.745674</td><td style=\"text-align: right;\">     20</td><td style=\"text-align: right;\">0.0854393 </td><td style=\"text-align: right;\"> 0.870392</td><td style=\"text-align: right;\"> 0.881337</td><td>2023-04-20_07-08-39</td><td>True  </td><td>                </td><td>451ddfe587004187888e63846894fb73</td><td>82_Input_Pipeline=InputPipeline_normalize_SumFilters_FrangiFilter_SatoFilter,Loss_Function=CombinedLoss_FocalLoss_TverskyLoss            </td><td>pirl-PowerEdge-T640</td><td style=\"text-align: right;\">                        20</td><td>141.223.108.122</td><td style=\"text-align: right;\"> 6540</td><td>True               </td><td style=\"text-align: right;\">             6610.86</td><td style=\"text-align: right;\">           219.733</td><td style=\"text-align: right;\">       6610.86</td><td style=\"text-align: right;\"> 1681942119</td><td style=\"text-align: right;\">                        0</td><td>                 </td><td style=\"text-align: right;\">                  20</td><td>c9562_00082</td><td style=\"text-align: right;\">    0.0310352</td></tr>\n",
       "<tr><td>train_c9562_00083</td><td style=\"text-align: right;\">  0.73465 </td><td style=\"text-align: right;\">     20</td><td style=\"text-align: right;\">0.0891402 </td><td style=\"text-align: right;\"> 0.86485 </td><td style=\"text-align: right;\"> 0.876056</td><td>2023-04-20_08-14-49</td><td>True  </td><td>                </td><td>90751b829a464815accdc3c110f64c56</td><td>83_Input_Pipeline=InputPipeline_normalize_SkeletonFilter,Loss_Function=CombinedLoss_FocalLoss_TverskyLoss                                </td><td>pirl-PowerEdge-T640</td><td style=\"text-align: right;\">                        20</td><td>141.223.108.122</td><td style=\"text-align: right;\"> 6626</td><td>True               </td><td style=\"text-align: right;\">             6641.34</td><td style=\"text-align: right;\">           218.778</td><td style=\"text-align: right;\">       6641.34</td><td style=\"text-align: right;\"> 1681946089</td><td style=\"text-align: right;\">                        0</td><td>                 </td><td style=\"text-align: right;\">                  20</td><td>c9562_00083</td><td style=\"text-align: right;\">    0.0304656</td></tr>\n",
       "<tr><td>train_c9562_00084</td><td style=\"text-align: right;\">  0.743878</td><td style=\"text-align: right;\">     20</td><td style=\"text-align: right;\">0.0844257 </td><td style=\"text-align: right;\"> 0.869581</td><td style=\"text-align: right;\"> 0.879599</td><td>2023-04-20_08-24-32</td><td>True  </td><td>                </td><td>451ddfe587004187888e63846894fb73</td><td>84_Input_Pipeline=InputPipeline_normalize_SobelFilter,Loss_Function=BorderedLoss_FocalLoss_TverskyLoss                                   </td><td>pirl-PowerEdge-T640</td><td style=\"text-align: right;\">                        20</td><td>141.223.108.122</td><td style=\"text-align: right;\"> 6540</td><td>True               </td><td style=\"text-align: right;\">             4552.81</td><td style=\"text-align: right;\">           220.688</td><td style=\"text-align: right;\">       4552.81</td><td style=\"text-align: right;\"> 1681946672</td><td style=\"text-align: right;\">                        0</td><td>                 </td><td style=\"text-align: right;\">                  20</td><td>c9562_00084</td><td style=\"text-align: right;\">    0.0310352</td></tr>\n",
       "<tr><td>train_c9562_00085</td><td style=\"text-align: right;\">  0.750419</td><td style=\"text-align: right;\">     20</td><td style=\"text-align: right;\">0.0823389 </td><td style=\"text-align: right;\"> 0.872839</td><td style=\"text-align: right;\"> 0.882578</td><td>2023-04-20_09-33-30</td><td>True  </td><td>                </td><td>90751b829a464815accdc3c110f64c56</td><td>85_Input_Pipeline=InputPipeline_normalize_LaplacianFilter,Loss_Function=BorderedLoss_FocalLoss_TverskyLoss                               </td><td>pirl-PowerEdge-T640</td><td style=\"text-align: right;\">                        20</td><td>141.223.108.122</td><td style=\"text-align: right;\"> 6626</td><td>True               </td><td style=\"text-align: right;\">             4721.01</td><td style=\"text-align: right;\">           220.102</td><td style=\"text-align: right;\">       4721.01</td><td style=\"text-align: right;\"> 1681950810</td><td style=\"text-align: right;\">                        0</td><td>                 </td><td style=\"text-align: right;\">                  20</td><td>c9562_00085</td><td style=\"text-align: right;\">    0.0304656</td></tr>\n",
       "<tr><td>train_c9562_00086</td><td style=\"text-align: right;\">  0.751783</td><td style=\"text-align: right;\">     20</td><td style=\"text-align: right;\">0.0809088 </td><td style=\"text-align: right;\"> 0.873549</td><td style=\"text-align: right;\"> 0.88462 </td><td>2023-04-20_09-55-48</td><td>True  </td><td>                </td><td>451ddfe587004187888e63846894fb73</td><td>86_Input_Pipeline=InputPipeline_normalize_FrangiFilter,Loss_Function=BorderedLoss_FocalLoss_TverskyLoss                                  </td><td>pirl-PowerEdge-T640</td><td style=\"text-align: right;\">                        20</td><td>141.223.108.122</td><td style=\"text-align: right;\"> 6540</td><td>True               </td><td style=\"text-align: right;\">             5475.47</td><td style=\"text-align: right;\">           220.985</td><td style=\"text-align: right;\">       5475.47</td><td style=\"text-align: right;\"> 1681952148</td><td style=\"text-align: right;\">                        0</td><td>                 </td><td style=\"text-align: right;\">                  20</td><td>c9562_00086</td><td style=\"text-align: right;\">    0.0310352</td></tr>\n",
       "<tr><td>train_c9562_00087</td><td style=\"text-align: right;\">  0.754153</td><td style=\"text-align: right;\">     20</td><td style=\"text-align: right;\">0.0814001 </td><td style=\"text-align: right;\"> 0.874785</td><td style=\"text-align: right;\"> 0.883919</td><td>2023-04-20_11-04-21</td><td>True  </td><td>                </td><td>90751b829a464815accdc3c110f64c56</td><td>87_Input_Pipeline=InputPipeline_normalize_SatoFilter,Loss_Function=BorderedLoss_FocalLoss_TverskyLoss                                    </td><td>pirl-PowerEdge-T640</td><td style=\"text-align: right;\">                        20</td><td>141.223.108.122</td><td style=\"text-align: right;\"> 6626</td><td>True               </td><td style=\"text-align: right;\">             5450.16</td><td style=\"text-align: right;\">           221.426</td><td style=\"text-align: right;\">       5450.16</td><td style=\"text-align: right;\"> 1681956261</td><td style=\"text-align: right;\">                        0</td><td>                 </td><td style=\"text-align: right;\">                  20</td><td>c9562_00087</td><td style=\"text-align: right;\">    0.0304656</td></tr>\n",
       "<tr><td>train_c9562_00088</td><td style=\"text-align: right;\">  0.743676</td><td style=\"text-align: right;\">     20</td><td style=\"text-align: right;\">0.0838337 </td><td style=\"text-align: right;\"> 0.869421</td><td style=\"text-align: right;\"> 0.880439</td><td>2023-04-20_11-46-38</td><td>True  </td><td>                </td><td>451ddfe587004187888e63846894fb73</td><td>88_Input_Pipeline=InputPipeline_normalize_SumFilters_FrangiFilter_SatoFilter,Loss_Function=BorderedLoss_FocalLoss_TverskyLoss            </td><td>pirl-PowerEdge-T640</td><td style=\"text-align: right;\">                        20</td><td>141.223.108.122</td><td style=\"text-align: right;\"> 6540</td><td>True               </td><td style=\"text-align: right;\">             6649.46</td><td style=\"text-align: right;\">           221.911</td><td style=\"text-align: right;\">       6649.46</td><td style=\"text-align: right;\"> 1681958798</td><td style=\"text-align: right;\">                        0</td><td>                 </td><td style=\"text-align: right;\">                  20</td><td>c9562_00088</td><td style=\"text-align: right;\">    0.0310352</td></tr>\n",
       "<tr><td>train_c9562_00089</td><td style=\"text-align: right;\">  0.744272</td><td style=\"text-align: right;\">     20</td><td style=\"text-align: right;\">0.08425   </td><td style=\"text-align: right;\"> 0.869742</td><td style=\"text-align: right;\"> 0.879848</td><td>2023-04-20_12-55-00</td><td>True  </td><td>                </td><td>90751b829a464815accdc3c110f64c56</td><td>89_Input_Pipeline=InputPipeline_normalize_SkeletonFilter,Loss_Function=BorderedLoss_FocalLoss_TverskyLoss                                </td><td>pirl-PowerEdge-T640</td><td style=\"text-align: right;\">                        20</td><td>141.223.108.122</td><td style=\"text-align: right;\"> 6626</td><td>True               </td><td style=\"text-align: right;\">             6639.28</td><td style=\"text-align: right;\">           219.441</td><td style=\"text-align: right;\">       6639.28</td><td style=\"text-align: right;\"> 1681962900</td><td style=\"text-align: right;\">                        0</td><td>                 </td><td style=\"text-align: right;\">                  20</td><td>c9562_00089</td><td style=\"text-align: right;\">    0.0304656</td></tr>\n",
       "<tr><td>train_c9562_00090</td><td style=\"text-align: right;\">  0.74502 </td><td style=\"text-align: right;\">     20</td><td style=\"text-align: right;\">0.0148617 </td><td style=\"text-align: right;\"> 0.870206</td><td style=\"text-align: right;\"> 0.877022</td><td>2023-04-20_13-02-34</td><td>True  </td><td>                </td><td>451ddfe587004187888e63846894fb73</td><td>90_Input_Pipeline=InputPipeline_normalize_SobelFilter,Loss_Function=CombinedLoss_FocalLoss_FocalTverskyLoss                              </td><td>pirl-PowerEdge-T640</td><td style=\"text-align: right;\">                        20</td><td>141.223.108.122</td><td style=\"text-align: right;\"> 6540</td><td>True               </td><td style=\"text-align: right;\">             4555.87</td><td style=\"text-align: right;\">           221.01 </td><td style=\"text-align: right;\">       4555.87</td><td style=\"text-align: right;\"> 1681963354</td><td style=\"text-align: right;\">                        0</td><td>                 </td><td style=\"text-align: right;\">                  20</td><td>c9562_00090</td><td style=\"text-align: right;\">    0.0310352</td></tr>\n",
       "<tr><td>train_c9562_00091</td><td style=\"text-align: right;\">  0.742728</td><td style=\"text-align: right;\">     20</td><td style=\"text-align: right;\">0.0134792 </td><td style=\"text-align: right;\"> 0.86893 </td><td style=\"text-align: right;\"> 0.880105</td><td>2023-04-20_14-13-46</td><td>True  </td><td>                </td><td>90751b829a464815accdc3c110f64c56</td><td>91_Input_Pipeline=InputPipeline_normalize_LaplacianFilter,Loss_Function=CombinedLoss_FocalLoss_FocalTverskyLoss                          </td><td>pirl-PowerEdge-T640</td><td style=\"text-align: right;\">                        20</td><td>141.223.108.122</td><td style=\"text-align: right;\"> 6626</td><td>True               </td><td style=\"text-align: right;\">             4725.88</td><td style=\"text-align: right;\">           219.036</td><td style=\"text-align: right;\">       4725.88</td><td style=\"text-align: right;\"> 1681967626</td><td style=\"text-align: right;\">                        0</td><td>                 </td><td style=\"text-align: right;\">                  20</td><td>c9562_00091</td><td style=\"text-align: right;\">    0.0304656</td></tr>\n",
       "<tr><td>train_c9562_00092</td><td style=\"text-align: right;\">  0.746289</td><td style=\"text-align: right;\">     20</td><td style=\"text-align: right;\">0.0135413 </td><td style=\"text-align: right;\"> 0.870732</td><td style=\"text-align: right;\"> 0.880037</td><td>2023-04-20_14-33-29</td><td>True  </td><td>                </td><td>451ddfe587004187888e63846894fb73</td><td>92_Input_Pipeline=InputPipeline_normalize_FrangiFilter,Loss_Function=CombinedLoss_FocalLoss_FocalTverskyLoss                             </td><td>pirl-PowerEdge-T640</td><td style=\"text-align: right;\">                        20</td><td>141.223.108.122</td><td style=\"text-align: right;\"> 6540</td><td>True               </td><td style=\"text-align: right;\">             5454.31</td><td style=\"text-align: right;\">           220.815</td><td style=\"text-align: right;\">       5454.31</td><td style=\"text-align: right;\"> 1681968809</td><td style=\"text-align: right;\">                        0</td><td>                 </td><td style=\"text-align: right;\">                  20</td><td>c9562_00092</td><td style=\"text-align: right;\">    0.0310352</td></tr>\n",
       "<tr><td>train_c9562_00093</td><td style=\"text-align: right;\">  0.74804 </td><td style=\"text-align: right;\">     20</td><td style=\"text-align: right;\">0.0128659 </td><td style=\"text-align: right;\"> 0.871629</td><td style=\"text-align: right;\"> 0.882515</td><td>2023-04-20_15-44-28</td><td>True  </td><td>                </td><td>90751b829a464815accdc3c110f64c56</td><td>93_Input_Pipeline=InputPipeline_normalize_SatoFilter,Loss_Function=CombinedLoss_FocalLoss_FocalTverskyLoss                               </td><td>pirl-PowerEdge-T640</td><td style=\"text-align: right;\">                        20</td><td>141.223.108.122</td><td style=\"text-align: right;\"> 6626</td><td>True               </td><td style=\"text-align: right;\">             5441.14</td><td style=\"text-align: right;\">           219.936</td><td style=\"text-align: right;\">       5441.14</td><td style=\"text-align: right;\"> 1681973068</td><td style=\"text-align: right;\">                        0</td><td>                 </td><td style=\"text-align: right;\">                  20</td><td>c9562_00093</td><td style=\"text-align: right;\">    0.0304656</td></tr>\n",
       "<tr><td>train_c9562_00094</td><td style=\"text-align: right;\">  0.745334</td><td style=\"text-align: right;\">     20</td><td style=\"text-align: right;\">0.0129576 </td><td style=\"text-align: right;\"> 0.870261</td><td style=\"text-align: right;\"> 0.882596</td><td>2023-04-20_16-24-11</td><td>True  </td><td>                </td><td>451ddfe587004187888e63846894fb73</td><td>94_Input_Pipeline=InputPipeline_normalize_SumFilters_FrangiFilter_SatoFilter,Loss_Function=CombinedLoss_FocalLoss_FocalTverskyLoss       </td><td>pirl-PowerEdge-T640</td><td style=\"text-align: right;\">                        20</td><td>141.223.108.122</td><td style=\"text-align: right;\"> 6540</td><td>True               </td><td style=\"text-align: right;\">             6641.52</td><td style=\"text-align: right;\">           221.297</td><td style=\"text-align: right;\">       6641.52</td><td style=\"text-align: right;\"> 1681975451</td><td style=\"text-align: right;\">                        0</td><td>                 </td><td style=\"text-align: right;\">                  20</td><td>c9562_00094</td><td style=\"text-align: right;\">    0.0310352</td></tr>\n",
       "<tr><td>train_c9562_00095</td><td style=\"text-align: right;\">  0.739958</td><td style=\"text-align: right;\">     20</td><td style=\"text-align: right;\">0.0145044 </td><td style=\"text-align: right;\"> 0.867573</td><td style=\"text-align: right;\"> 0.876489</td><td>2023-04-20_17-35-16</td><td>True  </td><td>                </td><td>90751b829a464815accdc3c110f64c56</td><td>95_Input_Pipeline=InputPipeline_normalize_SkeletonFilter,Loss_Function=CombinedLoss_FocalLoss_FocalTverskyLoss                           </td><td>pirl-PowerEdge-T640</td><td style=\"text-align: right;\">                        20</td><td>141.223.108.122</td><td style=\"text-align: right;\"> 6626</td><td>True               </td><td style=\"text-align: right;\">             6648.1 </td><td style=\"text-align: right;\">           219.453</td><td style=\"text-align: right;\">       6648.1 </td><td style=\"text-align: right;\"> 1681979716</td><td style=\"text-align: right;\">                        0</td><td>                 </td><td style=\"text-align: right;\">                  20</td><td>c9562_00095</td><td style=\"text-align: right;\">    0.0304656</td></tr>\n",
       "<tr><td>train_c9562_00096</td><td style=\"text-align: right;\">  0.750434</td><td style=\"text-align: right;\">     20</td><td style=\"text-align: right;\">0.011115  </td><td style=\"text-align: right;\"> 0.872857</td><td style=\"text-align: right;\"> 0.883134</td><td>2023-04-20_17-40-09</td><td>True  </td><td>                </td><td>451ddfe587004187888e63846894fb73</td><td>96_Input_Pipeline=InputPipeline_normalize_SobelFilter,Loss_Function=BorderedLoss_FocalLoss_FocalTverskyLoss                              </td><td>pirl-PowerEdge-T640</td><td style=\"text-align: right;\">                        20</td><td>141.223.108.122</td><td style=\"text-align: right;\"> 6540</td><td>True               </td><td style=\"text-align: right;\">             4556.93</td><td style=\"text-align: right;\">           222.008</td><td style=\"text-align: right;\">       4556.93</td><td style=\"text-align: right;\"> 1681980009</td><td style=\"text-align: right;\">                        0</td><td>                 </td><td style=\"text-align: right;\">                  20</td><td>c9562_00096</td><td style=\"text-align: right;\">    0.0310352</td></tr>\n",
       "<tr><td>train_c9562_00097</td><td style=\"text-align: right;\">  0.739485</td><td style=\"text-align: right;\">     20</td><td style=\"text-align: right;\">0.0121154 </td><td style=\"text-align: right;\"> 0.867264</td><td style=\"text-align: right;\"> 0.877756</td><td>2023-04-20_18-56-43</td><td>True  </td><td>                </td><td>90751b829a464815accdc3c110f64c56</td><td>97_Input_Pipeline=InputPipeline_normalize_LaplacianFilter,Loss_Function=BorderedLoss_FocalLoss_FocalTverskyLoss                          </td><td>pirl-PowerEdge-T640</td><td style=\"text-align: right;\">                        20</td><td>141.223.108.122</td><td style=\"text-align: right;\"> 6626</td><td>True               </td><td style=\"text-align: right;\">             4886.8 </td><td style=\"text-align: right;\">           220.584</td><td style=\"text-align: right;\">       4886.8 </td><td style=\"text-align: right;\"> 1681984603</td><td style=\"text-align: right;\">                        0</td><td>                 </td><td style=\"text-align: right;\">                  20</td><td>c9562_00097</td><td style=\"text-align: right;\">    0.0304656</td></tr>\n",
       "<tr><td>train_c9562_00098</td><td style=\"text-align: right;\">  0.741774</td><td style=\"text-align: right;\">     20</td><td style=\"text-align: right;\">0.011195  </td><td style=\"text-align: right;\"> 0.868402</td><td style=\"text-align: right;\"> 0.880758</td><td>2023-04-20_19-11-33</td><td>True  </td><td>                </td><td>451ddfe587004187888e63846894fb73</td><td>98_Input_Pipeline=InputPipeline_normalize_FrangiFilter,Loss_Function=BorderedLoss_FocalLoss_FocalTverskyLoss                             </td><td>pirl-PowerEdge-T640</td><td style=\"text-align: right;\">                        20</td><td>141.223.108.122</td><td style=\"text-align: right;\"> 6540</td><td>True               </td><td style=\"text-align: right;\">             5483.91</td><td style=\"text-align: right;\">           222.615</td><td style=\"text-align: right;\">       5483.91</td><td style=\"text-align: right;\"> 1681985493</td><td style=\"text-align: right;\">                        0</td><td>                 </td><td style=\"text-align: right;\">                  20</td><td>c9562_00098</td><td style=\"text-align: right;\">    0.0310352</td></tr>\n",
       "<tr><td>train_c9562_00099</td><td style=\"text-align: right;\">  0.741898</td><td style=\"text-align: right;\">     20</td><td style=\"text-align: right;\">0.0116693 </td><td style=\"text-align: right;\"> 0.868483</td><td style=\"text-align: right;\"> 0.878676</td><td>2023-04-20_20-27-31</td><td>True  </td><td>                </td><td>90751b829a464815accdc3c110f64c56</td><td>99_Input_Pipeline=InputPipeline_normalize_SatoFilter,Loss_Function=BorderedLoss_FocalLoss_FocalTverskyLoss                               </td><td>pirl-PowerEdge-T640</td><td style=\"text-align: right;\">                        20</td><td>141.223.108.122</td><td style=\"text-align: right;\"> 6626</td><td>True               </td><td style=\"text-align: right;\">             5447.39</td><td style=\"text-align: right;\">           219.986</td><td style=\"text-align: right;\">       5447.39</td><td style=\"text-align: right;\"> 1681990051</td><td style=\"text-align: right;\">                        0</td><td>                 </td><td style=\"text-align: right;\">                  20</td><td>c9562_00099</td><td style=\"text-align: right;\">    0.0304656</td></tr>\n",
       "<tr><td>train_c9562_00100</td><td style=\"text-align: right;\">  0.746334</td><td style=\"text-align: right;\">     20</td><td style=\"text-align: right;\">0.0110512 </td><td style=\"text-align: right;\"> 0.870782</td><td style=\"text-align: right;\"> 0.881116</td><td>2023-04-20_21-02-46</td><td>True  </td><td>                </td><td>451ddfe587004187888e63846894fb73</td><td>100_Input_Pipeline=InputPipeline_normalize_SumFilters_FrangiFilter_SatoFilter,Loss_Function=BorderedLoss_FocalLoss_FocalTverskyLoss      </td><td>pirl-PowerEdge-T640</td><td style=\"text-align: right;\">                        20</td><td>141.223.108.122</td><td style=\"text-align: right;\"> 6540</td><td>True               </td><td style=\"text-align: right;\">             6672.54</td><td style=\"text-align: right;\">           222.364</td><td style=\"text-align: right;\">       6672.54</td><td style=\"text-align: right;\"> 1681992166</td><td style=\"text-align: right;\">                        0</td><td>                 </td><td style=\"text-align: right;\">                  20</td><td>c9562_00100</td><td style=\"text-align: right;\">    0.0310352</td></tr>\n",
       "<tr><td>train_c9562_00101</td><td style=\"text-align: right;\">  0.744164</td><td style=\"text-align: right;\">     20</td><td style=\"text-align: right;\">0.0111917 </td><td style=\"text-align: right;\"> 0.869668</td><td style=\"text-align: right;\"> 0.880857</td><td>2023-04-20_22-20-45</td><td>True  </td><td>                </td><td>90751b829a464815accdc3c110f64c56</td><td>101_Input_Pipeline=InputPipeline_normalize_SkeletonFilter,Loss_Function=BorderedLoss_FocalLoss_FocalTverskyLoss                          </td><td>pirl-PowerEdge-T640</td><td style=\"text-align: right;\">                        20</td><td>141.223.108.122</td><td style=\"text-align: right;\"> 6626</td><td>True               </td><td style=\"text-align: right;\">             6793.51</td><td style=\"text-align: right;\">           222.516</td><td style=\"text-align: right;\">       6793.51</td><td style=\"text-align: right;\"> 1681996845</td><td style=\"text-align: right;\">                        0</td><td>                 </td><td style=\"text-align: right;\">                  20</td><td>c9562_00101</td><td style=\"text-align: right;\">    0.0304656</td></tr>\n",
       "</tbody>\n",
       "</table>\n",
       "</div>\n",
       "<style>\n",
       ".trialProgress {\n",
       "  display: flex;\n",
       "  flex-direction: column;\n",
       "  color: var(--jp-ui-font-color1);\n",
       "}\n",
       ".trialProgress h3 {\n",
       "  font-weight: bold;\n",
       "}\n",
       ".trialProgress td {\n",
       "  white-space: nowrap;\n",
       "}\n",
       "</style>\n"
      ],
      "text/plain": [
       "<IPython.core.display.HTML object>"
      ]
     },
     "metadata": {},
     "output_type": "display_data"
    },
    {
     "name": "stderr",
     "output_type": "stream",
     "text": [
      "2023-04-17 16:37:36,804\tINFO tensorboardx.py:267 -- Removed the following hyperparameter values when logging to tensorboard: {'Input Pipeline': InputPipeline(\n",
      "  (layer_transformer): ModuleList(\n",
      "    (0): SobelFilter\n",
      "  )\n",
      "), 'Loss Function': PixelLoss(\n",
      "  (pixel_loss): CrossEntropyLoss()\n",
      ")}\n",
      "2023-04-17 16:39:24,994\tINFO tensorboardx.py:267 -- Removed the following hyperparameter values when logging to tensorboard: {'Input Pipeline': InputPipeline(\n",
      "  (layer_transformer): ModuleList(\n",
      "    (0): LaplacianFilter\n",
      "  )\n",
      "), 'Loss Function': PixelLoss(\n",
      "  (pixel_loss): CrossEntropyLoss()\n",
      ")}\n",
      "2023-04-17 18:05:41,208\tINFO tensorboardx.py:267 -- Removed the following hyperparameter values when logging to tensorboard: {'Input Pipeline': InputPipeline(\n",
      "  (layer_transformer): ModuleList(\n",
      "    (0): FrangiFilter\n",
      "  )\n",
      "), 'Loss Function': PixelLoss(\n",
      "  (pixel_loss): CrossEntropyLoss()\n",
      ")}\n",
      "2023-04-17 18:07:32,862\tINFO tensorboardx.py:267 -- Removed the following hyperparameter values when logging to tensorboard: {'Input Pipeline': InputPipeline(\n",
      "  (layer_transformer): ModuleList(\n",
      "    (0): SatoFilter\n",
      "  )\n",
      "), 'Loss Function': PixelLoss(\n",
      "  (pixel_loss): CrossEntropyLoss()\n",
      ")}\n",
      "2023-04-17 19:52:48,288\tINFO tensorboardx.py:267 -- Removed the following hyperparameter values when logging to tensorboard: {'Input Pipeline': InputPipeline(\n",
      "  (layer_transformer): ModuleList(\n",
      "    (0): ('SumFilters', 'FrangiFilter', 'SatoFilter')\n",
      "  )\n",
      "), 'Loss Function': PixelLoss(\n",
      "  (pixel_loss): CrossEntropyLoss()\n",
      ")}\n",
      "2023-04-17 19:57:43,575\tINFO tensorboardx.py:267 -- Removed the following hyperparameter values when logging to tensorboard: {'Input Pipeline': InputPipeline(\n",
      "  (layer_transformer): ModuleList(\n",
      "    (0): SkeletonFilter\n",
      "  )\n",
      "), 'Loss Function': PixelLoss(\n",
      "  (pixel_loss): CrossEntropyLoss()\n",
      ")}\n",
      "2023-04-17 21:05:19,944\tINFO tensorboardx.py:267 -- Removed the following hyperparameter values when logging to tensorboard: {'Input Pipeline': InputPipeline(\n",
      "  (layer_transformer): ModuleList(\n",
      "    (0): SobelFilter\n",
      "  )\n",
      "), 'Loss Function': PixelLoss(\n",
      "  (pixel_loss): FocalLoss\n",
      ")}\n",
      "2023-04-17 21:15:25,454\tINFO tensorboardx.py:267 -- Removed the following hyperparameter values when logging to tensorboard: {'Input Pipeline': InputPipeline(\n",
      "  (layer_transformer): ModuleList(\n",
      "    (0): LaplacianFilter\n",
      "  )\n",
      "), 'Loss Function': PixelLoss(\n",
      "  (pixel_loss): FocalLoss\n",
      ")}\n",
      "2023-04-17 22:32:41,980\tINFO tensorboardx.py:267 -- Removed the following hyperparameter values when logging to tensorboard: {'Input Pipeline': InputPipeline(\n",
      "  (layer_transformer): ModuleList(\n",
      "    (0): FrangiFilter\n",
      "  )\n",
      "), 'Loss Function': PixelLoss(\n",
      "  (pixel_loss): FocalLoss\n",
      ")}\n",
      "2023-04-17 22:44:08,948\tINFO tensorboardx.py:267 -- Removed the following hyperparameter values when logging to tensorboard: {'Input Pipeline': InputPipeline(\n",
      "  (layer_transformer): ModuleList(\n",
      "    (0): SatoFilter\n",
      "  )\n",
      "), 'Loss Function': PixelLoss(\n",
      "  (pixel_loss): FocalLoss\n",
      ")}\n",
      "2023-04-18 00:19:11,032\tINFO tensorboardx.py:267 -- Removed the following hyperparameter values when logging to tensorboard: {'Input Pipeline': InputPipeline(\n",
      "  (layer_transformer): ModuleList(\n",
      "    (0): ('SumFilters', 'FrangiFilter', 'SatoFilter')\n",
      "  )\n",
      "), 'Loss Function': PixelLoss(\n",
      "  (pixel_loss): FocalLoss\n",
      ")}\n",
      "2023-04-18 00:34:48,087\tINFO tensorboardx.py:267 -- Removed the following hyperparameter values when logging to tensorboard: {'Input Pipeline': InputPipeline(\n",
      "  (layer_transformer): ModuleList(\n",
      "    (0): SkeletonFilter\n",
      "  )\n",
      "), 'Loss Function': PixelLoss(\n",
      "  (pixel_loss): FocalLoss\n",
      ")}\n",
      "2023-04-18 01:31:29,821\tINFO tensorboardx.py:267 -- Removed the following hyperparameter values when logging to tensorboard: {'Input Pipeline': InputPipeline(\n",
      "  (layer_transformer): ModuleList(\n",
      "    (0): SobelFilter\n",
      "  )\n",
      "), 'Loss Function': VolumeLoss(\n",
      "  (volume_loss): JaccardLoss\n",
      ")}\n",
      "2023-04-18 01:50:46,280\tINFO tensorboardx.py:267 -- Removed the following hyperparameter values when logging to tensorboard: {'Input Pipeline': InputPipeline(\n",
      "  (layer_transformer): ModuleList(\n",
      "    (0): LaplacianFilter\n",
      "  )\n",
      "), 'Loss Function': VolumeLoss(\n",
      "  (volume_loss): JaccardLoss\n",
      ")}\n",
      "2023-04-18 02:59:04,512\tINFO tensorboardx.py:267 -- Removed the following hyperparameter values when logging to tensorboard: {'Input Pipeline': InputPipeline(\n",
      "  (layer_transformer): ModuleList(\n",
      "    (0): FrangiFilter\n",
      "  )\n",
      "), 'Loss Function': VolumeLoss(\n",
      "  (volume_loss): JaccardLoss\n",
      ")}\n",
      "2023-04-18 03:18:02,899\tINFO tensorboardx.py:267 -- Removed the following hyperparameter values when logging to tensorboard: {'Input Pipeline': InputPipeline(\n",
      "  (layer_transformer): ModuleList(\n",
      "    (0): SatoFilter\n",
      "  )\n",
      "), 'Loss Function': VolumeLoss(\n",
      "  (volume_loss): JaccardLoss\n",
      ")}\n",
      "2023-04-18 04:46:41,778\tINFO tensorboardx.py:267 -- Removed the following hyperparameter values when logging to tensorboard: {'Input Pipeline': InputPipeline(\n",
      "  (layer_transformer): ModuleList(\n",
      "    (0): ('SumFilters', 'FrangiFilter', 'SatoFilter')\n",
      "  )\n",
      "), 'Loss Function': VolumeLoss(\n",
      "  (volume_loss): JaccardLoss\n",
      ")}\n",
      "2023-04-18 05:07:04,442\tINFO tensorboardx.py:267 -- Removed the following hyperparameter values when logging to tensorboard: {'Input Pipeline': InputPipeline(\n",
      "  (layer_transformer): ModuleList(\n",
      "    (0): SkeletonFilter\n",
      "  )\n",
      "), 'Loss Function': VolumeLoss(\n",
      "  (volume_loss): JaccardLoss\n",
      ")}\n",
      "2023-04-18 05:59:52,958\tINFO tensorboardx.py:267 -- Removed the following hyperparameter values when logging to tensorboard: {'Input Pipeline': InputPipeline(\n",
      "  (layer_transformer): ModuleList(\n",
      "    (0): SobelFilter\n",
      "  )\n",
      "), 'Loss Function': VolumeLoss(\n",
      "  (volume_loss): TverskyLoss\n",
      ")}\n",
      "2023-04-18 06:24:21,563\tINFO tensorboardx.py:267 -- Removed the following hyperparameter values when logging to tensorboard: {'Input Pipeline': InputPipeline(\n",
      "  (layer_transformer): ModuleList(\n",
      "    (0): LaplacianFilter\n",
      "  )\n",
      "), 'Loss Function': VolumeLoss(\n",
      "  (volume_loss): TverskyLoss\n",
      ")}\n",
      "2023-04-18 07:28:13,459\tINFO tensorboardx.py:267 -- Removed the following hyperparameter values when logging to tensorboard: {'Input Pipeline': InputPipeline(\n",
      "  (layer_transformer): ModuleList(\n",
      "    (0): FrangiFilter\n",
      "  )\n",
      "), 'Loss Function': VolumeLoss(\n",
      "  (volume_loss): TverskyLoss\n",
      ")}\n",
      "2023-04-18 07:52:15,728\tINFO tensorboardx.py:267 -- Removed the following hyperparameter values when logging to tensorboard: {'Input Pipeline': InputPipeline(\n",
      "  (layer_transformer): ModuleList(\n",
      "    (0): SatoFilter\n",
      "  )\n",
      "), 'Loss Function': VolumeLoss(\n",
      "  (volume_loss): TverskyLoss\n",
      ")}\n",
      "2023-04-18 09:15:53,120\tINFO tensorboardx.py:267 -- Removed the following hyperparameter values when logging to tensorboard: {'Input Pipeline': InputPipeline(\n",
      "  (layer_transformer): ModuleList(\n",
      "    (0): ('SumFilters', 'FrangiFilter', 'SatoFilter')\n",
      "  )\n",
      "), 'Loss Function': VolumeLoss(\n",
      "  (volume_loss): TverskyLoss\n",
      ")}\n",
      "2023-04-18 09:42:22,600\tINFO tensorboardx.py:267 -- Removed the following hyperparameter values when logging to tensorboard: {'Input Pipeline': InputPipeline(\n",
      "  (layer_transformer): ModuleList(\n",
      "    (0): SkeletonFilter\n",
      "  )\n",
      "), 'Loss Function': VolumeLoss(\n",
      "  (volume_loss): TverskyLoss\n",
      ")}\n",
      "2023-04-18 10:29:25,364\tINFO tensorboardx.py:267 -- Removed the following hyperparameter values when logging to tensorboard: {'Input Pipeline': InputPipeline(\n",
      "  (layer_transformer): ModuleList(\n",
      "    (0): SobelFilter\n",
      "  )\n",
      "), 'Loss Function': VolumeLoss(\n",
      "  (volume_loss): FocalTverskyLoss\n",
      ")}\n",
      "2023-04-18 10:59:34,631\tINFO tensorboardx.py:267 -- Removed the following hyperparameter values when logging to tensorboard: {'Input Pipeline': InputPipeline(\n",
      "  (layer_transformer): ModuleList(\n",
      "    (0): LaplacianFilter\n",
      "  )\n",
      "), 'Loss Function': VolumeLoss(\n",
      "  (volume_loss): FocalTverskyLoss\n",
      ")}\n",
      "2023-04-18 11:58:45,049\tINFO tensorboardx.py:267 -- Removed the following hyperparameter values when logging to tensorboard: {'Input Pipeline': InputPipeline(\n",
      "  (layer_transformer): ModuleList(\n",
      "    (0): FrangiFilter\n",
      "  )\n",
      "), 'Loss Function': VolumeLoss(\n",
      "  (volume_loss): FocalTverskyLoss\n",
      ")}\n",
      "2023-04-18 12:28:56,896\tINFO tensorboardx.py:267 -- Removed the following hyperparameter values when logging to tensorboard: {'Input Pipeline': InputPipeline(\n",
      "  (layer_transformer): ModuleList(\n",
      "    (0): SatoFilter\n",
      "  )\n",
      "), 'Loss Function': VolumeLoss(\n",
      "  (volume_loss): FocalTverskyLoss\n",
      ")}\n",
      "2023-04-18 13:47:48,325\tINFO tensorboardx.py:267 -- Removed the following hyperparameter values when logging to tensorboard: {'Input Pipeline': InputPipeline(\n",
      "  (layer_transformer): ModuleList(\n",
      "    (0): ('SumFilters', 'FrangiFilter', 'SatoFilter')\n",
      "  )\n",
      "), 'Loss Function': VolumeLoss(\n",
      "  (volume_loss): FocalTverskyLoss\n",
      ")}\n"
     ]
    },
    {
     "name": "stderr",
     "output_type": "stream",
     "text": [
      "2023-04-18 14:18:50,557\tINFO tensorboardx.py:267 -- Removed the following hyperparameter values when logging to tensorboard: {'Input Pipeline': InputPipeline(\n",
      "  (layer_transformer): ModuleList(\n",
      "    (0): SkeletonFilter\n",
      "  )\n",
      "), 'Loss Function': VolumeLoss(\n",
      "  (volume_loss): FocalTverskyLoss\n",
      ")}\n",
      "2023-04-18 15:02:07,537\tINFO tensorboardx.py:267 -- Removed the following hyperparameter values when logging to tensorboard: {'Input Pipeline': InputPipeline(\n",
      "  (layer_transformer): ModuleList(\n",
      "    (0): SobelFilter\n",
      "  )\n",
      "), 'Loss Function': CombinedLoss(\n",
      "  (loss1): CrossEntropyLoss()\n",
      "  (loss2): JaccardLoss\n",
      ")}\n",
      "2023-04-18 15:35:41,127\tINFO tensorboardx.py:267 -- Removed the following hyperparameter values when logging to tensorboard: {'Input Pipeline': InputPipeline(\n",
      "  (layer_transformer): ModuleList(\n",
      "    (0): LaplacianFilter\n",
      "  )\n",
      "), 'Loss Function': CombinedLoss(\n",
      "  (loss1): CrossEntropyLoss()\n",
      "  (loss2): JaccardLoss\n",
      ")}\n",
      "2023-04-18 16:31:57,495\tINFO tensorboardx.py:267 -- Removed the following hyperparameter values when logging to tensorboard: {'Input Pipeline': InputPipeline(\n",
      "  (layer_transformer): ModuleList(\n",
      "    (0): FrangiFilter\n",
      "  )\n",
      "), 'Loss Function': CombinedLoss(\n",
      "  (loss1): CrossEntropyLoss()\n",
      "  (loss2): JaccardLoss\n",
      ")}\n",
      "2023-04-18 17:04:43,442\tINFO tensorboardx.py:267 -- Removed the following hyperparameter values when logging to tensorboard: {'Input Pipeline': InputPipeline(\n",
      "  (layer_transformer): ModuleList(\n",
      "    (0): SatoFilter\n",
      "  )\n",
      "), 'Loss Function': CombinedLoss(\n",
      "  (loss1): CrossEntropyLoss()\n",
      "  (loss2): JaccardLoss\n",
      ")}\n",
      "2023-04-18 18:20:35,655\tINFO tensorboardx.py:267 -- Removed the following hyperparameter values when logging to tensorboard: {'Input Pipeline': InputPipeline(\n",
      "  (layer_transformer): ModuleList(\n",
      "    (0): ('SumFilters', 'FrangiFilter', 'SatoFilter')\n",
      "  )\n",
      "), 'Loss Function': CombinedLoss(\n",
      "  (loss1): CrossEntropyLoss()\n",
      "  (loss2): JaccardLoss\n",
      ")}\n",
      "2023-04-18 18:54:55,007\tINFO tensorboardx.py:267 -- Removed the following hyperparameter values when logging to tensorboard: {'Input Pipeline': InputPipeline(\n",
      "  (layer_transformer): ModuleList(\n",
      "    (0): SkeletonFilter\n",
      "  )\n",
      "), 'Loss Function': CombinedLoss(\n",
      "  (loss1): CrossEntropyLoss()\n",
      "  (loss2): JaccardLoss\n",
      ")}\n",
      "2023-04-18 19:35:26,131\tINFO tensorboardx.py:267 -- Removed the following hyperparameter values when logging to tensorboard: {'Input Pipeline': InputPipeline(\n",
      "  (layer_transformer): ModuleList(\n",
      "    (0): SobelFilter\n",
      "  )\n",
      "), 'Loss Function': BorderedLoss(\n",
      "  (border_loss): CrossEntropyLoss()\n",
      "  (volume_loss): JaccardLoss\n",
      ")}\n",
      "2023-04-18 20:12:19,410\tINFO tensorboardx.py:267 -- Removed the following hyperparameter values when logging to tensorboard: {'Input Pipeline': InputPipeline(\n",
      "  (layer_transformer): ModuleList(\n",
      "    (0): LaplacianFilter\n",
      "  )\n",
      "), 'Loss Function': BorderedLoss(\n",
      "  (border_loss): CrossEntropyLoss()\n",
      "  (volume_loss): JaccardLoss\n",
      ")}\n",
      "2023-04-18 21:05:33,805\tINFO tensorboardx.py:267 -- Removed the following hyperparameter values when logging to tensorboard: {'Input Pipeline': InputPipeline(\n",
      "  (layer_transformer): ModuleList(\n",
      "    (0): FrangiFilter\n",
      "  )\n",
      "), 'Loss Function': BorderedLoss(\n",
      "  (border_loss): CrossEntropyLoss()\n",
      "  (volume_loss): JaccardLoss\n",
      ")}\n",
      "2023-04-18 21:41:47,142\tINFO tensorboardx.py:267 -- Removed the following hyperparameter values when logging to tensorboard: {'Input Pipeline': InputPipeline(\n",
      "  (layer_transformer): ModuleList(\n",
      "    (0): SatoFilter\n",
      "  )\n",
      "), 'Loss Function': BorderedLoss(\n",
      "  (border_loss): CrossEntropyLoss()\n",
      "  (volume_loss): JaccardLoss\n",
      ")}\n",
      "2023-04-18 22:55:30,811\tINFO tensorboardx.py:267 -- Removed the following hyperparameter values when logging to tensorboard: {'Input Pipeline': InputPipeline(\n",
      "  (layer_transformer): ModuleList(\n",
      "    (0): ('SumFilters', 'FrangiFilter', 'SatoFilter')\n",
      "  )\n",
      "), 'Loss Function': BorderedLoss(\n",
      "  (border_loss): CrossEntropyLoss()\n",
      "  (volume_loss): JaccardLoss\n",
      ")}\n",
      "2023-04-18 23:32:53,400\tINFO tensorboardx.py:267 -- Removed the following hyperparameter values when logging to tensorboard: {'Input Pipeline': InputPipeline(\n",
      "  (layer_transformer): ModuleList(\n",
      "    (0): SkeletonFilter\n",
      "  )\n",
      "), 'Loss Function': BorderedLoss(\n",
      "  (border_loss): CrossEntropyLoss()\n",
      "  (volume_loss): JaccardLoss\n",
      ")}\n",
      "2023-04-19 00:10:21,622\tINFO tensorboardx.py:267 -- Removed the following hyperparameter values when logging to tensorboard: {'Input Pipeline': InputPipeline(\n",
      "  (layer_transformer): ModuleList(\n",
      "    (0): SobelFilter\n",
      "  )\n",
      "), 'Loss Function': CombinedLoss(\n",
      "  (loss1): CrossEntropyLoss()\n",
      "  (loss2): TverskyLoss\n",
      ")}\n",
      "2023-04-19 00:50:33,628\tINFO tensorboardx.py:267 -- Removed the following hyperparameter values when logging to tensorboard: {'Input Pipeline': InputPipeline(\n",
      "  (layer_transformer): ModuleList(\n",
      "    (0): LaplacianFilter\n",
      "  )\n",
      "), 'Loss Function': CombinedLoss(\n",
      "  (loss1): CrossEntropyLoss()\n",
      "  (loss2): TverskyLoss\n",
      ")}\n",
      "2023-04-19 01:40:32,974\tINFO tensorboardx.py:267 -- Removed the following hyperparameter values when logging to tensorboard: {'Input Pipeline': InputPipeline(\n",
      "  (layer_transformer): ModuleList(\n",
      "    (0): FrangiFilter\n",
      "  )\n",
      "), 'Loss Function': CombinedLoss(\n",
      "  (loss1): CrossEntropyLoss()\n",
      "  (loss2): TverskyLoss\n",
      ")}\n",
      "2023-04-19 02:20:23,237\tINFO tensorboardx.py:267 -- Removed the following hyperparameter values when logging to tensorboard: {'Input Pipeline': InputPipeline(\n",
      "  (layer_transformer): ModuleList(\n",
      "    (0): SatoFilter\n",
      "  )\n",
      "), 'Loss Function': CombinedLoss(\n",
      "  (loss1): CrossEntropyLoss()\n",
      "  (loss2): TverskyLoss\n",
      ")}\n",
      "2023-04-19 03:30:04,969\tINFO tensorboardx.py:267 -- Removed the following hyperparameter values when logging to tensorboard: {'Input Pipeline': InputPipeline(\n",
      "  (layer_transformer): ModuleList(\n",
      "    (0): ('SumFilters', 'FrangiFilter', 'SatoFilter')\n",
      "  )\n",
      "), 'Loss Function': CombinedLoss(\n",
      "  (loss1): CrossEntropyLoss()\n",
      "  (loss2): TverskyLoss\n",
      ")}\n",
      "2023-04-19 04:10:44,146\tINFO tensorboardx.py:267 -- Removed the following hyperparameter values when logging to tensorboard: {'Input Pipeline': InputPipeline(\n",
      "  (layer_transformer): ModuleList(\n",
      "    (0): SkeletonFilter\n",
      "  )\n",
      "), 'Loss Function': CombinedLoss(\n",
      "  (loss1): CrossEntropyLoss()\n",
      "  (loss2): TverskyLoss\n",
      ")}\n",
      "2023-04-19 04:45:15,432\tINFO tensorboardx.py:267 -- Removed the following hyperparameter values when logging to tensorboard: {'Input Pipeline': InputPipeline(\n",
      "  (layer_transformer): ModuleList(\n",
      "    (0): SobelFilter\n",
      "  )\n",
      "), 'Loss Function': BorderedLoss(\n",
      "  (border_loss): CrossEntropyLoss()\n",
      "  (volume_loss): TverskyLoss\n",
      ")}\n",
      "2023-04-19 05:30:23,121\tINFO tensorboardx.py:267 -- Removed the following hyperparameter values when logging to tensorboard: {'Input Pipeline': InputPipeline(\n",
      "  (layer_transformer): ModuleList(\n",
      "    (0): LaplacianFilter\n",
      "  )\n",
      "), 'Loss Function': BorderedLoss(\n",
      "  (border_loss): CrossEntropyLoss()\n",
      "  (volume_loss): TverskyLoss\n",
      ")}\n",
      "2023-04-19 06:15:48,608\tINFO tensorboardx.py:267 -- Removed the following hyperparameter values when logging to tensorboard: {'Input Pipeline': InputPipeline(\n",
      "  (layer_transformer): ModuleList(\n",
      "    (0): FrangiFilter\n",
      "  )\n",
      "), 'Loss Function': BorderedLoss(\n",
      "  (border_loss): CrossEntropyLoss()\n",
      "  (volume_loss): TverskyLoss\n",
      ")}\n",
      "2023-04-19 07:00:31,135\tINFO tensorboardx.py:267 -- Removed the following hyperparameter values when logging to tensorboard: {'Input Pipeline': InputPipeline(\n",
      "  (layer_transformer): ModuleList(\n",
      "    (0): SatoFilter\n",
      "  )\n",
      "), 'Loss Function': BorderedLoss(\n",
      "  (border_loss): CrossEntropyLoss()\n",
      "  (volume_loss): TverskyLoss\n",
      ")}\n",
      "2023-04-19 08:06:10,644\tINFO tensorboardx.py:267 -- Removed the following hyperparameter values when logging to tensorboard: {'Input Pipeline': InputPipeline(\n",
      "  (layer_transformer): ModuleList(\n",
      "    (0): ('SumFilters', 'FrangiFilter', 'SatoFilter')\n",
      "  )\n",
      "), 'Loss Function': BorderedLoss(\n",
      "  (border_loss): CrossEntropyLoss()\n",
      "  (volume_loss): TverskyLoss\n",
      ")}\n",
      "2023-04-19 08:52:21,801\tINFO tensorboardx.py:267 -- Removed the following hyperparameter values when logging to tensorboard: {'Input Pipeline': InputPipeline(\n",
      "  (layer_transformer): ModuleList(\n",
      "    (0): SkeletonFilter\n",
      "  )\n",
      "), 'Loss Function': BorderedLoss(\n",
      "  (border_loss): CrossEntropyLoss()\n",
      "  (volume_loss): TverskyLoss\n",
      ")}\n",
      "2023-04-19 09:21:19,208\tINFO tensorboardx.py:267 -- Removed the following hyperparameter values when logging to tensorboard: {'Input Pipeline': InputPipeline(\n",
      "  (layer_transformer): ModuleList(\n",
      "    (0): SobelFilter\n",
      "  )\n",
      "), 'Loss Function': CombinedLoss(\n",
      "  (loss1): CrossEntropyLoss()\n",
      "  (loss2): FocalTverskyLoss\n",
      ")}\n"
     ]
    },
    {
     "name": "stderr",
     "output_type": "stream",
     "text": [
      "2023-04-19 10:10:25,760\tINFO tensorboardx.py:267 -- Removed the following hyperparameter values when logging to tensorboard: {'Input Pipeline': InputPipeline(\n",
      "  (layer_transformer): ModuleList(\n",
      "    (0): LaplacianFilter\n",
      "  )\n",
      "), 'Loss Function': CombinedLoss(\n",
      "  (loss1): CrossEntropyLoss()\n",
      "  (loss2): FocalTverskyLoss\n",
      ")}\n",
      "2023-04-19 10:51:54,575\tINFO tensorboardx.py:267 -- Removed the following hyperparameter values when logging to tensorboard: {'Input Pipeline': InputPipeline(\n",
      "  (layer_transformer): ModuleList(\n",
      "    (0): FrangiFilter\n",
      "  )\n",
      "), 'Loss Function': CombinedLoss(\n",
      "  (loss1): CrossEntropyLoss()\n",
      "  (loss2): FocalTverskyLoss\n",
      ")}\n",
      "2023-04-19 11:41:39,914\tINFO tensorboardx.py:267 -- Removed the following hyperparameter values when logging to tensorboard: {'Input Pipeline': InputPipeline(\n",
      "  (layer_transformer): ModuleList(\n",
      "    (0): SatoFilter\n",
      "  )\n",
      "), 'Loss Function': CombinedLoss(\n",
      "  (loss1): CrossEntropyLoss()\n",
      "  (loss2): FocalTverskyLoss\n",
      ")}\n",
      "2023-04-19 12:41:40,967\tINFO tensorboardx.py:267 -- Removed the following hyperparameter values when logging to tensorboard: {'Input Pipeline': InputPipeline(\n",
      "  (layer_transformer): ModuleList(\n",
      "    (0): ('SumFilters', 'FrangiFilter', 'SatoFilter')\n",
      "  )\n",
      "), 'Loss Function': CombinedLoss(\n",
      "  (loss1): CrossEntropyLoss()\n",
      "  (loss2): FocalTverskyLoss\n",
      ")}\n",
      "2023-04-19 13:34:01,066\tINFO tensorboardx.py:267 -- Removed the following hyperparameter values when logging to tensorboard: {'Input Pipeline': InputPipeline(\n",
      "  (layer_transformer): ModuleList(\n",
      "    (0): SkeletonFilter\n",
      "  )\n",
      "), 'Loss Function': CombinedLoss(\n",
      "  (loss1): CrossEntropyLoss()\n",
      "  (loss2): FocalTverskyLoss\n",
      ")}\n",
      "2023-04-19 13:57:20,507\tINFO tensorboardx.py:267 -- Removed the following hyperparameter values when logging to tensorboard: {'Input Pipeline': InputPipeline(\n",
      "  (layer_transformer): ModuleList(\n",
      "    (0): SobelFilter\n",
      "  )\n",
      "), 'Loss Function': BorderedLoss(\n",
      "  (border_loss): CrossEntropyLoss()\n",
      "  (volume_loss): FocalTverskyLoss\n",
      ")}\n",
      "2023-04-19 14:52:25,552\tINFO tensorboardx.py:267 -- Removed the following hyperparameter values when logging to tensorboard: {'Input Pipeline': InputPipeline(\n",
      "  (layer_transformer): ModuleList(\n",
      "    (0): LaplacianFilter\n",
      "  )\n",
      "), 'Loss Function': BorderedLoss(\n",
      "  (border_loss): CrossEntropyLoss()\n",
      "  (volume_loss): FocalTverskyLoss\n",
      ")}\n",
      "2023-04-19 15:28:10,729\tINFO tensorboardx.py:267 -- Removed the following hyperparameter values when logging to tensorboard: {'Input Pipeline': InputPipeline(\n",
      "  (layer_transformer): ModuleList(\n",
      "    (0): FrangiFilter\n",
      "  )\n",
      "), 'Loss Function': BorderedLoss(\n",
      "  (border_loss): CrossEntropyLoss()\n",
      "  (volume_loss): FocalTverskyLoss\n",
      ")}\n",
      "2023-04-19 16:22:29,568\tINFO tensorboardx.py:267 -- Removed the following hyperparameter values when logging to tensorboard: {'Input Pipeline': InputPipeline(\n",
      "  (layer_transformer): ModuleList(\n",
      "    (0): SatoFilter\n",
      "  )\n",
      "), 'Loss Function': BorderedLoss(\n",
      "  (border_loss): CrossEntropyLoss()\n",
      "  (volume_loss): FocalTverskyLoss\n",
      ")}\n",
      "2023-04-19 17:18:42,612\tINFO tensorboardx.py:267 -- Removed the following hyperparameter values when logging to tensorboard: {'Input Pipeline': InputPipeline(\n",
      "  (layer_transformer): ModuleList(\n",
      "    (0): ('SumFilters', 'FrangiFilter', 'SatoFilter')\n",
      "  )\n",
      "), 'Loss Function': BorderedLoss(\n",
      "  (border_loss): CrossEntropyLoss()\n",
      "  (volume_loss): FocalTverskyLoss\n",
      ")}\n",
      "2023-04-19 18:12:55,572\tINFO tensorboardx.py:267 -- Removed the following hyperparameter values when logging to tensorboard: {'Input Pipeline': InputPipeline(\n",
      "  (layer_transformer): ModuleList(\n",
      "    (0): SkeletonFilter\n",
      "  )\n",
      "), 'Loss Function': BorderedLoss(\n",
      "  (border_loss): CrossEntropyLoss()\n",
      "  (volume_loss): FocalTverskyLoss\n",
      ")}\n",
      "2023-04-19 18:34:12,198\tINFO tensorboardx.py:267 -- Removed the following hyperparameter values when logging to tensorboard: {'Input Pipeline': InputPipeline(\n",
      "  (layer_transformer): ModuleList(\n",
      "    (0): SobelFilter\n",
      "  )\n",
      "), 'Loss Function': CombinedLoss(\n",
      "  (loss1): FocalLoss\n",
      "  (loss2): JaccardLoss\n",
      ")}\n",
      "2023-04-19 19:32:11,589\tINFO tensorboardx.py:267 -- Removed the following hyperparameter values when logging to tensorboard: {'Input Pipeline': InputPipeline(\n",
      "  (layer_transformer): ModuleList(\n",
      "    (0): LaplacianFilter\n",
      "  )\n",
      "), 'Loss Function': CombinedLoss(\n",
      "  (loss1): FocalLoss\n",
      "  (loss2): JaccardLoss\n",
      ")}\n",
      "2023-04-19 20:04:59,771\tINFO tensorboardx.py:267 -- Removed the following hyperparameter values when logging to tensorboard: {'Input Pipeline': InputPipeline(\n",
      "  (layer_transformer): ModuleList(\n",
      "    (0): FrangiFilter\n",
      "  )\n",
      "), 'Loss Function': CombinedLoss(\n",
      "  (loss1): FocalLoss\n",
      "  (loss2): JaccardLoss\n",
      ")}\n",
      "2023-04-19 21:02:17,946\tINFO tensorboardx.py:267 -- Removed the following hyperparameter values when logging to tensorboard: {'Input Pipeline': InputPipeline(\n",
      "  (layer_transformer): ModuleList(\n",
      "    (0): SatoFilter\n",
      "  )\n",
      "), 'Loss Function': CombinedLoss(\n",
      "  (loss1): FocalLoss\n",
      "  (loss2): JaccardLoss\n",
      ")}\n",
      "2023-04-19 21:54:41,090\tINFO tensorboardx.py:267 -- Removed the following hyperparameter values when logging to tensorboard: {'Input Pipeline': InputPipeline(\n",
      "  (layer_transformer): ModuleList(\n",
      "    (0): ('SumFilters', 'FrangiFilter', 'SatoFilter')\n",
      "  )\n",
      "), 'Loss Function': CombinedLoss(\n",
      "  (loss1): FocalLoss\n",
      "  (loss2): JaccardLoss\n",
      ")}\n",
      "2023-04-19 22:52:46,792\tINFO tensorboardx.py:267 -- Removed the following hyperparameter values when logging to tensorboard: {'Input Pipeline': InputPipeline(\n",
      "  (layer_transformer): ModuleList(\n",
      "    (0): SkeletonFilter\n",
      "  )\n",
      "), 'Loss Function': CombinedLoss(\n",
      "  (loss1): FocalLoss\n",
      "  (loss2): JaccardLoss\n",
      ")}\n",
      "2023-04-19 23:10:16,051\tINFO tensorboardx.py:267 -- Removed the following hyperparameter values when logging to tensorboard: {'Input Pipeline': InputPipeline(\n",
      "  (layer_transformer): ModuleList(\n",
      "    (0): SobelFilter\n",
      "  )\n",
      "), 'Loss Function': BorderedLoss(\n",
      "  (border_loss): FocalLoss\n",
      "  (volume_loss): JaccardLoss\n",
      ")}\n",
      "2023-04-20 00:13:37,474\tINFO tensorboardx.py:267 -- Removed the following hyperparameter values when logging to tensorboard: {'Input Pipeline': InputPipeline(\n",
      "  (layer_transformer): ModuleList(\n",
      "    (0): LaplacianFilter\n",
      "  )\n",
      "), 'Loss Function': BorderedLoss(\n",
      "  (border_loss): FocalLoss\n",
      "  (volume_loss): JaccardLoss\n",
      ")}\n",
      "2023-04-20 00:41:04,226\tINFO tensorboardx.py:267 -- Removed the following hyperparameter values when logging to tensorboard: {'Input Pipeline': InputPipeline(\n",
      "  (layer_transformer): ModuleList(\n",
      "    (0): FrangiFilter\n",
      "  )\n",
      "), 'Loss Function': BorderedLoss(\n",
      "  (border_loss): FocalLoss\n",
      "  (volume_loss): JaccardLoss\n",
      ")}\n",
      "2023-04-20 01:44:09,628\tINFO tensorboardx.py:267 -- Removed the following hyperparameter values when logging to tensorboard: {'Input Pipeline': InputPipeline(\n",
      "  (layer_transformer): ModuleList(\n",
      "    (0): SatoFilter\n",
      "  )\n",
      "), 'Loss Function': BorderedLoss(\n",
      "  (border_loss): FocalLoss\n",
      "  (volume_loss): JaccardLoss\n",
      ")}\n",
      "2023-04-20 02:31:52,947\tINFO tensorboardx.py:267 -- Removed the following hyperparameter values when logging to tensorboard: {'Input Pipeline': InputPipeline(\n",
      "  (layer_transformer): ModuleList(\n",
      "    (0): ('SumFilters', 'FrangiFilter', 'SatoFilter')\n",
      "  )\n",
      "), 'Loss Function': BorderedLoss(\n",
      "  (border_loss): FocalLoss\n",
      "  (volume_loss): JaccardLoss\n",
      ")}\n",
      "2023-04-20 03:35:00,882\tINFO tensorboardx.py:267 -- Removed the following hyperparameter values when logging to tensorboard: {'Input Pipeline': InputPipeline(\n",
      "  (layer_transformer): ModuleList(\n",
      "    (0): SkeletonFilter\n",
      "  )\n",
      "), 'Loss Function': BorderedLoss(\n",
      "  (border_loss): FocalLoss\n",
      "  (volume_loss): JaccardLoss\n",
      ")}\n",
      "2023-04-20 03:47:31,069\tINFO tensorboardx.py:267 -- Removed the following hyperparameter values when logging to tensorboard: {'Input Pipeline': InputPipeline(\n",
      "  (layer_transformer): ModuleList(\n",
      "    (0): SobelFilter\n",
      "  )\n",
      "), 'Loss Function': CombinedLoss(\n",
      "  (loss1): FocalLoss\n",
      "  (loss2): TverskyLoss\n",
      ")}\n",
      "2023-04-20 04:53:29,751\tINFO tensorboardx.py:267 -- Removed the following hyperparameter values when logging to tensorboard: {'Input Pipeline': InputPipeline(\n",
      "  (layer_transformer): ModuleList(\n",
      "    (0): LaplacianFilter\n",
      "  )\n",
      "), 'Loss Function': CombinedLoss(\n",
      "  (loss1): FocalLoss\n",
      "  (loss2): TverskyLoss\n",
      ")}\n",
      "2023-04-20 05:18:28,684\tINFO tensorboardx.py:267 -- Removed the following hyperparameter values when logging to tensorboard: {'Input Pipeline': InputPipeline(\n",
      "  (layer_transformer): ModuleList(\n",
      "    (0): FrangiFilter\n",
      "  )\n",
      "), 'Loss Function': CombinedLoss(\n",
      "  (loss1): FocalLoss\n",
      "  (loss2): TverskyLoss\n",
      ")}\n"
     ]
    },
    {
     "name": "stderr",
     "output_type": "stream",
     "text": [
      "2023-04-20 06:24:07,842\tINFO tensorboardx.py:267 -- Removed the following hyperparameter values when logging to tensorboard: {'Input Pipeline': InputPipeline(\n",
      "  (layer_transformer): ModuleList(\n",
      "    (0): SatoFilter\n",
      "  )\n",
      "), 'Loss Function': CombinedLoss(\n",
      "  (loss1): FocalLoss\n",
      "  (loss2): TverskyLoss\n",
      ")}\n",
      "2023-04-20 07:08:39,863\tINFO tensorboardx.py:267 -- Removed the following hyperparameter values when logging to tensorboard: {'Input Pipeline': InputPipeline(\n",
      "  (layer_transformer): ModuleList(\n",
      "    (0): ('SumFilters', 'FrangiFilter', 'SatoFilter')\n",
      "  )\n",
      "), 'Loss Function': CombinedLoss(\n",
      "  (loss1): FocalLoss\n",
      "  (loss2): TverskyLoss\n",
      ")}\n",
      "2023-04-20 08:14:49,499\tINFO tensorboardx.py:267 -- Removed the following hyperparameter values when logging to tensorboard: {'Input Pipeline': InputPipeline(\n",
      "  (layer_transformer): ModuleList(\n",
      "    (0): SkeletonFilter\n",
      "  )\n",
      "), 'Loss Function': CombinedLoss(\n",
      "  (loss1): FocalLoss\n",
      "  (loss2): TverskyLoss\n",
      ")}\n",
      "2023-04-20 08:24:33,017\tINFO tensorboardx.py:267 -- Removed the following hyperparameter values when logging to tensorboard: {'Input Pipeline': InputPipeline(\n",
      "  (layer_transformer): ModuleList(\n",
      "    (0): SobelFilter\n",
      "  )\n",
      "), 'Loss Function': BorderedLoss(\n",
      "  (border_loss): FocalLoss\n",
      "  (volume_loss): TverskyLoss\n",
      ")}\n",
      "2023-04-20 09:33:30,857\tINFO tensorboardx.py:267 -- Removed the following hyperparameter values when logging to tensorboard: {'Input Pipeline': InputPipeline(\n",
      "  (layer_transformer): ModuleList(\n",
      "    (0): LaplacianFilter\n",
      "  )\n",
      "), 'Loss Function': BorderedLoss(\n",
      "  (border_loss): FocalLoss\n",
      "  (volume_loss): TverskyLoss\n",
      ")}\n",
      "2023-04-20 09:55:48,822\tINFO tensorboardx.py:267 -- Removed the following hyperparameter values when logging to tensorboard: {'Input Pipeline': InputPipeline(\n",
      "  (layer_transformer): ModuleList(\n",
      "    (0): FrangiFilter\n",
      "  )\n",
      "), 'Loss Function': BorderedLoss(\n",
      "  (border_loss): FocalLoss\n",
      "  (volume_loss): TverskyLoss\n",
      ")}\n",
      "2023-04-20 11:04:21,321\tINFO tensorboardx.py:267 -- Removed the following hyperparameter values when logging to tensorboard: {'Input Pipeline': InputPipeline(\n",
      "  (layer_transformer): ModuleList(\n",
      "    (0): SatoFilter\n",
      "  )\n",
      "), 'Loss Function': BorderedLoss(\n",
      "  (border_loss): FocalLoss\n",
      "  (volume_loss): TverskyLoss\n",
      ")}\n",
      "2023-04-20 11:46:38,659\tINFO tensorboardx.py:267 -- Removed the following hyperparameter values when logging to tensorboard: {'Input Pipeline': InputPipeline(\n",
      "  (layer_transformer): ModuleList(\n",
      "    (0): ('SumFilters', 'FrangiFilter', 'SatoFilter')\n",
      "  )\n",
      "), 'Loss Function': BorderedLoss(\n",
      "  (border_loss): FocalLoss\n",
      "  (volume_loss): TverskyLoss\n",
      ")}\n",
      "2023-04-20 12:55:00,907\tINFO tensorboardx.py:267 -- Removed the following hyperparameter values when logging to tensorboard: {'Input Pipeline': InputPipeline(\n",
      "  (layer_transformer): ModuleList(\n",
      "    (0): SkeletonFilter\n",
      "  )\n",
      "), 'Loss Function': BorderedLoss(\n",
      "  (border_loss): FocalLoss\n",
      "  (volume_loss): TverskyLoss\n",
      ")}\n",
      "2023-04-20 13:02:35,010\tINFO tensorboardx.py:267 -- Removed the following hyperparameter values when logging to tensorboard: {'Input Pipeline': InputPipeline(\n",
      "  (layer_transformer): ModuleList(\n",
      "    (0): SobelFilter\n",
      "  )\n",
      "), 'Loss Function': CombinedLoss(\n",
      "  (loss1): FocalLoss\n",
      "  (loss2): FocalTverskyLoss\n",
      ")}\n",
      "2023-04-20 14:13:47,135\tINFO tensorboardx.py:267 -- Removed the following hyperparameter values when logging to tensorboard: {'Input Pipeline': InputPipeline(\n",
      "  (layer_transformer): ModuleList(\n",
      "    (0): LaplacianFilter\n",
      "  )\n",
      "), 'Loss Function': CombinedLoss(\n",
      "  (loss1): FocalLoss\n",
      "  (loss2): FocalTverskyLoss\n",
      ")}\n",
      "2023-04-20 14:33:30,224\tINFO tensorboardx.py:267 -- Removed the following hyperparameter values when logging to tensorboard: {'Input Pipeline': InputPipeline(\n",
      "  (layer_transformer): ModuleList(\n",
      "    (0): FrangiFilter\n",
      "  )\n",
      "), 'Loss Function': CombinedLoss(\n",
      "  (loss1): FocalLoss\n",
      "  (loss2): FocalTverskyLoss\n",
      ")}\n",
      "2023-04-20 15:44:28,567\tINFO tensorboardx.py:267 -- Removed the following hyperparameter values when logging to tensorboard: {'Input Pipeline': InputPipeline(\n",
      "  (layer_transformer): ModuleList(\n",
      "    (0): SatoFilter\n",
      "  )\n",
      "), 'Loss Function': CombinedLoss(\n",
      "  (loss1): FocalLoss\n",
      "  (loss2): FocalTverskyLoss\n",
      ")}\n",
      "2023-04-20 16:24:12,226\tINFO tensorboardx.py:267 -- Removed the following hyperparameter values when logging to tensorboard: {'Input Pipeline': InputPipeline(\n",
      "  (layer_transformer): ModuleList(\n",
      "    (0): ('SumFilters', 'FrangiFilter', 'SatoFilter')\n",
      "  )\n",
      "), 'Loss Function': CombinedLoss(\n",
      "  (loss1): FocalLoss\n",
      "  (loss2): FocalTverskyLoss\n",
      ")}\n",
      "2023-04-20 17:35:16,970\tINFO tensorboardx.py:267 -- Removed the following hyperparameter values when logging to tensorboard: {'Input Pipeline': InputPipeline(\n",
      "  (layer_transformer): ModuleList(\n",
      "    (0): SkeletonFilter\n",
      "  )\n",
      "), 'Loss Function': CombinedLoss(\n",
      "  (loss1): FocalLoss\n",
      "  (loss2): FocalTverskyLoss\n",
      ")}\n",
      "2023-04-20 17:40:09,653\tINFO tensorboardx.py:267 -- Removed the following hyperparameter values when logging to tensorboard: {'Input Pipeline': InputPipeline(\n",
      "  (layer_transformer): ModuleList(\n",
      "    (0): SobelFilter\n",
      "  )\n",
      "), 'Loss Function': BorderedLoss(\n",
      "  (border_loss): FocalLoss\n",
      "  (volume_loss): FocalTverskyLoss\n",
      ")}\n",
      "2023-04-20 18:56:44,077\tINFO tensorboardx.py:267 -- Removed the following hyperparameter values when logging to tensorboard: {'Input Pipeline': InputPipeline(\n",
      "  (layer_transformer): ModuleList(\n",
      "    (0): LaplacianFilter\n",
      "  )\n",
      "), 'Loss Function': BorderedLoss(\n",
      "  (border_loss): FocalLoss\n",
      "  (volume_loss): FocalTverskyLoss\n",
      ")}\n",
      "2023-04-20 19:11:34,072\tINFO tensorboardx.py:267 -- Removed the following hyperparameter values when logging to tensorboard: {'Input Pipeline': InputPipeline(\n",
      "  (layer_transformer): ModuleList(\n",
      "    (0): FrangiFilter\n",
      "  )\n",
      "), 'Loss Function': BorderedLoss(\n",
      "  (border_loss): FocalLoss\n",
      "  (volume_loss): FocalTverskyLoss\n",
      ")}\n",
      "2023-04-20 20:27:31,767\tINFO tensorboardx.py:267 -- Removed the following hyperparameter values when logging to tensorboard: {'Input Pipeline': InputPipeline(\n",
      "  (layer_transformer): ModuleList(\n",
      "    (0): SatoFilter\n",
      "  )\n",
      "), 'Loss Function': BorderedLoss(\n",
      "  (border_loss): FocalLoss\n",
      "  (volume_loss): FocalTverskyLoss\n",
      ")}\n",
      "2023-04-20 21:02:47,105\tINFO tensorboardx.py:267 -- Removed the following hyperparameter values when logging to tensorboard: {'Input Pipeline': InputPipeline(\n",
      "  (layer_transformer): ModuleList(\n",
      "    (0): ('SumFilters', 'FrangiFilter', 'SatoFilter')\n",
      "  )\n",
      "), 'Loss Function': BorderedLoss(\n",
      "  (border_loss): FocalLoss\n",
      "  (volume_loss): FocalTverskyLoss\n",
      ")}\n",
      "2023-04-20 22:20:45,572\tINFO tensorboardx.py:267 -- Removed the following hyperparameter values when logging to tensorboard: {'Input Pipeline': InputPipeline(\n",
      "  (layer_transformer): ModuleList(\n",
      "    (0): SkeletonFilter\n",
      "  )\n",
      "), 'Loss Function': BorderedLoss(\n",
      "  (border_loss): FocalLoss\n",
      "  (volume_loss): FocalTverskyLoss\n",
      ")}\n",
      "2023-04-20 22:20:45,657\tINFO tune.py:798 -- Total run time: 284057.01 seconds (284056.90 seconds for the tuning loop).\n"
     ]
    }
   ],
   "source": [
    "results = tuner.fit()"
   ]
  },
  {
   "cell_type": "markdown",
   "id": "f08aabe4",
   "metadata": {},
   "source": [
    "# Evaluating the best Results"
   ]
  },
  {
   "cell_type": "code",
   "execution_count": 12,
   "id": "aaa2da49",
   "metadata": {
    "ExecuteTime": {
     "end_time": "2023-04-20T18:07:42.030077Z",
     "start_time": "2023-04-20T13:20:45.893607Z"
    },
    "scrolled": true
   },
   "outputs": [
    {
     "name": "stdout",
     "output_type": "stream",
     "text": [
      "Best trial config: {'Network': <class 'models.unet.UNet'>, 'Optimizer': <class 'torch.optim.adam.Adam'>, 'Learning Rate': 0.0001, 'Batch Size': 4, 'Loss Function': BorderedLoss(\n",
      "  (border_loss): CrossEntropyLoss()\n",
      "  (volume_loss): JaccardLoss\n",
      "), 'Negative Mining': False, 'Smooth Labeling': False, 'Input Pipeline': InputPipeline(\n",
      "  (layer_transformer): ModuleList(\n",
      "    (0): FrangiFilter\n",
      "  )\n",
      ")}\n",
      "Best trial final validation loss: 0.08201704174280167\n",
      "Best trial final validation CrackIoU: 0.771568238735199\n"
     ]
    },
    {
     "data": {
      "application/vnd.jupyter.widget-view+json": {
       "model_id": "f635a23827514cc6af7a033adc78f051",
       "version_major": 2,
       "version_minor": 0
      },
      "text/plain": [
       "[Evaluating]:   0%|          | 0/550 [00:00<?, ?it/s]"
      ]
     },
     "metadata": {},
     "output_type": "display_data"
    },
    {
     "data": {
      "application/vnd.jupyter.widget-view+json": {
       "model_id": "7d3ec65fd5d145c9a8fde1f004541ff1",
       "version_major": 2,
       "version_minor": 0
      },
      "text/plain": [
       "[Evaluating]:   0%|          | 0/550 [00:00<?, ?it/s]"
      ]
     },
     "metadata": {},
     "output_type": "display_data"
    },
    {
     "data": {
      "application/vnd.jupyter.widget-view+json": {
       "model_id": "fb10a5b4b78d41aeb4e2a6faf9a8c2c4",
       "version_major": 2,
       "version_minor": 0
      },
      "text/plain": [
       "[Evaluating]:   0%|          | 0/550 [00:00<?, ?it/s]"
      ]
     },
     "metadata": {},
     "output_type": "display_data"
    },
    {
     "data": {
      "application/vnd.jupyter.widget-view+json": {
       "model_id": "76fadc14530943d39df6542907becd3f",
       "version_major": 2,
       "version_minor": 0
      },
      "text/plain": [
       "[Evaluating]:   0%|          | 0/550 [00:00<?, ?it/s]"
      ]
     },
     "metadata": {},
     "output_type": "display_data"
    },
    {
     "data": {
      "application/vnd.jupyter.widget-view+json": {
       "model_id": "5c15fc3a118f41ebbc76a2f1409bd633",
       "version_major": 2,
       "version_minor": 0
      },
      "text/plain": [
       "[Evaluating]:   0%|          | 0/550 [00:00<?, ?it/s]"
      ]
     },
     "metadata": {},
     "output_type": "display_data"
    },
    {
     "data": {
      "application/vnd.jupyter.widget-view+json": {
       "model_id": "1c6d89b2b9a5480bbe162e737fab7bcc",
       "version_major": 2,
       "version_minor": 0
      },
      "text/plain": [
       "[Evaluating]:   0%|          | 0/550 [00:00<?, ?it/s]"
      ]
     },
     "metadata": {},
     "output_type": "display_data"
    },
    {
     "data": {
      "application/vnd.jupyter.widget-view+json": {
       "model_id": "f407d9cdc189438dbce609e20f06af55",
       "version_major": 2,
       "version_minor": 0
      },
      "text/plain": [
       "[Evaluating]:   0%|          | 0/550 [00:00<?, ?it/s]"
      ]
     },
     "metadata": {},
     "output_type": "display_data"
    },
    {
     "data": {
      "application/vnd.jupyter.widget-view+json": {
       "model_id": "54c1406c0e3c497a87209ddfc953c2b1",
       "version_major": 2,
       "version_minor": 0
      },
      "text/plain": [
       "[Evaluating]:   0%|          | 0/550 [00:00<?, ?it/s]"
      ]
     },
     "metadata": {},
     "output_type": "display_data"
    },
    {
     "data": {
      "application/vnd.jupyter.widget-view+json": {
       "model_id": "7e1b1149362d4560be698ca2140842a7",
       "version_major": 2,
       "version_minor": 0
      },
      "text/plain": [
       "[Evaluating]:   0%|          | 0/550 [00:00<?, ?it/s]"
      ]
     },
     "metadata": {},
     "output_type": "display_data"
    },
    {
     "data": {
      "application/vnd.jupyter.widget-view+json": {
       "model_id": "d33c0cc39631481ca28cf05f0a546e6b",
       "version_major": 2,
       "version_minor": 0
      },
      "text/plain": [
       "[Evaluating]:   0%|          | 0/550 [00:00<?, ?it/s]"
      ]
     },
     "metadata": {},
     "output_type": "display_data"
    },
    {
     "data": {
      "application/vnd.jupyter.widget-view+json": {
       "model_id": "7e18e361cab840ccad63c91c88a58e07",
       "version_major": 2,
       "version_minor": 0
      },
      "text/plain": [
       "[Evaluating]:   0%|          | 0/550 [00:00<?, ?it/s]"
      ]
     },
     "metadata": {},
     "output_type": "display_data"
    },
    {
     "data": {
      "application/vnd.jupyter.widget-view+json": {
       "model_id": "beb634e3892f408ebd5ad18ab0cdb349",
       "version_major": 2,
       "version_minor": 0
      },
      "text/plain": [
       "[Evaluating]:   0%|          | 0/550 [00:00<?, ?it/s]"
      ]
     },
     "metadata": {},
     "output_type": "display_data"
    },
    {
     "name": "stderr",
     "output_type": "stream",
     "text": [
      "Traceback (most recent call last):\n",
      "  File \"/home/pirl/anaconda3/envs/POC-env/lib/python3.10/multiprocessing/util.py\", line 300, in _run_finalizers\n",
      "    finalizer()\n",
      "  File \"/home/pirl/anaconda3/envs/POC-env/lib/python3.10/multiprocessing/util.py\", line 224, in __call__\n",
      "    res = self._callback(*self._args, **self._kwargs)\n",
      "  File \"/home/pirl/anaconda3/envs/POC-env/lib/python3.10/multiprocessing/util.py\", line 133, in _remove_temp_dir\n",
      "    rmtree(tempdir)\n",
      "  File \"/home/pirl/anaconda3/envs/POC-env/lib/python3.10/shutil.py\", line 731, in rmtree\n",
      "    onerror(os.rmdir, path, sys.exc_info())\n",
      "  File \"/home/pirl/anaconda3/envs/POC-env/lib/python3.10/shutil.py\", line 729, in rmtree\n",
      "    os.rmdir(path)\n",
      "OSError: [Errno 39] Directory not empty: '/tmp/pymp-qcufpth1'\n"
     ]
    },
    {
     "data": {
      "application/vnd.jupyter.widget-view+json": {
       "model_id": "222c042dcf244a63942a53a4d493fad9",
       "version_major": 2,
       "version_minor": 0
      },
      "text/plain": [
       "[Evaluating]:   0%|          | 0/550 [00:00<?, ?it/s]"
      ]
     },
     "metadata": {},
     "output_type": "display_data"
    },
    {
     "data": {
      "application/vnd.jupyter.widget-view+json": {
       "model_id": "16620f6115c34c299a0c48aeadf87fbb",
       "version_major": 2,
       "version_minor": 0
      },
      "text/plain": [
       "[Evaluating]:   0%|          | 0/550 [00:00<?, ?it/s]"
      ]
     },
     "metadata": {},
     "output_type": "display_data"
    },
    {
     "data": {
      "application/vnd.jupyter.widget-view+json": {
       "model_id": "e9fe107a89ec4d0d970568f3040da3c5",
       "version_major": 2,
       "version_minor": 0
      },
      "text/plain": [
       "[Evaluating]:   0%|          | 0/550 [00:00<?, ?it/s]"
      ]
     },
     "metadata": {},
     "output_type": "display_data"
    },
    {
     "name": "stderr",
     "output_type": "stream",
     "text": [
      "Traceback (most recent call last):\n",
      "  File \"/home/pirl/anaconda3/envs/POC-env/lib/python3.10/multiprocessing/util.py\", line 300, in _run_finalizers\n",
      "    finalizer()\n",
      "  File \"/home/pirl/anaconda3/envs/POC-env/lib/python3.10/multiprocessing/util.py\", line 224, in __call__\n",
      "    res = self._callback(*self._args, **self._kwargs)\n",
      "  File \"/home/pirl/anaconda3/envs/POC-env/lib/python3.10/multiprocessing/util.py\", line 133, in _remove_temp_dir\n",
      "    rmtree(tempdir)\n",
      "  File \"/home/pirl/anaconda3/envs/POC-env/lib/python3.10/shutil.py\", line 731, in rmtree\n",
      "    onerror(os.rmdir, path, sys.exc_info())\n",
      "  File \"/home/pirl/anaconda3/envs/POC-env/lib/python3.10/shutil.py\", line 729, in rmtree\n",
      "    os.rmdir(path)\n",
      "OSError: [Errno 39] Directory not empty: '/tmp/pymp-i42hp3jp'\n"
     ]
    },
    {
     "data": {
      "application/vnd.jupyter.widget-view+json": {
       "model_id": "65156574bec3468d83758cbf25c425ec",
       "version_major": 2,
       "version_minor": 0
      },
      "text/plain": [
       "[Evaluating]:   0%|          | 0/550 [00:00<?, ?it/s]"
      ]
     },
     "metadata": {},
     "output_type": "display_data"
    },
    {
     "data": {
      "application/vnd.jupyter.widget-view+json": {
       "model_id": "7a76784ffcf34ffdb0c8fb005b54370c",
       "version_major": 2,
       "version_minor": 0
      },
      "text/plain": [
       "[Evaluating]:   0%|          | 0/550 [00:00<?, ?it/s]"
      ]
     },
     "metadata": {},
     "output_type": "display_data"
    },
    {
     "data": {
      "application/vnd.jupyter.widget-view+json": {
       "model_id": "c1d464f0596142cab069d63d3eb99c80",
       "version_major": 2,
       "version_minor": 0
      },
      "text/plain": [
       "[Evaluating]:   0%|          | 0/550 [00:00<?, ?it/s]"
      ]
     },
     "metadata": {},
     "output_type": "display_data"
    },
    {
     "data": {
      "application/vnd.jupyter.widget-view+json": {
       "model_id": "b8f23e620ad54e4d8610aab3c5f95ef6",
       "version_major": 2,
       "version_minor": 0
      },
      "text/plain": [
       "[Evaluating]:   0%|          | 0/550 [00:00<?, ?it/s]"
      ]
     },
     "metadata": {},
     "output_type": "display_data"
    },
    {
     "name": "stderr",
     "output_type": "stream",
     "text": [
      "Traceback (most recent call last):\n",
      "  File \"/home/pirl/anaconda3/envs/POC-env/lib/python3.10/multiprocessing/util.py\", line 300, in _run_finalizers\n",
      "    finalizer()\n",
      "  File \"/home/pirl/anaconda3/envs/POC-env/lib/python3.10/multiprocessing/util.py\", line 224, in __call__\n",
      "    res = self._callback(*self._args, **self._kwargs)\n",
      "  File \"/home/pirl/anaconda3/envs/POC-env/lib/python3.10/multiprocessing/util.py\", line 133, in _remove_temp_dir\n",
      "    rmtree(tempdir)\n",
      "  File \"/home/pirl/anaconda3/envs/POC-env/lib/python3.10/shutil.py\", line 731, in rmtree\n",
      "    onerror(os.rmdir, path, sys.exc_info())\n",
      "  File \"/home/pirl/anaconda3/envs/POC-env/lib/python3.10/shutil.py\", line 729, in rmtree\n",
      "    os.rmdir(path)\n",
      "OSError: [Errno 39] Directory not empty: '/tmp/pymp-y6dguum0'\n",
      "Traceback (most recent call last):\n",
      "  File \"/home/pirl/anaconda3/envs/POC-env/lib/python3.10/multiprocessing/util.py\", line 300, in _run_finalizers\n",
      "    finalizer()\n",
      "  File \"/home/pirl/anaconda3/envs/POC-env/lib/python3.10/multiprocessing/util.py\", line 224, in __call__\n",
      "    res = self._callback(*self._args, **self._kwargs)\n",
      "  File \"/home/pirl/anaconda3/envs/POC-env/lib/python3.10/multiprocessing/util.py\", line 133, in _remove_temp_dir\n",
      "    rmtree(tempdir)\n",
      "  File \"/home/pirl/anaconda3/envs/POC-env/lib/python3.10/shutil.py\", line 731, in rmtree\n",
      "    onerror(os.rmdir, path, sys.exc_info())\n",
      "  File \"/home/pirl/anaconda3/envs/POC-env/lib/python3.10/shutil.py\", line 729, in rmtree\n",
      "    os.rmdir(path)\n",
      "OSError: [Errno 39] Directory not empty: '/tmp/pymp-fk6p_iho'\n"
     ]
    },
    {
     "data": {
      "application/vnd.jupyter.widget-view+json": {
       "model_id": "c2aab22c74db4beeaf81bc4c94d119b0",
       "version_major": 2,
       "version_minor": 0
      },
      "text/plain": [
       "[Evaluating]:   0%|          | 0/550 [00:00<?, ?it/s]"
      ]
     },
     "metadata": {},
     "output_type": "display_data"
    },
    {
     "data": {
      "application/vnd.jupyter.widget-view+json": {
       "model_id": "849d4653fb034091968a8daf77c9c5cf",
       "version_major": 2,
       "version_minor": 0
      },
      "text/plain": [
       "[Evaluating]:   0%|          | 0/550 [00:00<?, ?it/s]"
      ]
     },
     "metadata": {},
     "output_type": "display_data"
    },
    {
     "data": {
      "application/vnd.jupyter.widget-view+json": {
       "model_id": "38b6b094e2a8484f923aeaae57457ecc",
       "version_major": 2,
       "version_minor": 0
      },
      "text/plain": [
       "[Evaluating]:   0%|          | 0/550 [00:00<?, ?it/s]"
      ]
     },
     "metadata": {},
     "output_type": "display_data"
    },
    {
     "name": "stderr",
     "output_type": "stream",
     "text": [
      "Traceback (most recent call last):\n",
      "  File \"/home/pirl/anaconda3/envs/POC-env/lib/python3.10/multiprocessing/util.py\", line 300, in _run_finalizers\n",
      "    finalizer()\n",
      "  File \"/home/pirl/anaconda3/envs/POC-env/lib/python3.10/multiprocessing/util.py\", line 224, in __call__\n",
      "    res = self._callback(*self._args, **self._kwargs)\n",
      "  File \"/home/pirl/anaconda3/envs/POC-env/lib/python3.10/multiprocessing/util.py\", line 133, in _remove_temp_dir\n",
      "    rmtree(tempdir)\n",
      "  File \"/home/pirl/anaconda3/envs/POC-env/lib/python3.10/shutil.py\", line 731, in rmtree\n",
      "    onerror(os.rmdir, path, sys.exc_info())\n",
      "  File \"/home/pirl/anaconda3/envs/POC-env/lib/python3.10/shutil.py\", line 729, in rmtree\n",
      "    os.rmdir(path)\n",
      "OSError: [Errno 39] Directory not empty: '/tmp/pymp-12h5f8eg'\n"
     ]
    },
    {
     "data": {
      "application/vnd.jupyter.widget-view+json": {
       "model_id": "afc42d9f987d4119aee45114bcd3a4c7",
       "version_major": 2,
       "version_minor": 0
      },
      "text/plain": [
       "[Evaluating]:   0%|          | 0/550 [00:00<?, ?it/s]"
      ]
     },
     "metadata": {},
     "output_type": "display_data"
    },
    {
     "data": {
      "application/vnd.jupyter.widget-view+json": {
       "model_id": "19b2010e5f6c4032a24cbdf59aedeb8e",
       "version_major": 2,
       "version_minor": 0
      },
      "text/plain": [
       "[Evaluating]:   0%|          | 0/550 [00:00<?, ?it/s]"
      ]
     },
     "metadata": {},
     "output_type": "display_data"
    },
    {
     "data": {
      "application/vnd.jupyter.widget-view+json": {
       "model_id": "82f08b39997f45a7a270e286809bb9fb",
       "version_major": 2,
       "version_minor": 0
      },
      "text/plain": [
       "[Evaluating]:   0%|          | 0/550 [00:00<?, ?it/s]"
      ]
     },
     "metadata": {},
     "output_type": "display_data"
    },
    {
     "data": {
      "application/vnd.jupyter.widget-view+json": {
       "model_id": "80a762e312804909be52e574c2ae9e92",
       "version_major": 2,
       "version_minor": 0
      },
      "text/plain": [
       "[Evaluating]:   0%|          | 0/550 [00:00<?, ?it/s]"
      ]
     },
     "metadata": {},
     "output_type": "display_data"
    },
    {
     "data": {
      "application/vnd.jupyter.widget-view+json": {
       "model_id": "7bdd662feb234d5d86b4da32ee17c5ac",
       "version_major": 2,
       "version_minor": 0
      },
      "text/plain": [
       "[Evaluating]:   0%|          | 0/550 [00:00<?, ?it/s]"
      ]
     },
     "metadata": {},
     "output_type": "display_data"
    },
    {
     "name": "stderr",
     "output_type": "stream",
     "text": [
      "Traceback (most recent call last):\n",
      "  File \"/home/pirl/anaconda3/envs/POC-env/lib/python3.10/multiprocessing/util.py\", line 300, in _run_finalizers\n",
      "    finalizer()\n",
      "  File \"/home/pirl/anaconda3/envs/POC-env/lib/python3.10/multiprocessing/util.py\", line 224, in __call__\n",
      "    res = self._callback(*self._args, **self._kwargs)\n",
      "  File \"/home/pirl/anaconda3/envs/POC-env/lib/python3.10/multiprocessing/util.py\", line 133, in _remove_temp_dir\n",
      "    rmtree(tempdir)\n",
      "  File \"/home/pirl/anaconda3/envs/POC-env/lib/python3.10/shutil.py\", line 731, in rmtree\n",
      "    onerror(os.rmdir, path, sys.exc_info())\n",
      "  File \"/home/pirl/anaconda3/envs/POC-env/lib/python3.10/shutil.py\", line 729, in rmtree\n",
      "    os.rmdir(path)\n",
      "OSError: [Errno 39] Directory not empty: '/tmp/pymp-nplqn_fe'\n"
     ]
    },
    {
     "data": {
      "application/vnd.jupyter.widget-view+json": {
       "model_id": "113a97cb033140338649fba2b3a2ad22",
       "version_major": 2,
       "version_minor": 0
      },
      "text/plain": [
       "[Evaluating]:   0%|          | 0/550 [00:00<?, ?it/s]"
      ]
     },
     "metadata": {},
     "output_type": "display_data"
    },
    {
     "data": {
      "application/vnd.jupyter.widget-view+json": {
       "model_id": "45d26b083d614e0fa9674ff9c5e5fd34",
       "version_major": 2,
       "version_minor": 0
      },
      "text/plain": [
       "[Evaluating]:   0%|          | 0/550 [00:00<?, ?it/s]"
      ]
     },
     "metadata": {},
     "output_type": "display_data"
    },
    {
     "data": {
      "application/vnd.jupyter.widget-view+json": {
       "model_id": "ad5bfe802e844c8b9c36b43f7f80b892",
       "version_major": 2,
       "version_minor": 0
      },
      "text/plain": [
       "[Evaluating]:   0%|          | 0/550 [00:00<?, ?it/s]"
      ]
     },
     "metadata": {},
     "output_type": "display_data"
    },
    {
     "data": {
      "application/vnd.jupyter.widget-view+json": {
       "model_id": "4e2636f6515947fa9c73153bc90add88",
       "version_major": 2,
       "version_minor": 0
      },
      "text/plain": [
       "[Evaluating]:   0%|          | 0/550 [00:00<?, ?it/s]"
      ]
     },
     "metadata": {},
     "output_type": "display_data"
    },
    {
     "data": {
      "application/vnd.jupyter.widget-view+json": {
       "model_id": "2dfb6b7876404f638c07fad5aaa852fe",
       "version_major": 2,
       "version_minor": 0
      },
      "text/plain": [
       "[Evaluating]:   0%|          | 0/550 [00:00<?, ?it/s]"
      ]
     },
     "metadata": {},
     "output_type": "display_data"
    },
    {
     "data": {
      "application/vnd.jupyter.widget-view+json": {
       "model_id": "f79a48bce70a4588ae36b2d8242aa6a6",
       "version_major": 2,
       "version_minor": 0
      },
      "text/plain": [
       "[Evaluating]:   0%|          | 0/550 [00:00<?, ?it/s]"
      ]
     },
     "metadata": {},
     "output_type": "display_data"
    },
    {
     "data": {
      "application/vnd.jupyter.widget-view+json": {
       "model_id": "12f8837150484fd7bcc6b471e39f5ae5",
       "version_major": 2,
       "version_minor": 0
      },
      "text/plain": [
       "[Evaluating]:   0%|          | 0/550 [00:00<?, ?it/s]"
      ]
     },
     "metadata": {},
     "output_type": "display_data"
    },
    {
     "name": "stderr",
     "output_type": "stream",
     "text": [
      "Traceback (most recent call last):\n",
      "  File \"/home/pirl/anaconda3/envs/POC-env/lib/python3.10/multiprocessing/util.py\", line 300, in _run_finalizers\n",
      "    finalizer()\n",
      "  File \"/home/pirl/anaconda3/envs/POC-env/lib/python3.10/multiprocessing/util.py\", line 224, in __call__\n",
      "    res = self._callback(*self._args, **self._kwargs)\n",
      "  File \"/home/pirl/anaconda3/envs/POC-env/lib/python3.10/multiprocessing/util.py\", line 133, in _remove_temp_dir\n",
      "    rmtree(tempdir)\n",
      "  File \"/home/pirl/anaconda3/envs/POC-env/lib/python3.10/shutil.py\", line 731, in rmtree\n",
      "    onerror(os.rmdir, path, sys.exc_info())\n",
      "  File \"/home/pirl/anaconda3/envs/POC-env/lib/python3.10/shutil.py\", line 729, in rmtree\n",
      "    os.rmdir(path)\n",
      "OSError: [Errno 39] Directory not empty: '/tmp/pymp-nyc_4j41'\n"
     ]
    },
    {
     "data": {
      "application/vnd.jupyter.widget-view+json": {
       "model_id": "72c22580176645bca1d540d76b2bc02a",
       "version_major": 2,
       "version_minor": 0
      },
      "text/plain": [
       "[Evaluating]:   0%|          | 0/550 [00:00<?, ?it/s]"
      ]
     },
     "metadata": {},
     "output_type": "display_data"
    },
    {
     "data": {
      "application/vnd.jupyter.widget-view+json": {
       "model_id": "e47cac1595f440f1a4ebf2b66fa26784",
       "version_major": 2,
       "version_minor": 0
      },
      "text/plain": [
       "[Evaluating]:   0%|          | 0/550 [00:00<?, ?it/s]"
      ]
     },
     "metadata": {},
     "output_type": "display_data"
    },
    {
     "name": "stderr",
     "output_type": "stream",
     "text": [
      "Traceback (most recent call last):\n",
      "  File \"/home/pirl/anaconda3/envs/POC-env/lib/python3.10/multiprocessing/util.py\", line 300, in _run_finalizers\n",
      "    finalizer()\n",
      "  File \"/home/pirl/anaconda3/envs/POC-env/lib/python3.10/multiprocessing/util.py\", line 224, in __call__\n",
      "    res = self._callback(*self._args, **self._kwargs)\n",
      "  File \"/home/pirl/anaconda3/envs/POC-env/lib/python3.10/multiprocessing/util.py\", line 133, in _remove_temp_dir\n",
      "    rmtree(tempdir)\n",
      "  File \"/home/pirl/anaconda3/envs/POC-env/lib/python3.10/shutil.py\", line 731, in rmtree\n",
      "    onerror(os.rmdir, path, sys.exc_info())\n",
      "  File \"/home/pirl/anaconda3/envs/POC-env/lib/python3.10/shutil.py\", line 729, in rmtree\n",
      "    os.rmdir(path)\n",
      "OSError: [Errno 39] Directory not empty: '/tmp/pymp-0_p72y8d'\n"
     ]
    },
    {
     "data": {
      "application/vnd.jupyter.widget-view+json": {
       "model_id": "c1ce9e8101654e4c8b6259c44dadb6d4",
       "version_major": 2,
       "version_minor": 0
      },
      "text/plain": [
       "[Evaluating]:   0%|          | 0/550 [00:00<?, ?it/s]"
      ]
     },
     "metadata": {},
     "output_type": "display_data"
    },
    {
     "data": {
      "application/vnd.jupyter.widget-view+json": {
       "model_id": "5f2b2148d81f438fbd62efab52740729",
       "version_major": 2,
       "version_minor": 0
      },
      "text/plain": [
       "[Evaluating]:   0%|          | 0/550 [00:00<?, ?it/s]"
      ]
     },
     "metadata": {},
     "output_type": "display_data"
    },
    {
     "data": {
      "application/vnd.jupyter.widget-view+json": {
       "model_id": "03ee7522693e4a2d88e70a3737ff89fa",
       "version_major": 2,
       "version_minor": 0
      },
      "text/plain": [
       "[Evaluating]:   0%|          | 0/550 [00:00<?, ?it/s]"
      ]
     },
     "metadata": {},
     "output_type": "display_data"
    },
    {
     "name": "stderr",
     "output_type": "stream",
     "text": [
      "Traceback (most recent call last):\n",
      "  File \"/home/pirl/anaconda3/envs/POC-env/lib/python3.10/multiprocessing/util.py\", line 300, in _run_finalizers\n",
      "    finalizer()\n",
      "  File \"/home/pirl/anaconda3/envs/POC-env/lib/python3.10/multiprocessing/util.py\", line 224, in __call__\n",
      "    res = self._callback(*self._args, **self._kwargs)\n",
      "  File \"/home/pirl/anaconda3/envs/POC-env/lib/python3.10/multiprocessing/util.py\", line 133, in _remove_temp_dir\n",
      "    rmtree(tempdir)\n",
      "  File \"/home/pirl/anaconda3/envs/POC-env/lib/python3.10/shutil.py\", line 731, in rmtree\n",
      "    onerror(os.rmdir, path, sys.exc_info())\n",
      "  File \"/home/pirl/anaconda3/envs/POC-env/lib/python3.10/shutil.py\", line 729, in rmtree\n",
      "    os.rmdir(path)\n",
      "OSError: [Errno 39] Directory not empty: '/tmp/pymp-efen7cnt'\n"
     ]
    },
    {
     "data": {
      "application/vnd.jupyter.widget-view+json": {
       "model_id": "3f9731377cde40bab2a99ad33fac2169",
       "version_major": 2,
       "version_minor": 0
      },
      "text/plain": [
       "[Evaluating]:   0%|          | 0/550 [00:00<?, ?it/s]"
      ]
     },
     "metadata": {},
     "output_type": "display_data"
    },
    {
     "data": {
      "application/vnd.jupyter.widget-view+json": {
       "model_id": "3d0a27588b02401f8565d56557609de8",
       "version_major": 2,
       "version_minor": 0
      },
      "text/plain": [
       "[Evaluating]:   0%|          | 0/550 [00:00<?, ?it/s]"
      ]
     },
     "metadata": {},
     "output_type": "display_data"
    },
    {
     "name": "stderr",
     "output_type": "stream",
     "text": [
      "Traceback (most recent call last):\n",
      "  File \"/home/pirl/anaconda3/envs/POC-env/lib/python3.10/multiprocessing/util.py\", line 300, in _run_finalizers\n",
      "    finalizer()\n",
      "  File \"/home/pirl/anaconda3/envs/POC-env/lib/python3.10/multiprocessing/util.py\", line 224, in __call__\n",
      "    res = self._callback(*self._args, **self._kwargs)\n",
      "  File \"/home/pirl/anaconda3/envs/POC-env/lib/python3.10/multiprocessing/util.py\", line 133, in _remove_temp_dir\n",
      "    rmtree(tempdir)\n",
      "  File \"/home/pirl/anaconda3/envs/POC-env/lib/python3.10/shutil.py\", line 731, in rmtree\n",
      "    onerror(os.rmdir, path, sys.exc_info())\n",
      "  File \"/home/pirl/anaconda3/envs/POC-env/lib/python3.10/shutil.py\", line 729, in rmtree\n",
      "    os.rmdir(path)\n",
      "OSError: [Errno 39] Directory not empty: '/tmp/pymp-tbn7b3yx'\n"
     ]
    },
    {
     "data": {
      "application/vnd.jupyter.widget-view+json": {
       "model_id": "8a745bf3c45e44e684cfb4c5c02b254a",
       "version_major": 2,
       "version_minor": 0
      },
      "text/plain": [
       "[Evaluating]:   0%|          | 0/550 [00:00<?, ?it/s]"
      ]
     },
     "metadata": {},
     "output_type": "display_data"
    },
    {
     "data": {
      "application/vnd.jupyter.widget-view+json": {
       "model_id": "0de60050cc57440998737ed0bb913e5d",
       "version_major": 2,
       "version_minor": 0
      },
      "text/plain": [
       "[Evaluating]:   0%|          | 0/550 [00:00<?, ?it/s]"
      ]
     },
     "metadata": {},
     "output_type": "display_data"
    },
    {
     "data": {
      "application/vnd.jupyter.widget-view+json": {
       "model_id": "e21266d703674d3eb9be3be800b05104",
       "version_major": 2,
       "version_minor": 0
      },
      "text/plain": [
       "[Evaluating]:   0%|          | 0/550 [00:00<?, ?it/s]"
      ]
     },
     "metadata": {},
     "output_type": "display_data"
    },
    {
     "data": {
      "application/vnd.jupyter.widget-view+json": {
       "model_id": "7f1bf48cfc2f482983fdffbb0bfd4fd2",
       "version_major": 2,
       "version_minor": 0
      },
      "text/plain": [
       "[Evaluating]:   0%|          | 0/550 [00:00<?, ?it/s]"
      ]
     },
     "metadata": {},
     "output_type": "display_data"
    },
    {
     "data": {
      "application/vnd.jupyter.widget-view+json": {
       "model_id": "b0ac3d112d3b40ab9ec8f1d7b9d6e954",
       "version_major": 2,
       "version_minor": 0
      },
      "text/plain": [
       "[Evaluating]:   0%|          | 0/550 [00:00<?, ?it/s]"
      ]
     },
     "metadata": {},
     "output_type": "display_data"
    },
    {
     "data": {
      "application/vnd.jupyter.widget-view+json": {
       "model_id": "049ec572f8cb41878adf41369c76c94e",
       "version_major": 2,
       "version_minor": 0
      },
      "text/plain": [
       "[Evaluating]:   0%|          | 0/550 [00:00<?, ?it/s]"
      ]
     },
     "metadata": {},
     "output_type": "display_data"
    },
    {
     "data": {
      "application/vnd.jupyter.widget-view+json": {
       "model_id": "dcd054493e3142379ca2f921435df3b5",
       "version_major": 2,
       "version_minor": 0
      },
      "text/plain": [
       "[Evaluating]:   0%|          | 0/550 [00:00<?, ?it/s]"
      ]
     },
     "metadata": {},
     "output_type": "display_data"
    },
    {
     "data": {
      "application/vnd.jupyter.widget-view+json": {
       "model_id": "cef340522e56435dbd8a9fdd2d999f3b",
       "version_major": 2,
       "version_minor": 0
      },
      "text/plain": [
       "[Evaluating]:   0%|          | 0/550 [00:00<?, ?it/s]"
      ]
     },
     "metadata": {},
     "output_type": "display_data"
    },
    {
     "name": "stderr",
     "output_type": "stream",
     "text": [
      "Traceback (most recent call last):\n",
      "  File \"/home/pirl/anaconda3/envs/POC-env/lib/python3.10/multiprocessing/util.py\", line 300, in _run_finalizers\n",
      "    finalizer()\n",
      "  File \"/home/pirl/anaconda3/envs/POC-env/lib/python3.10/multiprocessing/util.py\", line 224, in __call__\n",
      "    res = self._callback(*self._args, **self._kwargs)\n",
      "  File \"/home/pirl/anaconda3/envs/POC-env/lib/python3.10/multiprocessing/util.py\", line 133, in _remove_temp_dir\n",
      "    rmtree(tempdir)\n",
      "  File \"/home/pirl/anaconda3/envs/POC-env/lib/python3.10/shutil.py\", line 731, in rmtree\n",
      "    onerror(os.rmdir, path, sys.exc_info())\n",
      "  File \"/home/pirl/anaconda3/envs/POC-env/lib/python3.10/shutil.py\", line 729, in rmtree\n",
      "    os.rmdir(path)\n",
      "OSError: [Errno 39] Directory not empty: '/tmp/pymp-c5c4skqa'\n"
     ]
    },
    {
     "data": {
      "application/vnd.jupyter.widget-view+json": {
       "model_id": "0908474b9d7c401d838832ff842a1045",
       "version_major": 2,
       "version_minor": 0
      },
      "text/plain": [
       "[Evaluating]:   0%|          | 0/550 [00:00<?, ?it/s]"
      ]
     },
     "metadata": {},
     "output_type": "display_data"
    },
    {
     "data": {
      "application/vnd.jupyter.widget-view+json": {
       "model_id": "9ede77cd938845a09c9dbc37a1216ef8",
       "version_major": 2,
       "version_minor": 0
      },
      "text/plain": [
       "[Evaluating]:   0%|          | 0/550 [00:00<?, ?it/s]"
      ]
     },
     "metadata": {},
     "output_type": "display_data"
    },
    {
     "data": {
      "application/vnd.jupyter.widget-view+json": {
       "model_id": "a240f4cd08464b75a01ac4f00d98f91b",
       "version_major": 2,
       "version_minor": 0
      },
      "text/plain": [
       "[Evaluating]:   0%|          | 0/550 [00:00<?, ?it/s]"
      ]
     },
     "metadata": {},
     "output_type": "display_data"
    },
    {
     "data": {
      "application/vnd.jupyter.widget-view+json": {
       "model_id": "89d014e65acd4e2f80b5a29d9150d0f9",
       "version_major": 2,
       "version_minor": 0
      },
      "text/plain": [
       "[Evaluating]:   0%|          | 0/550 [00:00<?, ?it/s]"
      ]
     },
     "metadata": {},
     "output_type": "display_data"
    },
    {
     "data": {
      "application/vnd.jupyter.widget-view+json": {
       "model_id": "3c6e7245abf643ea85939b969b7c533c",
       "version_major": 2,
       "version_minor": 0
      },
      "text/plain": [
       "[Evaluating]:   0%|          | 0/550 [00:00<?, ?it/s]"
      ]
     },
     "metadata": {},
     "output_type": "display_data"
    },
    {
     "data": {
      "application/vnd.jupyter.widget-view+json": {
       "model_id": "5d53f7cdae484e1bb673976592194e78",
       "version_major": 2,
       "version_minor": 0
      },
      "text/plain": [
       "[Evaluating]:   0%|          | 0/550 [00:00<?, ?it/s]"
      ]
     },
     "metadata": {},
     "output_type": "display_data"
    },
    {
     "data": {
      "application/vnd.jupyter.widget-view+json": {
       "model_id": "a47e6dbba11c4fa6a6f40afc3a4a2806",
       "version_major": 2,
       "version_minor": 0
      },
      "text/plain": [
       "[Evaluating]:   0%|          | 0/550 [00:00<?, ?it/s]"
      ]
     },
     "metadata": {},
     "output_type": "display_data"
    },
    {
     "data": {
      "application/vnd.jupyter.widget-view+json": {
       "model_id": "8ced5bbaaf104701b0d4c48491a87a96",
       "version_major": 2,
       "version_minor": 0
      },
      "text/plain": [
       "[Evaluating]:   0%|          | 0/550 [00:00<?, ?it/s]"
      ]
     },
     "metadata": {},
     "output_type": "display_data"
    },
    {
     "data": {
      "application/vnd.jupyter.widget-view+json": {
       "model_id": "f8ad18c62b424cd0b80e2b372de04f0a",
       "version_major": 2,
       "version_minor": 0
      },
      "text/plain": [
       "[Evaluating]:   0%|          | 0/550 [00:00<?, ?it/s]"
      ]
     },
     "metadata": {},
     "output_type": "display_data"
    },
    {
     "data": {
      "application/vnd.jupyter.widget-view+json": {
       "model_id": "7279496dadd74e3e9541cdb50752f73d",
       "version_major": 2,
       "version_minor": 0
      },
      "text/plain": [
       "[Evaluating]:   0%|          | 0/550 [00:00<?, ?it/s]"
      ]
     },
     "metadata": {},
     "output_type": "display_data"
    },
    {
     "data": {
      "application/vnd.jupyter.widget-view+json": {
       "model_id": "9a1ad91b5adb43888c9feb08e54f7c64",
       "version_major": 2,
       "version_minor": 0
      },
      "text/plain": [
       "[Evaluating]:   0%|          | 0/550 [00:00<?, ?it/s]"
      ]
     },
     "metadata": {},
     "output_type": "display_data"
    },
    {
     "name": "stderr",
     "output_type": "stream",
     "text": [
      "Traceback (most recent call last):\n",
      "  File \"/home/pirl/anaconda3/envs/POC-env/lib/python3.10/multiprocessing/util.py\", line 300, in _run_finalizers\n",
      "    finalizer()\n",
      "  File \"/home/pirl/anaconda3/envs/POC-env/lib/python3.10/multiprocessing/util.py\", line 224, in __call__\n",
      "    res = self._callback(*self._args, **self._kwargs)\n",
      "  File \"/home/pirl/anaconda3/envs/POC-env/lib/python3.10/multiprocessing/util.py\", line 133, in _remove_temp_dir\n",
      "    rmtree(tempdir)\n",
      "  File \"/home/pirl/anaconda3/envs/POC-env/lib/python3.10/shutil.py\", line 731, in rmtree\n",
      "    onerror(os.rmdir, path, sys.exc_info())\n",
      "  File \"/home/pirl/anaconda3/envs/POC-env/lib/python3.10/shutil.py\", line 729, in rmtree\n",
      "    os.rmdir(path)\n",
      "OSError: [Errno 39] Directory not empty: '/tmp/pymp-ijje2wvj'\n"
     ]
    },
    {
     "data": {
      "application/vnd.jupyter.widget-view+json": {
       "model_id": "9743d8cd706245b39cd19fa254af7854",
       "version_major": 2,
       "version_minor": 0
      },
      "text/plain": [
       "[Evaluating]:   0%|          | 0/550 [00:00<?, ?it/s]"
      ]
     },
     "metadata": {},
     "output_type": "display_data"
    },
    {
     "data": {
      "application/vnd.jupyter.widget-view+json": {
       "model_id": "776c98be6b284cb5b4c2d80078a1eed2",
       "version_major": 2,
       "version_minor": 0
      },
      "text/plain": [
       "[Evaluating]:   0%|          | 0/550 [00:00<?, ?it/s]"
      ]
     },
     "metadata": {},
     "output_type": "display_data"
    },
    {
     "data": {
      "application/vnd.jupyter.widget-view+json": {
       "model_id": "404d87e8a546480a9791a1b59a06a16a",
       "version_major": 2,
       "version_minor": 0
      },
      "text/plain": [
       "[Evaluating]:   0%|          | 0/550 [00:00<?, ?it/s]"
      ]
     },
     "metadata": {},
     "output_type": "display_data"
    },
    {
     "data": {
      "application/vnd.jupyter.widget-view+json": {
       "model_id": "66848b4076c44f08b6883fe38aeaa980",
       "version_major": 2,
       "version_minor": 0
      },
      "text/plain": [
       "[Evaluating]:   0%|          | 0/550 [00:00<?, ?it/s]"
      ]
     },
     "metadata": {},
     "output_type": "display_data"
    },
    {
     "data": {
      "application/vnd.jupyter.widget-view+json": {
       "model_id": "7e9b27094d1c4ece9a99b6824a669b08",
       "version_major": 2,
       "version_minor": 0
      },
      "text/plain": [
       "[Evaluating]:   0%|          | 0/550 [00:00<?, ?it/s]"
      ]
     },
     "metadata": {},
     "output_type": "display_data"
    },
    {
     "name": "stderr",
     "output_type": "stream",
     "text": [
      "Traceback (most recent call last):\n",
      "  File \"/home/pirl/anaconda3/envs/POC-env/lib/python3.10/multiprocessing/util.py\", line 300, in _run_finalizers\n",
      "    finalizer()\n",
      "  File \"/home/pirl/anaconda3/envs/POC-env/lib/python3.10/multiprocessing/util.py\", line 224, in __call__\n",
      "    res = self._callback(*self._args, **self._kwargs)\n",
      "  File \"/home/pirl/anaconda3/envs/POC-env/lib/python3.10/multiprocessing/util.py\", line 133, in _remove_temp_dir\n",
      "    rmtree(tempdir)\n",
      "  File \"/home/pirl/anaconda3/envs/POC-env/lib/python3.10/shutil.py\", line 731, in rmtree\n",
      "    onerror(os.rmdir, path, sys.exc_info())\n",
      "  File \"/home/pirl/anaconda3/envs/POC-env/lib/python3.10/shutil.py\", line 729, in rmtree\n",
      "    os.rmdir(path)\n",
      "OSError: [Errno 39] Directory not empty: '/tmp/pymp-2xcoh47g'\n"
     ]
    },
    {
     "data": {
      "application/vnd.jupyter.widget-view+json": {
       "model_id": "c89523232d90446ab08872dbe6562f0f",
       "version_major": 2,
       "version_minor": 0
      },
      "text/plain": [
       "[Evaluating]:   0%|          | 0/550 [00:00<?, ?it/s]"
      ]
     },
     "metadata": {},
     "output_type": "display_data"
    },
    {
     "data": {
      "application/vnd.jupyter.widget-view+json": {
       "model_id": "e5fce1d404b64fe5b0e9da70ecadcec5",
       "version_major": 2,
       "version_minor": 0
      },
      "text/plain": [
       "[Evaluating]:   0%|          | 0/550 [00:00<?, ?it/s]"
      ]
     },
     "metadata": {},
     "output_type": "display_data"
    },
    {
     "data": {
      "application/vnd.jupyter.widget-view+json": {
       "model_id": "38ce2bc2fe0947ea9f182b2d0c0a8a1e",
       "version_major": 2,
       "version_minor": 0
      },
      "text/plain": [
       "[Evaluating]:   0%|          | 0/550 [00:00<?, ?it/s]"
      ]
     },
     "metadata": {},
     "output_type": "display_data"
    },
    {
     "data": {
      "application/vnd.jupyter.widget-view+json": {
       "model_id": "d1cb581c4d864de58fb8e01d687c8733",
       "version_major": 2,
       "version_minor": 0
      },
      "text/plain": [
       "[Evaluating]:   0%|          | 0/550 [00:00<?, ?it/s]"
      ]
     },
     "metadata": {},
     "output_type": "display_data"
    },
    {
     "data": {
      "application/vnd.jupyter.widget-view+json": {
       "model_id": "eddb5435b24e40f09cd9278728cba0d3",
       "version_major": 2,
       "version_minor": 0
      },
      "text/plain": [
       "[Evaluating]:   0%|          | 0/550 [00:00<?, ?it/s]"
      ]
     },
     "metadata": {},
     "output_type": "display_data"
    },
    {
     "data": {
      "application/vnd.jupyter.widget-view+json": {
       "model_id": "c93a7cf8ac074d0d83012b47e934a797",
       "version_major": 2,
       "version_minor": 0
      },
      "text/plain": [
       "[Evaluating]:   0%|          | 0/550 [00:00<?, ?it/s]"
      ]
     },
     "metadata": {},
     "output_type": "display_data"
    },
    {
     "data": {
      "application/vnd.jupyter.widget-view+json": {
       "model_id": "8b4285030d234e5298129980949906ca",
       "version_major": 2,
       "version_minor": 0
      },
      "text/plain": [
       "[Evaluating]:   0%|          | 0/550 [00:00<?, ?it/s]"
      ]
     },
     "metadata": {},
     "output_type": "display_data"
    },
    {
     "data": {
      "application/vnd.jupyter.widget-view+json": {
       "model_id": "30d15fd4c9b14d9094819190883a8476",
       "version_major": 2,
       "version_minor": 0
      },
      "text/plain": [
       "[Evaluating]:   0%|          | 0/550 [00:00<?, ?it/s]"
      ]
     },
     "metadata": {},
     "output_type": "display_data"
    },
    {
     "data": {
      "application/vnd.jupyter.widget-view+json": {
       "model_id": "da76bf3494bb420d952af8b50921d268",
       "version_major": 2,
       "version_minor": 0
      },
      "text/plain": [
       "[Evaluating]:   0%|          | 0/550 [00:00<?, ?it/s]"
      ]
     },
     "metadata": {},
     "output_type": "display_data"
    },
    {
     "data": {
      "application/vnd.jupyter.widget-view+json": {
       "model_id": "34ff41bd25ad475f83248ebe7c56cc41",
       "version_major": 2,
       "version_minor": 0
      },
      "text/plain": [
       "[Evaluating]:   0%|          | 0/550 [00:00<?, ?it/s]"
      ]
     },
     "metadata": {},
     "output_type": "display_data"
    },
    {
     "data": {
      "application/vnd.jupyter.widget-view+json": {
       "model_id": "00fc4a1d0c8b461888b3b622d861bed9",
       "version_major": 2,
       "version_minor": 0
      },
      "text/plain": [
       "[Evaluating]:   0%|          | 0/550 [00:00<?, ?it/s]"
      ]
     },
     "metadata": {},
     "output_type": "display_data"
    },
    {
     "data": {
      "application/vnd.jupyter.widget-view+json": {
       "model_id": "429aab9856bf459284d3192160ae8bcf",
       "version_major": 2,
       "version_minor": 0
      },
      "text/plain": [
       "[Evaluating]:   0%|          | 0/550 [00:00<?, ?it/s]"
      ]
     },
     "metadata": {},
     "output_type": "display_data"
    },
    {
     "name": "stderr",
     "output_type": "stream",
     "text": [
      "Traceback (most recent call last):\n",
      "  File \"/home/pirl/anaconda3/envs/POC-env/lib/python3.10/multiprocessing/util.py\", line 300, in _run_finalizers\n",
      "    finalizer()\n",
      "  File \"/home/pirl/anaconda3/envs/POC-env/lib/python3.10/multiprocessing/util.py\", line 224, in __call__\n",
      "    res = self._callback(*self._args, **self._kwargs)\n",
      "  File \"/home/pirl/anaconda3/envs/POC-env/lib/python3.10/multiprocessing/util.py\", line 133, in _remove_temp_dir\n",
      "    rmtree(tempdir)\n",
      "  File \"/home/pirl/anaconda3/envs/POC-env/lib/python3.10/shutil.py\", line 731, in rmtree\n",
      "    onerror(os.rmdir, path, sys.exc_info())\n",
      "  File \"/home/pirl/anaconda3/envs/POC-env/lib/python3.10/shutil.py\", line 729, in rmtree\n",
      "    os.rmdir(path)\n",
      "OSError: [Errno 39] Directory not empty: '/tmp/pymp-uo__xhzy'\n",
      "Traceback (most recent call last):\n",
      "  File \"/home/pirl/anaconda3/envs/POC-env/lib/python3.10/multiprocessing/util.py\", line 300, in _run_finalizers\n",
      "    finalizer()\n",
      "  File \"/home/pirl/anaconda3/envs/POC-env/lib/python3.10/multiprocessing/util.py\", line 224, in __call__\n",
      "    res = self._callback(*self._args, **self._kwargs)\n",
      "  File \"/home/pirl/anaconda3/envs/POC-env/lib/python3.10/multiprocessing/util.py\", line 133, in _remove_temp_dir\n",
      "    rmtree(tempdir)\n",
      "  File \"/home/pirl/anaconda3/envs/POC-env/lib/python3.10/shutil.py\", line 731, in rmtree\n",
      "    onerror(os.rmdir, path, sys.exc_info())\n",
      "  File \"/home/pirl/anaconda3/envs/POC-env/lib/python3.10/shutil.py\", line 729, in rmtree\n",
      "    os.rmdir(path)\n",
      "OSError: [Errno 39] Directory not empty: '/tmp/pymp-1qas8joy'\n"
     ]
    },
    {
     "data": {
      "application/vnd.jupyter.widget-view+json": {
       "model_id": "683751e1e9b74f638532208489f3dc50",
       "version_major": 2,
       "version_minor": 0
      },
      "text/plain": [
       "[Evaluating]:   0%|          | 0/550 [00:00<?, ?it/s]"
      ]
     },
     "metadata": {},
     "output_type": "display_data"
    },
    {
     "data": {
      "application/vnd.jupyter.widget-view+json": {
       "model_id": "5da1eec5825f43d2858c569134b0a72e",
       "version_major": 2,
       "version_minor": 0
      },
      "text/plain": [
       "[Evaluating]:   0%|          | 0/550 [00:00<?, ?it/s]"
      ]
     },
     "metadata": {},
     "output_type": "display_data"
    },
    {
     "data": {
      "application/vnd.jupyter.widget-view+json": {
       "model_id": "cc614d4d5adb4d6483342c7563df07ac",
       "version_major": 2,
       "version_minor": 0
      },
      "text/plain": [
       "[Evaluating]:   0%|          | 0/550 [00:00<?, ?it/s]"
      ]
     },
     "metadata": {},
     "output_type": "display_data"
    },
    {
     "data": {
      "application/vnd.jupyter.widget-view+json": {
       "model_id": "d01f47b736aa46518b0c7527a8471d2b",
       "version_major": 2,
       "version_minor": 0
      },
      "text/plain": [
       "[Evaluating]:   0%|          | 0/550 [00:00<?, ?it/s]"
      ]
     },
     "metadata": {},
     "output_type": "display_data"
    },
    {
     "data": {
      "application/vnd.jupyter.widget-view+json": {
       "model_id": "a9eeed404d2a4cc8ad28d205bd582ba6",
       "version_major": 2,
       "version_minor": 0
      },
      "text/plain": [
       "[Evaluating]:   0%|          | 0/550 [00:00<?, ?it/s]"
      ]
     },
     "metadata": {},
     "output_type": "display_data"
    },
    {
     "data": {
      "application/vnd.jupyter.widget-view+json": {
       "model_id": "53518de6765848488612a941bdee9264",
       "version_major": 2,
       "version_minor": 0
      },
      "text/plain": [
       "[Evaluating]:   0%|          | 0/550 [00:00<?, ?it/s]"
      ]
     },
     "metadata": {},
     "output_type": "display_data"
    },
    {
     "data": {
      "application/vnd.jupyter.widget-view+json": {
       "model_id": "41163374f3ea454090dcf474309e6ad8",
       "version_major": 2,
       "version_minor": 0
      },
      "text/plain": [
       "[Evaluating]:   0%|          | 0/550 [00:00<?, ?it/s]"
      ]
     },
     "metadata": {},
     "output_type": "display_data"
    },
    {
     "data": {
      "application/vnd.jupyter.widget-view+json": {
       "model_id": "40d2eeeada66497b9bc17620d0a83f1e",
       "version_major": 2,
       "version_minor": 0
      },
      "text/plain": [
       "[Evaluating]:   0%|          | 0/550 [00:00<?, ?it/s]"
      ]
     },
     "metadata": {},
     "output_type": "display_data"
    },
    {
     "data": {
      "application/vnd.jupyter.widget-view+json": {
       "model_id": "498040c43ca24edd858318928da26e40",
       "version_major": 2,
       "version_minor": 0
      },
      "text/plain": [
       "[Evaluating]:   0%|          | 0/550 [00:00<?, ?it/s]"
      ]
     },
     "metadata": {},
     "output_type": "display_data"
    },
    {
     "data": {
      "application/vnd.jupyter.widget-view+json": {
       "model_id": "54698e7b62214c3d836eae073b700467",
       "version_major": 2,
       "version_minor": 0
      },
      "text/plain": [
       "[Evaluating]:   0%|          | 0/550 [00:00<?, ?it/s]"
      ]
     },
     "metadata": {},
     "output_type": "display_data"
    },
    {
     "data": {
      "application/vnd.jupyter.widget-view+json": {
       "model_id": "56fe3127831a46b09b64024a69058263",
       "version_major": 2,
       "version_minor": 0
      },
      "text/plain": [
       "[Evaluating]:   0%|          | 0/550 [00:00<?, ?it/s]"
      ]
     },
     "metadata": {},
     "output_type": "display_data"
    },
    {
     "data": {
      "application/vnd.jupyter.widget-view+json": {
       "model_id": "976d9ea71ce0431f9c4b460253d602ad",
       "version_major": 2,
       "version_minor": 0
      },
      "text/plain": [
       "[Evaluating]:   0%|          | 0/550 [00:00<?, ?it/s]"
      ]
     },
     "metadata": {},
     "output_type": "display_data"
    },
    {
     "name": "stderr",
     "output_type": "stream",
     "text": [
      "Traceback (most recent call last):\n",
      "  File \"/home/pirl/anaconda3/envs/POC-env/lib/python3.10/multiprocessing/util.py\", line 300, in _run_finalizers\n",
      "    finalizer()\n",
      "  File \"/home/pirl/anaconda3/envs/POC-env/lib/python3.10/multiprocessing/util.py\", line 224, in __call__\n",
      "    res = self._callback(*self._args, **self._kwargs)\n",
      "  File \"/home/pirl/anaconda3/envs/POC-env/lib/python3.10/multiprocessing/util.py\", line 133, in _remove_temp_dir\n",
      "    rmtree(tempdir)\n",
      "  File \"/home/pirl/anaconda3/envs/POC-env/lib/python3.10/shutil.py\", line 731, in rmtree\n",
      "    onerror(os.rmdir, path, sys.exc_info())\n",
      "  File \"/home/pirl/anaconda3/envs/POC-env/lib/python3.10/shutil.py\", line 729, in rmtree\n",
      "    os.rmdir(path)\n",
      "OSError: [Errno 39] Directory not empty: '/tmp/pymp-ni0xdd9m'\n"
     ]
    },
    {
     "data": {
      "application/vnd.jupyter.widget-view+json": {
       "model_id": "03555d28545b4b9e81fc56945971132a",
       "version_major": 2,
       "version_minor": 0
      },
      "text/plain": [
       "[Evaluating]:   0%|          | 0/550 [00:00<?, ?it/s]"
      ]
     },
     "metadata": {},
     "output_type": "display_data"
    },
    {
     "data": {
      "application/vnd.jupyter.widget-view+json": {
       "model_id": "1a98d06b7dcd43afb4eedd39ce7d1d93",
       "version_major": 2,
       "version_minor": 0
      },
      "text/plain": [
       "[Evaluating]:   0%|          | 0/550 [00:00<?, ?it/s]"
      ]
     },
     "metadata": {},
     "output_type": "display_data"
    },
    {
     "data": {
      "application/vnd.jupyter.widget-view+json": {
       "model_id": "2b3107b2363e478e9520a4b4c01d840e",
       "version_major": 2,
       "version_minor": 0
      },
      "text/plain": [
       "[Evaluating]:   0%|          | 0/550 [00:00<?, ?it/s]"
      ]
     },
     "metadata": {},
     "output_type": "display_data"
    },
    {
     "data": {
      "application/vnd.jupyter.widget-view+json": {
       "model_id": "db393fe0463948c48da136f154bd801c",
       "version_major": 2,
       "version_minor": 0
      },
      "text/plain": [
       "[Evaluating]:   0%|          | 0/550 [00:00<?, ?it/s]"
      ]
     },
     "metadata": {},
     "output_type": "display_data"
    },
    {
     "name": "stderr",
     "output_type": "stream",
     "text": [
      "Traceback (most recent call last):\n",
      "  File \"/home/pirl/anaconda3/envs/POC-env/lib/python3.10/multiprocessing/util.py\", line 300, in _run_finalizers\n",
      "    finalizer()\n",
      "  File \"/home/pirl/anaconda3/envs/POC-env/lib/python3.10/multiprocessing/util.py\", line 224, in __call__\n",
      "    res = self._callback(*self._args, **self._kwargs)\n",
      "  File \"/home/pirl/anaconda3/envs/POC-env/lib/python3.10/multiprocessing/util.py\", line 133, in _remove_temp_dir\n",
      "    rmtree(tempdir)\n",
      "  File \"/home/pirl/anaconda3/envs/POC-env/lib/python3.10/shutil.py\", line 731, in rmtree\n",
      "    onerror(os.rmdir, path, sys.exc_info())\n",
      "  File \"/home/pirl/anaconda3/envs/POC-env/lib/python3.10/shutil.py\", line 729, in rmtree\n",
      "    os.rmdir(path)\n",
      "OSError: [Errno 39] Directory not empty: '/tmp/pymp-yhxh_mn_'\n"
     ]
    },
    {
     "data": {
      "application/vnd.jupyter.widget-view+json": {
       "model_id": "c027c81921a844098e105d7a8eeefaa3",
       "version_major": 2,
       "version_minor": 0
      },
      "text/plain": [
       "[Evaluating]:   0%|          | 0/550 [00:00<?, ?it/s]"
      ]
     },
     "metadata": {},
     "output_type": "display_data"
    },
    {
     "data": {
      "application/vnd.jupyter.widget-view+json": {
       "model_id": "1b2eec67852744d18d54899387be5677",
       "version_major": 2,
       "version_minor": 0
      },
      "text/plain": [
       "[Evaluating]:   0%|          | 0/550 [00:00<?, ?it/s]"
      ]
     },
     "metadata": {},
     "output_type": "display_data"
    },
    {
     "data": {
      "application/vnd.jupyter.widget-view+json": {
       "model_id": "512dc8eafb2c4aa6a5428781f5a5a20f",
       "version_major": 2,
       "version_minor": 0
      },
      "text/plain": [
       "[Evaluating]:   0%|          | 0/550 [00:00<?, ?it/s]"
      ]
     },
     "metadata": {},
     "output_type": "display_data"
    },
    {
     "data": {
      "application/vnd.jupyter.widget-view+json": {
       "model_id": "29a67e9d039241c9940621006539c411",
       "version_major": 2,
       "version_minor": 0
      },
      "text/plain": [
       "[Evaluating]:   0%|          | 0/550 [00:00<?, ?it/s]"
      ]
     },
     "metadata": {},
     "output_type": "display_data"
    },
    {
     "data": {
      "application/vnd.jupyter.widget-view+json": {
       "model_id": "93a25a0dcae148cc93d9688c50e80d6f",
       "version_major": 2,
       "version_minor": 0
      },
      "text/plain": [
       "[Evaluating]:   0%|          | 0/550 [00:00<?, ?it/s]"
      ]
     },
     "metadata": {},
     "output_type": "display_data"
    },
    {
     "data": {
      "application/vnd.jupyter.widget-view+json": {
       "model_id": "82d1c83a32264ca0a09bf56b25eea12d",
       "version_major": 2,
       "version_minor": 0
      },
      "text/plain": [
       "[Evaluating]:   0%|          | 0/550 [00:00<?, ?it/s]"
      ]
     },
     "metadata": {},
     "output_type": "display_data"
    },
    {
     "data": {
      "application/vnd.jupyter.widget-view+json": {
       "model_id": "d1291522253040368809ff3fff1b0a1f",
       "version_major": 2,
       "version_minor": 0
      },
      "text/plain": [
       "[Evaluating]:   0%|          | 0/550 [00:00<?, ?it/s]"
      ]
     },
     "metadata": {},
     "output_type": "display_data"
    },
    {
     "data": {
      "application/vnd.jupyter.widget-view+json": {
       "model_id": "db71cf3312284bc69893f1e68308b2f9",
       "version_major": 2,
       "version_minor": 0
      },
      "text/plain": [
       "[Evaluating]:   0%|          | 0/550 [00:00<?, ?it/s]"
      ]
     },
     "metadata": {},
     "output_type": "display_data"
    },
    {
     "data": {
      "application/vnd.jupyter.widget-view+json": {
       "model_id": "4922e6c5e8e343338fe6c3b1e289c735",
       "version_major": 2,
       "version_minor": 0
      },
      "text/plain": [
       "[Evaluating]:   0%|          | 0/550 [00:00<?, ?it/s]"
      ]
     },
     "metadata": {},
     "output_type": "display_data"
    }
   ],
   "source": [
    "best_result = results.get_best_result(metric=\"CrackIoU\", mode=\"max\", scope=\"all\")  # Get best result object\n",
    "print(\"Best trial config: {}\".format(best_result.config))\n",
    "print(\"Best trial final validation loss: {}\".format(best_result.metrics[\"Loss\"]))\n",
    "print(\"Best trial final validation CrackIoU: {}\".format(best_result.metrics[\"CrackIoU\"]))\n",
    "\n",
    "for result in results:\n",
    "    evaluate(test_data=test_data, result=result)"
   ]
  },
  {
   "cell_type": "code",
   "execution_count": null,
   "id": "a8633d3b",
   "metadata": {},
   "outputs": [],
   "source": []
  },
  {
   "cell_type": "code",
   "execution_count": null,
   "id": "d599c84a",
   "metadata": {},
   "outputs": [],
   "source": []
  }
 ],
 "metadata": {
  "celltoolbar": "Initialization Cell",
  "kernelspec": {
   "display_name": "POC-env",
   "language": "python",
   "name": "poc-env"
  },
  "language_info": {
   "codemirror_mode": {
    "name": "ipython",
    "version": 3
   },
   "file_extension": ".py",
   "mimetype": "text/x-python",
   "name": "python",
   "nbconvert_exporter": "python",
   "pygments_lexer": "ipython3",
   "version": "3.10.9"
  },
  "latex_envs": {
   "LaTeX_envs_menu_present": true,
   "autoclose": false,
   "autocomplete": true,
   "bibliofile": "biblio.bib",
   "cite_by": "apalike",
   "current_citInitial": 1,
   "eqLabelWithNumbers": true,
   "eqNumInitial": 1,
   "hotkeys": {
    "equation": "Ctrl-E",
    "itemize": "Ctrl-I"
   },
   "labels_anchors": false,
   "latex_user_defs": false,
   "report_style_numbering": false,
   "user_envs_cfg": false
  },
  "toc": {
   "base_numbering": 1,
   "nav_menu": {},
   "number_sections": true,
   "sideBar": true,
   "skip_h1_title": false,
   "title_cell": "Table of Contents",
   "title_sidebar": "Contents",
   "toc_cell": true,
   "toc_position": {},
   "toc_section_display": true,
   "toc_window_display": false
  },
  "varInspector": {
   "cols": {
    "lenName": 16,
    "lenType": 16,
    "lenVar": 40
   },
   "kernels_config": {
    "python": {
     "delete_cmd_postfix": "",
     "delete_cmd_prefix": "del ",
     "library": "var_list.py",
     "varRefreshCmd": "print(var_dic_list())"
    },
    "r": {
     "delete_cmd_postfix": ") ",
     "delete_cmd_prefix": "rm(",
     "library": "var_list.r",
     "varRefreshCmd": "cat(var_dic_list()) "
    }
   },
   "oldHeight": 122.844,
   "position": {
    "height": "40px",
    "left": "1576px",
    "right": "20px",
    "top": "120px",
    "width": "250px"
   },
   "types_to_exclude": [
    "module",
    "function",
    "builtin_function_or_method",
    "instance",
    "_Feature"
   ],
   "varInspector_section_display": "none",
   "window_display": true
  }
 },
 "nbformat": 4,
 "nbformat_minor": 5
}
