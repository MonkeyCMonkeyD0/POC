{
 "cells": [
  {
   "cell_type": "markdown",
   "id": "3f18f1c8",
   "metadata": {},
   "source": [
    "# Setting up Hyperparameters"
   ]
  },
  {
   "cell_type": "code",
   "execution_count": null,
   "id": "70d95cbf",
   "metadata": {
    "ExecuteTime": {
     "end_time": "2023-03-27T01:14:19.250930Z",
     "start_time": "2023-03-27T01:14:19.245698Z"
    }
   },
   "outputs": [],
   "source": [
    "epochs = 15\n",
    "negative_mining = False\n",
    "soft_labels = False\n",
    "nb_augment = 0\n",
    "load_data_on_GPU = True"
   ]
  },
  {
   "cell_type": "code",
   "execution_count": null,
   "id": "e025a36c",
   "metadata": {
    "ExecuteTime": {
     "end_time": "2023-03-27T01:14:19.259454Z",
     "start_time": "2023-03-27T01:14:19.255397Z"
    }
   },
   "outputs": [],
   "source": [
    "batch_size = 4\n",
    "learning_rate = 1e-4"
   ]
  },
  {
   "cell_type": "code",
   "execution_count": null,
   "id": "d2ee25f4",
   "metadata": {
    "ExecuteTime": {
     "end_time": "2023-03-27T01:14:19.263820Z",
     "start_time": "2023-03-27T01:14:19.261219Z"
    }
   },
   "outputs": [],
   "source": [
    "using_train_dataset = \"CS9\"\n",
    "using_eval_dataset = \"CS9\""
   ]
  },
  {
   "cell_type": "markdown",
   "id": "2c6c5dbd",
   "metadata": {},
   "source": [
    "### Selecting the correct device for training (CPU or GPU)"
   ]
  },
  {
   "cell_type": "code",
   "execution_count": null,
   "id": "ab658774",
   "metadata": {
    "ExecuteTime": {
     "end_time": "2023-03-27T01:14:20.328726Z",
     "start_time": "2023-03-27T01:14:19.293612Z"
    },
    "deletable": false,
    "editable": false
   },
   "outputs": [],
   "source": [
    "import torch\n",
    "\n",
    "device = \"cuda\" if torch.cuda.is_available() else \"cpu\"\n",
    "print(f\"Using {device} device\")"
   ]
  },
  {
   "cell_type": "markdown",
   "id": "3b9ab775",
   "metadata": {},
   "source": [
    "# Importing the Data"
   ]
  },
  {
   "cell_type": "markdown",
   "id": "73fd8ed6",
   "metadata": {},
   "source": [
    "##### Creating the Input Pipeline"
   ]
  },
  {
   "cell_type": "code",
   "execution_count": null,
   "id": "1ffda110",
   "metadata": {
    "ExecuteTime": {
     "end_time": "2023-03-27T01:14:21.933098Z",
     "start_time": "2023-03-27T01:14:20.331255Z"
    }
   },
   "outputs": [],
   "source": [
    "from torchvision.transforms.functional import invert\n",
    "from torch.nn.functional import normalize\n",
    "\n",
    "from pipelines import InputPipeline, LaplacianFilter\n",
    "\n",
    "inpip = InputPipeline(\n",
    "    transformer=normalize,\n",
    "    layer_transformer=[LaplacianFilter()])\n",
    "\n",
    "inpip = inpip.to(device)"
   ]
  },
  {
   "cell_type": "markdown",
   "id": "b402242d",
   "metadata": {},
   "source": [
    "## Creating Training Dataset"
   ]
  },
  {
   "cell_type": "markdown",
   "id": "41e1a8e0",
   "metadata": {},
   "source": [
    "##### Train data from CrackSeg9K Dataset"
   ]
  },
  {
   "cell_type": "code",
   "execution_count": null,
   "id": "7184cc2b",
   "metadata": {
    "ExecuteTime": {
     "end_time": "2023-03-27T01:14:52.893889Z",
     "start_time": "2023-03-27T01:14:21.936012Z"
    },
    "code_folding": [],
    "scrolled": true
   },
   "outputs": [],
   "source": [
    "from torchvision.transforms import GaussianBlur\n",
    "\n",
    "if using_train_dataset == \"CS9\":\n",
    "\n",
    "    from dataset import CS9DataReader, CS9Dataset\n",
    "\n",
    "    train_data_reader = CS9DataReader(root_dir=\"../data/CrackSeg9k/\", mode=\"Train\", load_on_gpu=load_data_on_GPU, verbose=True)\n",
    "    train_data = train_data_reader.data\n",
    "\n",
    "    training_dataset = CS9Dataset(\n",
    "        train_data,\n",
    "        transform=inpip,\n",
    "        target_transform= GaussianBlur(kernel_size=3, sigma=0.7) if soft_labels else None,\n",
    "        load_on_gpu=load_data_on_GPU,\n",
    "        verbose=True\n",
    "    )\n",
    "\n",
    "    training_dataset.precompute_transform(verbose=True)"
   ]
  },
  {
   "cell_type": "markdown",
   "id": "70b4ef21",
   "metadata": {},
   "source": [
    "##### Train data from POC Dataset"
   ]
  },
  {
   "cell_type": "code",
   "execution_count": null,
   "id": "76785069",
   "metadata": {
    "ExecuteTime": {
     "end_time": "2023-03-27T01:14:52.902908Z",
     "start_time": "2023-03-27T01:14:52.897232Z"
    }
   },
   "outputs": [],
   "source": [
    "from torch.nn import Sequential\n",
    "from torchvision.transforms import CenterCrop, Resize, GaussianBlur\n",
    "\n",
    "if using_train_dataset == \"POC\":\n",
    "\n",
    "    from dataset import POCDataReader, data_augment_, POCDataset\n",
    "\n",
    "    data_reader = POCDataReader(root_dir=\"../data/POC\", load_on_gpu=load_data_on_GPU, verbose=True)\n",
    "    train_data = data_reader.data\n",
    "    # data_augment_(train_data, n=nb_augment, load_on_gpu=load_data_on_GPU, verbose=True)\n",
    "\n",
    "    training_dataset = POCDataset(\n",
    "        train_data,\n",
    "        transform=Sequential(\n",
    "            inpip,\n",
    "            CenterCrop(size=(480, 480)),\n",
    "            Resize(size=(400, 400)),\n",
    "        ),\n",
    "        target_transform=Sequential(\n",
    "            GaussianBlur(kernel_size=3, sigma=0.7),\n",
    "            CenterCrop(size=(480, 480)),\n",
    "            Resize(size=(400, 400)),\n",
    "        ) if soft_labels else Sequential(\n",
    "            CenterCrop(size=(480, 480)),\n",
    "            Resize(size=(400, 400)),\n",
    "        ),\n",
    "        load_on_gpu=load_data_on_GPU,\n",
    "        verbose=True\n",
    "    )\n",
    "\n",
    "    training_dataset.precompute_transform(verbose=True)"
   ]
  },
  {
   "cell_type": "markdown",
   "id": "09693193",
   "metadata": {},
   "source": [
    "### Training Dataloader"
   ]
  },
  {
   "cell_type": "code",
   "execution_count": null,
   "id": "6aef44df",
   "metadata": {
    "ExecuteTime": {
     "end_time": "2023-03-27T01:14:52.907968Z",
     "start_time": "2023-03-27T01:14:52.904747Z"
    }
   },
   "outputs": [],
   "source": [
    "from torch.utils.data import random_split\n",
    "\n",
    "train_dataset, val_dataset = random_split(training_dataset, lengths=[.9, .1])"
   ]
  },
  {
   "cell_type": "code",
   "execution_count": null,
   "id": "332cf718",
   "metadata": {
    "ExecuteTime": {
     "end_time": "2023-03-27T01:14:52.913567Z",
     "start_time": "2023-03-27T01:14:52.909908Z"
    }
   },
   "outputs": [],
   "source": [
    "from torch.utils.data import DataLoader\n",
    "\n",
    "if load_data_on_GPU:\n",
    "    training_dataloader = DataLoader(\n",
    "        train_dataset,\n",
    "        batch_size=batch_size,\n",
    "        shuffle=True,\n",
    "    )\n",
    "else:\n",
    "    training_dataloader = DataLoader(\n",
    "        train_dataset,\n",
    "        batch_size=batch_size,\n",
    "        shuffle=True,\n",
    "        num_workers=8,\n",
    "        pin_memory=True,\n",
    "        pin_memory_device=device,\n",
    "    )"
   ]
  },
  {
   "cell_type": "code",
   "execution_count": null,
   "id": "9449d59f",
   "metadata": {
    "ExecuteTime": {
     "end_time": "2023-03-27T01:14:52.918866Z",
     "start_time": "2023-03-27T01:14:52.915277Z"
    }
   },
   "outputs": [],
   "source": [
    "from torch.utils.data import DataLoader\n",
    "\n",
    "if load_data_on_GPU:\n",
    "    validation_dataloader = DataLoader(\n",
    "        val_dataset,\n",
    "        batch_size=batch_size,\n",
    "        shuffle=True,\n",
    "    )\n",
    "else:\n",
    "    validation_dataloader = DataLoader(\n",
    "        val_dataset,\n",
    "        batch_size=batch_size,\n",
    "        shuffle=True,\n",
    "        num_workers=8,\n",
    "        pin_memory=True,\n",
    "        pin_memory_device=device,\n",
    "    )"
   ]
  },
  {
   "cell_type": "markdown",
   "id": "f7536e0f",
   "metadata": {},
   "source": [
    "## Creating Evaluation Dataset"
   ]
  },
  {
   "cell_type": "markdown",
   "id": "c25659bf",
   "metadata": {},
   "source": [
    "##### Evaluation data from CS9 Dataset"
   ]
  },
  {
   "cell_type": "code",
   "execution_count": null,
   "id": "9d73f016",
   "metadata": {
    "ExecuteTime": {
     "end_time": "2023-03-27T01:14:59.229379Z",
     "start_time": "2023-03-27T01:14:52.920604Z"
    },
    "scrolled": true
   },
   "outputs": [],
   "source": [
    "from torch.nn.functional import normalize\n",
    "\n",
    "if using_eval_dataset == \"CS9\":\n",
    "\n",
    "    from dataset import CS9DataReader, CS9Dataset\n",
    "\n",
    "    test_data_reader = CS9DataReader(root_dir=\"../data/CrackSeg9k/\", mode=\"Test\", load_on_gpu=load_data_on_GPU, verbose=True)\n",
    "    test_data = test_data_reader.data\n",
    "    \n",
    "    test_dataset = CS9Dataset(\n",
    "        test_data,\n",
    "        transform=inpip,\n",
    "        target_transform= GaussianBlur(kernel_size=3, sigma=0.7) if soft_labels else None,\n",
    "        load_on_gpu=load_data_on_GPU,\n",
    "        verbose=True\n",
    "    )"
   ]
  },
  {
   "cell_type": "markdown",
   "id": "61e8e999",
   "metadata": {},
   "source": [
    "##### Evaluation data from POC Dataset"
   ]
  },
  {
   "cell_type": "code",
   "execution_count": null,
   "id": "49f2e882",
   "metadata": {
    "ExecuteTime": {
     "end_time": "2023-03-27T01:14:59.236516Z",
     "start_time": "2023-03-27T01:14:59.231533Z"
    }
   },
   "outputs": [],
   "source": [
    "from torch.nn.functional import normalize\n",
    "\n",
    "if using_eval_dataset == \"POC\":\n",
    "\n",
    "    from dataset import POCDataReader, data_augment_, POCDataset\n",
    "\n",
    "    test_data_reader = POCDataReader(root_dir=\"../data/POC\", load_on_gpu=load_data_on_GPU, verbose=True)\n",
    "    test_data = test_data_reader.data\n",
    "    # data_augment_(train_data, n=nb_augment, load_on_gpu=load_data_on_GPU, verbose=True)\n",
    "\n",
    "    test_dataset = POCDataset(\n",
    "        test_data,\n",
    "        transform=Sequential(\n",
    "            inpip,\n",
    "            CenterCrop(size=(480, 480)),\n",
    "            Resize(size=(400, 400)),\n",
    "        ),\n",
    "        target_transform=Sequential(\n",
    "            GaussianBlur(kernel_size=3, sigma=0.7),\n",
    "            CenterCrop(size=(480, 480)),\n",
    "            Resize(size=(400, 400)),\n",
    "        ) if soft_labels else Sequential(\n",
    "            CenterCrop(size=(480, 480)),\n",
    "            Resize(size=(400, 400)),\n",
    "        ),\n",
    "        load_on_gpu=load_data_on_GPU,\n",
    "        verbose=True\n",
    "    )"
   ]
  },
  {
   "cell_type": "markdown",
   "id": "e75b1d51",
   "metadata": {},
   "source": [
    "### Evaluation Dataloader"
   ]
  },
  {
   "cell_type": "code",
   "execution_count": null,
   "id": "f7f44a8e",
   "metadata": {
    "ExecuteTime": {
     "end_time": "2023-03-27T01:14:59.243552Z",
     "start_time": "2023-03-27T01:14:59.239767Z"
    }
   },
   "outputs": [],
   "source": [
    "from torch.utils.data import DataLoader\n",
    "\n",
    "if load_data_on_GPU:\n",
    "    evaluation_dataloader = DataLoader(\n",
    "        test_dataset,\n",
    "        batch_size=1,\n",
    "        shuffle=True,\n",
    "    )\n",
    "else:\n",
    "    evaluation_dataloader = DataLoader(\n",
    "        test_dataset,\n",
    "        batch_size=1,\n",
    "        shuffle=True,\n",
    "        num_workers=8,\n",
    "        pin_memory=True,\n",
    "        pin_memory_device=device,\n",
    "    )"
   ]
  },
  {
   "cell_type": "markdown",
   "id": "2ed05c5a",
   "metadata": {},
   "source": [
    "## Testing the dataloader"
   ]
  },
  {
   "cell_type": "code",
   "execution_count": null,
   "id": "8a73b3e5",
   "metadata": {
    "ExecuteTime": {
     "end_time": "2023-03-27T01:15:00.890644Z",
     "start_time": "2023-03-27T01:14:59.245324Z"
    },
    "scrolled": false
   },
   "outputs": [],
   "source": [
    "from my_utils import show_img\n",
    "\n",
    "features, masks, files, indexes = next(iter(training_dataloader))\n",
    "print(features.size(), masks.size())\n",
    "\n",
    "show_img(features)\n",
    "show_img(masks)\n",
    "print(files, indexes)"
   ]
  },
  {
   "cell_type": "markdown",
   "id": "cbf6798c",
   "metadata": {},
   "source": [
    "### Testing Dataset for proportion between classes"
   ]
  },
  {
   "cell_type": "code",
   "execution_count": null,
   "id": "c611ea45",
   "metadata": {
    "ExecuteTime": {
     "end_time": "2023-03-27T01:15:00.899699Z",
     "start_time": "2023-03-27T01:15:00.892633Z"
    }
   },
   "outputs": [],
   "source": [
    "_,train_labels,_,_ = next(iter(training_dataloader))\n",
    "\n",
    "nb_pixel = train_labels.argmax(dim=1, keepdim=False).unique(return_counts=True)[1]\n",
    "print(\"Proportion of class 1 in this batch: {}%\".format(nb_pixel[1] * 100 / (nb_pixel[0] + nb_pixel[1])))"
   ]
  },
  {
   "cell_type": "markdown",
   "id": "fa9df2f7",
   "metadata": {},
   "source": [
    "Result is around 3%."
   ]
  },
  {
   "cell_type": "markdown",
   "id": "f44c00dd",
   "metadata": {},
   "source": [
    "# Building the differents modules"
   ]
  },
  {
   "cell_type": "markdown",
   "id": "10fce906",
   "metadata": {},
   "source": [
    "## Creating the models"
   ]
  },
  {
   "cell_type": "markdown",
   "id": "eb606b98",
   "metadata": {},
   "source": [
    "#### Using Unet with bilinear upsampling and cropping to generate 2 classes (background and crack)."
   ]
  },
  {
   "cell_type": "code",
   "execution_count": null,
   "id": "5a00f39a",
   "metadata": {
    "ExecuteTime": {
     "end_time": "2023-03-27T01:15:01.053151Z",
     "start_time": "2023-03-27T01:15:00.901404Z"
    }
   },
   "outputs": [],
   "source": [
    "from models import UNet\n",
    "\n",
    "model = UNet(n_channels=inpip.nb_channel, n_classes=2, bilinear=True, crop=False).to(device)"
   ]
  },
  {
   "cell_type": "code",
   "execution_count": null,
   "id": "5f89ee3a",
   "metadata": {
    "ExecuteTime": {
     "end_time": "2023-03-27T01:15:01.061295Z",
     "start_time": "2023-03-27T01:15:01.055962Z"
    },
    "scrolled": true
   },
   "outputs": [],
   "source": [
    "print(\"Total number of parameters: {0:,}\".format(sum(p.numel() for p in model.parameters() if p.requires_grad)))\n",
    "print(f\"Model structure: {model}\")"
   ]
  },
  {
   "cell_type": "markdown",
   "id": "ff3363b1",
   "metadata": {},
   "source": [
    "## Creating the loss functions"
   ]
  },
  {
   "cell_type": "markdown",
   "id": "0fae902c",
   "metadata": {},
   "source": [
    "#### Combined (Focal + Jaccard) Loss"
   ]
  },
  {
   "cell_type": "code",
   "execution_count": null,
   "id": "2c6dc114",
   "metadata": {
    "ExecuteTime": {
     "end_time": "2023-03-27T01:15:01.412212Z",
     "start_time": "2023-03-27T01:15:01.063107Z"
    }
   },
   "outputs": [],
   "source": [
    "import torch\n",
    "from loss import CombinedLoss, JaccardLoss, FocalLoss\n",
    "\n",
    "weight = torch.tensor([.3, .7])\n",
    "\n",
    "loss_fn = CombinedLoss(\n",
    "    FocalLoss(weight=weight, gamma=2),\n",
    "    JaccardLoss(),\n",
    "    ratio=0.75).to(device)"
   ]
  },
  {
   "cell_type": "markdown",
   "id": "318ef5aa",
   "metadata": {},
   "source": [
    "## Creating the Optimizer"
   ]
  },
  {
   "cell_type": "code",
   "execution_count": null,
   "id": "4b7c330c",
   "metadata": {
    "ExecuteTime": {
     "end_time": "2023-03-27T01:15:01.418769Z",
     "start_time": "2023-03-27T01:15:01.414856Z"
    }
   },
   "outputs": [],
   "source": [
    "from torch.optim import Adam\n",
    "\n",
    "optimizer = Adam(model.parameters(), lr=learning_rate, betas=(0.9, 0.99))"
   ]
  },
  {
   "cell_type": "markdown",
   "id": "77bcfca8",
   "metadata": {},
   "source": [
    "## Setting up the Learning Rate Scheduler"
   ]
  },
  {
   "cell_type": "code",
   "execution_count": null,
   "id": "14dcf657",
   "metadata": {
    "ExecuteTime": {
     "end_time": "2023-03-27T01:15:01.423904Z",
     "start_time": "2023-03-27T01:15:01.420617Z"
    }
   },
   "outputs": [],
   "source": [
    "from torch.optim.lr_scheduler import CosineAnnealingLR\n",
    "\n",
    "lr_scheduler = CosineAnnealingLR(optimizer, T_max=epochs)"
   ]
  },
  {
   "cell_type": "markdown",
   "id": "a3e4dd19",
   "metadata": {},
   "source": [
    "## Creating the Metrics"
   ]
  },
  {
   "cell_type": "code",
   "execution_count": null,
   "id": "89695f2a",
   "metadata": {
    "ExecuteTime": {
     "end_time": "2023-03-27T01:15:01.437657Z",
     "start_time": "2023-03-27T01:15:01.425649Z"
    }
   },
   "outputs": [],
   "source": [
    "from metrics import Metrics, EvaluationMetrics\n",
    "\n",
    "\n",
    "train_metrics = Metrics(\n",
    "    buffer_size=len(training_dataloader),\n",
    "    mode=\"Training\",\n",
    "    hyperparam={\n",
    "        'Network': model.__class__.__name__,\n",
    "        'Optimizer': optimizer.__class__.__name__,\n",
    "        'Combine Loss': loss_fn.__class__.__name__,\n",
    "        'Pixel Loss': \"FocalLoss\",\n",
    "        'Volume Loss': \"JaccardLoss\",\n",
    "        'Input Filter': None,\n",
    "        'Input Layer': \"LaplacianFilter\",\n",
    "        'Batch Size': batch_size,\n",
    "        'Learning Rate': learning_rate,\n",
    "        'Negative Mining': negative_mining,\n",
    "        'Smooth Labeling': soft_labels,\n",
    "    },\n",
    "    device=device)\n",
    "\n",
    "val_metrics = Metrics(\n",
    "    buffer_size=len(validation_dataloader),\n",
    "    mode=\"Validation\",\n",
    "    hyperparam={\n",
    "        'Network': model.__class__.__name__,\n",
    "        'Optimizer': optimizer.__class__.__name__,\n",
    "        'Combine Loss': loss_fn.__class__.__name__,\n",
    "        'Pixel Loss': \"FocalLoss\",\n",
    "        'Volume Loss': \"JaccardLoss\",\n",
    "        'Input Filter': None,\n",
    "        'Input Layer': \"LaplacianFilter\",\n",
    "        'Batch Size': batch_size,\n",
    "        'Learning Rate': learning_rate,\n",
    "        'Negative Mining': negative_mining,\n",
    "        'Smooth Labeling': soft_labels,\n",
    "    },\n",
    "    device=device)\n",
    "\n",
    "test_metrics = EvaluationMetrics(\n",
    "    buffer_size=len(evaluation_dataloader),\n",
    "    hyperparam={\n",
    "        'Network': model.__class__.__name__,\n",
    "        'Optimizer': optimizer.__class__.__name__,\n",
    "        'Combine Loss': loss_fn.__class__.__name__,\n",
    "        'Pixel Loss': \"FocalLoss\",\n",
    "        'Volume Loss': \"JaccardLoss\",\n",
    "        'Input Filter': None,\n",
    "        'Input Layer': \"LaplacianFilter\",\n",
    "        'Batch Size': batch_size,\n",
    "        'Learning Rate': learning_rate,\n",
    "        'Negative Mining': negative_mining,\n",
    "        'Smooth Labeling': soft_labels,\n",
    "    },\n",
    "    epochs=epochs,\n",
    "    device=device)"
   ]
  },
  {
   "cell_type": "markdown",
   "id": "f4500456",
   "metadata": {},
   "source": [
    "# Training, testing and validating the Model"
   ]
  },
  {
   "cell_type": "code",
   "execution_count": null,
   "id": "aa5fee5e",
   "metadata": {
    "ExecuteTime": {
     "end_time": "2023-03-27T02:16:19.324477Z",
     "start_time": "2023-03-27T01:15:01.439347Z"
    },
    "scrolled": true
   },
   "outputs": [],
   "source": [
    "from train_tqdm import training_loop, validation_loop, evaluation_loop\n",
    "\n",
    "for epoch in range(1, epochs+1):\n",
    "    training_loop(epoch, training_dataloader, model, loss_fn, optimizer, lr_scheduler, train_metrics, device)\n",
    "    validation_loop(epoch, validation_dataloader, model, loss_fn, val_metrics, device)\n",
    "\n",
    "evaluation_loop(evaluation_dataloader, model, test_metrics, device)\n",
    "\n",
    "train_metrics.close_tensorboard()\n",
    "val_metrics.close_tensorboard()\n",
    "test_metrics.close_tensorboard()"
   ]
  },
  {
   "cell_type": "code",
   "execution_count": null,
   "id": "443f6984",
   "metadata": {},
   "outputs": [],
   "source": []
  },
  {
   "cell_type": "code",
   "execution_count": null,
   "id": "133104d9",
   "metadata": {},
   "outputs": [],
   "source": []
  },
  {
   "cell_type": "code",
   "execution_count": null,
   "id": "31610fa0",
   "metadata": {},
   "outputs": [],
   "source": []
  },
  {
   "cell_type": "code",
   "execution_count": null,
   "id": "8436ad0c",
   "metadata": {},
   "outputs": [],
   "source": []
  },
  {
   "cell_type": "code",
   "execution_count": null,
   "id": "842aac7c",
   "metadata": {},
   "outputs": [],
   "source": []
  }
 ],
 "metadata": {
  "kernelspec": {
   "display_name": "POC-env",
   "language": "python",
   "name": "poc-env"
  },
  "language_info": {
   "codemirror_mode": {
    "name": "ipython",
    "version": 3
   },
   "file_extension": ".py",
   "mimetype": "text/x-python",
   "name": "python",
   "nbconvert_exporter": "python",
   "pygments_lexer": "ipython3",
   "version": "3.10.9"
  },
  "latex_envs": {
   "LaTeX_envs_menu_present": true,
   "autoclose": false,
   "autocomplete": true,
   "bibliofile": "biblio.bib",
   "cite_by": "apalike",
   "current_citInitial": 1,
   "eqLabelWithNumbers": true,
   "eqNumInitial": 1,
   "hotkeys": {
    "equation": "Ctrl-E",
    "itemize": "Ctrl-I"
   },
   "labels_anchors": false,
   "latex_user_defs": false,
   "report_style_numbering": false,
   "user_envs_cfg": false
  },
  "notify_time": "5",
  "toc": {
   "base_numbering": 1,
   "nav_menu": {},
   "number_sections": true,
   "sideBar": true,
   "skip_h1_title": false,
   "title_cell": "Table of Contents",
   "title_sidebar": "Contents",
   "toc_cell": false,
   "toc_position": {},
   "toc_section_display": true,
   "toc_window_display": false
  },
  "varInspector": {
   "cols": {
    "lenName": 16,
    "lenType": 16,
    "lenVar": 40
   },
   "kernels_config": {
    "python": {
     "delete_cmd_postfix": "",
     "delete_cmd_prefix": "del ",
     "library": "var_list.py",
     "varRefreshCmd": "print(var_dic_list())"
    },
    "r": {
     "delete_cmd_postfix": ") ",
     "delete_cmd_prefix": "rm(",
     "library": "var_list.r",
     "varRefreshCmd": "cat(var_dic_list()) "
    }
   },
   "types_to_exclude": [
    "module",
    "function",
    "builtin_function_or_method",
    "instance",
    "_Feature"
   ],
   "window_display": false
  }
 },
 "nbformat": 4,
 "nbformat_minor": 5
}
